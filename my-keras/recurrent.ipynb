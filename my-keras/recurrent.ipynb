{
  "nbformat": 4,
  "nbformat_minor": 0,
  "metadata": {
    "kernelspec": {
      "display_name": "Python 3",
      "language": "python",
      "name": "python3"
    },
    "language_info": {
      "codemirror_mode": {
        "name": "ipython",
        "version": 3
      },
      "file_extension": ".py",
      "mimetype": "text/x-python",
      "name": "python",
      "nbconvert_exporter": "python",
      "pygments_lexer": "ipython3",
      "version": "3.6.3"
    },
    "colab": {
      "name": "recurrent.ipynb",
      "provenance": [],
      "collapsed_sections": [
        "y5UVgOWVwu5q",
        "I8pG4vkywu5s",
        "456C2jhswu53",
        "OoYufKMEwu5-",
        "6GIG0CMPwu6C",
        "zi165MBjwu6I",
        "Z9p2q6jLwu6L",
        "ia9ld36Qwu6N",
        "WnpVuD9bwu6R",
        "yxizfD_-wu6V",
        "eCXF6LO0wu6X",
        "9rZhU53iwu6Z",
        "-e-mDu4fwu6b",
        "OLgiIUnkwu6d",
        "w99Q8GdBwu6e",
        "XwHVlru7wu6g",
        "D-E95mGVwu6j",
        "XgcW8G4Qwu6m",
        "unZhF5v5wu6q",
        "j9E0zjMnwu6r",
        "CMG-Th74wu6t",
        "oWND08s6wu6w",
        "WORmGPecwu6x",
        "W44YFPAiwu66",
        "imxhuQLmwu67",
        "3YK4v-xgwu68",
        "e720iXyZwu6-",
        "n9e7rpkgwu7A",
        "a2PybVOjwu7D",
        "HCcWjSjLwu7F",
        "ktJvVvzSwu7G",
        "IggRzSUqwu7I",
        "wI1Bz5dywu7K",
        "V9tdjZa3wu7L",
        "onFbkmw6wu7M",
        "FlgZTBQFwu7N",
        "Ve3KymeCwu7P",
        "bl04LQVXwu7Q",
        "O4CuZ55Hwu7R",
        "ameuEbG6wu7V"
      ],
      "toc_visible": true,
      "include_colab_link": true
    },
    "accelerator": "GPU"
  },
  "cells": [
    {
      "cell_type": "markdown",
      "metadata": {
        "id": "view-in-github",
        "colab_type": "text"
      },
      "source": [
        "<a href=\"https://colab.research.google.com/github/minghsu0107/ML/blob/master/my-keras/recurrent.ipynb\" target=\"_parent\"><img src=\"https://colab.research.google.com/assets/colab-badge.svg\" alt=\"Open In Colab\"/></a>"
      ]
    },
    {
      "cell_type": "markdown",
      "metadata": {
        "id": "y5UVgOWVwu5q",
        "colab_type": "text"
      },
      "source": [
        "# 文字資料處理"
      ]
    },
    {
      "cell_type": "markdown",
      "metadata": {
        "id": "yZuIqAW_7xbq",
        "colab_type": "text"
      },
      "source": [
        "若要使用中文，建議先斷詞"
      ]
    },
    {
      "cell_type": "markdown",
      "metadata": {
        "id": "I8pG4vkywu5s",
        "colab_type": "text"
      },
      "source": [
        "### one-hot encoding (簡易版)"
      ]
    },
    {
      "cell_type": "code",
      "metadata": {
        "id": "IWo0yiX7wu5u",
        "colab_type": "code",
        "colab": {
          "base_uri": "https://localhost:8080/",
          "height": 395
        },
        "outputId": "4278c306-515a-49e2-adf6-e9896d85a970"
      },
      "source": [
        "import numpy as np\n",
        "\n",
        "samples = ['The cat sat on the mat.', 'The dog ate my homework.']  # 初始資料：每一個樣本是一個輸入項目(在這範例中，樣本是一個句子，但也可以是整個文件)\n",
        "\n",
        "token_index = {}  # 建立資料中所有 tokens 的索引\n",
        "for sample in samples:\n",
        "    for word in sample.split():  # 透過 split()方法對樣本進行分詞。在真實案例中，還要移除樣本中的標點符號與特殊字元\n",
        "        if word not in token_index:\n",
        "            token_index[word] = len(token_index) + 1  # 為每個文字指定一個唯一索引。請注意，不要把索引 0 指定給任何文字\n",
        "\n",
        "max_length = 10  # 將樣本向量化。每次只專注處理每個樣本中的第一個 max_length 文字\n",
        "\n",
        "results = np.zeros(shape=(len(samples),  # 用來儲存結果的 Numpy array\n",
        "                          max_length,\n",
        "                          max(token_index.values()) + 1))  \n",
        "print(results.shape) # shape=(2, 10, 11), 共 2 個樣本, 每個樣本只看前 10 個文字, 總樣本共有 10 個 token, 索引號到 11, 因為 0 不用。\n",
        "for i, sample in enumerate(samples):\n",
        "    for j, word in list(enumerate(sample.split()))[:max_length]:\n",
        "        index = token_index.get(word)\n",
        "        results[i, j, index] = 1.\n",
        "print(token_index)\n",
        "print(results)"
      ],
      "execution_count": null,
      "outputs": [
        {
          "output_type": "stream",
          "text": [
            "(2, 10, 11)\n",
            "{'The': 1, 'cat': 2, 'sat': 3, 'on': 4, 'the': 5, 'mat.': 6, 'dog': 7, 'ate': 8, 'my': 9, 'homework.': 10}\n",
            "[[[0. 1. 0. 0. 0. 0. 0. 0. 0. 0. 0.]\n",
            "  [0. 0. 1. 0. 0. 0. 0. 0. 0. 0. 0.]\n",
            "  [0. 0. 0. 1. 0. 0. 0. 0. 0. 0. 0.]\n",
            "  [0. 0. 0. 0. 1. 0. 0. 0. 0. 0. 0.]\n",
            "  [0. 0. 0. 0. 0. 1. 0. 0. 0. 0. 0.]\n",
            "  [0. 0. 0. 0. 0. 0. 1. 0. 0. 0. 0.]\n",
            "  [0. 0. 0. 0. 0. 0. 0. 0. 0. 0. 0.]\n",
            "  [0. 0. 0. 0. 0. 0. 0. 0. 0. 0. 0.]\n",
            "  [0. 0. 0. 0. 0. 0. 0. 0. 0. 0. 0.]\n",
            "  [0. 0. 0. 0. 0. 0. 0. 0. 0. 0. 0.]]\n",
            "\n",
            " [[0. 1. 0. 0. 0. 0. 0. 0. 0. 0. 0.]\n",
            "  [0. 0. 0. 0. 0. 0. 0. 1. 0. 0. 0.]\n",
            "  [0. 0. 0. 0. 0. 0. 0. 0. 1. 0. 0.]\n",
            "  [0. 0. 0. 0. 0. 0. 0. 0. 0. 1. 0.]\n",
            "  [0. 0. 0. 0. 0. 0. 0. 0. 0. 0. 1.]\n",
            "  [0. 0. 0. 0. 0. 0. 0. 0. 0. 0. 0.]\n",
            "  [0. 0. 0. 0. 0. 0. 0. 0. 0. 0. 0.]\n",
            "  [0. 0. 0. 0. 0. 0. 0. 0. 0. 0. 0.]\n",
            "  [0. 0. 0. 0. 0. 0. 0. 0. 0. 0. 0.]\n",
            "  [0. 0. 0. 0. 0. 0. 0. 0. 0. 0. 0.]]]\n"
          ],
          "name": "stdout"
        }
      ]
    },
    {
      "cell_type": "markdown",
      "metadata": {
        "id": "456C2jhswu53",
        "colab_type": "text"
      },
      "source": [
        "### one-hot encoding on characters (簡易版)"
      ]
    },
    {
      "cell_type": "code",
      "metadata": {
        "id": "drXEM1Jzwu55",
        "colab_type": "code",
        "colab": {
          "base_uri": "https://localhost:8080/",
          "height": 131
        },
        "outputId": "bddd14df-d2e3-4fd7-aa43-eb07f0686517"
      },
      "source": [
        "import string\n",
        "\n",
        "samples = ['The cat sat on the mat.', 'The dog ate my homework.']\n",
        "characters = string.printable  # 所有可印出的 ASCII 字元的字串, '0123456789abc....'\n",
        "print(len(characters))\n",
        "\n",
        "token_index = dict(zip(characters, range(1, len(characters) + 1)))\n",
        "\n",
        "max_length = 50\n",
        "results = np.zeros((len(samples), max_length, max(token_index.values()) + 1))\n",
        "print(results.shape) \n",
        "\n",
        "for i, sample in enumerate(samples):\n",
        "\tfor j, character in enumerate(sample):\n",
        "\t\tindex = token_index.get(character)\n",
        "\t\tresults[i, j, index] = 1.\n",
        "print(results[0][0])"
      ],
      "execution_count": null,
      "outputs": [
        {
          "output_type": "stream",
          "text": [
            "100\n",
            "(2, 50, 101)\n",
            "[0. 0. 0. 0. 0. 0. 0. 0. 0. 0. 0. 0. 0. 0. 0. 0. 0. 0. 0. 0. 0. 0. 0. 0.\n",
            " 0. 0. 0. 0. 0. 0. 0. 0. 0. 0. 0. 0. 0. 0. 0. 0. 0. 0. 0. 0. 0. 0. 0. 0.\n",
            " 0. 0. 0. 0. 0. 0. 0. 0. 1. 0. 0. 0. 0. 0. 0. 0. 0. 0. 0. 0. 0. 0. 0. 0.\n",
            " 0. 0. 0. 0. 0. 0. 0. 0. 0. 0. 0. 0. 0. 0. 0. 0. 0. 0. 0. 0. 0. 0. 0. 0.\n",
            " 0. 0. 0. 0. 0.]\n"
          ],
          "name": "stdout"
        }
      ]
    },
    {
      "cell_type": "markdown",
      "metadata": {
        "id": "OoYufKMEwu5-",
        "colab_type": "text"
      },
      "source": [
        "### 用 Keras 做文字的 one-hot encoding"
      ]
    },
    {
      "cell_type": "code",
      "metadata": {
        "id": "PZ2ROc7Zwu5_",
        "colab_type": "code",
        "colab": {
          "base_uri": "https://localhost:8080/",
          "height": 82
        },
        "outputId": "8adee0fd-4d15-4ee6-cd24-a6981e0f4792"
      },
      "source": [
        "from keras.preprocessing.text import Tokenizer  # 匯入 Keras 分詞器\n",
        "\n",
        "samples = ['The cat sat on the mat.', 'The dog ate my homework.']  # 初始資料\n",
        "\n",
        "tokenizer = Tokenizer(num_words=1000) # 1. 建立一個分詞器, 設定上僅考慮 1, 000 個最常用的文字 (token), 也就是只會看初始資料的前 1000 個文字\n",
        "tokenizer.fit_on_texts(samples)  # 建立文字對應的索引值, 一樣依出現順序來決定, 0 一樣不使用\n",
        "\n",
        "sequences = tokenizer.texts_to_sequences(samples)  # 將初始資料中的文字轉換成對應的索引值 list\n",
        "print(sequences) # [[1, 2, 3, 4, 1, 5], [1, 6, 7, 8, 9]]\n",
        "\n",
        "one_hot_results = tokenizer.texts_to_matrix(samples, mode='binary')  # 可以直接取得 one-hot 的二進位表示方式。tokenizer 支援除了 one-hot 編碼以外, 也有支援其他的向量化方法(mode='count')\n",
        "print(one_hot_results.shape) # (2, 1000) 共 2 個樣本, 每個樣本中的文字對應到的 token 位置 (1000個)\n",
        "word_index = tokenizer.word_index  # 計算完成後, 取得文字與索引間的對應關聯 \n",
        "print(word_index) # {'the': 1, 'cat': 2, 'sat': 3, ... 'my': 8, 'homework': 9}\n",
        "print('找到 %s 個唯一的 tokens.' % len(word_index)) \n"
      ],
      "execution_count": null,
      "outputs": [
        {
          "output_type": "stream",
          "text": [
            "[[1, 2, 3, 4, 1, 5], [1, 6, 7, 8, 9]]\n",
            "(2, 1000)\n",
            "{'the': 1, 'cat': 2, 'sat': 3, 'on': 4, 'mat': 5, 'dog': 6, 'ate': 7, 'my': 8, 'homework': 9}\n",
            "找到 9 個唯一的 tokens.\n"
          ],
          "name": "stdout"
        }
      ]
    },
    {
      "cell_type": "markdown",
      "metadata": {
        "id": "6GIG0CMPwu6C",
        "colab_type": "text"
      },
      "source": [
        "### 使用雜湊技巧的單字 one-hot encoding (簡易版本)\n"
      ]
    },
    {
      "cell_type": "code",
      "metadata": {
        "id": "rExVrJ_Uwu6D",
        "colab_type": "code",
        "colab": {
          "base_uri": "https://localhost:8080/",
          "height": 32
        },
        "outputId": "89ab36b6-2aa0-409a-db98-5b9f170159c3"
      },
      "source": [
        "samples = ['The cat sat on the mat.', 'The dog ate my homework.']\n",
        "\n",
        "dimensionality = 1000 #  將文字儲存成大小為 1, 000 的向量。如果有接近 1, 000 個文字(或更多), 將會造成許多雜湊碰撞, 這會降低此編碼方法的準確性\n",
        "max_length = 10\n",
        "\n",
        "results = np.zeros((len(samples), max_length, dimensionality))\n",
        "for i, sample in enumerate(samples):\n",
        "\tfor j, word in list(enumerate(sample.split()))[:max_length]:\n",
        "\t\tindex = abs(hash(word)) % dimensionality # ← 將文字雜湊成 0 到 1, 000 之間的隨機整數索引\n",
        "\t\tresults[i, j, index] = 1.\n",
        "print(results.shape)"
      ],
      "execution_count": null,
      "outputs": [
        {
          "output_type": "stream",
          "text": [
            "(2, 10, 1000)\n"
          ],
          "name": "stdout"
        }
      ]
    },
    {
      "cell_type": "markdown",
      "metadata": {
        "id": "WVj3RXiGwu6I",
        "colab_type": "text"
      },
      "source": [
        "### 使用嵌入向量層學習文字嵌入向量"
      ]
    },
    {
      "cell_type": "markdown",
      "metadata": {
        "id": "zi165MBjwu6I",
        "colab_type": "text"
      },
      "source": [
        "### 建立一個嵌入層 (Embedding Layer)"
      ]
    },
    {
      "cell_type": "code",
      "metadata": {
        "id": "SLeGw-uKwu6I",
        "colab_type": "code",
        "colab": {}
      },
      "source": [
        "from keras.layers import Embedding\n",
        "embedding_layer = Embedding(1000, 64)  # 建立嵌入向量層至少須指定兩個參數：可能的 tokens 數量 (此處為 1, 000, 最少是 1+最大文字索引) 和嵌入向量的維數 (此處為 64)"
      ],
      "execution_count": null,
      "outputs": []
    },
    {
      "cell_type": "markdown",
      "metadata": {
        "id": "Z9p2q6jLwu6L",
        "colab_type": "text"
      },
      "source": [
        "### 載入 IMDB, 整理成適合供 Embedding 層使用的資料\n"
      ]
    },
    {
      "cell_type": "code",
      "metadata": {
        "id": "WBj4ffUzwu6L",
        "colab_type": "code",
        "colab": {
          "base_uri": "https://localhost:8080/",
          "height": 115
        },
        "outputId": "8b4d4de2-509a-4e5d-9527-53c951989c52"
      },
      "source": [
        "from keras.datasets import imdb\n",
        "from keras import preprocessing\n",
        "\n",
        "max_features = 10000  # ←設定作為特徵的文字數量\n",
        "maxlen = 20 # ←在 20 個文字之後切掉文字資料 (在 max_features 最常見的文字中)\n",
        "\n",
        "(x_train, y_train), (x_test, y_test) = imdb.load_data(num_words=max_features)  # ←將資料以整數 lists 載入\n",
        "print(len(x_train), len(x_train[0]), len(x_train[1]))\n",
        "x_train = preprocessing.sequence.pad_sequences(x_train, maxlen=maxlen)  # ←將整數 lists 轉換為 2D 整數張量, 形狀為(樣本數 samples, 最大長度 maxlen)\n",
        "print(x_train.shape)\n",
        "print(x_train[0])\n",
        "x_test = preprocessing.sequence.pad_sequences(x_test, maxlen=maxlen)\n"
      ],
      "execution_count": null,
      "outputs": [
        {
          "output_type": "stream",
          "text": [
            "Downloading data from https://s3.amazonaws.com/text-datasets/imdb.npz\n",
            "17465344/17464789 [==============================] - 0s 0us/step\n",
            "25000 218 189\n",
            "(25000, 20)\n",
            "[  65   16   38 1334   88   12   16  283    5   16 4472  113  103   32\n",
            "   15   16 5345   19  178   32]\n"
          ],
          "name": "stdout"
        }
      ]
    },
    {
      "cell_type": "markdown",
      "metadata": {
        "id": "ia9ld36Qwu6N",
        "colab_type": "text"
      },
      "source": [
        "### 把 IMDB 資料提供給 Embedding layer和分類器"
      ]
    },
    {
      "cell_type": "code",
      "metadata": {
        "id": "A_KnRR-iwu6O",
        "colab_type": "code",
        "colab": {
          "base_uri": "https://localhost:8080/",
          "height": 645
        },
        "outputId": "94d2ea8d-f4bd-428a-b966-f8f0d70d2724"
      },
      "source": [
        "# 1. 指定嵌入向量層的最大輸入長度, 以便之後可以攤平嵌入向量的輸入。在嵌入向量層之後, 啟動函數輸出的 shape 為 (樣本數 samples, 最大長度 maxlen, 8）\n",
        "# 2. 將嵌入向量的 3D 張量展平為 2D 張量, 形狀為(樣本數 samples, 最大長度 maxlen * 8)\n",
        "\n",
        "from keras.models import Sequential\n",
        "from keras.layers import Flatten, Dense, Embedding\n",
        "\n",
        "model = Sequential()\n",
        "model.add(Embedding(10000, 8, input_length=maxlen)) # ←1...\n",
        "\n",
        "model.add(Flatten()) # ← 2...\n",
        "\n",
        "model.add(Dense(1, activation='sigmoid')) # ← 在頂部加上分類器\n",
        "model.compile(optimizer='rmsprop', loss='binary_crossentropy', metrics=['acc'])\n",
        "model.summary()\n",
        "\n",
        "history = model.fit(x_train, \n",
        "                    y_train,epochs=10,\n",
        "                    batch_size=32,\n",
        "                    validation_split=0.2)\n"
      ],
      "execution_count": null,
      "outputs": [
        {
          "output_type": "stream",
          "text": [
            "Model: \"sequential_2\"\n",
            "_________________________________________________________________\n",
            "Layer (type)                 Output Shape              Param #   \n",
            "=================================================================\n",
            "embedding_1 (Embedding)      (None, 20, 8)             80000     \n",
            "_________________________________________________________________\n",
            "flatten_1 (Flatten)          (None, 160)               0         \n",
            "_________________________________________________________________\n",
            "dense_1 (Dense)              (None, 1)                 161       \n",
            "=================================================================\n",
            "Total params: 80,161\n",
            "Trainable params: 80,161\n",
            "Non-trainable params: 0\n",
            "_________________________________________________________________\n"
          ],
          "name": "stdout"
        },
        {
          "output_type": "stream",
          "text": [
            "/usr/local/lib/python3.6/dist-packages/tensorflow/python/framework/indexed_slices.py:434: UserWarning: Converting sparse IndexedSlices to a dense Tensor of unknown shape. This may consume a large amount of memory.\n",
            "  \"Converting sparse IndexedSlices to a dense Tensor of unknown shape. \"\n"
          ],
          "name": "stderr"
        },
        {
          "output_type": "stream",
          "text": [
            "Train on 20000 samples, validate on 5000 samples\n",
            "Epoch 1/10\n",
            "20000/20000 [==============================] - 4s 207us/step - loss: 0.6598 - acc: 0.6403 - val_loss: 0.5995 - val_acc: 0.7088\n",
            "Epoch 2/10\n",
            "20000/20000 [==============================] - 2s 118us/step - loss: 0.5252 - acc: 0.7577 - val_loss: 0.5171 - val_acc: 0.7342\n",
            "Epoch 3/10\n",
            "20000/20000 [==============================] - 2s 117us/step - loss: 0.4548 - acc: 0.7890 - val_loss: 0.4975 - val_acc: 0.7480\n",
            "Epoch 4/10\n",
            "20000/20000 [==============================] - 2s 119us/step - loss: 0.4206 - acc: 0.8089 - val_loss: 0.4920 - val_acc: 0.7550\n",
            "Epoch 5/10\n",
            "20000/20000 [==============================] - 2s 116us/step - loss: 0.3970 - acc: 0.8208 - val_loss: 0.4935 - val_acc: 0.7560\n",
            "Epoch 6/10\n",
            "20000/20000 [==============================] - 2s 114us/step - loss: 0.3783 - acc: 0.8321 - val_loss: 0.4969 - val_acc: 0.7576\n",
            "Epoch 7/10\n",
            "20000/20000 [==============================] - 2s 118us/step - loss: 0.3609 - acc: 0.8429 - val_loss: 0.5007 - val_acc: 0.7538\n",
            "Epoch 8/10\n",
            "20000/20000 [==============================] - 2s 114us/step - loss: 0.3448 - acc: 0.8522 - val_loss: 0.5060 - val_acc: 0.7514\n",
            "Epoch 9/10\n",
            "20000/20000 [==============================] - 2s 120us/step - loss: 0.3283 - acc: 0.8619 - val_loss: 0.5120 - val_acc: 0.7498\n",
            "Epoch 10/10\n",
            "20000/20000 [==============================] - 2s 115us/step - loss: 0.3122 - acc: 0.8688 - val_loss: 0.5186 - val_acc: 0.7496\n"
          ],
          "name": "stdout"
        }
      ]
    },
    {
      "cell_type": "markdown",
      "metadata": {
        "id": "_g-_3e3Owu6R",
        "colab_type": "text"
      },
      "source": [
        "### 使用預先訓練的文字嵌入向量"
      ]
    },
    {
      "cell_type": "markdown",
      "metadata": {
        "id": "WnpVuD9bwu6R",
        "colab_type": "text"
      },
      "source": [
        "### 處理原始 IMDB 資料的標籤 (skip)"
      ]
    },
    {
      "cell_type": "code",
      "metadata": {
        "id": "j9VCjerTwu6R",
        "colab_type": "code",
        "colab": {}
      },
      "source": [
        "import os\n",
        "\n",
        "imdb_dir = r'C:\\Users\\Admin\\Desktop\\Google\\Python Keras\\ch06\\aclImdb'\n",
        "train_dir = os.path.join(imdb_dir, 'train')\n",
        "\n",
        "labels = []\n",
        "texts = []\n",
        "\n",
        "for label_type in ['neg', 'pos']:\n",
        "    dir_name = os.path.join(train_dir, label_type)\n",
        "    for fname in os.listdir(dir_name):\n",
        "        if fname[-4:] == '.txt':\n",
        "            f = open(os.path.join(dir_name, fname), encoding = 'utf8')\n",
        "            texts.append(f.read())\n",
        "            f.close()\n",
        "            if label_type == 'neg':\n",
        "                labels.append(0)\n",
        "            else:\n",
        "                labels.append(1)\n",
        "\n"
      ],
      "execution_count": null,
      "outputs": []
    },
    {
      "cell_type": "code",
      "metadata": {
        "id": "cJyX9sGewu6T",
        "colab_type": "code",
        "colab": {}
      },
      "source": [
        "print(len(texts))"
      ],
      "execution_count": null,
      "outputs": []
    },
    {
      "cell_type": "markdown",
      "metadata": {
        "id": "yxizfD_-wu6V",
        "colab_type": "text"
      },
      "source": [
        "### 對原始 IMDB 資料的文字資料進行向量化 (skip)"
      ]
    },
    {
      "cell_type": "code",
      "metadata": {
        "id": "5Wvh2KE9wu6V",
        "colab_type": "code",
        "colab": {}
      },
      "source": [
        "from keras.preprocessing.text import Tokenizer\n",
        "from keras.preprocessing.sequence import pad_sequences\n",
        "import numpy as np\n",
        "\n",
        "maxlen = 100  # 100 個文字後切斷評論 (只看評論的前 100 個字)\n",
        "training_samples = 200  # 以 200 個樣本進行訓練\n",
        "validation_samples = 10000 # 以 10, 000 個樣本進行驗證\n",
        "max_words = 10000  # 僅考慮資料集中的前 10, 000 個單詞\n",
        "\n",
        "tokenizer = Tokenizer(num_words=max_words)\n",
        "tokenizer.fit_on_texts(texts)\n",
        "sequences = tokenizer.texts_to_sequences(texts) # 將文字轉成整數 list 的序列資料\n",
        "\n",
        "word_index = tokenizer.word_index\n",
        "print(word_index[: 10])\n",
        "print('共使用了 %s 個 token 字詞.' % len(word_index))\n",
        "\n",
        "data = pad_sequences(sequences, maxlen=maxlen) # 只取每個評論的前 100 個字 (多切少補) 作為資料張量\n",
        "labels = np.asarray(labels)  # 將標籤 list 轉為 Numpy array (標籤張量)\n",
        "\n",
        "print('資料張量 shape:', data.shape) # (25000, 100)\n",
        "print('標籤張量 shape:', labels.shape) # (25000,)\n",
        "\n",
        "indices = np.arange(data.shape[0])  # 將資料拆分為訓練集和驗證集, 但首先要將資料打散, 因為所處理的資料是有順序性的樣本資料 (負評在前, 然後才是正評)\n",
        "np.random.shuffle(indices)\n",
        "data = data[indices]\n",
        "labels = labels[indices]\n",
        "\n",
        "x_train = data[:training_samples]\n",
        "y_train = labels[:training_samples]\n",
        "x_val = data[training_samples: training_samples + validation_samples]\n",
        "y_val = labels[training_samples: training_samples + validation_samples]\n"
      ],
      "execution_count": null,
      "outputs": []
    },
    {
      "cell_type": "code",
      "metadata": {
        "id": "r5VTnlO3LcaP",
        "colab_type": "code",
        "colab": {
          "base_uri": "https://localhost:8080/",
          "height": 65
        },
        "outputId": "105cfa6b-eb61-44d1-bf80-9c6856c2aeac"
      },
      "source": [
        "from keras.datasets import imdb\n",
        "from keras import preprocessing\n",
        "\n",
        "max_words = 10000  # ←設定作為特徵的文字數量\n",
        "maxlen = 100\n",
        "\n",
        "word_index = imdb.get_word_index()\n",
        "\n",
        "(x_train, y_train), (x_val, y_val) = imdb.load_data(num_words=max_words)  # ←將資料以整數 lists 載入\n",
        "x_train = preprocessing.sequence.pad_sequences(x_train, maxlen=maxlen)  # ←將整數 lists 轉換為 2D 整數張量, 形狀為(樣本數 samples, 最大長度 maxlen)\n",
        "x_val = preprocessing.sequence.pad_sequences(x_val, maxlen=maxlen)\n",
        "\n",
        "x_train.shape"
      ],
      "execution_count": null,
      "outputs": [
        {
          "output_type": "stream",
          "text": [
            "Downloading data from https://s3.amazonaws.com/text-datasets/imdb_word_index.json\n",
            "1646592/1641221 [==============================] - 0s 0us/step\n"
          ],
          "name": "stdout"
        },
        {
          "output_type": "execute_result",
          "data": {
            "text/plain": [
              "(25000, 100)"
            ]
          },
          "metadata": {
            "tags": []
          },
          "execution_count": 37
        }
      ]
    },
    {
      "cell_type": "markdown",
      "metadata": {
        "id": "eCXF6LO0wu6X",
        "colab_type": "text"
      },
      "source": [
        "### 解析 GloVe 文字嵌入向量檔案"
      ]
    },
    {
      "cell_type": "code",
      "metadata": {
        "id": "WHHZSq8E_MVG",
        "colab_type": "code",
        "colab": {
          "base_uri": "https://localhost:8080/",
          "height": 345
        },
        "outputId": "e2556d39-29b8-4717-c189-9d550e0fb18e"
      },
      "source": [
        "!cd drive/\"My Drive\" && wget http://nlp.stanford.edu/data/glove.6B.zip"
      ],
      "execution_count": null,
      "outputs": [
        {
          "output_type": "stream",
          "text": [
            "--2020-08-01 12:29:34--  http://nlp.stanford.edu/data/glove.6B.zip\n",
            "Resolving nlp.stanford.edu (nlp.stanford.edu)... 171.64.67.140\n",
            "Connecting to nlp.stanford.edu (nlp.stanford.edu)|171.64.67.140|:80... connected.\n",
            "HTTP request sent, awaiting response... 302 Found\n",
            "Location: https://nlp.stanford.edu/data/glove.6B.zip [following]\n",
            "--2020-08-01 12:29:34--  https://nlp.stanford.edu/data/glove.6B.zip\n",
            "Connecting to nlp.stanford.edu (nlp.stanford.edu)|171.64.67.140|:443... connected.\n",
            "HTTP request sent, awaiting response... 301 Moved Permanently\n",
            "Location: http://downloads.cs.stanford.edu/nlp/data/glove.6B.zip [following]\n",
            "--2020-08-01 12:29:34--  http://downloads.cs.stanford.edu/nlp/data/glove.6B.zip\n",
            "Resolving downloads.cs.stanford.edu (downloads.cs.stanford.edu)... 171.64.64.22\n",
            "Connecting to downloads.cs.stanford.edu (downloads.cs.stanford.edu)|171.64.64.22|:80... connected.\n",
            "HTTP request sent, awaiting response... 200 OK\n",
            "Length: 862182613 (822M) [application/zip]\n",
            "Saving to: ‘glove.6B.zip’\n",
            "\n",
            "glove.6B.zip        100%[===================>] 822.24M  2.09MB/s    in 6m 28s  \n",
            "\n",
            "2020-08-01 12:36:02 (2.12 MB/s) - ‘glove.6B.zip’ saved [862182613/862182613]\n",
            "\n"
          ],
          "name": "stdout"
        }
      ]
    },
    {
      "cell_type": "code",
      "metadata": {
        "id": "gM0MuOhyADPH",
        "colab_type": "code",
        "colab": {
          "base_uri": "https://localhost:8080/",
          "height": 98
        },
        "outputId": "73fed435-655f-484f-9213-6c37ce649fc7"
      },
      "source": [
        "!cd drive/\"My Drive\" && unzip glove.6B.zip && rm -f glove.6B.zip"
      ],
      "execution_count": null,
      "outputs": [
        {
          "output_type": "stream",
          "text": [
            "Archive:  glove.6B.zip\n",
            "  inflating: glove.6B.50d.txt        \n",
            "  inflating: glove.6B.100d.txt       \n",
            "  inflating: glove.6B.200d.txt       \n",
            "  inflating: glove.6B.300d.txt       \n"
          ],
          "name": "stdout"
        }
      ]
    },
    {
      "cell_type": "code",
      "metadata": {
        "id": "WvDWWD7ewu6X",
        "colab_type": "code",
        "colab": {
          "base_uri": "https://localhost:8080/",
          "height": 32
        },
        "outputId": "cc393988-fc42-4936-e95a-8496d5960fbd"
      },
      "source": [
        "import os\n",
        "glove_dir = './drive/My Drive'\n",
        "\n",
        "embeddings_index = {}\n",
        "f = open(os.path.join(glove_dir, 'glove.6B.100d.txt'), encoding='UTF-8')\n",
        "for line in f:\n",
        "    values = line.split()\n",
        "    word = values[0]\n",
        "    coefs = np.asarray(values[1:], dtype='float32')\n",
        "    embeddings_index[word] = coefs\n",
        "f.close()\n",
        "\n",
        "print('共有 %s 個文字嵌入向量' % len(embeddings_index))\n"
      ],
      "execution_count": null,
      "outputs": [
        {
          "output_type": "stream",
          "text": [
            "共有 400000 個文字嵌入向量\n"
          ],
          "name": "stdout"
        }
      ]
    },
    {
      "cell_type": "markdown",
      "metadata": {
        "id": "9rZhU53iwu6Z",
        "colab_type": "text"
      },
      "source": [
        "### 準備 GloVe 文字嵌入向量矩陣"
      ]
    },
    {
      "cell_type": "code",
      "metadata": {
        "id": "3leFTQtIwu6Z",
        "colab_type": "code",
        "colab": {}
      },
      "source": [
        "embedding_dim = 100\n",
        "\n",
        "embedding_matrix = np.zeros((max_words, embedding_dim))\n",
        "for word, i in word_index.items():\n",
        "    if i < max_words:\n",
        "        embedding_vector = embeddings_index.get(word)\n",
        "        if embedding_vector is not None:\n",
        "            embedding_matrix[i] = embedding_vector  # ←嵌入向量索引中找不到的文字將為 0"
      ],
      "execution_count": null,
      "outputs": []
    },
    {
      "cell_type": "markdown",
      "metadata": {
        "id": "-e-mDu4fwu6b",
        "colab_type": "text"
      },
      "source": [
        "### 模型定義"
      ]
    },
    {
      "cell_type": "code",
      "metadata": {
        "id": "Po27Hnfnwu6b",
        "colab_type": "code",
        "colab": {
          "base_uri": "https://localhost:8080/",
          "height": 280
        },
        "outputId": "fc9445e9-505b-4094-fc27-1f206cf4e117"
      },
      "source": [
        "from keras.models import Sequential\n",
        "from keras import regularizers\n",
        "from keras.layers import Embedding, Flatten, Dense\n",
        "\n",
        "model = Sequential()\n",
        "# 參數 樣本數, 嵌入向量維度, \n",
        "model.add(Embedding(max_words, embedding_dim, input_length=maxlen)) # should specify input length if you want to add flatten layer next\n",
        "model.add(Flatten())\n",
        "model.add(Dense(32, activation='relu', kernel_regularizer=regularizers.l2(0.001)))\n",
        "model.add(Dense(1, activation='sigmoid'))\n",
        "model.summary()\n"
      ],
      "execution_count": null,
      "outputs": [
        {
          "output_type": "stream",
          "text": [
            "Model: \"sequential_5\"\n",
            "_________________________________________________________________\n",
            "Layer (type)                 Output Shape              Param #   \n",
            "=================================================================\n",
            "embedding_4 (Embedding)      (None, 100, 100)          1000000   \n",
            "_________________________________________________________________\n",
            "flatten_4 (Flatten)          (None, 10000)             0         \n",
            "_________________________________________________________________\n",
            "dense_6 (Dense)              (None, 32)                320032    \n",
            "_________________________________________________________________\n",
            "dense_7 (Dense)              (None, 1)                 33        \n",
            "=================================================================\n",
            "Total params: 1,320,065\n",
            "Trainable params: 1,320,065\n",
            "Non-trainable params: 0\n",
            "_________________________________________________________________\n"
          ],
          "name": "stdout"
        }
      ]
    },
    {
      "cell_type": "markdown",
      "metadata": {
        "id": "OLgiIUnkwu6d",
        "colab_type": "text"
      },
      "source": [
        "###  將預訓練的文字嵌入向量載入到嵌入向量層中"
      ]
    },
    {
      "cell_type": "code",
      "metadata": {
        "id": "5YZKqamRwu6d",
        "colab_type": "code",
        "colab": {}
      },
      "source": [
        "model.layers[0].set_weights([embedding_matrix])\n",
        "model.layers[0].trainable = False "
      ],
      "execution_count": null,
      "outputs": []
    },
    {
      "cell_type": "markdown",
      "metadata": {
        "id": "w99Q8GdBwu6e",
        "colab_type": "text"
      },
      "source": [
        "### 訓練和驗證"
      ]
    },
    {
      "cell_type": "code",
      "metadata": {
        "id": "S01dv1Qpwu6f",
        "colab_type": "code",
        "colab": {
          "base_uri": "https://localhost:8080/",
          "height": 691
        },
        "outputId": "3ed462b5-38ab-4f55-c5ac-714ce2cb81d2"
      },
      "source": [
        "model.compile(optimizer='rmsprop',\n",
        "              loss='binary_crossentropy',\n",
        "              metrics=['acc'])\n",
        "history = model.fit(x_train, y_train,\n",
        "                    epochs=20,\n",
        "                    batch_size=32,\n",
        "                    validation_data=(x_val, y_val))"
      ],
      "execution_count": null,
      "outputs": [
        {
          "output_type": "stream",
          "text": [
            "Train on 25000 samples, validate on 25000 samples\n",
            "Epoch 1/20\n",
            "25000/25000 [==============================] - 4s 177us/step - loss: 0.6394 - acc: 0.6889 - val_loss: 0.7704 - val_acc: 0.5646\n",
            "Epoch 2/20\n",
            "25000/25000 [==============================] - 4s 172us/step - loss: 0.6097 - acc: 0.7133 - val_loss: 0.7685 - val_acc: 0.5833\n",
            "Epoch 3/20\n",
            "25000/25000 [==============================] - 4s 174us/step - loss: 0.6063 - acc: 0.7125 - val_loss: 0.7779 - val_acc: 0.5797\n",
            "Epoch 4/20\n",
            "25000/25000 [==============================] - 4s 176us/step - loss: 0.5997 - acc: 0.7208 - val_loss: 0.8527 - val_acc: 0.5650\n",
            "Epoch 5/20\n",
            "25000/25000 [==============================] - 4s 175us/step - loss: 0.5964 - acc: 0.7247 - val_loss: 0.9644 - val_acc: 0.5478\n",
            "Epoch 6/20\n",
            "25000/25000 [==============================] - 4s 174us/step - loss: 0.5978 - acc: 0.7270 - val_loss: 0.8755 - val_acc: 0.5640\n",
            "Epoch 7/20\n",
            "25000/25000 [==============================] - 4s 174us/step - loss: 0.5934 - acc: 0.7290 - val_loss: 0.8135 - val_acc: 0.5760\n",
            "Epoch 8/20\n",
            "25000/25000 [==============================] - 4s 174us/step - loss: 0.5966 - acc: 0.7283 - val_loss: 0.8330 - val_acc: 0.5591\n",
            "Epoch 9/20\n",
            "25000/25000 [==============================] - 4s 173us/step - loss: 0.5963 - acc: 0.7316 - val_loss: 0.8640 - val_acc: 0.5709\n",
            "Epoch 10/20\n",
            "25000/25000 [==============================] - 4s 174us/step - loss: 0.5943 - acc: 0.7348 - val_loss: 0.7977 - val_acc: 0.5791\n",
            "Epoch 11/20\n",
            "25000/25000 [==============================] - 5s 185us/step - loss: 0.5923 - acc: 0.7352 - val_loss: 0.8050 - val_acc: 0.5636\n",
            "Epoch 12/20\n",
            "25000/25000 [==============================] - 5s 191us/step - loss: 0.5917 - acc: 0.7375 - val_loss: 0.9156 - val_acc: 0.5658\n",
            "Epoch 13/20\n",
            "25000/25000 [==============================] - 5s 183us/step - loss: 0.5920 - acc: 0.7370 - val_loss: 0.8390 - val_acc: 0.5792\n",
            "Epoch 14/20\n",
            "25000/25000 [==============================] - 4s 172us/step - loss: 0.5912 - acc: 0.7364 - val_loss: 0.8200 - val_acc: 0.5655\n",
            "Epoch 15/20\n",
            "25000/25000 [==============================] - 4s 174us/step - loss: 0.5892 - acc: 0.7403 - val_loss: 0.8137 - val_acc: 0.5713\n",
            "Epoch 16/20\n",
            "25000/25000 [==============================] - 4s 173us/step - loss: 0.5917 - acc: 0.7366 - val_loss: 0.8927 - val_acc: 0.5700\n",
            "Epoch 17/20\n",
            "25000/25000 [==============================] - 4s 170us/step - loss: 0.5919 - acc: 0.7408 - val_loss: 0.8337 - val_acc: 0.5784\n",
            "Epoch 18/20\n",
            "25000/25000 [==============================] - 4s 176us/step - loss: 0.5890 - acc: 0.7436 - val_loss: 0.8239 - val_acc: 0.5679\n",
            "Epoch 19/20\n",
            "25000/25000 [==============================] - 4s 174us/step - loss: 0.5874 - acc: 0.7441 - val_loss: 0.8583 - val_acc: 0.5771\n",
            "Epoch 20/20\n",
            "25000/25000 [==============================] - 4s 173us/step - loss: 0.5893 - acc: 0.7429 - val_loss: 0.9132 - val_acc: 0.5389\n"
          ],
          "name": "stdout"
        }
      ]
    },
    {
      "cell_type": "markdown",
      "metadata": {
        "id": "XwHVlru7wu6g",
        "colab_type": "text"
      },
      "source": [
        "### 繪製結果"
      ]
    },
    {
      "cell_type": "code",
      "metadata": {
        "id": "KqHtHuHTwu6h",
        "colab_type": "code",
        "colab": {
          "base_uri": "https://localhost:8080/",
          "height": 543
        },
        "outputId": "492ff80a-af94-4e13-bdfd-0f527d0a2922"
      },
      "source": [
        "import matplotlib.pyplot as plt\n",
        "\n",
        "acc = history.history['acc']\n",
        "val_acc = history.history['val_acc']\n",
        "loss = history.history['loss']\n",
        "val_loss = history.history['val_loss']\n",
        "\n",
        "epochs = range(1, len(acc) + 1)\n",
        "\n",
        "plt.plot(epochs, acc, 'bo', label='Training acc')\n",
        "plt.plot(epochs, val_acc, 'b', label='Validation acc')\n",
        "plt.title('Training and validation accuracy')\n",
        "plt.legend()\n",
        "\n",
        "plt.figure()\n",
        "\n",
        "plt.plot(epochs, loss, 'bo', label='Training loss')\n",
        "plt.plot(epochs, val_loss, 'b', label='Validation loss')\n",
        "plt.title('Training and validation loss')\n",
        "plt.legend()\n",
        "\n",
        "plt.show()\n"
      ],
      "execution_count": null,
      "outputs": [
        {
          "output_type": "display_data",
          "data": {
            "image/png": "[encoded data removed]",
            "text/plain": [
              "<Figure size 432x288 with 1 Axes>"
            ]
          },
          "metadata": {
            "tags": [],
            "needs_background": "light"
          }
        },
        {
          "output_type": "display_data",
          "data": {
            "image/png": "[encoded data removed]",
            "text/plain": [
              "<Figure size 432x288 with 1 Axes>"
            ]
          },
          "metadata": {
            "tags": [],
            "needs_background": "light"
          }
        }
      ]
    },
    {
      "cell_type": "markdown",
      "metadata": {
        "id": "D-E95mGVwu6j",
        "colab_type": "text"
      },
      "source": [
        "### 訓練相同模型而不使用預先訓練的文字嵌入向量"
      ]
    },
    {
      "cell_type": "code",
      "metadata": {
        "id": "vXIpEZiVwu6j",
        "colab_type": "code",
        "colab": {
          "base_uri": "https://localhost:8080/",
          "height": 1000
        },
        "outputId": "80a4c9c5-4597-4c6b-8b15-3f38012a2ba9"
      },
      "source": [
        "from keras.models import Sequential\n",
        "from keras.layers import Embedding, Flatten, Dense\n",
        "\n",
        "model = Sequential()\n",
        "model.add(Embedding(max_words, embedding_dim, input_length=maxlen))\n",
        "model.add(Flatten())\n",
        "model.add(Dense(32, activation='relu'))\n",
        "model.add(Dense(1, activation='sigmoid'))\n",
        "model.summary()\n",
        "\n",
        "model.compile(optimizer='rmsprop',\n",
        "              loss='binary_crossentropy',\n",
        "              metrics=['acc'])\n",
        "\n",
        "history = model.fit(x_train, y_train,\n",
        "                    epochs=10,\n",
        "                    batch_size=32,\n",
        "                    validation_data=(x_val, y_val))\n",
        "\n",
        "\n",
        "############### 繪製\n",
        "import matplotlib.pyplot as plt\n",
        "\n",
        "acc = history.history['acc']\n",
        "val_acc = history.history['val_acc']\n",
        "loss = history.history['loss']\n",
        "val_loss = history.history['val_loss']\n",
        "\n",
        "epochs = range(1, len(acc) + 1)\n",
        "\n",
        "plt.plot(epochs, acc, 'bo', label='Training acc')\n",
        "plt.plot(epochs, val_acc, 'b', label='Validation acc')\n",
        "plt.title('Training and validation accuracy')\n",
        "plt.legend()\n",
        "\n",
        "plt.figure()\n",
        "\n",
        "plt.plot(epochs, loss, 'bo', label='Training loss')\n",
        "plt.plot(epochs, val_loss, 'b', label='Validation loss')\n",
        "plt.title('Training and validation loss')\n",
        "plt.legend()\n",
        "\n",
        "plt.show()"
      ],
      "execution_count": null,
      "outputs": [
        {
          "output_type": "stream",
          "text": [
            "Model: \"sequential_6\"\n",
            "_________________________________________________________________\n",
            "Layer (type)                 Output Shape              Param #   \n",
            "=================================================================\n",
            "embedding_5 (Embedding)      (None, 100, 100)          1000000   \n",
            "_________________________________________________________________\n",
            "flatten_5 (Flatten)          (None, 10000)             0         \n",
            "_________________________________________________________________\n",
            "dense_8 (Dense)              (None, 32)                320032    \n",
            "_________________________________________________________________\n",
            "dense_9 (Dense)              (None, 1)                 33        \n",
            "=================================================================\n",
            "Total params: 1,320,065\n",
            "Trainable params: 1,320,065\n",
            "Non-trainable params: 0\n",
            "_________________________________________________________________\n"
          ],
          "name": "stdout"
        },
        {
          "output_type": "stream",
          "text": [
            "/usr/local/lib/python3.6/dist-packages/tensorflow/python/framework/indexed_slices.py:434: UserWarning: Converting sparse IndexedSlices to a dense Tensor of unknown shape. This may consume a large amount of memory.\n",
            "  \"Converting sparse IndexedSlices to a dense Tensor of unknown shape. \"\n"
          ],
          "name": "stderr"
        },
        {
          "output_type": "stream",
          "text": [
            "Train on 25000 samples, validate on 25000 samples\n",
            "Epoch 1/10\n",
            "25000/25000 [==============================] - 5s 192us/step - loss: 0.4176 - acc: 0.8010 - val_loss: 0.3589 - val_acc: 0.8402\n",
            "Epoch 2/10\n",
            "25000/25000 [==============================] - 5s 187us/step - loss: 0.1517 - acc: 0.9439 - val_loss: 0.4348 - val_acc: 0.8316\n",
            "Epoch 3/10\n",
            "25000/25000 [==============================] - 4s 179us/step - loss: 0.0202 - acc: 0.9940 - val_loss: 0.6959 - val_acc: 0.8158\n",
            "Epoch 4/10\n",
            "25000/25000 [==============================] - 5s 182us/step - loss: 0.0015 - acc: 0.9997 - val_loss: 0.9649 - val_acc: 0.8177\n",
            "Epoch 5/10\n",
            "25000/25000 [==============================] - 4s 179us/step - loss: 1.4654e-04 - acc: 0.9999 - val_loss: 1.2027 - val_acc: 0.8193\n",
            "Epoch 6/10\n",
            "25000/25000 [==============================] - 5s 183us/step - loss: 2.4264e-06 - acc: 1.0000 - val_loss: 1.3641 - val_acc: 0.8214\n",
            "Epoch 7/10\n",
            "25000/25000 [==============================] - 5s 181us/step - loss: 5.5256e-09 - acc: 1.0000 - val_loss: 1.3999 - val_acc: 0.8216\n",
            "Epoch 8/10\n",
            "25000/25000 [==============================] - 5s 181us/step - loss: 2.3551e-09 - acc: 1.0000 - val_loss: 1.4315 - val_acc: 0.8208\n",
            "Epoch 9/10\n",
            "25000/25000 [==============================] - 4s 179us/step - loss: 1.8578e-09 - acc: 1.0000 - val_loss: 1.4292 - val_acc: 0.8216\n",
            "Epoch 10/10\n",
            "25000/25000 [==============================] - 5s 184us/step - loss: 1.4595e-09 - acc: 1.0000 - val_loss: 1.4401 - val_acc: 0.8219\n"
          ],
          "name": "stdout"
        },
        {
          "output_type": "display_data",
          "data": {
            "image/png": "[encoded data removed]",
            "text/plain": [
              "<Figure size 432x288 with 1 Axes>"
            ]
          },
          "metadata": {
            "tags": [],
            "needs_background": "light"
          }
        },
        {
          "output_type": "display_data",
          "data": {
            "image/png": "[encoded data removed]",
            "text/plain": [
              "<Figure size 432x288 with 1 Axes>"
            ]
          },
          "metadata": {
            "tags": [],
            "needs_background": "light"
          }
        }
      ]
    },
    {
      "cell_type": "markdown",
      "metadata": {
        "id": "XgcW8G4Qwu6m",
        "colab_type": "text"
      },
      "source": [
        "### 對測試資料進行分詞 (skip)"
      ]
    },
    {
      "cell_type": "code",
      "metadata": {
        "id": "c0czAFzhwu6n",
        "colab_type": "code",
        "colab": {}
      },
      "source": [
        "test_dir = os.path.join(imdb_dir, 'test')\n",
        "\n",
        "labels = []\n",
        "texts = []\n",
        "\n",
        "for label_type in ['neg', 'pos']:\n",
        "\tdir_name = os.path.join(test_dir, label_type)\n",
        "\tfor fname in sorted(os.listdir(dir_name)):\n",
        "\t\tif fname[-4:] == '.txt':\n",
        "\t\t\tf = open(os.path.join(dir_name, fname), encoding='UTF-8')\n",
        "\t\t\ttexts.append(f.read())\n",
        "\t\t\tf.close()\n",
        "\t\t\tif label_type == 'neg':\n",
        "\t\t\t\tlabels.append(0)\n",
        "\t\t\telse:\n",
        "\t\t\t\tlabels.append(1)\n",
        "\n",
        "sequences = tokenizer.texts_to_sequences(texts)\n",
        "x_test = pad_sequences(sequences, maxlen=maxlen)\n",
        "y_test = np.asarray(labels)\n"
      ],
      "execution_count": null,
      "outputs": []
    },
    {
      "cell_type": "code",
      "metadata": {
        "id": "2l25siLuwu6o",
        "colab_type": "code",
        "colab": {}
      },
      "source": [
        "model.load_weights('pre_trained_glove_model.h5')\n",
        "model.evaluate(x_test, y_test)"
      ],
      "execution_count": null,
      "outputs": []
    },
    {
      "cell_type": "markdown",
      "metadata": {
        "collapsed": true,
        "id": "unZhF5v5wu6q",
        "colab_type": "text"
      },
      "source": [
        "# 了解遞歸神經網路"
      ]
    },
    {
      "cell_type": "markdown",
      "metadata": {
        "collapsed": true,
        "id": "j9E0zjMnwu6r",
        "colab_type": "text"
      },
      "source": [
        "### 以 Numpy 實現簡單的 RNN"
      ]
    },
    {
      "cell_type": "code",
      "metadata": {
        "id": "XMcL22V0wu6s",
        "colab_type": "code",
        "colab": {
          "base_uri": "https://localhost:8080/",
          "height": 32
        },
        "outputId": "4e07b534-dd64-403a-a58c-b1ef0ba60e92"
      },
      "source": [
        "import numpy as np\n",
        "\n",
        "timesteps = 100   # 輸入序列資料中的時間點數量\n",
        "input_features = 32  # 輸入特徵空間的維度數\n",
        "output_features = 64  # 輸出特徵空間的維度數\n",
        "\n",
        "inputs = np.random.random((timesteps, input_features))  # 輸入資料：隨機產生數值以便示範\n",
        "\n",
        "state_t = np.zeros((output_features, ))  # 初始狀態：全零向量\n",
        "\n",
        "W = np.random.random((output_features, input_features))  # 建立隨機權重矩陣\n",
        "U = np.random.random((output_features, output_features)) # 建立隨機權重矩陣\n",
        "b = np.random.random((output_features, ))\n",
        "\n",
        "successive_outputs = []\n",
        "for input_t in inputs:  #  input_t 是個向量, shape 為 (input_features, )\n",
        "    output_t = np.tanh(np.dot(W, input_t) + np.dot(U, state_t) + b)  # 結合輸入與當前狀態(前一個輸出)以取得當前輸出\n",
        "    successive_outputs.append(output_t)  # 將此輸出儲存在列表中\n",
        "    state_t = output_t  #更新下一個時間點的網絡狀態\n",
        "\n",
        "np.array(successive_outputs).shape\n"
      ],
      "execution_count": null,
      "outputs": [
        {
          "output_type": "execute_result",
          "data": {
            "text/plain": [
              "(100, 64)"
            ]
          },
          "metadata": {
            "tags": []
          },
          "execution_count": 59
        }
      ]
    },
    {
      "cell_type": "markdown",
      "metadata": {
        "collapsed": true,
        "id": "CMG-Th74wu6t",
        "colab_type": "text"
      },
      "source": [
        "### 準備 IMDB 資料"
      ]
    },
    {
      "cell_type": "code",
      "metadata": {
        "id": "kJ8mnB5Nwu6t",
        "colab_type": "code",
        "colab": {
          "base_uri": "https://localhost:8080/",
          "height": 115
        },
        "outputId": "09f72dcd-59a6-4570-cef1-be97f1e457e0"
      },
      "source": [
        "from keras.datasets import imdb\n",
        "from keras.preprocessing import sequence\n",
        "\n",
        "max_features = 10000  #考慮做為特徵的文字數量\n",
        "maxlen = 500  # 我們只看每篇評論的前 500 個文字\n",
        "\n",
        "batch_size = 32\n",
        "\n",
        "print('讀取資料...')\n",
        "(input_train, y_train), (input_test, y_test) = imdb.load_data(num_words=max_features)\n",
        "print(len(input_train), 'train sequences') # 25000 筆訓練用序列資料 (評論)\n",
        "print(len(input_test), 'test sequences')\t# 25000 筆測試用序列資料\n",
        "\n",
        "print('Pad sequences (samples x time)')\n",
        "input_train = sequence.pad_sequences(input_train, maxlen=maxlen) # 1. 只看每篇評論的前 500 個文字, 多的去除, 不足填補\n",
        "input_test = sequence.pad_sequences(input_test, maxlen=maxlen)\n",
        "print('input_train shape:', input_train.shape)\t# shape=(25000, 500)\n",
        "print('input_test shape:', input_test.shape)\t# shape=(25000, 500)\n",
        "\n"
      ],
      "execution_count": null,
      "outputs": [
        {
          "output_type": "stream",
          "text": [
            "讀取資料...\n",
            "25000 train sequences\n",
            "25000 test sequences\n",
            "Pad sequences (samples x time)\n",
            "input_train shape: (25000, 500)\n",
            "input_test shape: (25000, 500)\n"
          ],
          "name": "stdout"
        }
      ]
    },
    {
      "cell_type": "markdown",
      "metadata": {
        "collapsed": true,
        "id": "oWND08s6wu6w",
        "colab_type": "text"
      },
      "source": [
        "### 以嵌入向量 Embedding 層和 SimpleRNN 層訓練模型"
      ]
    },
    {
      "cell_type": "code",
      "metadata": {
        "id": "ykFiGn6Owu6w",
        "colab_type": "code",
        "colab": {
          "base_uri": "https://localhost:8080/",
          "height": 415
        },
        "outputId": "a29fddf3-b3a6-47f0-ec1d-96053346afb6"
      },
      "source": [
        "from keras.models import Sequential\n",
        "from keras.layers import Dense\n",
        "from keras.layers import Embedding, SimpleRNN\n",
        "\n",
        "model = Sequential()\n",
        "model.add(Embedding(max_features, 32))\n",
        "\n",
        "# middle RNN layer needs full data\n",
        "# model.add(SimpleRNN(32, return_sequences=True))\n",
        "# model.add(SimpleRNN(32, return_sequences=True))\n",
        "# model.add(SimpleRNN(32, return_sequences=True))\n",
        "\n",
        "model.add(SimpleRNN(32)) # by default, return_sequences=False\n",
        "model.add(Dense(1, activation='sigmoid'))\n",
        "\n",
        "model.compile(optimizer='rmsprop', loss='binary_crossentropy', metrics=['acc'])\n",
        "history = model.fit(input_train, y_train,\n",
        "                    epochs=10,\n",
        "                    batch_size=128,\n",
        "                    validation_split=0.2)"
      ],
      "execution_count": null,
      "outputs": [
        {
          "output_type": "stream",
          "text": [
            "/usr/local/lib/python3.6/dist-packages/tensorflow/python/framework/indexed_slices.py:434: UserWarning: Converting sparse IndexedSlices to a dense Tensor of unknown shape. This may consume a large amount of memory.\n",
            "  \"Converting sparse IndexedSlices to a dense Tensor of unknown shape. \"\n"
          ],
          "name": "stderr"
        },
        {
          "output_type": "stream",
          "text": [
            "Train on 20000 samples, validate on 5000 samples\n",
            "Epoch 1/10\n",
            "20000/20000 [==============================] - 78s 4ms/step - loss: 0.6029 - acc: 0.6605 - val_loss: 0.9675 - val_acc: 0.5150\n",
            "Epoch 2/10\n",
            "20000/20000 [==============================] - 78s 4ms/step - loss: 0.3862 - acc: 0.8401 - val_loss: 0.3776 - val_acc: 0.8420\n",
            "Epoch 3/10\n",
            "20000/20000 [==============================] - 77s 4ms/step - loss: 0.2826 - acc: 0.8885 - val_loss: 0.3478 - val_acc: 0.8566\n",
            "Epoch 4/10\n",
            "20000/20000 [==============================] - 78s 4ms/step - loss: 0.2321 - acc: 0.9132 - val_loss: 0.4408 - val_acc: 0.8472\n",
            "Epoch 5/10\n",
            "20000/20000 [==============================] - 78s 4ms/step - loss: 0.1823 - acc: 0.9331 - val_loss: 0.5125 - val_acc: 0.8278\n",
            "Epoch 6/10\n",
            "20000/20000 [==============================] - 78s 4ms/step - loss: 0.1469 - acc: 0.9481 - val_loss: 0.3816 - val_acc: 0.8608\n",
            "Epoch 7/10\n",
            "20000/20000 [==============================] - 78s 4ms/step - loss: 0.1003 - acc: 0.9671 - val_loss: 0.4239 - val_acc: 0.8454\n",
            "Epoch 8/10\n",
            "20000/20000 [==============================] - 78s 4ms/step - loss: 0.0714 - acc: 0.9776 - val_loss: 0.4637 - val_acc: 0.8410\n",
            "Epoch 9/10\n",
            "20000/20000 [==============================] - 77s 4ms/step - loss: 0.0487 - acc: 0.9845 - val_loss: 0.5101 - val_acc: 0.8410\n",
            "Epoch 10/10\n",
            "20000/20000 [==============================] - 78s 4ms/step - loss: 0.0295 - acc: 0.9905 - val_loss: 0.5750 - val_acc: 0.8212\n"
          ],
          "name": "stdout"
        }
      ]
    },
    {
      "cell_type": "markdown",
      "metadata": {
        "collapsed": true,
        "id": "WORmGPecwu6x",
        "colab_type": "text"
      },
      "source": [
        "### 繪製結果"
      ]
    },
    {
      "cell_type": "code",
      "metadata": {
        "id": "HhJ28bV4wu6y",
        "colab_type": "code",
        "colab": {
          "base_uri": "https://localhost:8080/",
          "height": 280
        },
        "outputId": "16a7febf-11b0-4003-add3-a88fae7a7c4e"
      },
      "source": [
        "import matplotlib.pyplot as plt\n",
        "\n",
        "acc = history.history['acc']\n",
        "val_acc = history.history['val_acc']\n",
        "loss = history.history['loss']\n",
        "val_loss = history.history['val_loss']\n",
        "\n",
        "epochs = range(1, len(acc) + 1)\n",
        "\n",
        "plt.plot(epochs, acc, 'bo', label='Training acc')\n",
        "plt.plot(epochs, val_acc, 'b', label='Validation acc')"
      ],
      "execution_count": null,
      "outputs": [
        {
          "output_type": "execute_result",
          "data": {
            "text/plain": [
              "[<matplotlib.lines.Line2D at 0x7f8170375160>]"
            ]
          },
          "metadata": {
            "tags": []
          },
          "execution_count": 69
        },
        {
          "output_type": "display_data",
          "data": {
            "image/png": "[encoded data removed]",
            "text/plain": [
              "<Figure size 432x288 with 1 Axes>"
            ]
          },
          "metadata": {
            "tags": [],
            "needs_background": "light"
          }
        }
      ]
    },
    {
      "cell_type": "markdown",
      "metadata": {
        "id": "k4wQK5vwabvS",
        "colab_type": "text"
      },
      "source": [
        "Reasons of bad performance (only 85%):\n",
        "\n",
        "1. Simple RNN is not good at handling long sequences, such as texts. (too long to momorize!)\n",
        "\n",
        "2. We only use first 500 words as our training data"
      ]
    },
    {
      "cell_type": "markdown",
      "metadata": {
        "collapsed": true,
        "id": "3bznURCNwu6z",
        "colab_type": "text"
      },
      "source": [
        "### 在 Keras 中使用 LSTM 層"
      ]
    },
    {
      "cell_type": "markdown",
      "metadata": {
        "id": "CMAIL1uecqFY",
        "colab_type": "text"
      },
      "source": [
        "LSTM 新增了一個額外的資訊流，它可以跨時間點傳遞資訊，在不同時間點 t 取用 C_t (C: carry)\n",
        "\n",
        "Each LSTM unit has three transitions (i, f, k), each has its own weight matrices U and W\n",
        "\n",
        "- output_t = activation(dot(state_t, Uo) + dot(input_t, Wo) + dot(C_t, Vo) + bo)\n",
        "    - Vo is the hidden layer\n",
        "- c_t+1 = i_t * k_t + c_t * f_t\n",
        "    - i_t = activation(dot(state_t, Ui) + dot(input_t, Wi) + bi)\n",
        "    - f_t = activation(dot(state_t, Uf) + dot(input_t, Wf) + bf)\n",
        "    - k_t = activation(dot(state_t, Uk) + dot(input_t, Wk) + bk)\n",
        "\n"
      ]
    },
    {
      "cell_type": "code",
      "metadata": {
        "id": "GsbiqPsQwu6z",
        "colab_type": "code",
        "colab": {
          "base_uri": "https://localhost:8080/",
          "height": 678
        },
        "outputId": "9d5d51c1-87fb-40ba-bddb-89b74c67d3b9"
      },
      "source": [
        "from keras.layers import LSTM\n",
        "\n",
        "model = Sequential()\n",
        "model.add(Embedding(max_features, 32))\n",
        "model.add(LSTM(32)) # by default, activation='tanh'\n",
        "model.add(Dense(1, activation='sigmoid'))\n",
        "\n",
        "model.compile(optimizer='rmsprop',\n",
        "loss='binary_crossentropy',\n",
        "metrics=['acc'])\n",
        "history = model.fit(input_train, y_train,\n",
        "                    epochs=10,\n",
        "                    batch_size=128,\n",
        "                    validation_split=0.2)\n",
        "\n",
        "import matplotlib.pyplot as plt\n",
        "\n",
        "acc = history.history['acc']\n",
        "val_acc = history.history['val_acc']\n",
        "loss = history.history['loss']\n",
        "val_loss = history.history['val_loss']\n",
        "\n",
        "epochs = range(1, len(acc) + 1)\n",
        "\n",
        "plt.plot(epochs, acc, 'bo', label='Training acc')\n",
        "plt.plot(epochs, val_acc, 'b', label='Validation acc')"
      ],
      "execution_count": null,
      "outputs": [
        {
          "output_type": "stream",
          "text": [
            "/usr/local/lib/python3.6/dist-packages/tensorflow/python/framework/indexed_slices.py:434: UserWarning: Converting sparse IndexedSlices to a dense Tensor of unknown shape. This may consume a large amount of memory.\n",
            "  \"Converting sparse IndexedSlices to a dense Tensor of unknown shape. \"\n"
          ],
          "name": "stderr"
        },
        {
          "output_type": "stream",
          "text": [
            "Train on 20000 samples, validate on 5000 samples\n",
            "Epoch 1/10\n",
            "20000/20000 [==============================] - 211s 11ms/step - loss: 0.4965 - acc: 0.7674 - val_loss: 0.3426 - val_acc: 0.8572\n",
            "Epoch 2/10\n",
            "20000/20000 [==============================] - 211s 11ms/step - loss: 0.2934 - acc: 0.8873 - val_loss: 0.3012 - val_acc: 0.8768\n",
            "Epoch 3/10\n",
            "20000/20000 [==============================] - 211s 11ms/step - loss: 0.2358 - acc: 0.9104 - val_loss: 0.3056 - val_acc: 0.8876\n",
            "Epoch 4/10\n",
            "20000/20000 [==============================] - 209s 10ms/step - loss: 0.2033 - acc: 0.9254 - val_loss: 0.4010 - val_acc: 0.8382\n",
            "Epoch 5/10\n",
            "20000/20000 [==============================] - 211s 11ms/step - loss: 0.1791 - acc: 0.9337 - val_loss: 0.3083 - val_acc: 0.8812\n",
            "Epoch 6/10\n",
            "20000/20000 [==============================] - 210s 10ms/step - loss: 0.1593 - acc: 0.9436 - val_loss: 0.3727 - val_acc: 0.8716\n",
            "Epoch 7/10\n",
            "20000/20000 [==============================] - 210s 11ms/step - loss: 0.1460 - acc: 0.9488 - val_loss: 0.3466 - val_acc: 0.8738\n",
            "Epoch 8/10\n",
            "20000/20000 [==============================] - 211s 11ms/step - loss: 0.1322 - acc: 0.9536 - val_loss: 0.3176 - val_acc: 0.8784\n",
            "Epoch 9/10\n",
            "20000/20000 [==============================] - 210s 10ms/step - loss: 0.1226 - acc: 0.9577 - val_loss: 0.3878 - val_acc: 0.8766\n",
            "Epoch 10/10\n",
            "20000/20000 [==============================] - 211s 11ms/step - loss: 0.1146 - acc: 0.9614 - val_loss: 0.3788 - val_acc: 0.8826\n"
          ],
          "name": "stdout"
        },
        {
          "output_type": "execute_result",
          "data": {
            "text/plain": [
              "[<matplotlib.lines.Line2D at 0x7f816fa59550>]"
            ]
          },
          "metadata": {
            "tags": []
          },
          "execution_count": 63
        },
        {
          "output_type": "display_data",
          "data": {
            "image/png": "[encoded data removed]",
            "text/plain": [
              "<Figure size 432x288 with 1 Axes>"
            ]
          },
          "metadata": {
            "tags": [],
            "needs_background": "light"
          }
        }
      ]
    },
    {
      "cell_type": "markdown",
      "metadata": {
        "id": "mrr1Nci7kTal",
        "colab_type": "text"
      },
      "source": [
        "分析評論的全域或長型結構 (LSTM 的擅長之處) 對情感分析沒有幫助。這個問題需要透過查看每個評論中出現的文字以及頻率來處理，這也是全連接層在做的事。\n",
        "\n",
        "在自動問答與機器翻譯上，LSTM 的強處就會被凸顯。"
      ]
    },
    {
      "cell_type": "markdown",
      "metadata": {
        "id": "TGlOz7DEwu61",
        "colab_type": "text"
      },
      "source": [
        "# 遞歸神經網路的進階使用方法"
      ]
    },
    {
      "cell_type": "markdown",
      "metadata": {
        "id": "mEgikduq3tlD",
        "colab_type": "text"
      },
      "source": [
        "### 檢視耶拿天氣資料集的資料"
      ]
    },
    {
      "cell_type": "code",
      "metadata": {
        "id": "xL6RL8dzokwH",
        "colab_type": "code",
        "colab": {}
      },
      "source": [
        "!mkdir ./drive/\"My Drive\"/jena_climate"
      ],
      "execution_count": null,
      "outputs": []
    },
    {
      "cell_type": "code",
      "metadata": {
        "id": "JwY-fG17pN1g",
        "colab_type": "code",
        "colab": {
          "base_uri": "https://localhost:8080/",
          "height": 197
        },
        "outputId": "9eebaeaa-0b90-4275-949b-7b049aad3ee9"
      },
      "source": [
        "!cd ./drive/\"My Drive\"/jena_climate && wget https://s3.amazonaws.com/keras-datasets/jena_climate_2009_2016.csv.zip"
      ],
      "execution_count": null,
      "outputs": [
        {
          "output_type": "stream",
          "text": [
            "--2020-08-01 15:33:12--  https://s3.amazonaws.com/keras-datasets/jena_climate_2009_2016.csv.zip\n",
            "Resolving s3.amazonaws.com (s3.amazonaws.com)... 52.217.39.126\n",
            "Connecting to s3.amazonaws.com (s3.amazonaws.com)|52.217.39.126|:443... connected.\n",
            "HTTP request sent, awaiting response... 200 OK\n",
            "Length: 13568290 (13M) [application/zip]\n",
            "Saving to: ‘jena_climate_2009_2016.csv.zip’\n",
            "\n",
            "\r          jena_clim   0%[                    ]       0  --.-KB/s               \r         jena_clima  53%[=========>          ]   6.98M  34.9MB/s               \rjena_climate_2009_2 100%[===================>]  12.94M  42.1MB/s    in 0.3s    \n",
            "\n",
            "2020-08-01 15:33:13 (42.1 MB/s) - ‘jena_climate_2009_2016.csv.zip’ saved [13568290/13568290]\n",
            "\n"
          ],
          "name": "stdout"
        }
      ]
    },
    {
      "cell_type": "code",
      "metadata": {
        "id": "T4mlgkf9p_HL",
        "colab_type": "code",
        "colab": {
          "base_uri": "https://localhost:8080/"
        },
        "outputId": "d26677e3-62fd-4eba-f61b-efaa2361582f"
      },
      "source": [
        "!cd ./drive/\"My Drive\"/jena_climate && unzip jena_climate_2009_2016.csv.zip && rm -f jena_climate_2009_2016.csv.zip"
      ],
      "execution_count": null,
      "outputs": [
        {
          "output_type": "stream",
          "text": [
            "Archive:  jena_climate_2009_2016.csv.zip\n",
            "  inflating: jena_climate_2009_2016.csv  \n"
          ],
          "name": "stdout"
        }
      ]
    },
    {
      "cell_type": "code",
      "metadata": {
        "id": "05Jjl0KLwu61",
        "colab_type": "code",
        "colab": {
          "base_uri": "https://localhost:8080/",
          "height": 85
        },
        "outputId": "f534b246-e44c-4995-89e2-cde9aade4eeb"
      },
      "source": [
        "import os\n",
        "\n",
        "data_dir = './drive/My Drive/jena_climate'  # 您的 jena_climate 資料夾路徑\n",
        "fname = os.path.join(data_dir, 'jena_climate_2009_2016.csv') # 資料集完整路徑\n",
        "\n",
        "f = open(fname)\n",
        "data = f.read()\n",
        "f.close()\n",
        "\n",
        "lines = data.split('\\n')\n",
        "header = lines[0].split(',')\n",
        "lines = lines[1:]\n",
        "\n",
        "print(header)  # \n",
        "print(len(header))\n",
        "print(len(lines))"
      ],
      "execution_count": 41,
      "outputs": [
        {
          "output_type": "stream",
          "text": [
            "['\"Date Time\"', '\"p (mbar)\"', '\"T (degC)\"', '\"Tpot (K)\"', '\"Tdew (degC)\"', '\"rh (%)\"', '\"VPmax (mbar)\"', '\"VPact (mbar)\"', '\"VPdef (mbar)\"', '\"sh (g/kg)\"', '\"H2OC (mmol/mol)\"', '\"rho (g/m**3)\"', '\"wv (m/s)\"', '\"max. wv (m/s)\"', '\"wd (deg)\"']\n",
            "15\n",
            "420551\n"
          ],
          "name": "stdout"
        }
      ]
    },
    {
      "cell_type": "markdown",
      "metadata": {
        "id": "LRztcIRrwu62",
        "colab_type": "text"
      },
      "source": [
        "### 解析資料"
      ]
    },
    {
      "cell_type": "code",
      "metadata": {
        "id": "cf5YdROrwu62",
        "colab_type": "code",
        "colab": {
          "base_uri": "https://localhost:8080/",
          "height": 32
        },
        "outputId": "ba634984-716e-4b50-be10-df6021c7d708"
      },
      "source": [
        "import numpy as np\n",
        "\n",
        "float_data = np.zeros((len(lines), len(header) - 1))\n",
        "for i, line in enumerate(lines):\n",
        "    values = [float(x) for x in line.split(',')[1:]]\n",
        "    float_data[i, :] = values\n",
        "print(float_data.shape)   # 共有 420551 個時間點的天氣資料, 每個包含 14 種天氣數值"
      ],
      "execution_count": 42,
      "outputs": [
        {
          "output_type": "stream",
          "text": [
            "(420551, 14)\n"
          ],
          "name": "stdout"
        }
      ]
    },
    {
      "cell_type": "code",
      "metadata": {
        "id": "_8nxIFgYwu63",
        "colab_type": "code",
        "colab": {
          "base_uri": "https://localhost:8080/",
          "height": 267
        },
        "outputId": "b8b0cb48-d094-4a77-c58e-bc0da7182a45"
      },
      "source": [
        "from matplotlib import pyplot as plt\n",
        "\n",
        "temp = float_data[:, 1] # 索引 1 為 temperature 資料\n",
        "plt.plot(range(len(temp)), temp)\n",
        "plt.show()"
      ],
      "execution_count": null,
      "outputs": [
        {
          "output_type": "display_data",
          "data": {
            "image/png": "[encoded data removed]",
            "text/plain": [
              "<Figure size 432x288 with 1 Axes>"
            ]
          },
          "metadata": {
            "tags": [],
            "needs_background": "light"
          }
        }
      ]
    },
    {
      "cell_type": "code",
      "metadata": {
        "id": "t1SZqzWawu65",
        "colab_type": "code",
        "colab": {
          "base_uri": "https://localhost:8080/",
          "height": 263
        },
        "outputId": "f3c16207-75d6-473a-bf02-fd35e20b8a83"
      },
      "source": [
        "# first 10 days (record every 10 minutes)\n",
        "plt.plot(range(1440), temp[:1440])\n",
        "plt.show()"
      ],
      "execution_count": null,
      "outputs": [
        {
          "output_type": "display_data",
          "data": {
            "image/png": "[encoded data removed]",
            "text/plain": [
              "<Figure size 432x288 with 1 Axes>"
            ]
          },
          "metadata": {
            "tags": [],
            "needs_background": "light"
          }
        }
      ]
    },
    {
      "cell_type": "markdown",
      "metadata": {
        "id": "W44YFPAiwu66",
        "colab_type": "text"
      },
      "source": [
        "### 標準化資料"
      ]
    },
    {
      "cell_type": "code",
      "metadata": {
        "id": "zLPuSgjmwu66",
        "colab_type": "code",
        "colab": {
          "base_uri": "https://localhost:8080/",
          "height": 65
        },
        "outputId": "f95b45eb-894e-4b66-caea-5a74aef1a352"
      },
      "source": [
        "mean = float_data[:200000].mean(axis=0)\n",
        "float_data -= mean\n",
        "std = float_data[:200000].std(axis=0)\n",
        "float_data /= std\n",
        "\n",
        "print(std)"
      ],
      "execution_count": 43,
      "outputs": [
        {
          "output_type": "stream",
          "text": [
            "[ 8.48043388  8.85249908  8.95324185  7.16584991 16.72731652  7.68914559\n",
            "  4.19808168  4.84034436  2.66564926  4.25206364 42.48884277  1.53666449\n",
            "  2.33067298 86.61322998]\n"
          ],
          "name": "stdout"
        }
      ]
    },
    {
      "cell_type": "markdown",
      "metadata": {
        "id": "imxhuQLmwu67",
        "colab_type": "text"
      },
      "source": [
        "### 定義產生器函式以產生時間序列樣本資料及其目標資料"
      ]
    },
    {
      "cell_type": "markdown",
      "metadata": {
        "id": "YZ41ho8x4h7L",
        "colab_type": "text"
      },
      "source": [
        "Goal:\n",
        "Learn from pass `loopback` points, sample every `steps`, and try to predict next `delay` points. \n",
        "\n",
        "- `steps` = 6: sampling every hour\n",
        "- `delay` = 144: goal is to predict the temperature after 24 hours"
      ]
    },
    {
      "cell_type": "code",
      "metadata": {
        "id": "8LNnTvFSwu67",
        "colab_type": "code",
        "colab": {}
      },
      "source": [
        "def generator(data, lookback, delay, min_index, max_index,\n",
        "              shuffle=False, batch_size=128, step=6):\n",
        "    if max_index is None:\n",
        "        max_index = len(data) - delay - 1\n",
        "        \n",
        "    i = min_index + lookback\n",
        "    while 1:\n",
        "        if shuffle:\n",
        "            rows = np.random.randint(\n",
        "                min_index + lookback, max_index, size=batch_size)\n",
        "        else:\n",
        "            if i + batch_size >= max_index:\n",
        "                i = min_index + lookback\n",
        "            rows = np.arange(i, min(i + batch_size, max_index))\n",
        "            i += len(rows)\n",
        "\n",
        "        samples = np.zeros((len(rows),\n",
        "                        lookback // step,\n",
        "                        data.shape[-1]))\n",
        "        targets = np.zeros((len(rows), ))\n",
        "        for j, row in enumerate(rows):\n",
        "            indices = range(rows[j] - lookback, rows[j], step)\n",
        "            samples[j] = data[indices]\n",
        "            targets[j] = data[rows[j] + delay][1]\n",
        "        yield samples, targets"
      ],
      "execution_count": 44,
      "outputs": []
    },
    {
      "cell_type": "markdown",
      "metadata": {
        "collapsed": true,
        "id": "3YK4v-xgwu68",
        "colab_type": "text"
      },
      "source": [
        "### 建立訓練資料、驗證資料和測試資料產生器"
      ]
    },
    {
      "cell_type": "code",
      "metadata": {
        "id": "UWSFjC2-wu69",
        "colab_type": "code",
        "colab": {
          "base_uri": "https://localhost:8080/",
          "height": 32
        },
        "outputId": "03e0fff5-c303-4b97-aa68-97c5916db892"
      },
      "source": [
        "lookback = 1440\n",
        "step = 6\n",
        "delay = 144\n",
        "batch_size = 128\n",
        "\n",
        "# 訓練資料產生器\n",
        "train_gen = generator(float_data,\n",
        "                      lookback=lookback,\n",
        "                      delay=delay,\n",
        "                      min_index=0,\n",
        "                      max_index=200000,\n",
        "                      shuffle=True,\n",
        "                      step=step,\n",
        "                      batch_size=batch_size)\n",
        "# 驗證資料產生器\n",
        "val_gen = generator(float_data,\n",
        "                    lookback=lookback,\n",
        "                    delay=delay,\n",
        "                    min_index=200001,\n",
        "                    max_index=300000,\n",
        "                    step=step,\n",
        "                    batch_size=batch_size)\n",
        "# 測試資料產生器\n",
        "test_gen = generator(float_data,\n",
        "                     lookback=lookback,\n",
        "                     delay=delay,\n",
        "                     min_index=300001,\n",
        "                     max_index=None,\n",
        "                     step=step,\n",
        "                     batch_size=batch_size)\n",
        "\n",
        "val_steps = (300000 - 200001 - lookback) // batch_size  #← 1...\n",
        "test_steps = (len(float_data) - 300001 - lookback) // batch_size  #←2..\n",
        "\n",
        "#1. val_gen 產生器需要運行多少次才可以產生完整的驗證集\n",
        "#2. test_gen 產生器需要運行多少次才可以產生完整的測試集\n",
        "\n",
        "print(val_steps, test_steps)"
      ],
      "execution_count": 45,
      "outputs": [
        {
          "output_type": "stream",
          "text": [
            "769 930\n"
          ],
          "name": "stdout"
        }
      ]
    },
    {
      "cell_type": "markdown",
      "metadata": {
        "collapsed": true,
        "id": "e720iXyZwu6-",
        "colab_type": "text"
      },
      "source": [
        "### 計算一般常識性基準方法 MAE (24hr後的溫度等於當前溫度)"
      ]
    },
    {
      "cell_type": "code",
      "metadata": {
        "id": "e5g3kaP2wu6-",
        "colab_type": "code",
        "colab": {
          "base_uri": "https://localhost:8080/",
          "height": 32
        },
        "outputId": "8e5183b6-9cb0-48e1-8edb-cb96b14ecd3f"
      },
      "source": [
        "def evaluate_naive_method():\n",
        "    batch_maes = []\n",
        "    for step in range(val_steps):   # ← 計算所有的驗證集資料\n",
        "        samples, targets = next(val_gen) # ← 驅動產生器\n",
        "        # print(samples.shape) # shape=(128, 240, 14), 因為回朔為 1440 個時間點, 並以 6 個時間點為間隔進行取樣,所以共產生 1440/6=240 個時間點資料\n",
        "        # print(targets.shape)  # shape=(128,) 128 筆溫度答案 \n",
        "        preds = samples[:, -1, 1]\n",
        "        mae = np.mean(np.abs(preds - targets))\n",
        "        batch_maes.append(mae)\n",
        "    print(np.mean(batch_maes) * std[1])  #　0.29 -> 2.56488743498\n",
        "\n",
        "evaluate_naive_method()"
      ],
      "execution_count": 26,
      "outputs": [
        {
          "output_type": "stream",
          "text": [
            "2.564887434980494\n"
          ],
          "name": "stdout"
        }
      ]
    },
    {
      "cell_type": "markdown",
      "metadata": {
        "collapsed": true,
        "id": "n9e7rpkgwu7A",
        "colab_type": "text"
      },
      "source": [
        "### 訓練和評估密集連接模型"
      ]
    },
    {
      "cell_type": "code",
      "metadata": {
        "id": "XQS9P1w0wu7A",
        "colab_type": "code",
        "colab": {
          "base_uri": "https://localhost:8080/",
          "height": 675
        },
        "outputId": "ae76027f-6fb4-42c4-9128-425757ff6c40"
      },
      "source": [
        "from keras.models import Sequential\n",
        "from keras import layers\n",
        "from keras.optimizers import RMSprop\n",
        "\n",
        "model = Sequential()\n",
        "model.add(layers.Flatten(input_shape=(lookback // step, float_data.shape[-1])))\n",
        "model.add(layers.Dense(32, activation='relu'))\n",
        "model.add(layers.Dense(1))\n",
        "\n",
        "model.compile(optimizer=RMSprop(), loss='mae')\n",
        "history = model.fit_generator(train_gen,\n",
        "                              steps_per_epoch=500,\n",
        "                              epochs=20,\n",
        "                              validation_data=val_gen,\n",
        "                              validation_steps=val_steps)"
      ],
      "execution_count": 27,
      "outputs": [
        {
          "output_type": "stream",
          "text": [
            "Epoch 1/20\n",
            "500/500 [==============================] - 12s 24ms/step - loss: 1.4949 - val_loss: 0.9015\n",
            "Epoch 2/20\n",
            "500/500 [==============================] - 11s 22ms/step - loss: 0.4481 - val_loss: 0.2563\n",
            "Epoch 3/20\n",
            "500/500 [==============================] - 11s 23ms/step - loss: 0.2881 - val_loss: 0.2914\n",
            "Epoch 4/20\n",
            "500/500 [==============================] - 11s 22ms/step - loss: 0.2647 - val_loss: 0.2597\n",
            "Epoch 5/20\n",
            "500/500 [==============================] - 11s 22ms/step - loss: 0.2513 - val_loss: 0.2123\n",
            "Epoch 6/20\n",
            "500/500 [==============================] - 11s 22ms/step - loss: 0.2430 - val_loss: 0.2059\n",
            "Epoch 7/20\n",
            "500/500 [==============================] - 11s 22ms/step - loss: 0.2346 - val_loss: 0.2311\n",
            "Epoch 8/20\n",
            "500/500 [==============================] - 11s 22ms/step - loss: 0.2289 - val_loss: 0.2746\n",
            "Epoch 9/20\n",
            "500/500 [==============================] - 11s 23ms/step - loss: 0.2238 - val_loss: 0.2168\n",
            "Epoch 10/20\n",
            "500/500 [==============================] - 11s 23ms/step - loss: 0.2222 - val_loss: 0.2357\n",
            "Epoch 11/20\n",
            "500/500 [==============================] - 11s 22ms/step - loss: 0.2157 - val_loss: 0.2399\n",
            "Epoch 12/20\n",
            "500/500 [==============================] - 11s 22ms/step - loss: 0.2142 - val_loss: 0.2194\n",
            "Epoch 13/20\n",
            "500/500 [==============================] - 11s 22ms/step - loss: 0.2094 - val_loss: 0.2904\n",
            "Epoch 14/20\n",
            "500/500 [==============================] - 11s 22ms/step - loss: 0.2090 - val_loss: 0.2431\n",
            "Epoch 15/20\n",
            "500/500 [==============================] - 11s 22ms/step - loss: 0.2048 - val_loss: 0.2495\n",
            "Epoch 16/20\n",
            "500/500 [==============================] - 11s 22ms/step - loss: 0.2049 - val_loss: 0.1952\n",
            "Epoch 17/20\n",
            "500/500 [==============================] - 11s 23ms/step - loss: 0.2020 - val_loss: 0.1857\n",
            "Epoch 18/20\n",
            "500/500 [==============================] - 11s 23ms/step - loss: 0.1990 - val_loss: 0.1969\n",
            "Epoch 19/20\n",
            "500/500 [==============================] - 11s 22ms/step - loss: 0.1990 - val_loss: 0.2143\n",
            "Epoch 20/20\n",
            "500/500 [==============================] - 11s 22ms/step - loss: 0.1970 - val_loss: 0.2024\n"
          ],
          "name": "stdout"
        }
      ]
    },
    {
      "cell_type": "markdown",
      "metadata": {
        "collapsed": true,
        "id": "a2PybVOjwu7D",
        "colab_type": "text"
      },
      "source": [
        "### 繪製結果"
      ]
    },
    {
      "cell_type": "code",
      "metadata": {
        "id": "RPTT45Inwu7D",
        "colab_type": "code",
        "colab": {
          "base_uri": "https://localhost:8080/",
          "height": 280
        },
        "outputId": "0a7f255f-7ba8-4cec-a4fd-c314aac651e6"
      },
      "source": [
        "import matplotlib.pyplot as plt\n",
        "\n",
        "loss = history.history['loss']\n",
        "val_loss = history.history['val_loss']\n",
        "\n",
        "epochs = range(1, len(loss) + 1)\n",
        "\n",
        "plt.figure()\n",
        "\n",
        "plt.plot(epochs, loss, 'bo', label='Training loss')\n",
        "plt.plot(epochs, val_loss, 'b', label='Validation loss')\n",
        "plt.title('Training and validation loss')\n",
        "plt.legend()\n",
        "\n",
        "plt.show()"
      ],
      "execution_count": 29,
      "outputs": [
        {
          "output_type": "display_data",
          "data": {
            "image/png": "[encoded data removed]",
            "text/plain": [
              "<Figure size 432x288 with 1 Axes>"
            ]
          },
          "metadata": {
            "tags": [],
            "needs_background": "light"
          }
        }
      ]
    },
    {
      "cell_type": "markdown",
      "metadata": {
        "collapsed": true,
        "id": "HCcWjSjLwu7F",
        "colab_type": "text"
      },
      "source": [
        "### 訓練和驗證 GRU 模型"
      ]
    },
    {
      "cell_type": "markdown",
      "metadata": {
        "id": "ZMnp4s_hIu01",
        "colab_type": "text"
      },
      "source": [
        "GRU 做了簡化，使得執行成本較 LSTM 低，但模型表示能力較差 (tradeoff)\n"
      ]
    },
    {
      "cell_type": "code",
      "metadata": {
        "id": "Ob7VFqJ5wu7F",
        "colab_type": "code",
        "colab": {}
      },
      "source": [
        "from keras.models import Sequential\n",
        "from keras import layers\n",
        "from keras.optimizers import RMSprop\n",
        "\n",
        "model = Sequential()\n",
        "model.add(layers.GRU(32, input_shape=(None, float_data.shape[-1])))\n",
        "model.add(layers.Dense(1))\n",
        "\n",
        "model.compile(optimizer=RMSprop(), loss='mae')\n",
        "history = model.fit_generator(train_gen,\n",
        "                              steps_per_epoch=500,\n",
        "                              epochs=20,\n",
        "                              validation_data=val_gen,\n",
        "                              validation_steps=val_steps)\n"
      ],
      "execution_count": null,
      "outputs": []
    },
    {
      "cell_type": "markdown",
      "metadata": {
        "id": "ktJvVvzSwu7G",
        "colab_type": "text"
      },
      "source": [
        "### 訓練和驗證使用丟棄法常規化的 GRU 模型"
      ]
    },
    {
      "cell_type": "markdown",
      "metadata": {
        "id": "7geEfUwpLXVW",
        "colab_type": "text"
      },
      "source": [
        "recurrent_dropout: same dropout mask across all time points."
      ]
    },
    {
      "cell_type": "code",
      "metadata": {
        "id": "4jxrPXJzwu7H",
        "colab_type": "code",
        "colab": {}
      },
      "source": [
        "from keras.models import Sequential\n",
        "from keras import layers\n",
        "from keras.optimizers import RMSprop\n",
        "\n",
        "model = Sequential()\n",
        "model.add(layers.GRU(32,\n",
        "                     dropout=0.2,\n",
        "                     recurrent_dropout=0.01,\n",
        "                     input_shape=(None, float_data.shape[-1])))\n",
        "\n",
        "model.add(layers.Dense(1))\n",
        "\n",
        "model.compile(optimizer=RMSprop(), loss='mae')\n",
        "history = model.fit_generator(train_gen,\n",
        "                              steps_per_epoch=500,\n",
        "                              epochs=40,\n",
        "                              validation_data=val_gen,\n",
        "                              validation_steps=val_steps)\n"
      ],
      "execution_count": null,
      "outputs": []
    },
    {
      "cell_type": "markdown",
      "metadata": {
        "id": "IggRzSUqwu7I",
        "colab_type": "text"
      },
      "source": [
        "### 訓練和驗證一個使用丟棄法的堆疊 GRU 模型 (增加容量)"
      ]
    },
    {
      "cell_type": "code",
      "metadata": {
        "id": "toEThaMjwu7I",
        "colab_type": "code",
        "colab": {}
      },
      "source": [
        "from keras.models import Sequential\n",
        "from keras import layers\n",
        "from keras.optimizers import RMSprop\n",
        "\n",
        "model = Sequential()\n",
        "model.add(layers.GRU(32,\n",
        "                     dropout=0.1,\n",
        "                     #recurrent_dropout=0.5,\n",
        "                     return_sequences=True,\n",
        "                     input_shape=(None, float_data.shape[-1])))\n",
        "\n",
        "model.add(layers.GRU(64, activation='relu', # by default, activation='tanh'\n",
        "                     #recurrent_dropout=0.5,\n",
        "                     dropout=0.1))\n",
        "\n",
        "model.add(layers.Dense(1))\n",
        "\n",
        "model.compile(optimizer=RMSprop(), loss='mae')\n",
        "history = model.fit_generator(train_gen,\n",
        "                              steps_per_epoch=500,\n",
        "                              epochs=40,\n",
        "                              validation_data=val_gen,\n",
        "                              validation_steps=val_steps)\n"
      ],
      "execution_count": null,
      "outputs": []
    },
    {
      "cell_type": "markdown",
      "metadata": {
        "id": "wI1Bz5dywu7K",
        "colab_type": "text"
      },
      "source": [
        "### 使用反向序列資料訓練和驗證 LSTM"
      ]
    },
    {
      "cell_type": "code",
      "metadata": {
        "id": "y98s4jlYwu7K",
        "colab_type": "code",
        "colab": {}
      },
      "source": [
        "from keras.datasets import imdb\n",
        "from keras.preprocessing import sequence\n",
        "from keras import layers\n",
        "\n",
        "from keras.models import Sequential\n",
        "\n",
        "max_features = 10000  # ←考慮作為特徵的文字數量\n",
        "maxlen = 500  #← 只看每篇評論的前 500 個字\n",
        "\n",
        "(x_train, y_train), (x_test, y_test) = imdb.load_data(num_words=max_features)  # ←載入資料\n",
        "\n",
        "\n",
        "x_train = [x[::-1] for x in x_train]    # ←將訓練資料進行反向順序排列\n",
        "x_test = [x[::-1] for x in x_test]      # ←將測試資料進行反向順序排列\n",
        "\n",
        "x_train = sequence.pad_sequences(x_train, maxlen=maxlen)  # ←填補序列資料\n",
        "x_test = sequence.pad_sequences(x_test, maxlen=maxlen)\n",
        "\n",
        "model = Sequential()\n",
        "model.add(layers.Embedding(max_features, 128))\n",
        "model.add(layers.LSTM(32))\n",
        "model.add(layers.Dense(1, activation='sigmoid'))\n",
        "\n",
        "model.compile(optimizer='rmsprop',\n",
        "              loss='binary_crossentropy',\n",
        "              metrics=['acc'])\n",
        "\n",
        "history = model.fit(x_train, y_train,\n",
        "                    epochs=10,\n",
        "                    batch_size=128,\n",
        "                    validation_split=0.2)\n"
      ],
      "execution_count": null,
      "outputs": []
    },
    {
      "cell_type": "markdown",
      "metadata": {
        "id": "4XW5UpO0Nh2M",
        "colab_type": "text"
      },
      "source": [
        "Obtain nearly the same effect as non-reversed LSTM. Therefore, the sequence of words is important for \"understanding\", but not for \"using\" them."
      ]
    },
    {
      "cell_type": "markdown",
      "metadata": {
        "id": "V9tdjZa3wu7L",
        "colab_type": "text"
      },
      "source": [
        "### 訓練和驗證雙向 LSTM"
      ]
    },
    {
      "cell_type": "markdown",
      "metadata": {
        "id": "1guzuLx5OY7r",
        "colab_type": "text"
      },
      "source": [
        "The bidirectional layer will create another recurrent unit (same as the one you provide), handling reversed version of the input sequences. Finally, concate two results."
      ]
    },
    {
      "cell_type": "code",
      "metadata": {
        "id": "9BYfERlzwu7L",
        "colab_type": "code",
        "colab": {}
      },
      "source": [
        "model = Sequential()\n",
        "model.add(layers.Embedding(max_features, 32))\n",
        "model.add(layers.Bidirectional(layers.LSTM(32))) # output shape: (None, 64)\n",
        "model.add(layers.Dense(1, activation='sigmoid'))\n",
        "\n",
        "model.summary()\n",
        "\n",
        "model.compile(optimizer='rmsprop', loss='binary_crossentropy', metrics=['acc'])\n",
        "history = model.fit(x_train, y_train,\n",
        "                    epochs=10,\n",
        "                    batch_size=128,\n",
        "                    validation_split=0.2)\n",
        "\n"
      ],
      "execution_count": null,
      "outputs": []
    },
    {
      "cell_type": "markdown",
      "metadata": {
        "id": "onFbkmw6wu7M",
        "colab_type": "text"
      },
      "source": [
        "### 訓練雙向 GRU 進行溫度預測任務"
      ]
    },
    {
      "cell_type": "code",
      "metadata": {
        "id": "krLiQa6owu7M",
        "colab_type": "code",
        "colab": {}
      },
      "source": [
        "from keras.models import Sequential\n",
        "from keras import layers\n",
        "from keras.optimizers import RMSprop\n",
        "\n",
        "model = Sequential()\n",
        "model.add(layers.Bidirectional(layers.GRU(32), \n",
        "                               input_shape=(None, float_data.shape[-1])))\n",
        "model.add(layers.Dense(1))\n",
        "\n",
        "model.compile(optimizer=RMSprop(), loss='mae')\n",
        "history = model.fit_generator(train_gen,\n",
        "                              steps_per_epoch=500,\n",
        "                              epochs=40,\n",
        "                              validation_data=val_gen,\n",
        "                              validation_steps=val_steps)\n"
      ],
      "execution_count": null,
      "outputs": []
    },
    {
      "cell_type": "markdown",
      "metadata": {
        "id": "2XbO-AXJPYuJ",
        "colab_type": "text"
      },
      "source": [
        "The result is similar to the typical GRU. This is because all good predictions are from the GRU of the normal time sequence."
      ]
    },
    {
      "cell_type": "markdown",
      "metadata": {
        "collapsed": true,
        "id": "FlgZTBQFwu7N",
        "colab_type": "text"
      },
      "source": [
        "### 準備 IMDB 資料"
      ]
    },
    {
      "cell_type": "code",
      "metadata": {
        "id": "y6VokNmBwu7O",
        "colab_type": "code",
        "colab": {
          "base_uri": "https://localhost:8080/",
          "height": 148
        },
        "outputId": "acde8086-1cc9-4298-bfe9-8ad06b79d70b"
      },
      "source": [
        "from keras.datasets import imdb\n",
        "from keras.preprocessing import sequence\n",
        "\n",
        "max_features = 10000\n",
        "max_len = 500\n",
        "\n",
        "print('Loading data...')\n",
        "(x_train, y_train), (x_test, y_test) = imdb.load_data(num_words=max_features)\n",
        "print(len(x_train), 'train sequences')\n",
        "print(len(x_test), 'test sequences')\n",
        "\n",
        "print('Pad sequences (samples x time)')\n",
        "x_train = sequence.pad_sequences(x_train, maxlen=max_len)\n",
        "x_test = sequence.pad_sequences(x_test, maxlen=max_len)\n",
        "print('x_train shape:', x_train.shape)\n",
        "print('x_test shape:', x_test.shape)"
      ],
      "execution_count": 4,
      "outputs": [
        {
          "output_type": "stream",
          "text": [
            "Loading data...\n",
            "Downloading data from https://s3.amazonaws.com/text-datasets/imdb.npz\n",
            "17465344/17464789 [==============================] - 1s 0us/step\n",
            "25000 train sequences\n",
            "25000 test sequences\n",
            "Pad sequences (samples x time)\n",
            "x_train shape: (25000, 500)\n",
            "x_test shape: (25000, 500)\n"
          ],
          "name": "stdout"
        }
      ]
    },
    {
      "cell_type": "markdown",
      "metadata": {
        "collapsed": true,
        "id": "Ve3KymeCwu7P",
        "colab_type": "text"
      },
      "source": [
        "### 以 IMDB 資料訓練和驗證簡單的 1D 卷積神經網路"
      ]
    },
    {
      "cell_type": "markdown",
      "metadata": {
        "id": "GVz8D8yB_AhM",
        "colab_type": "text"
      },
      "source": [
        "Convolutional layer 相較 RNN 有更便宜的計算成本。因其具有平移不變性，當全域資料沒有先後順序時 (通常為為文字資料) 可作為 RNN 的快速替代方案。相反的，當全域序列的前與後很重要 (如時間序列)，則最好使用循環神經網路。"
      ]
    },
    {
      "cell_type": "code",
      "metadata": {
        "id": "2ImUCSZ6wu7P",
        "colab_type": "code",
        "colab": {
          "base_uri": "https://localhost:8080/",
          "height": 744
        },
        "outputId": "22526268-52e9-4ffc-d906-0f0c066bac75"
      },
      "source": [
        "from keras.models import Sequential\n",
        "from keras import layers\n",
        "from keras.optimizers import RMSprop\n",
        "\n",
        "model = Sequential()\n",
        "model.add(layers.Embedding(max_features, 128, input_length=max_len)) # should specify input_length\n",
        "model.add(layers.Conv1D(32, kernel_size=7, activation='relu')) # 32 filters\n",
        "model.add(layers.MaxPooling1D(5))\n",
        "model.add(layers.Conv1D(32, 7, activation='relu'))\n",
        "model.add(layers.GlobalMaxPooling1D()) # 對張量第一軸取最大值\n",
        "model.add(layers.Dense(1))\n",
        "\n",
        "model.summary()\n",
        "\n",
        "model.compile(optimizer=RMSprop(lr=1e-4),\n",
        "              loss='binary_crossentropy',\n",
        "              metrics=['acc'])\n",
        "\n",
        "history = model.fit(x_train, y_train,\n",
        "                    epochs=10,\n",
        "                    batch_size=128,\n",
        "                    validation_split=0.2)\n"
      ],
      "execution_count": 5,
      "outputs": [
        {
          "output_type": "stream",
          "text": [
            "Model: \"sequential_2\"\n",
            "_________________________________________________________________\n",
            "Layer (type)                 Output Shape              Param #   \n",
            "=================================================================\n",
            "embedding_1 (Embedding)      (None, 500, 128)          1280000   \n",
            "_________________________________________________________________\n",
            "conv1d_1 (Conv1D)            (None, 494, 32)           28704     \n",
            "_________________________________________________________________\n",
            "max_pooling1d_1 (MaxPooling1 (None, 98, 32)            0         \n",
            "_________________________________________________________________\n",
            "conv1d_2 (Conv1D)            (None, 92, 32)            7200      \n",
            "_________________________________________________________________\n",
            "global_max_pooling1d_1 (Glob (None, 32)                0         \n",
            "_________________________________________________________________\n",
            "dense_1 (Dense)              (None, 1)                 33        \n",
            "=================================================================\n",
            "Total params: 1,315,937\n",
            "Trainable params: 1,315,937\n",
            "Non-trainable params: 0\n",
            "_________________________________________________________________\n"
          ],
          "name": "stdout"
        },
        {
          "output_type": "stream",
          "text": [
            "/usr/local/lib/python3.6/dist-packages/tensorflow/python/framework/indexed_slices.py:434: UserWarning: Converting sparse IndexedSlices to a dense Tensor of unknown shape. This may consume a large amount of memory.\n",
            "  \"Converting sparse IndexedSlices to a dense Tensor of unknown shape. \"\n"
          ],
          "name": "stderr"
        },
        {
          "output_type": "stream",
          "text": [
            "Train on 20000 samples, validate on 5000 samples\n",
            "Epoch 1/10\n",
            "20000/20000 [==============================] - 9s 430us/step - loss: 0.7838 - acc: 0.5153 - val_loss: 0.6851 - val_acc: 0.5624\n",
            "Epoch 2/10\n",
            "20000/20000 [==============================] - 1s 70us/step - loss: 0.6673 - acc: 0.6687 - val_loss: 0.6651 - val_acc: 0.6614\n",
            "Epoch 3/10\n",
            "20000/20000 [==============================] - 1s 71us/step - loss: 0.6266 - acc: 0.7590 - val_loss: 0.6183 - val_acc: 0.7420\n",
            "Epoch 4/10\n",
            "20000/20000 [==============================] - 1s 69us/step - loss: 0.5452 - acc: 0.8086 - val_loss: 0.5204 - val_acc: 0.7950\n",
            "Epoch 5/10\n",
            "20000/20000 [==============================] - 1s 71us/step - loss: 0.4254 - acc: 0.8447 - val_loss: 0.4285 - val_acc: 0.8360\n",
            "Epoch 6/10\n",
            "20000/20000 [==============================] - 1s 71us/step - loss: 0.3475 - acc: 0.8626 - val_loss: 0.4240 - val_acc: 0.8310\n",
            "Epoch 7/10\n",
            "20000/20000 [==============================] - 1s 71us/step - loss: 0.3042 - acc: 0.8665 - val_loss: 0.4061 - val_acc: 0.8330\n",
            "Epoch 8/10\n",
            "20000/20000 [==============================] - 1s 70us/step - loss: 0.2689 - acc: 0.8605 - val_loss: 0.4120 - val_acc: 0.8170\n",
            "Epoch 9/10\n",
            "20000/20000 [==============================] - 1s 70us/step - loss: 0.2415 - acc: 0.8411 - val_loss: 0.4249 - val_acc: 0.7902\n",
            "Epoch 10/10\n",
            "20000/20000 [==============================] - 1s 70us/step - loss: 0.2186 - acc: 0.8120 - val_loss: 0.4348 - val_acc: 0.7686\n"
          ],
          "name": "stdout"
        }
      ]
    },
    {
      "cell_type": "markdown",
      "metadata": {
        "collapsed": true,
        "id": "bl04LQVXwu7Q",
        "colab_type": "text"
      },
      "source": [
        "### 以耶拿資料訓練和驗證一個簡單的 1D 卷積神經網路"
      ]
    },
    {
      "cell_type": "markdown",
      "metadata": {
        "id": "3kH0tQRI_emk",
        "colab_type": "text"
      },
      "source": [
        "Since 1D Convolutional layer handles input independently in each sliding window, it is not sensitive to those data outside the current window. In order that 1D Conv sees longer patterns, we can stack many conv and pooling layers so that upper layers can see longer patterns in initial inputs."
      ]
    },
    {
      "cell_type": "code",
      "metadata": {
        "id": "9hJE6bCfwu7Q",
        "colab_type": "code",
        "colab": {
          "base_uri": "https://localhost:8080/",
          "height": 675
        },
        "outputId": "05f6bdd1-7356-4f94-97cf-d6f7c678912f"
      },
      "source": [
        "from keras.models import Sequential\n",
        "from keras import layers\n",
        "from keras.optimizers import RMSprop\n",
        "\n",
        "model = Sequential()\n",
        "model.add(layers.Conv1D(32, 5, activation='relu',\n",
        "                        input_shape=(None, float_data.shape[-1])))\n",
        "model.add(layers.MaxPooling1D(3))\n",
        "model.add(layers.Conv1D(32, 5, activation='relu'))\n",
        "model.add(layers.MaxPooling1D(3))\n",
        "model.add(layers.Conv1D(32, 5, activation='relu'))\n",
        "model.add(layers.GlobalMaxPooling1D())\n",
        "model.add(layers.Dense(1))\n",
        "\n",
        "model.compile(optimizer=RMSprop(), loss='mae')\n",
        "\n",
        "history = model.fit_generator(train_gen,\n",
        "                              steps_per_epoch=500,\n",
        "                              epochs=20,\n",
        "                              validation_data=val_gen,\n",
        "                              validation_steps=val_steps)\n"
      ],
      "execution_count": 36,
      "outputs": [
        {
          "output_type": "stream",
          "text": [
            "Epoch 1/20\n",
            "500/500 [==============================] - 12s 24ms/step - loss: 0.4197 - val_loss: 0.3394\n",
            "Epoch 2/20\n",
            "500/500 [==============================] - 12s 24ms/step - loss: 0.3633 - val_loss: 0.3258\n",
            "Epoch 3/20\n",
            "500/500 [==============================] - 12s 24ms/step - loss: 0.3404 - val_loss: 0.2114\n",
            "Epoch 4/20\n",
            "500/500 [==============================] - 12s 24ms/step - loss: 0.3283 - val_loss: 0.2101\n",
            "Epoch 5/20\n",
            "500/500 [==============================] - 12s 23ms/step - loss: 0.3121 - val_loss: 0.2068\n",
            "Epoch 6/20\n",
            "500/500 [==============================] - 12s 24ms/step - loss: 0.3023 - val_loss: 0.2348\n",
            "Epoch 7/20\n",
            "500/500 [==============================] - 12s 23ms/step - loss: 0.2939 - val_loss: 0.3074\n",
            "Epoch 8/20\n",
            "500/500 [==============================] - 12s 24ms/step - loss: 0.2883 - val_loss: 0.2332\n",
            "Epoch 9/20\n",
            "500/500 [==============================] - 12s 23ms/step - loss: 0.2809 - val_loss: 0.2398\n",
            "Epoch 10/20\n",
            "500/500 [==============================] - 12s 24ms/step - loss: 0.2758 - val_loss: 0.2219\n",
            "Epoch 11/20\n",
            "500/500 [==============================] - 12s 24ms/step - loss: 0.2699 - val_loss: 0.3345\n",
            "Epoch 12/20\n",
            "500/500 [==============================] - 12s 23ms/step - loss: 0.2665 - val_loss: 0.2085\n",
            "Epoch 13/20\n",
            "500/500 [==============================] - 12s 23ms/step - loss: 0.2623 - val_loss: 0.2336\n",
            "Epoch 14/20\n",
            "500/500 [==============================] - 12s 24ms/step - loss: 0.2577 - val_loss: 0.2394\n",
            "Epoch 15/20\n",
            "500/500 [==============================] - 12s 23ms/step - loss: 0.2544 - val_loss: 0.2299\n",
            "Epoch 16/20\n",
            "500/500 [==============================] - 12s 23ms/step - loss: 0.2505 - val_loss: 0.2132\n",
            "Epoch 17/20\n",
            "500/500 [==============================] - 12s 24ms/step - loss: 0.2481 - val_loss: 0.2514\n",
            "Epoch 18/20\n",
            "500/500 [==============================] - 12s 24ms/step - loss: 0.2449 - val_loss: 0.2683\n",
            "Epoch 19/20\n",
            "500/500 [==============================] - 12s 23ms/step - loss: 0.2436 - val_loss: 0.2473\n",
            "Epoch 20/20\n",
            "500/500 [==============================] - 12s 23ms/step - loss: 0.2412 - val_loss: 0.2625\n"
          ],
          "name": "stdout"
        }
      ]
    },
    {
      "cell_type": "code",
      "metadata": {
        "id": "55s5s-kozPAH",
        "colab_type": "code",
        "colab": {
          "base_uri": "https://localhost:8080/",
          "height": 280
        },
        "outputId": "9b7bd058-0dad-402e-a8ea-4180bfcddbfe"
      },
      "source": [
        "import matplotlib.pyplot as plt\n",
        "\n",
        "loss = history.history['loss']\n",
        "val_loss = history.history['val_loss']\n",
        "\n",
        "epochs = range(1, len(loss) + 1)\n",
        "\n",
        "plt.figure()\n",
        "\n",
        "plt.plot(epochs, loss, 'bo', label='Training loss')\n",
        "plt.plot(epochs, val_loss, 'b', label='Validation loss')\n",
        "plt.title('Training and validation loss')\n",
        "plt.legend()\n",
        "\n",
        "plt.show()"
      ],
      "execution_count": 38,
      "outputs": [
        {
          "output_type": "display_data",
          "data": {
            "image/png": "[encoded data removed]",
            "text/plain": [
              "<Figure size 432x288 with 1 Axes>"
            ]
          },
          "metadata": {
            "tags": [],
            "needs_background": "light"
          }
        }
      ]
    },
    {
      "cell_type": "markdown",
      "metadata": {
        "id": "Qj-AfpqKI5El",
        "colab_type": "text"
      },
      "source": [
        "However, conv layers inspect patterns without knowing its location (at the beginning or end). This may make no sense for time sequences."
      ]
    },
    {
      "cell_type": "markdown",
      "metadata": {
        "id": "O4CuZ55Hwu7R",
        "colab_type": "text"
      },
      "source": [
        "### 為耶拿數據集準備高解析率的資料產生器"
      ]
    },
    {
      "cell_type": "code",
      "metadata": {
        "id": "Ho86pnQCwu7S",
        "colab_type": "code",
        "colab": {}
      },
      "source": [
        "step = 3  # 先前設定為 6(每小時 1 個時間點), 現在設定為 3(每 30 分鐘 1 個時間點)\n",
        "lookback = 720\n",
        "delay = 144\n",
        "train_gen = generator(float_data,\n",
        "                      lookback=lookback,\n",
        "                      delay=delay,\n",
        "                      min_index=0,\n",
        "                      max_index=200000,\n",
        "                      shuffle=True,\n",
        "                      step=step)\n",
        "\n",
        "val_gen = generator(float_data,\n",
        "                    lookback=lookback,\n",
        "                    delay=delay,\n",
        "                    min_index=200001,\n",
        "                    max_index=300000,\n",
        "                    step=step)\n",
        "\n",
        "test_gen = generator(float_data,\n",
        "                     lookback=lookback,\n",
        "                     delay=delay,\n",
        "                     min_index=300001,\n",
        "                     max_index=None,\n",
        "                     step=step)\n",
        "\n",
        "val_steps = (300000 - 200001 - lookback) // 128\n",
        "test_steps = (len(float_data) - 300001 - lookback) // 128\n"
      ],
      "execution_count": 59,
      "outputs": []
    },
    {
      "cell_type": "markdown",
      "metadata": {
        "id": "ameuEbG6wu7V",
        "colab_type": "text"
      },
      "source": [
        "### 結合 1D 卷積層和 GRU 層的模型"
      ]
    },
    {
      "cell_type": "markdown",
      "metadata": {
        "id": "hWlemP5eDZvn",
        "colab_type": "text"
      },
      "source": [
        "Use 1D convolutional layers to preprocess the data and feed to RNN. CNN plays a role in converting long sequences into shorter feature vectors. Then RNN takes these as its input. \n",
        "\n",
        "Now, we combine CNN with RNN: preprocess patterns quickly using CNN and learn patterns recursively using sensitive RNN."
      ]
    },
    {
      "cell_type": "code",
      "metadata": {
        "id": "YcJ-RKoIwu7V",
        "colab_type": "code",
        "colab": {
          "base_uri": "https://localhost:8080/",
          "height": 312
        },
        "outputId": "0e326e87-55bc-485d-cc79-f138d073433d"
      },
      "source": [
        "from keras.models import Sequential\n",
        "from keras import layers\n",
        "from keras.optimizers import RMSprop\n",
        "\n",
        "model = Sequential()\n",
        "model.add(layers.Conv1D(32, 5, activation='relu',\n",
        "                        input_shape=(None, float_data.shape[-1])))\n",
        "model.add(layers.MaxPooling1D(3))\n",
        "model.add(layers.Conv1D(32, 5, activation='relu'))\n",
        "model.add(layers.GRU(32,\n",
        "                     #recurrent_dropout=0.5,\n",
        "                     dropout=0.1))\n",
        "model.add(layers.Dense(1))\n",
        "\n",
        "model.summary()\n",
        "\n",
        "model.compile(optimizer=RMSprop(), loss='mae')"
      ],
      "execution_count": 62,
      "outputs": [
        {
          "output_type": "stream",
          "text": [
            "Model: \"sequential_33\"\n",
            "_________________________________________________________________\n",
            "Layer (type)                 Output Shape              Param #   \n",
            "=================================================================\n",
            "conv1d_18 (Conv1D)           (None, None, 32)          2272      \n",
            "_________________________________________________________________\n",
            "max_pooling1d_11 (MaxPooling (None, None, 32)          0         \n",
            "_________________________________________________________________\n",
            "conv1d_19 (Conv1D)           (None, None, 32)          5152      \n",
            "_________________________________________________________________\n",
            "gru_29 (GRU)                 (None, 32)                6240      \n",
            "_________________________________________________________________\n",
            "dense_35 (Dense)             (None, 1)                 33        \n",
            "=================================================================\n",
            "Total params: 13,697\n",
            "Trainable params: 13,697\n",
            "Non-trainable params: 0\n",
            "_________________________________________________________________\n"
          ],
          "name": "stdout"
        }
      ]
    }
  ]
}