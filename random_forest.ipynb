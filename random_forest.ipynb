{
  "nbformat": 4,
  "nbformat_minor": 0,
  "metadata": {
    "colab": {
      "name": "random_forest.ipynb",
      "version": "0.3.2",
      "provenance": [],
      "include_colab_link": true
    },
    "kernelspec": {
      "name": "python3",
      "display_name": "Python 3"
    }
  },
  "cells": [
    {
      "cell_type": "markdown",
      "metadata": {
        "id": "view-in-github",
        "colab_type": "text"
      },
      "source": [
        "<a href=\"https://colab.research.google.com/github/minghsu0107/ML/blob/master/random_forest.ipynb\" target=\"_parent\"><img src=\"https://colab.research.google.com/assets/colab-badge.svg\" alt=\"Open In Colab\"/></a>"
      ]
    },
    {
      "cell_type": "code",
      "metadata": {
        "id": "Yz7zIIV6-C4j",
        "colab_type": "code",
        "colab": {
          "base_uri": "https://localhost:8080/",
          "height": 124
        },
        "outputId": "1afc85ca-6ce7-497f-aa14-f50a952c084c"
      },
      "source": [
        "from sklearn import datasets\n",
        "from sklearn.model_selection import train_test_split\n",
        "from sklearn.tree import DecisionTreeClassifier\n",
        "from sklearn.ensemble import RandomForestClassifier\n",
        "\n",
        "wine_data = datasets.load_wine()\n",
        "print(wine_data.data.shape)\n",
        "print('特徵名稱:', wine_data.feature_names)\n",
        "print('類別名稱:', wine_data.target_names)\n",
        "\n",
        "train_feature, test_feature, train_target, test_target = train_test_split(\n",
        "        wine_data.data, wine_data.target,test_size=0.3\n",
        "        )\n",
        "\n",
        "'''\n",
        "tree = DecisionTreeClassifier(criterion='gini', \n",
        "\t\t\t\t\t\t\t  splitter='best', \n",
        "\t\t\t\t\t\t\t  max_depth=None, \n",
        "\t\t\t\t\t\t\t  min_samples_split=2, \n",
        "\t\t\t\t\t\t\t  min_samples_leaf=1, \n",
        "\t\t\t\t\t\t\t  min_weight_fraction_leaf=0.0, \n",
        "\t\t\t\t\t\t\t  max_features=None, \n",
        "\t\t\t\t\t\t\t  random_state=None, \n",
        "\t\t\t\t\t\t\t  max_leaf_nodes=None, \n",
        "\t\t\t\t\t\t\t  min_impurity_decrease=0.0, \n",
        "\t\t\t\t\t\t\t  min_impurity_split=None, \n",
        "\t\t\t\t\t\t\t  class_weight=None, \n",
        "\t\t\t\t\t\t\t  presort=False)\n",
        "'''\n",
        "tree = DecisionTreeClassifier(criterion='entropy', \n",
        "\t\t\t\t\t\t\t  max_depth=4) #←限制決策樹的深度為 4 層, 避免樹生長過大\n",
        "tree.fit(train_feature, train_target)\n",
        "\n",
        "'''\n",
        "forest = RandomForestClassifier(criterion='entropy', \n",
        "\t                            n_estimators=10, \n",
        "\t                            max_depth=4,\n",
        "\t\t\t\t\t\t\t    min_samples_split=2, \n",
        "\t\t\t\t\t\t\t    min_samples_leaf=1, \n",
        "\t\t\t\t\t\t\t    min_weight_fraction_leaf=0.0, \n",
        "\t\t\t\t\t\t\t    max_features=None, \n",
        "\t\t\t\t\t\t\t    random_state=None, \n",
        "\t\t\t\t\t\t\t    max_leaf_nodes=None, \n",
        "\t\t\t\t\t\t\t    min_impurity_decrease=0.0, \n",
        "\t\t\t\t\t\t\t    min_impurity_split=None, \n",
        "\t\t\t\t\t\t\t    class_weight=None, \n",
        "\t\t\t\t\t\t\t    )\n",
        "'''\n",
        "forest = RandomForestClassifier(criterion='entropy', \n",
        "\t\t\t\t\t\t\t\tn_estimators=10,\n",
        "\t\t\t\t\t\t\t\tmax_depth=4)\n",
        "forest.fit(train_feature, train_target)\n",
        "\n",
        "accuracy_tree = tree.score(test_feature,test_target)\n",
        "accuracy_forest = forest.score(test_feature,test_target)\n",
        "\n",
        "print('決策樹的準確率:', accuracy_tree)\n",
        "print('隨機森林的準確率:', accuracy_forest)\n",
        "\n"
      ],
      "execution_count": 1,
      "outputs": [
        {
          "output_type": "stream",
          "text": [
            "(178, 13)\n",
            "特徵名稱: ['alcohol', 'malic_acid', 'ash', 'alcalinity_of_ash', 'magnesium', 'total_phenols', 'flavanoids', 'nonflavanoid_phenols', 'proanthocyanins', 'color_intensity', 'hue', 'od280/od315_of_diluted_wines', 'proline']\n",
            "類別名稱: ['class_0' 'class_1' 'class_2']\n",
            "決策樹的準確率: 0.9444444444444444\n",
            "隨機森林的準確率: 0.9814814814814815\n"
          ],
          "name": "stdout"
        }
      ]
    },
    {
      "cell_type": "code",
      "metadata": {
        "id": "4plvAjLR-QX3",
        "colab_type": "code",
        "colab": {}
      },
      "source": [
        ""
      ],
      "execution_count": 0,
      "outputs": []
    }
  ]
}