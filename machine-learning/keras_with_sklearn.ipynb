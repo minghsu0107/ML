{
  "nbformat": 4,
  "nbformat_minor": 0,
  "metadata": {
    "colab": {
      "name": "keras_with_sklearn.ipynb",
      "version": "0.3.2",
      "provenance": [],
      "collapsed_sections": [
        "BjUKM-LmDg9R",
        "IunNzVIaDZuQ",
        "KwLy6ZyUHSXG"
      ],
      "include_colab_link": true
    },
    "kernelspec": {
      "name": "python3",
      "display_name": "Python 3"
    },
    "accelerator": "GPU"
  },
  "cells": [
    {
      "cell_type": "markdown",
      "metadata": {
        "id": "view-in-github",
        "colab_type": "text"
      },
      "source": [
        "<a href=\"https://colab.research.google.com/github/minghsu0107/ML/blob/master/machine-learning/keras_with_sklearn.ipynb\" target=\"_parent\"><img src=\"https://colab.research.google.com/assets/colab-badge.svg\" alt=\"Open In Colab\"/></a>"
      ]
    },
    {
      "cell_type": "markdown",
      "metadata": {
        "id": "BjUKM-LmDg9R",
        "colab_type": "text"
      },
      "source": [
        "## Keras with Cross Validation"
      ]
    },
    {
      "cell_type": "code",
      "metadata": {
        "id": "uHJfsbnm3Pmi",
        "colab_type": "code",
        "colab": {}
      },
      "source": [
        "import tensorflow\n",
        "import keras\n",
        " \n",
        "from keras.models import Sequential\n",
        "from keras.layers import Dense\n",
        "import numpy as np\n",
        "from sklearn.model_selection import cross_val_score\n",
        "from sklearn.model_selection import StratifiedKFold\n",
        "from keras.wrappers.scikit_learn import KerasClassifier\n",
        " \n",
        "#構建模型\n",
        "def create_model():\n",
        "    #構建模型\n",
        "    model = Sequential()\n",
        "    model.add(Dense(input_dim=8,units=12,activation='relu'))\n",
        "    model.add(Dense(units=8,activation='relu'))\n",
        "    model.add(Dense(units=1,activation='sigmoid'))\n",
        "    \n",
        "    #編譯模型\n",
        "    model.compile(loss='binary_crossentropy',optimizer='adam',metrics=['accuracy'])\n",
        "    return model\n",
        " \n",
        "seed = 7\n",
        "#設定隨機數種子\n",
        "np.random.seed(seed)"
      ],
      "execution_count": 0,
      "outputs": []
    },
    {
      "cell_type": "code",
      "metadata": {
        "id": "0pEJZfQL5AL2",
        "colab_type": "code",
        "colab": {
          "base_uri": "https://localhost:8080/",
          "height": 142
        },
        "outputId": "3f81c7fc-6eba-44c1-b2d1-8a7dd8163640"
      },
      "source": [
        "url = \"https://raw.githubusercontent.com/jbrownlee/Datasets/master/pima-indians-diabetes.data.csv\"\n",
        "names = ['preg', 'plas', 'pres', 'skin', 'test', 'mass', 'pedi', 'age', 'class']\n",
        "dataframe = pd.read_csv(url, names=names)\n",
        "array = dataframe.values\n",
        "X = array[:,0:8]\n",
        "Y = array[:,8]\n",
        "dataframe.head(3)"
      ],
      "execution_count": 27,
      "outputs": [
        {
          "output_type": "execute_result",
          "data": {
            "text/html": [
              "<div>\n",
              "<style scoped>\n",
              "    .dataframe tbody tr th:only-of-type {\n",
              "        vertical-align: middle;\n",
              "    }\n",
              "\n",
              "    .dataframe tbody tr th {\n",
              "        vertical-align: top;\n",
              "    }\n",
              "\n",
              "    .dataframe thead th {\n",
              "        text-align: right;\n",
              "    }\n",
              "</style>\n",
              "<table border=\"1\" class=\"dataframe\">\n",
              "  <thead>\n",
              "    <tr style=\"text-align: right;\">\n",
              "      <th></th>\n",
              "      <th>preg</th>\n",
              "      <th>plas</th>\n",
              "      <th>pres</th>\n",
              "      <th>skin</th>\n",
              "      <th>test</th>\n",
              "      <th>mass</th>\n",
              "      <th>pedi</th>\n",
              "      <th>age</th>\n",
              "      <th>class</th>\n",
              "    </tr>\n",
              "  </thead>\n",
              "  <tbody>\n",
              "    <tr>\n",
              "      <th>0</th>\n",
              "      <td>6</td>\n",
              "      <td>148</td>\n",
              "      <td>72</td>\n",
              "      <td>35</td>\n",
              "      <td>0</td>\n",
              "      <td>33.6</td>\n",
              "      <td>0.627</td>\n",
              "      <td>50</td>\n",
              "      <td>1</td>\n",
              "    </tr>\n",
              "    <tr>\n",
              "      <th>1</th>\n",
              "      <td>1</td>\n",
              "      <td>85</td>\n",
              "      <td>66</td>\n",
              "      <td>29</td>\n",
              "      <td>0</td>\n",
              "      <td>26.6</td>\n",
              "      <td>0.351</td>\n",
              "      <td>31</td>\n",
              "      <td>0</td>\n",
              "    </tr>\n",
              "    <tr>\n",
              "      <th>2</th>\n",
              "      <td>8</td>\n",
              "      <td>183</td>\n",
              "      <td>64</td>\n",
              "      <td>0</td>\n",
              "      <td>0</td>\n",
              "      <td>23.3</td>\n",
              "      <td>0.672</td>\n",
              "      <td>32</td>\n",
              "      <td>1</td>\n",
              "    </tr>\n",
              "  </tbody>\n",
              "</table>\n",
              "</div>"
            ],
            "text/plain": [
              "   preg  plas  pres  skin  test  mass   pedi  age  class\n",
              "0     6   148    72    35     0  33.6  0.627   50      1\n",
              "1     1    85    66    29     0  26.6  0.351   31      0\n",
              "2     8   183    64     0     0  23.3  0.672   32      1"
            ]
          },
          "metadata": {
            "tags": []
          },
          "execution_count": 27
        }
      ]
    },
    {
      "cell_type": "code",
      "metadata": {
        "id": "a0MOSBKB_Tf-",
        "colab_type": "code",
        "colab": {
          "base_uri": "https://localhost:8080/",
          "height": 34
        },
        "outputId": "755554ac-5ed2-4a01-e6af-69a30f37fdc9"
      },
      "source": [
        "#建立模型\n",
        "model = KerasClassifier(build_fn=create_model, epochs=150, batch_size=10, verbose=0)\n",
        " \n",
        "#10折交叉驗證\n",
        "kfold = StratifiedKFold(n_splits=2, shuffle=True, random_state=seed)\n",
        "results = cross_val_score(model, X, Y, cv=kfold)\n",
        "print(results.mean())"
      ],
      "execution_count": 30,
      "outputs": [
        {
          "output_type": "stream",
          "text": [
            "0.7135416691501935\n"
          ],
          "name": "stdout"
        }
      ]
    },
    {
      "cell_type": "markdown",
      "metadata": {
        "id": "IunNzVIaDZuQ",
        "colab_type": "text"
      },
      "source": [
        "## Keras with GridSearch"
      ]
    },
    {
      "cell_type": "code",
      "metadata": {
        "id": "axdDAwTJC2Tm",
        "colab_type": "code",
        "colab": {}
      },
      "source": [
        "import tensorflow\n",
        "import keras\n",
        " \n",
        "from keras.models import Sequential\n",
        "from keras.layers import Dense\n",
        "import numpy as np\n",
        "from sklearn.model_selection import GridSearchCV\n",
        "from keras.wrappers.scikit_learn import KerasClassifier\n",
        " \n",
        "#構建模型\n",
        "def create_model(optimizer='adam',init='glorot_uniform'):\n",
        "    #構建模型\n",
        "    model = Sequential()\n",
        "    model.add(Dense(input_dim=8,units=12,kernel_initializer=init,activation='relu'))\n",
        "    model.add(Dense(units=8,kernel_initializer=init,activation='relu'))\n",
        "    model.add(Dense(units=1,kernel_initializer=init,activation='sigmoid'))\n",
        "    \n",
        "    #編譯模型\n",
        "    model.compile(loss='binary_crossentropy',optimizer=optimizer,metrics=['accuracy'])\n",
        "    \n",
        "    return model"
      ],
      "execution_count": 0,
      "outputs": []
    },
    {
      "cell_type": "code",
      "metadata": {
        "id": "-IdWdU-vDLdm",
        "colab_type": "code",
        "colab": {}
      },
      "source": [
        "model = KerasClassifier(build_fn=create_model,verbose=0)"
      ],
      "execution_count": 0,
      "outputs": []
    },
    {
      "cell_type": "code",
      "metadata": {
        "id": "t6Vh_1T-DrtZ",
        "colab_type": "code",
        "colab": {}
      },
      "source": [
        "#構建需要調參的引數\n",
        "param_grid = {}\n",
        "param_grid['optimizer'] = ['rmsprop','adam']\n",
        "param_grid['init'] = ['glorot_uniform','normal','uniform']\n",
        "param_grid['epochs'] = [1,2,4]\n",
        "param_grid['batch_size'] = [5,10]"
      ],
      "execution_count": 0,
      "outputs": []
    },
    {
      "cell_type": "code",
      "metadata": {
        "id": "--0AWCreD_42",
        "colab_type": "code",
        "colab": {
          "base_uri": "https://localhost:8080/",
          "height": 131
        },
        "outputId": "b0cd5426-9a3b-4385-ff55-acc40a754e24"
      },
      "source": [
        "grid = GridSearchCV(estimator=model,param_grid=param_grid)\n",
        "results = grid.fit(X,Y)"
      ],
      "execution_count": 40,
      "outputs": [
        {
          "output_type": "stream",
          "text": [
            "/usr/local/lib/python3.6/dist-packages/sklearn/model_selection/_split.py:1978: FutureWarning: The default value of cv will change from 3 to 5 in version 0.22. Specify it explicitly to silence this warning.\n",
            "  warnings.warn(CV_WARNING, FutureWarning)\n"
          ],
          "name": "stderr"
        }
      ]
    },
    {
      "cell_type": "code",
      "metadata": {
        "id": "iS402XbFEFbg",
        "colab_type": "code",
        "colab": {
          "base_uri": "https://localhost:8080/",
          "height": 646
        },
        "outputId": "d0e6f2f3-f007-4cb2-bbb4-fc9a19846e80"
      },
      "source": [
        "print('Best:%f using %s' %(results.best_score_,results.best_params_))\n",
        " \n",
        "means = results.cv_results_['mean_test_score']\n",
        "stds = results.cv_results_['std_test_score']\n",
        "params = results.cv_results_['params']\n",
        "\n",
        "for mean,std,param in zip(means,stds,params):\n",
        "    print('%f (%f) with: %r' %(mean,std,param))"
      ],
      "execution_count": 42,
      "outputs": [
        {
          "output_type": "stream",
          "text": [
            "Best:0.671875 using {'batch_size': 5, 'epochs': 4, 'init': 'normal', 'optimizer': 'adam'}\n",
            "0.427083 (0.134575) with: {'batch_size': 5, 'epochs': 1, 'init': 'glorot_uniform', 'optimizer': 'rmsprop'}\n",
            "0.614583 (0.075767) with: {'batch_size': 5, 'epochs': 1, 'init': 'glorot_uniform', 'optimizer': 'adam'}\n",
            "0.651042 (0.024774) with: {'batch_size': 5, 'epochs': 1, 'init': 'normal', 'optimizer': 'rmsprop'}\n",
            "0.649740 (0.026557) with: {'batch_size': 5, 'epochs': 1, 'init': 'normal', 'optimizer': 'adam'}\n",
            "0.651042 (0.024774) with: {'batch_size': 5, 'epochs': 1, 'init': 'uniform', 'optimizer': 'rmsprop'}\n",
            "0.651042 (0.024774) with: {'batch_size': 5, 'epochs': 1, 'init': 'uniform', 'optimizer': 'adam'}\n",
            "0.549479 (0.031948) with: {'batch_size': 5, 'epochs': 2, 'init': 'glorot_uniform', 'optimizer': 'rmsprop'}\n",
            "0.572917 (0.086429) with: {'batch_size': 5, 'epochs': 2, 'init': 'glorot_uniform', 'optimizer': 'adam'}\n",
            "0.651042 (0.024774) with: {'batch_size': 5, 'epochs': 2, 'init': 'normal', 'optimizer': 'rmsprop'}\n",
            "0.652344 (0.026107) with: {'batch_size': 5, 'epochs': 2, 'init': 'normal', 'optimizer': 'adam'}\n",
            "0.651042 (0.024774) with: {'batch_size': 5, 'epochs': 2, 'init': 'uniform', 'optimizer': 'rmsprop'}\n",
            "0.651042 (0.024774) with: {'batch_size': 5, 'epochs': 2, 'init': 'uniform', 'optimizer': 'adam'}\n",
            "0.639323 (0.067079) with: {'batch_size': 5, 'epochs': 4, 'init': 'glorot_uniform', 'optimizer': 'rmsprop'}\n",
            "0.619792 (0.051953) with: {'batch_size': 5, 'epochs': 4, 'init': 'glorot_uniform', 'optimizer': 'adam'}\n",
            "0.652344 (0.031412) with: {'batch_size': 5, 'epochs': 4, 'init': 'normal', 'optimizer': 'rmsprop'}\n",
            "0.671875 (0.008438) with: {'batch_size': 5, 'epochs': 4, 'init': 'normal', 'optimizer': 'adam'}\n",
            "0.638021 (0.017566) with: {'batch_size': 5, 'epochs': 4, 'init': 'uniform', 'optimizer': 'rmsprop'}\n",
            "0.649740 (0.023510) with: {'batch_size': 5, 'epochs': 4, 'init': 'uniform', 'optimizer': 'adam'}\n",
            "0.552083 (0.060627) with: {'batch_size': 10, 'epochs': 1, 'init': 'glorot_uniform', 'optimizer': 'rmsprop'}\n",
            "0.507813 (0.119636) with: {'batch_size': 10, 'epochs': 1, 'init': 'glorot_uniform', 'optimizer': 'adam'}\n",
            "0.651042 (0.024774) with: {'batch_size': 10, 'epochs': 1, 'init': 'normal', 'optimizer': 'rmsprop'}\n",
            "0.651042 (0.024774) with: {'batch_size': 10, 'epochs': 1, 'init': 'normal', 'optimizer': 'adam'}\n",
            "0.651042 (0.024774) with: {'batch_size': 10, 'epochs': 1, 'init': 'uniform', 'optimizer': 'rmsprop'}\n",
            "0.651042 (0.024774) with: {'batch_size': 10, 'epochs': 1, 'init': 'uniform', 'optimizer': 'adam'}\n",
            "0.658854 (0.030978) with: {'batch_size': 10, 'epochs': 2, 'init': 'glorot_uniform', 'optimizer': 'rmsprop'}\n",
            "0.579427 (0.069974) with: {'batch_size': 10, 'epochs': 2, 'init': 'glorot_uniform', 'optimizer': 'adam'}\n",
            "0.651042 (0.024774) with: {'batch_size': 10, 'epochs': 2, 'init': 'normal', 'optimizer': 'rmsprop'}\n",
            "0.652344 (0.026107) with: {'batch_size': 10, 'epochs': 2, 'init': 'normal', 'optimizer': 'adam'}\n",
            "0.651042 (0.024774) with: {'batch_size': 10, 'epochs': 2, 'init': 'uniform', 'optimizer': 'rmsprop'}\n",
            "0.651042 (0.024774) with: {'batch_size': 10, 'epochs': 2, 'init': 'uniform', 'optimizer': 'adam'}\n",
            "0.600260 (0.018688) with: {'batch_size': 10, 'epochs': 4, 'init': 'glorot_uniform', 'optimizer': 'rmsprop'}\n",
            "0.625000 (0.045999) with: {'batch_size': 10, 'epochs': 4, 'init': 'glorot_uniform', 'optimizer': 'adam'}\n",
            "0.639323 (0.021236) with: {'batch_size': 10, 'epochs': 4, 'init': 'normal', 'optimizer': 'rmsprop'}\n",
            "0.656250 (0.024080) with: {'batch_size': 10, 'epochs': 4, 'init': 'normal', 'optimizer': 'adam'}\n",
            "0.651042 (0.024774) with: {'batch_size': 10, 'epochs': 4, 'init': 'uniform', 'optimizer': 'rmsprop'}\n",
            "0.653646 (0.023510) with: {'batch_size': 10, 'epochs': 4, 'init': 'uniform', 'optimizer': 'adam'}\n"
          ],
          "name": "stdout"
        }
      ]
    },
    {
      "cell_type": "markdown",
      "metadata": {
        "id": "KwLy6ZyUHSXG",
        "colab_type": "text"
      },
      "source": [
        "## Keras with Pipeline"
      ]
    },
    {
      "cell_type": "code",
      "metadata": {
        "id": "4Mj59vaVHVEM",
        "colab_type": "code",
        "colab": {
          "base_uri": "https://localhost:8080/",
          "height": 196
        },
        "outputId": "205dd0c2-8130-4ecd-987d-5006663d943e"
      },
      "source": [
        "from sklearn.pipeline import Pipeline\n",
        "from keras.layers import Dropout\n",
        "from keras.wrappers.scikit_learn import KerasRegressor\n",
        "# create a function that returns a model, taking as parameters things you\n",
        "# want to verify using cross-valdiation and model selection\n",
        "def create_model(optimizer='adagrad',\n",
        "                 kernel_initializer='glorot_uniform', \n",
        "                 dropout=0.2):\n",
        "    model = Sequential()\n",
        "    model.add(Dense(64,activation='relu',kernel_initializer=kernel_initializer))\n",
        "    model.add(Dropout(dropout))\n",
        "    model.add(Dense(1,activation='sigmoid',kernel_initializer=kernel_initializer))\n",
        "\n",
        "    model.compile(loss='binary_crossentropy',optimizer=optimizer, metrics=['accuracy'])\n",
        "\n",
        "    return model\n",
        "\n",
        "# wrap the model using the function you created\n",
        "clf = KerasRegressor(build_fn=create_model,verbose=0)\n",
        "\n",
        "# just create the pipeline\n",
        "pipeline = Pipeline([\n",
        "    ('clf',clf)\n",
        "])\n",
        "\n",
        "pipeline.fit(X, Y)"
      ],
      "execution_count": 47,
      "outputs": [
        {
          "output_type": "stream",
          "text": [
            "W0811 01:32:01.753675 140342718801792 deprecation.py:506] From /usr/local/lib/python3.6/dist-packages/keras/backend/tensorflow_backend.py:3445: calling dropout (from tensorflow.python.ops.nn_ops) with keep_prob is deprecated and will be removed in a future version.\n",
            "Instructions for updating:\n",
            "Please use `rate` instead of `keep_prob`. Rate should be set to `rate = 1 - keep_prob`.\n"
          ],
          "name": "stderr"
        },
        {
          "output_type": "execute_result",
          "data": {
            "text/plain": [
              "Pipeline(memory=None,\n",
              "         steps=[('clf',\n",
              "                 <keras.wrappers.scikit_learn.KerasRegressor object at 0x7fa33ec51b00>)],\n",
              "         verbose=False)"
            ]
          },
          "metadata": {
            "tags": []
          },
          "execution_count": 47
        }
      ]
    },
    {
      "cell_type": "code",
      "metadata": {
        "id": "f9tr2sVGT1PO",
        "colab_type": "code",
        "colab": {}
      },
      "source": [
        ""
      ],
      "execution_count": 0,
      "outputs": []
    }
  ]
}