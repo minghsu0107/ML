{
  "nbformat": 4,
  "nbformat_minor": 0,
  "metadata": {
    "colab": {
      "name": "novelty_detection_and_knn.ipynb",
      "provenance": [],
      "include_colab_link": true
    },
    "kernelspec": {
      "name": "python3",
      "display_name": "Python 3"
    },
    "accelerator": "GPU"
  },
  "cells": [
    {
      "cell_type": "markdown",
      "metadata": {
        "id": "view-in-github",
        "colab_type": "text"
      },
      "source": [
        "<a href=\"https://colab.research.google.com/github/minghsu0107/ML/blob/master/machine-learning/novelty_detection_and_knn.ipynb\" target=\"_parent\"><img src=\"https://colab.research.google.com/assets/colab-badge.svg\" alt=\"Open In Colab\"/></a>"
      ]
    },
    {
      "cell_type": "markdown",
      "metadata": {
        "id": "mf9E5Smyme1T",
        "colab_type": "text"
      },
      "source": [
        "## One Class SVM"
      ]
    },
    {
      "cell_type": "code",
      "metadata": {
        "id": "o56j9InBiGwq",
        "colab_type": "code",
        "outputId": "824ade00-ece7-4902-a27a-49e02e95c8fe",
        "colab": {
          "base_uri": "https://localhost:8080/",
          "height": 65
        }
      },
      "source": [
        "from sklearn.svm import OneClassSVM\n",
        "X = [[0], [0.44], [0.45], [0.46], [0.47], [1], [10], [20]]\n",
        "clf = OneClassSVM(kernel='rbf', degree=3, gamma='auto', \n",
        "                  coef0=0.0, tol=0.001, nu=0.5, shrinking=True, \n",
        "                  cache_size=200, verbose=False, max_iter=-1, random_state=None)\n",
        "clf.fit(X)"
      ],
      "execution_count": 2,
      "outputs": [
        {
          "output_type": "execute_result",
          "data": {
            "text/plain": [
              "OneClassSVM(cache_size=200, coef0=0.0, degree=3, gamma='auto', kernel='rbf',\n",
              "            max_iter=-1, nu=0.5, random_state=None, shrinking=True, tol=0.001,\n",
              "            verbose=False)"
            ]
          },
          "metadata": {
            "tags": []
          },
          "execution_count": 2
        }
      ]
    },
    {
      "cell_type": "code",
      "metadata": {
        "id": "DoTveJh6i9Ac",
        "colab_type": "code",
        "outputId": "39c416d3-b6d9-42c1-f796-176bece8b58d",
        "colab": {
          "base_uri": "https://localhost:8080/",
          "height": 32
        }
      },
      "source": [
        "clf.predict(X)"
      ],
      "execution_count": 3,
      "outputs": [
        {
          "output_type": "execute_result",
          "data": {
            "text/plain": [
              "array([-1,  1,  1,  1,  1, -1, -1, -1])"
            ]
          },
          "metadata": {
            "tags": []
          },
          "execution_count": 3
        }
      ]
    },
    {
      "cell_type": "code",
      "metadata": {
        "id": "TlGeZlOYjCEY",
        "colab_type": "code",
        "outputId": "994fae52-87dc-413a-d7bb-81db4a5f5dc6",
        "colab": {
          "base_uri": "https://localhost:8080/",
          "height": 32
        }
      },
      "source": [
        "clf.fit_predict(X)"
      ],
      "execution_count": 4,
      "outputs": [
        {
          "output_type": "execute_result",
          "data": {
            "text/plain": [
              "array([-1,  1,  1,  1,  1, -1, -1, -1])"
            ]
          },
          "metadata": {
            "tags": []
          },
          "execution_count": 4
        }
      ]
    },
    {
      "cell_type": "code",
      "metadata": {
        "id": "UbYc77GojAsb",
        "colab_type": "code",
        "outputId": "657ca05f-9d01-4e74-979c-848676badc7b",
        "colab": {
          "base_uri": "https://localhost:8080/",
          "height": 49
        }
      },
      "source": [
        "clf.score_samples(X)"
      ],
      "execution_count": 5,
      "outputs": [
        {
          "output_type": "execute_result",
          "data": {
            "text/plain": [
              "array([1.36787944, 1.55479873, 1.55565497, 1.55635565, 1.5569007 ,\n",
              "       1.36787944, 1.        , 1.        ])"
            ]
          },
          "metadata": {
            "tags": []
          },
          "execution_count": 5
        }
      ]
    },
    {
      "cell_type": "code",
      "metadata": {
        "id": "wffDNYvNl0x0",
        "colab_type": "code",
        "outputId": "408e5fb1-4349-4efd-9e26-8e2d47de685d",
        "colab": {
          "base_uri": "https://localhost:8080/",
          "height": 49
        }
      },
      "source": [
        "clf.decision_function(X)"
      ],
      "execution_count": 0,
      "outputs": [
        {
          "output_type": "execute_result",
          "data": {
            "text/plain": [
              "array([-2.74925564e-01,  5.28455635e-09,  8.06251090e-04,  1.35696904e-03,\n",
              "       -3.21513634e-01])"
            ]
          },
          "metadata": {
            "tags": []
          },
          "execution_count": 13
        }
      ]
    },
    {
      "cell_type": "markdown",
      "metadata": {
        "id": "0zOBwmResHjR",
        "colab_type": "text"
      },
      "source": [
        "## Isolation Forest"
      ]
    },
    {
      "cell_type": "code",
      "metadata": {
        "id": "aaArFEdfsMUz",
        "colab_type": "code",
        "colab": {
          "base_uri": "https://localhost:8080/",
          "height": 151
        },
        "outputId": "c2c74030-01be-488c-f3ea-1f520f81dbf6"
      },
      "source": [
        "from sklearn.ensemble import IsolationForest\n",
        "clf = IsolationForest(n_estimators=3)\n",
        "X = [[0], [0.44], [0.45], [0.46], [0.47], [1], [10], [20]]\n",
        "clf.fit(X)"
      ],
      "execution_count": 24,
      "outputs": [
        {
          "output_type": "stream",
          "text": [
            "/usr/local/lib/python3.6/dist-packages/sklearn/ensemble/iforest.py:237: FutureWarning: default contamination parameter 0.1 will change in version 0.22 to \"auto\". This will change the predict method behavior.\n",
            "  FutureWarning)\n",
            "/usr/local/lib/python3.6/dist-packages/sklearn/ensemble/iforest.py:247: FutureWarning: behaviour=\"old\" is deprecated and will be removed in version 0.22. Please use behaviour=\"new\", which makes the decision_function change to match other anomaly detection algorithm API.\n",
            "  FutureWarning)\n"
          ],
          "name": "stderr"
        },
        {
          "output_type": "execute_result",
          "data": {
            "text/plain": [
              "IsolationForest(behaviour='old', bootstrap=False, contamination='legacy',\n",
              "                max_features=1.0, max_samples='auto', n_estimators=3,\n",
              "                n_jobs=None, random_state=None, verbose=0, warm_start=False)"
            ]
          },
          "metadata": {
            "tags": []
          },
          "execution_count": 24
        }
      ]
    },
    {
      "cell_type": "code",
      "metadata": {
        "id": "59yOzvLSu-L8",
        "colab_type": "code",
        "colab": {
          "base_uri": "https://localhost:8080/",
          "height": 65
        },
        "outputId": "f520c4ec-cb65-45b9-e006-e944bf9e21a8"
      },
      "source": [
        "clf.predict(X)"
      ],
      "execution_count": 25,
      "outputs": [
        {
          "output_type": "stream",
          "text": [
            "/usr/local/lib/python3.6/dist-packages/sklearn/ensemble/iforest.py:415: DeprecationWarning: threshold_ attribute is deprecated in 0.20 and will be removed in 0.22.\n",
            "  \" be removed in 0.22.\", DeprecationWarning)\n"
          ],
          "name": "stderr"
        },
        {
          "output_type": "execute_result",
          "data": {
            "text/plain": [
              "array([ 1,  1,  1,  1,  1,  1,  1, -1])"
            ]
          },
          "metadata": {
            "tags": []
          },
          "execution_count": 25
        }
      ]
    },
    {
      "cell_type": "code",
      "metadata": {
        "id": "EbCgZYT1vLzS",
        "colab_type": "code",
        "colab": {
          "base_uri": "https://localhost:8080/",
          "height": 151
        },
        "outputId": "21e0c713-b4b3-4ef2-e173-fd617e7613be"
      },
      "source": [
        "clf.fit_predict(X)"
      ],
      "execution_count": 26,
      "outputs": [
        {
          "output_type": "stream",
          "text": [
            "/usr/local/lib/python3.6/dist-packages/sklearn/ensemble/iforest.py:237: FutureWarning: default contamination parameter 0.1 will change in version 0.22 to \"auto\". This will change the predict method behavior.\n",
            "  FutureWarning)\n",
            "/usr/local/lib/python3.6/dist-packages/sklearn/ensemble/iforest.py:247: FutureWarning: behaviour=\"old\" is deprecated and will be removed in version 0.22. Please use behaviour=\"new\", which makes the decision_function change to match other anomaly detection algorithm API.\n",
            "  FutureWarning)\n",
            "/usr/local/lib/python3.6/dist-packages/sklearn/ensemble/iforest.py:415: DeprecationWarning: threshold_ attribute is deprecated in 0.20 and will be removed in 0.22.\n",
            "  \" be removed in 0.22.\", DeprecationWarning)\n"
          ],
          "name": "stderr"
        },
        {
          "output_type": "execute_result",
          "data": {
            "text/plain": [
              "array([ 1,  1,  1,  1,  1,  1,  1, -1])"
            ]
          },
          "metadata": {
            "tags": []
          },
          "execution_count": 26
        }
      ]
    },
    {
      "cell_type": "code",
      "metadata": {
        "id": "I_c-xSYivPzR",
        "colab_type": "code",
        "colab": {
          "base_uri": "https://localhost:8080/",
          "height": 49
        },
        "outputId": "778148d5-c32f-4c5f-cd46-2c12a1cfb4ad"
      },
      "source": [
        "clf.score_samples(X)"
      ],
      "execution_count": 27,
      "outputs": [
        {
          "output_type": "execute_result",
          "data": {
            "text/plain": [
              "array([-0.45205038, -0.3372726 , -0.3372726 , -0.3372726 , -0.3372726 ,\n",
              "       -0.48487355, -0.65667444, -0.75549815])"
            ]
          },
          "metadata": {
            "tags": []
          },
          "execution_count": 27
        }
      ]
    },
    {
      "cell_type": "code",
      "metadata": {
        "id": "zKfZuf6WvdHH",
        "colab_type": "code",
        "colab": {
          "base_uri": "https://localhost:8080/",
          "height": 49
        },
        "outputId": "a200ccc5-da20-4080-ce96-71ae3ed84436"
      },
      "source": [
        "clf.decision_function(X)"
      ],
      "execution_count": 28,
      "outputs": [
        {
          "output_type": "execute_result",
          "data": {
            "text/plain": [
              "array([ 0.04794962,  0.1627274 ,  0.1627274 ,  0.1627274 ,  0.1627274 ,\n",
              "        0.01512645, -0.15667444, -0.25549815])"
            ]
          },
          "metadata": {
            "tags": []
          },
          "execution_count": 28
        }
      ]
    },
    {
      "cell_type": "markdown",
      "metadata": {
        "id": "jrhkA2SU6TTz",
        "colab_type": "text"
      },
      "source": [
        "## KNN"
      ]
    },
    {
      "cell_type": "code",
      "metadata": {
        "id": "9uVsoo3I7Ie2",
        "colab_type": "code",
        "outputId": "9aec2fe7-baf7-4486-eaf4-7de128ac4714",
        "colab": {
          "base_uri": "https://localhost:8080/",
          "height": 32
        }
      },
      "source": [
        "import numpy as np\n",
        "from sklearn.datasets import make_classification\n",
        "X, y = make_classification(10000)\n",
        "X.shape, y.shape"
      ],
      "execution_count": 30,
      "outputs": [
        {
          "output_type": "execute_result",
          "data": {
            "text/plain": [
              "((10000, 20), (10000,))"
            ]
          },
          "metadata": {
            "tags": []
          },
          "execution_count": 30
        }
      ]
    },
    {
      "cell_type": "code",
      "metadata": {
        "id": "sUzMu1N888ni",
        "colab_type": "code",
        "outputId": "092df005-8f23-450e-f0cd-dba8dd37f501",
        "colab": {
          "base_uri": "https://localhost:8080/",
          "height": 263
        }
      },
      "source": [
        "from sklearn.neighbors import KNeighborsClassifier\n",
        "clf = KNeighborsClassifier(algorithm='brute', \n",
        "                           metric='mahalanobis', \n",
        "                           metric_params={'V': np.cov(X)})\n",
        "clf.fit(X, y)"
      ],
      "execution_count": 31,
      "outputs": [
        {
          "output_type": "execute_result",
          "data": {
            "text/plain": [
              "KNeighborsClassifier(algorithm='brute', leaf_size=30, metric='mahalanobis',\n",
              "                     metric_params={'V': array([[ 1.45531483, -0.55200882, -0.42197689, ..., -0.29499374,\n",
              "        -0.07983611,  0.59815703],\n",
              "       [-0.55200882,  0.81993122, -0.16053144, ...,  0.24977534,\n",
              "        -0.08559313, -0.20511078],\n",
              "       [-0.42197689, -0.16053144,  1.12939036, ...,  0.19225978,\n",
              "        -0.04673029, -0.18924043],\n",
              "       ...,\n",
              "       [-0.29499374,  0.24977534,  0.19225978, ...,  1.18757176,\n",
              "        -0.28620764, -0.15804128],\n",
              "       [-0.07983611, -0.08559313, -0.04673029, ..., -0.28620764,\n",
              "         1.29589855, -0.18338022],\n",
              "       [ 0.59815703, -0.20511078, -0.18924043, ..., -0.15804128,\n",
              "        -0.18338022,  1.00379554]])},\n",
              "                     n_jobs=None, n_neighbors=5, p=2, weights='uniform')"
            ]
          },
          "metadata": {
            "tags": []
          },
          "execution_count": 31
        }
      ]
    },
    {
      "cell_type": "code",
      "metadata": {
        "id": "NdCZrR7k_cWa",
        "colab_type": "code",
        "colab": {}
      },
      "source": [
        "import time\n",
        "\n",
        "def clock(func):\n",
        "    def clocked(*args):\n",
        "        t0 = time.perf_counter()\n",
        "        result = func(*args)\n",
        "        elapsed = time.perf_counter() - t0\n",
        "        name = func.__name__\n",
        "        arg_str = ', '.join(repr(arg) for arg in args)\n",
        "        print('[%0.8fs] %s(%s) -> %r' % (elapsed, name, arg_str, result))\n",
        "        return result\n",
        "    return clocked"
      ],
      "execution_count": 0,
      "outputs": []
    },
    {
      "cell_type": "code",
      "metadata": {
        "id": "aViM-kyh9SMw",
        "colab_type": "code",
        "colab": {}
      },
      "source": [
        "@clock\n",
        "def run():\n",
        "    clf.kneighbors(X[2:, :])"
      ],
      "execution_count": 0,
      "outputs": []
    },
    {
      "cell_type": "code",
      "metadata": {
        "id": "DzZbn-pw9yjH",
        "colab_type": "code",
        "outputId": "1b6725da-6598-45b9-c4e0-bb01e4d99800",
        "colab": {
          "base_uri": "https://localhost:8080/",
          "height": 32
        }
      },
      "source": [
        "run()"
      ],
      "execution_count": 0,
      "outputs": [
        {
          "output_type": "stream",
          "text": [
            "[23.22153067s] run() -> None\n"
          ],
          "name": "stdout"
        }
      ]
    },
    {
      "cell_type": "code",
      "metadata": {
        "id": "Du9s6MrgBF4i",
        "colab_type": "code",
        "outputId": "b392b8c8-54ab-41b5-afbf-056e0d8dc658",
        "colab": {
          "base_uri": "https://localhost:8080/",
          "height": 65
        }
      },
      "source": [
        "clf2 = KNeighborsClassifier(algorithm='ball_tree')\n",
        "clf2.fit(X, y)"
      ],
      "execution_count": 34,
      "outputs": [
        {
          "output_type": "execute_result",
          "data": {
            "text/plain": [
              "KNeighborsClassifier(algorithm='ball_tree', leaf_size=30, metric='minkowski',\n",
              "                     metric_params=None, n_jobs=None, n_neighbors=5, p=2,\n",
              "                     weights='uniform')"
            ]
          },
          "metadata": {
            "tags": []
          },
          "execution_count": 34
        }
      ]
    },
    {
      "cell_type": "code",
      "metadata": {
        "id": "0kVAmh8FBMFn",
        "colab_type": "code",
        "colab": {}
      },
      "source": [
        "@clock\n",
        "def run2():\n",
        "    clf2.kneighbors(X[2:, :])\n",
        "    \n",
        "@clock\n",
        "def predict():\n",
        "    print(clf2.predict(X))"
      ],
      "execution_count": 0,
      "outputs": []
    },
    {
      "cell_type": "code",
      "metadata": {
        "id": "hOb25G-OBahK",
        "colab_type": "code",
        "outputId": "9338af9d-a64c-4f3e-f5c9-bc6c7cc44eb4",
        "colab": {
          "base_uri": "https://localhost:8080/",
          "height": 32
        }
      },
      "source": [
        "run2()"
      ],
      "execution_count": 36,
      "outputs": [
        {
          "output_type": "stream",
          "text": [
            "[4.18227913s] run2() -> None\n"
          ],
          "name": "stdout"
        }
      ]
    },
    {
      "cell_type": "code",
      "metadata": {
        "id": "br7qeEJ-Bg-Y",
        "colab_type": "code",
        "outputId": "c7144e00-ab90-4051-e409-05184a6d3d41",
        "colab": {
          "base_uri": "https://localhost:8080/",
          "height": 49
        }
      },
      "source": [
        "predict()"
      ],
      "execution_count": 37,
      "outputs": [
        {
          "output_type": "stream",
          "text": [
            "[0 1 1 ... 1 0 0]\n",
            "[4.47854818s] predict() -> None\n"
          ],
          "name": "stdout"
        }
      ]
    },
    {
      "cell_type": "code",
      "metadata": {
        "id": "562E5_wFI9UJ",
        "colab_type": "code",
        "colab": {
          "base_uri": "https://localhost:8080/",
          "height": 32
        },
        "outputId": "66231830-8765-4052-d1f7-b0bbebaf98c7"
      },
      "source": [
        "from sklearn.model_selection import cross_val_score\n",
        "scores = cross_val_score(clf2, X, y,cv=5)\n",
        "print(\"Accuracy: %0.2f (+/- %0.2f)\" % (scores.mean(), scores.std() * 2))"
      ],
      "execution_count": 38,
      "outputs": [
        {
          "output_type": "stream",
          "text": [
            "Accuracy: 0.93 (+/- 0.01)\n"
          ],
          "name": "stdout"
        }
      ]
    },
    {
      "cell_type": "markdown",
      "metadata": {
        "id": "3wbPH2fMCI9F",
        "colab_type": "text"
      },
      "source": [
        "## Local Outlier Factor"
      ]
    },
    {
      "cell_type": "code",
      "metadata": {
        "id": "Cj4KqbuZDDlE",
        "colab_type": "code",
        "outputId": "0506a8e3-d881-449a-ed84-752d88a6e589",
        "colab": {
          "base_uri": "https://localhost:8080/",
          "height": 32
        }
      },
      "source": [
        "from sklearn.neighbors import LocalOutlierFactor\n",
        "X = [[0], [0.44], [0.45], [0.46], [0.47], [1], [10], [20]]\n",
        "clf = LocalOutlierFactor(n_neighbors=3, contamination='auto')\n",
        "clf.fit_predict(X)"
      ],
      "execution_count": 6,
      "outputs": [
        {
          "output_type": "execute_result",
          "data": {
            "text/plain": [
              "array([-1,  1,  1,  1,  1, -1, -1, -1])"
            ]
          },
          "metadata": {
            "tags": []
          },
          "execution_count": 6
        }
      ]
    },
    {
      "cell_type": "code",
      "metadata": {
        "id": "xPgcWY3HEGJN",
        "colab_type": "code",
        "outputId": "f9a8d004-55fa-42fa-fe43-693dde3d8b6c",
        "colab": {
          "base_uri": "https://localhost:8080/",
          "height": 263
        }
      },
      "source": [
        "clf.kneighbors(X, return_distance=True)"
      ],
      "execution_count": 8,
      "outputs": [
        {
          "output_type": "execute_result",
          "data": {
            "text/plain": [
              "(array([[0.00e+00, 4.40e-01, 4.50e-01],\n",
              "        [0.00e+00, 1.00e-02, 2.00e-02],\n",
              "        [0.00e+00, 1.00e-02, 1.00e-02],\n",
              "        [0.00e+00, 1.00e-02, 1.00e-02],\n",
              "        [0.00e+00, 1.00e-02, 2.00e-02],\n",
              "        [0.00e+00, 5.30e-01, 5.40e-01],\n",
              "        [0.00e+00, 9.00e+00, 9.53e+00],\n",
              "        [0.00e+00, 1.00e+01, 1.90e+01]]), array([[0, 1, 2],\n",
              "        [1, 2, 3],\n",
              "        [2, 3, 1],\n",
              "        [3, 4, 2],\n",
              "        [4, 3, 2],\n",
              "        [5, 4, 3],\n",
              "        [6, 5, 4],\n",
              "        [7, 6, 5]]))"
            ]
          },
          "metadata": {
            "tags": []
          },
          "execution_count": 8
        }
      ]
    }
  ]
}