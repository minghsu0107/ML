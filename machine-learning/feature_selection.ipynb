{
  "nbformat": 4,
  "nbformat_minor": 0,
  "metadata": {
    "colab": {
      "name": "feature_selection.ipynb",
      "provenance": [],
      "collapsed_sections": [
        "hCZxp1Rght8J",
        "GJQtP-Ljh2aE",
        "uxbjkrbf9xVd",
        "7tlUPAuHeOi3",
        "gZg97JHVtH51",
        "cwEvD9XatNMX",
        "ncpWmzFftR_s",
        "jnhr_T5ctjYe",
        "MXuJIazDtqoZ",
        "h6QuZ1PotxIW"
      ],
      "include_colab_link": true
    },
    "kernelspec": {
      "name": "python3",
      "display_name": "Python 3"
    },
    "accelerator": "GPU"
  },
  "cells": [
    {
      "cell_type": "markdown",
      "metadata": {
        "id": "view-in-github",
        "colab_type": "text"
      },
      "source": [
        "<a href=\"https://colab.research.google.com/github/minghsu0107/ML/blob/master/machine-learning/feature_selection.ipynb\" target=\"_parent\"><img src=\"https://colab.research.google.com/assets/colab-badge.svg\" alt=\"Open In Colab\"/></a>"
      ]
    },
    {
      "cell_type": "markdown",
      "metadata": {
        "id": "6sDXyLNRZWeM",
        "colab_type": "text"
      },
      "source": [
        "## Embedded Method"
      ]
    },
    {
      "cell_type": "markdown",
      "metadata": {
        "id": "hCZxp1Rght8J",
        "colab_type": "text"
      },
      "source": [
        "### Lasso"
      ]
    },
    {
      "cell_type": "code",
      "metadata": {
        "id": "8MvzrgaTVO_7",
        "colab_type": "code",
        "outputId": "d721733b-992b-4704-e8e0-ad8ec9c13c31",
        "colab": {
          "base_uri": "https://localhost:8080/",
          "height": 65
        }
      },
      "source": [
        "from sklearn.datasets import load_boston, load_iris\n",
        "from sklearn import linear_model\n",
        "boston = load_boston()\n",
        "iris = load_iris()\n",
        "\n",
        "clf = linear_model.Lasso(alpha=0.02)\n",
        "clf2 = linear_model.Lasso(alpha=1.0)\n",
        "\n",
        "clf.fit(iris.data, iris.target)\n",
        "clf2.fit(boston.data, boston.target)"
      ],
      "execution_count": 0,
      "outputs": [
        {
          "output_type": "execute_result",
          "data": {
            "text/plain": [
              "Lasso(alpha=1.0, copy_X=True, fit_intercept=True, max_iter=1000,\n",
              "      normalize=False, positive=False, precompute=False, random_state=None,\n",
              "      selection='cyclic', tol=0.0001, warm_start=False)"
            ]
          },
          "metadata": {
            "tags": []
          },
          "execution_count": 129
        }
      ]
    },
    {
      "cell_type": "code",
      "metadata": {
        "id": "J_6EBFSuXCK8",
        "colab_type": "code",
        "outputId": "2ad0bb7b-741c-4eba-8410-df791e2f68bb",
        "colab": {
          "base_uri": "https://localhost:8080/",
          "height": 82
        }
      },
      "source": [
        "print(clf.coef_)\n",
        "print(clf2.coef_)"
      ],
      "execution_count": 0,
      "outputs": [
        {
          "output_type": "stream",
          "text": [
            "[-0.         -0.          0.28753159  0.35223816]\n",
            "[-0.06343729  0.04916467 -0.          0.         -0.          0.9498107\n",
            "  0.02090951 -0.66879     0.26420643 -0.01521159 -0.72296636  0.00824703\n",
            " -0.76111454]\n"
          ],
          "name": "stdout"
        }
      ]
    },
    {
      "cell_type": "code",
      "metadata": {
        "id": "ULJRuMy-ZgAt",
        "colab_type": "code",
        "outputId": "4e16a929-703a-49fe-8f7f-16fd8bce6a43",
        "colab": {
          "base_uri": "https://localhost:8080/",
          "height": 283
        }
      },
      "source": [
        "from sklearn.model_selection import GridSearchCV\n",
        "param = {'alpha':[i / 100 for i in range(20, 160)]}\n",
        "gsearch = GridSearchCV(estimator=linear_model.Lasso(), param_grid=param, scoring='neg_mean_squared_error', cv=5)\n",
        "gsearch.fit(boston.data, boston.target)"
      ],
      "execution_count": 0,
      "outputs": [
        {
          "output_type": "stream",
          "text": [
            "/usr/local/lib/python3.6/dist-packages/sklearn/model_selection/_search.py:814: DeprecationWarning: The default of the `iid` parameter will change from True to False in version 0.22 and will be removed in 0.24. This will change numeric results when test-set sizes are unequal.\n",
            "  DeprecationWarning)\n"
          ],
          "name": "stderr"
        },
        {
          "output_type": "execute_result",
          "data": {
            "text/plain": [
              "GridSearchCV(cv=5, error_score='raise-deprecating',\n",
              "             estimator=Lasso(alpha=1.0, copy_X=True, fit_intercept=True,\n",
              "                             max_iter=1000, normalize=False, positive=False,\n",
              "                             precompute=False, random_state=None,\n",
              "                             selection='cyclic', tol=0.0001, warm_start=False),\n",
              "             iid='warn', n_jobs=None,\n",
              "             param_grid={'alpha': [0.2, 0.21, 0.22, 0.23, 0.24, 0.25, 0.26,\n",
              "                                   0.27, 0.28, 0.29, 0.3, 0.31, 0.32, 0.33,\n",
              "                                   0.34, 0.35, 0.36, 0.37, 0.38, 0.39, 0.4,\n",
              "                                   0.41, 0.42, 0.43, 0.44, 0.45, 0.46, 0.47,\n",
              "                                   0.48, 0.49, ...]},\n",
              "             pre_dispatch='2*n_jobs', refit=True, return_train_score=False,\n",
              "             scoring='neg_mean_squared_error', verbose=0)"
            ]
          },
          "metadata": {
            "tags": []
          },
          "execution_count": 100
        }
      ]
    },
    {
      "cell_type": "code",
      "metadata": {
        "id": "2jnwqssbabfH",
        "colab_type": "code",
        "outputId": "a761da29-ce90-474c-ebd2-97da86b4c170",
        "colab": {
          "base_uri": "https://localhost:8080/",
          "height": 32
        }
      },
      "source": [
        "gsearch.best_params_, gsearch.best_score_"
      ],
      "execution_count": 0,
      "outputs": [
        {
          "output_type": "execute_result",
          "data": {
            "text/plain": [
              "({'alpha': 0.34}, -34.39508574344663)"
            ]
          },
          "metadata": {
            "tags": []
          },
          "execution_count": 101
        }
      ]
    },
    {
      "cell_type": "code",
      "metadata": {
        "id": "pbXYGFmiavUj",
        "colab_type": "code",
        "outputId": "2071a5ea-da7f-46c3-9a66-e47ee0e406e7",
        "colab": {
          "base_uri": "https://localhost:8080/",
          "height": 65
        }
      },
      "source": [
        "clf2_new = linear_model.Lasso()\n",
        "clf2_new.set_params(**gsearch.best_params_)\n",
        "clf2_new.fit(boston.data, boston.target)\n",
        "clf2_new.coef_"
      ],
      "execution_count": 0,
      "outputs": [
        {
          "output_type": "execute_result",
          "data": {
            "text/plain": [
              "array([-0.08982818,  0.04971099, -0.01533312,  0.        , -0.        ,\n",
              "        2.97598975, -0.        , -1.01940561,  0.27992229, -0.01531134,\n",
              "       -0.76934896,  0.00982358, -0.62478315])"
            ]
          },
          "metadata": {
            "tags": []
          },
          "execution_count": 109
        }
      ]
    },
    {
      "cell_type": "code",
      "metadata": {
        "id": "Jp5mz1WMbeEp",
        "colab_type": "code",
        "outputId": "ee4e00cd-b89b-4173-9218-0c9a4d7b5a8f",
        "colab": {
          "base_uri": "https://localhost:8080/",
          "height": 115
        }
      },
      "source": [
        "from sklearn.model_selection import cross_val_score\n",
        "cv_old = cross_val_score(clf2, boston.data, boston.target, cv=10, scoring='neg_mean_squared_error')\n",
        "cv_new = cross_val_score(clf2_new, boston.data, boston.target, cv=10, scoring='neg_mean_squared_error')\n",
        "\n",
        "print(cv_old)\n",
        "print(cv_new)\n",
        "print(\"mean square error: %0.2f\" % (-cv_old.mean()))\n",
        "print(\"mean squere error: %0.2f\" % (-cv_new.mean()))"
      ],
      "execution_count": 0,
      "outputs": [
        {
          "output_type": "stream",
          "text": [
            "[ -11.75904887  -17.87218543  -10.52504673  -60.79224355  -46.77806854\n",
            "  -40.75196077  -17.30562005 -102.67754279  -22.8731834   -13.30594575]\n",
            "[  -9.72852188  -12.98367921   -8.81546149  -44.85618364  -32.16751449\n",
            "  -23.07826919  -11.50192018 -145.81394445  -30.340357    -13.14468566]\n",
            "mean square error: 34.46\n",
            "mean squere error: 33.24\n"
          ],
          "name": "stdout"
        }
      ]
    },
    {
      "cell_type": "code",
      "metadata": {
        "id": "G5fz6yQH1Rkb",
        "colab_type": "code",
        "outputId": "cfdc002b-684f-44f2-bff7-c9a10506ca15",
        "colab": {
          "base_uri": "https://localhost:8080/",
          "height": 98
        }
      },
      "source": [
        "from sklearn.feature_selection import SelectFromModel\n",
        "\n",
        "clf2_new = clf2_new.fit(boston.data, boston.target)\n",
        "model = SelectFromModel(clf2_new, prefit=True)\n",
        "X_new = model.transform(boston.data)\n",
        "print(X_new.shape)\n",
        "print(boston.data[0])\n",
        "print(X_new[0])"
      ],
      "execution_count": 0,
      "outputs": [
        {
          "output_type": "stream",
          "text": [
            "(506, 10)\n",
            "[6.320e-03 1.800e+01 2.310e+00 0.000e+00 5.380e-01 6.575e+00 6.520e+01\n",
            " 4.090e+00 1.000e+00 2.960e+02 1.530e+01 3.969e+02 4.980e+00]\n",
            "[6.320e-03 1.800e+01 2.310e+00 6.575e+00 4.090e+00 1.000e+00 2.960e+02\n",
            " 1.530e+01 3.969e+02 4.980e+00]\n"
          ],
          "name": "stdout"
        }
      ]
    },
    {
      "cell_type": "code",
      "metadata": {
        "id": "-OIHj_BRfhgx",
        "colab_type": "code",
        "outputId": "8921e2ff-7252-4462-db14-396f35e7dc4a",
        "colab": {
          "base_uri": "https://localhost:8080/",
          "height": 98
        }
      },
      "source": [
        "from sklearn.feature_selection import SelectFromModel\n",
        "from sklearn.linear_model import LassoCV\n",
        "\n",
        "clf = LassoCV(eps=0.001, n_alphas=100, alphas=None, fit_intercept=True, normalize=False, \n",
        "              precompute='auto', max_iter=1000, tol=0.0001, copy_X=True, cv=10, \n",
        "              verbose=False, n_jobs=None, positive=False, random_state=None, selection='cyclic')\n",
        "clf.fit(boston.data, boston.target)\n",
        "model = SelectFromModel(clf, prefit=True)\n",
        "X_new = model.transform(boston.data)\n",
        "print(X_new.shape)\n",
        "print(boston.data[0])\n",
        "print(X_new[0])"
      ],
      "execution_count": 0,
      "outputs": [
        {
          "output_type": "stream",
          "text": [
            "(506, 10)\n",
            "[6.320e-03 1.800e+01 2.310e+00 0.000e+00 5.380e-01 6.575e+00 6.520e+01\n",
            " 4.090e+00 1.000e+00 2.960e+02 1.530e+01 3.969e+02 4.980e+00]\n",
            "[6.320e-03 1.800e+01 6.575e+00 6.520e+01 4.090e+00 1.000e+00 2.960e+02\n",
            " 1.530e+01 3.969e+02 4.980e+00]\n"
          ],
          "name": "stdout"
        }
      ]
    },
    {
      "cell_type": "markdown",
      "metadata": {
        "id": "GJQtP-Ljh2aE",
        "colab_type": "text"
      },
      "source": [
        "### Tree"
      ]
    },
    {
      "cell_type": "code",
      "metadata": {
        "id": "6rSRBtvuiAIC",
        "colab_type": "code",
        "outputId": "eca56d7b-23f0-460d-fbf9-494289ca7b36",
        "colab": {
          "base_uri": "https://localhost:8080/",
          "height": 32
        }
      },
      "source": [
        "import numpy as np\n",
        "from sklearn.datasets import load_iris\n",
        "import lightgbm as lgb\n",
        "import pandas as pd\n",
        "import matplotlib.pyplot as plt\n",
        "import seaborn as sns\n",
        "\n",
        "iris = load_iris()\n",
        "clf = lgb.LGBMClassifier()\n",
        "clf.fit(iris.data, iris.target)\n",
        "clf.feature_importances_"
      ],
      "execution_count": 0,
      "outputs": [
        {
          "output_type": "execute_result",
          "data": {
            "text/plain": [
              "array([305, 320, 478, 298])"
            ]
          },
          "metadata": {
            "tags": []
          },
          "execution_count": 87
        }
      ]
    },
    {
      "cell_type": "code",
      "metadata": {
        "id": "wVkoXNbglpt8",
        "colab_type": "code",
        "outputId": "decaecd6-90c4-4e84-c6b8-0f6347e3da4f",
        "colab": {
          "base_uri": "https://localhost:8080/",
          "height": 32
        }
      },
      "source": [
        "from sklearn.model_selection import train_test_split\n",
        "feature_importances = np.zeros(len(iris.feature_names))\n",
        "iter_rounds = 20\n",
        "\n",
        "for i in range(iter_rounds):\n",
        "    train_x, test_x, train_y, test_y = train_test_split(iris.data, iris.target, test_size=0.15)\n",
        "    clf = lgb.LGBMClassifier()\n",
        "    clf.fit(train_x, train_y, early_stopping_rounds=None, eval_set=[(test_x, test_y)], verbose=0)\n",
        "    feature_importances += clf.feature_importances_\n",
        "feature_importances /= iter_rounds\n",
        "print(feature_importances)"
      ],
      "execution_count": 0,
      "outputs": [
        {
          "output_type": "stream",
          "text": [
            "[217.6 251.3 413.1 271. ]\n"
          ],
          "name": "stdout"
        }
      ]
    },
    {
      "cell_type": "code",
      "metadata": {
        "id": "9fOEZTl6iB6C",
        "colab_type": "code",
        "outputId": "c7b152a1-5c8a-448a-9beb-262fcec3f6ec",
        "colab": {
          "base_uri": "https://localhost:8080/",
          "height": 827
        }
      },
      "source": [
        "feature_imp = pd.DataFrame(sorted(zip(feature_importances, iris.feature_names)), columns=['Value','Feature'])\n",
        "print(sorted(zip(clf.feature_importances_, iris.feature_names)))\n",
        "print(feature_imp)\n",
        "plt.figure(figsize=(20, 10))\n",
        "sns.barplot(x=\"Value\", y=\"Feature\", data=feature_imp.sort_values(by=\"Value\", ascending=False))\n",
        "plt.title('LightGBM Features (avg over folds)')\n",
        "plt.tight_layout()\n",
        "plt.show()"
      ],
      "execution_count": 0,
      "outputs": [
        {
          "output_type": "stream",
          "text": [
            "[(222, 'sepal length (cm)'), (277, 'sepal width (cm)'), (289, 'petal width (cm)'), (439, 'petal length (cm)')]\n",
            "   Value            Feature\n",
            "0  217.6  sepal length (cm)\n",
            "1  251.3   sepal width (cm)\n",
            "2  271.0   petal width (cm)\n",
            "3  413.1  petal length (cm)\n"
          ],
          "name": "stdout"
        },
        {
          "output_type": "display_data",
          "data": {
            "image/png": "[encoded data removed]",
            "text/plain": [
              "<Figure size 1440x720 with 1 Axes>"
            ]
          },
          "metadata": {
            "tags": []
          }
        }
      ]
    },
    {
      "cell_type": "code",
      "metadata": {
        "id": "BFnb2-qm1qrA",
        "colab_type": "code",
        "outputId": "29e7b869-a342-47ef-bb0c-a34240685b34",
        "colab": {
          "base_uri": "https://localhost:8080/",
          "height": 65
        }
      },
      "source": [
        "from sklearn.ensemble import ExtraTreesClassifier\n",
        "from sklearn.datasets import load_iris\n",
        "from sklearn.feature_selection import SelectFromModel\n",
        "iris = load_iris()\n",
        "X, y = iris.data, iris.target\n",
        "\n",
        "clf = ExtraTreesClassifier()\n",
        "clf = clf.fit(X, y)\n",
        "model = SelectFromModel(clf, prefit=True)\n",
        "X_new = model.transform(X)\n",
        "X_new.shape"
      ],
      "execution_count": 0,
      "outputs": [
        {
          "output_type": "stream",
          "text": [
            "/usr/local/lib/python3.6/dist-packages/sklearn/ensemble/forest.py:245: FutureWarning: The default value of n_estimators will change from 10 in version 0.20 to 100 in 0.22.\n",
            "  \"10 in version 0.20 to 100 in 0.22.\", FutureWarning)\n"
          ],
          "name": "stderr"
        },
        {
          "output_type": "execute_result",
          "data": {
            "text/plain": [
              "(150, 2)"
            ]
          },
          "metadata": {
            "tags": []
          },
          "execution_count": 86
        }
      ]
    },
    {
      "cell_type": "markdown",
      "metadata": {
        "id": "N3UyPCZ73tpR",
        "colab_type": "text"
      },
      "source": [
        "### SVM"
      ]
    },
    {
      "cell_type": "code",
      "metadata": {
        "id": "7iOsJROV3xd6",
        "colab_type": "code",
        "outputId": "24dea975-dc99-413b-8f8b-0b0d63db6b67",
        "colab": {
          "base_uri": "https://localhost:8080/",
          "height": 32
        }
      },
      "source": [
        "from sklearn.svm import LinearSVC\n",
        "from sklearn.datasets import load_iris\n",
        "from sklearn.feature_selection import SelectFromModel\n",
        "iris = load_iris()\n",
        "X, y = iris.data, iris.target\n",
        "\n",
        "lsvc = LinearSVC(C=0.01, penalty=\"l1\", dual=False).fit(X, y)\n",
        "model = SelectFromModel(lsvc, prefit=True)\n",
        "X_new = model.transform(X)\n",
        "X_new.shape"
      ],
      "execution_count": 4,
      "outputs": [
        {
          "output_type": "execute_result",
          "data": {
            "text/plain": [
              "(150, 3)"
            ]
          },
          "metadata": {
            "tags": []
          },
          "execution_count": 4
        }
      ]
    },
    {
      "cell_type": "code",
      "metadata": {
        "id": "iTuVdR-wQ4bS",
        "colab_type": "code",
        "outputId": "cc5bfffb-9135-4389-8fea-9b90685ddb5d",
        "colab": {
          "base_uri": "https://localhost:8080/",
          "height": 49
        }
      },
      "source": [
        "from sklearn.pipeline import Pipeline\n",
        "from sklearn.ensemble import RandomForestClassifier\n",
        "from sklearn.model_selection import GridSearchCV\n",
        "import warnings\n",
        "warnings.filterwarnings(\"ignore\")\n",
        "\n",
        "param_range_threshold = ['mean', 'median', '1.25*mean']\n",
        "params = {'feature_selection__estimator__C': [i / 10 for i in range(10, 20)],\n",
        "          'feature_selection__threshold': param_range_threshold}\n",
        "eclf = Pipeline([\n",
        "  ('feature_selection', SelectFromModel(LinearSVC(penalty=\"l1\", dual=False))),\n",
        "  ('classification', RandomForestClassifier())\n",
        "])\n",
        "grid = GridSearchCV(estimator=eclf, param_grid=params, cv=5)\n",
        "grid.fit(X, y)\n",
        "grid.best_params_"
      ],
      "execution_count": 9,
      "outputs": [
        {
          "output_type": "execute_result",
          "data": {
            "text/plain": [
              "{'feature_selection__estimator__C': 1.4,\n",
              " 'feature_selection__threshold': 'median'}"
            ]
          },
          "metadata": {
            "tags": []
          },
          "execution_count": 9
        }
      ]
    },
    {
      "cell_type": "code",
      "metadata": {
        "id": "t--Bs1QGaYZb",
        "colab_type": "code",
        "outputId": "9927ea81-f092-471e-b663-9bd028ccf2e5",
        "colab": {
          "base_uri": "https://localhost:8080/",
          "height": 65
        }
      },
      "source": [
        "lsvc = LinearSVC(C=1.1, penalty=\"l1\", dual=False).fit(X, y)\n",
        "model = SelectFromModel(lsvc, prefit=True, threshold=0.2)\n",
        "X_new = model.transform(X)\n",
        "X_new.shape"
      ],
      "execution_count": 0,
      "outputs": [
        {
          "output_type": "stream",
          "text": [
            "/usr/local/lib/python3.6/dist-packages/sklearn/svm/base.py:929: ConvergenceWarning: Liblinear failed to converge, increase the number of iterations.\n",
            "  \"the number of iterations.\", ConvergenceWarning)\n"
          ],
          "name": "stderr"
        },
        {
          "output_type": "execute_result",
          "data": {
            "text/plain": [
              "(150, 4)"
            ]
          },
          "metadata": {
            "tags": []
          },
          "execution_count": 128
        }
      ]
    },
    {
      "cell_type": "markdown",
      "metadata": {
        "id": "uxbjkrbf9xVd",
        "colab_type": "text"
      },
      "source": [
        "### logistic regression"
      ]
    },
    {
      "cell_type": "code",
      "metadata": {
        "id": "L7WkSWS59wBY",
        "colab_type": "code",
        "outputId": "79e11d2e-a117-4d86-b467-73411aa1d0fe",
        "colab": {
          "base_uri": "https://localhost:8080/",
          "height": 118
        }
      },
      "source": [
        "from sklearn.linear_model import LogisticRegression\n",
        "from sklearn.datasets import load_iris\n",
        "from sklearn.feature_selection import SelectFromModel\n",
        "iris = load_iris()\n",
        "X, y = iris.data, iris.target\n",
        "\n",
        "clf = LogisticRegression()\n",
        "clf.fit(X, y)\n",
        "model = SelectFromModel(clf, prefit=True)\n",
        "X_new = model.transform(X)\n",
        "X_new.shape"
      ],
      "execution_count": 0,
      "outputs": [
        {
          "output_type": "stream",
          "text": [
            "/usr/local/lib/python3.6/dist-packages/sklearn/linear_model/logistic.py:432: FutureWarning: Default solver will be changed to 'lbfgs' in 0.22. Specify a solver to silence this warning.\n",
            "  FutureWarning)\n",
            "/usr/local/lib/python3.6/dist-packages/sklearn/linear_model/logistic.py:469: FutureWarning: Default multi_class will be changed to 'auto' in 0.22. Specify the multi_class option to silence this warning.\n",
            "  \"this warning.\", FutureWarning)\n"
          ],
          "name": "stderr"
        },
        {
          "output_type": "execute_result",
          "data": {
            "text/plain": [
              "(150, 3)"
            ]
          },
          "metadata": {
            "tags": []
          },
          "execution_count": 96
        }
      ]
    },
    {
      "cell_type": "markdown",
      "metadata": {
        "id": "7tlUPAuHeOi3",
        "colab_type": "text"
      },
      "source": [
        "## Filter Method"
      ]
    },
    {
      "cell_type": "markdown",
      "metadata": {
        "id": "gZg97JHVtH51",
        "colab_type": "text"
      },
      "source": [
        "#### variance threshold"
      ]
    },
    {
      "cell_type": "code",
      "metadata": {
        "id": "DCxvWX4EkMhL",
        "colab_type": "code",
        "outputId": "dd367b06-9b8a-42f8-a5d1-82043ef21a3c",
        "colab": {
          "base_uri": "https://localhost:8080/",
          "height": 247
        }
      },
      "source": [
        "from sklearn.datasets import load_iris\n",
        "from sklearn.feature_selection import VarianceThreshold\n",
        "\n",
        "iris = load_iris()\n",
        "\n",
        "print(iris.data.shape)\n",
        "print(iris.data[:5])\n",
        "# remove all features whose variance < 3\n",
        "# if threshold is not specified, remove all 0-variance features\n",
        "selector = VarianceThreshold(threshold=1)\n",
        "print(selector.fit_transform(iris.data).shape)\n",
        "print(selector.fit_transform(iris.data)[:5])\n",
        "print(selector.get_support(indices=False))\n",
        "print(selector.get_support(indices=True))"
      ],
      "execution_count": 0,
      "outputs": [
        {
          "output_type": "stream",
          "text": [
            "(150, 4)\n",
            "[[5.1 3.5 1.4 0.2]\n",
            " [4.9 3.  1.4 0.2]\n",
            " [4.7 3.2 1.3 0.2]\n",
            " [4.6 3.1 1.5 0.2]\n",
            " [5.  3.6 1.4 0.2]]\n",
            "(150, 1)\n",
            "[[1.4]\n",
            " [1.4]\n",
            " [1.3]\n",
            " [1.5]\n",
            " [1.4]]\n",
            "[False False  True False]\n",
            "[2]\n"
          ],
          "name": "stdout"
        }
      ]
    },
    {
      "cell_type": "markdown",
      "metadata": {
        "id": "cwEvD9XatNMX",
        "colab_type": "text"
      },
      "source": [
        "#### pearson-r"
      ]
    },
    {
      "cell_type": "code",
      "metadata": {
        "id": "IdYTQfsyWKjZ",
        "colab_type": "code",
        "outputId": "c27eed12-05d3-4daf-9a82-fcf826f83b3d",
        "colab": {
          "base_uri": "https://localhost:8080/",
          "height": 85
        }
      },
      "source": [
        "from sklearn.datasets import load_boston\n",
        "from scipy.stats import pearsonr\n",
        "import numpy as np\n",
        "\n",
        "boston = load_boston()\n",
        "print(boston.data.shape)\n",
        "def select_by_pearson(X, Y, topk):\n",
        "    \"\"\"\n",
        "    using Pearson Correlation Coefficient\n",
        "    \"\"\"\n",
        "    feature_index_list = []\n",
        "    for i in range(len(X[1])):\n",
        "        feature_i = boston.data[:, i]\n",
        "        corr = pearsonr(feature_i, Y)[0] # correlation with Y, pearsonr outputs a tuple (score, p value)\n",
        "        feature_index_list.append(corr)\n",
        "    # argsort returns indices that would sort the array\n",
        "    print(feature_index_list)\n",
        "    feature_index_topk_list = np.argsort(np.abs(feature_index_list[::-1]))[0:topk]\n",
        "    return feature_index_topk_list\n",
        "\n",
        "feature_index_topk_list = select_by_pearson(boston.data, boston.target, 5)\n",
        "print(feature_index_topk_list)"
      ],
      "execution_count": 0,
      "outputs": [
        {
          "output_type": "stream",
          "text": [
            "(506, 13)\n",
            "[-0.38830460858681154, 0.36044534245054316, -0.483725160028373, 0.1752601771902984, -0.42732077237328253, 0.6953599470715394, -0.3769545650045963, 0.2499287340859039, -0.3816262306397781, -0.4685359335677672, -0.5077866855375619, 0.3334608196570664, -0.737662726174015]\n",
            "[ 9  5  1 11  6]\n"
          ],
          "name": "stdout"
        }
      ]
    },
    {
      "cell_type": "markdown",
      "metadata": {
        "id": "ncpWmzFftR_s",
        "colab_type": "text"
      },
      "source": [
        "#### chi-squre test"
      ]
    },
    {
      "cell_type": "code",
      "metadata": {
        "id": "RN6qQyiQatxP",
        "colab_type": "code",
        "outputId": "069f465e-846c-4c28-f959-219a71e1f031",
        "colab": {
          "base_uri": "https://localhost:8080/",
          "height": 98
        }
      },
      "source": [
        "from sklearn.datasets import load_boston, load_iris\n",
        "from sklearn.feature_selection import SelectKBest\n",
        "from sklearn.feature_selection import chi2\n",
        "import numpy as np\n",
        "\n",
        "boston = load_boston()\n",
        "iris = load_iris()\n",
        "\n",
        "sel = SelectKBest(chi2, k=2)\n",
        "new_X = sel.fit_transform(iris.data, iris.target)\n",
        "\n",
        "print(iris.data.shape)\n",
        "print(new_X.shape)\n",
        "print(sel.get_support(indices=True))\n",
        "print(sel.scores_)\n",
        "print(sel.pvalues_)"
      ],
      "execution_count": 0,
      "outputs": [
        {
          "output_type": "stream",
          "text": [
            "(150, 4)\n",
            "(150, 2)\n",
            "[2 3]\n",
            "[ 10.81782088   3.7107283  116.31261309  67.0483602 ]\n",
            "[4.47651499e-03 1.56395980e-01 5.53397228e-26 2.75824965e-15]\n"
          ],
          "name": "stdout"
        }
      ]
    },
    {
      "cell_type": "markdown",
      "metadata": {
        "id": "jnhr_T5ctjYe",
        "colab_type": "text"
      },
      "source": [
        "#### mutual information"
      ]
    },
    {
      "cell_type": "code",
      "metadata": {
        "id": "ekblNZmrbMme",
        "colab_type": "code",
        "outputId": "c46f69e4-cbbe-4c05-d3fb-ccf3d9c2a2fc",
        "colab": {
          "base_uri": "https://localhost:8080/",
          "height": 98
        }
      },
      "source": [
        "from sklearn.datasets import load_boston, load_iris\n",
        "from sklearn.feature_selection import SelectKBest\n",
        "from sklearn.feature_selection import mutual_info_classif\n",
        "import numpy as np\n",
        "\n",
        "boston = load_boston()\n",
        "iris = load_iris()\n",
        "\n",
        "sel = SelectKBest(mutual_info_classif, k=2)\n",
        "new_X = sel.fit_transform(iris.data, iris.target)\n",
        "\n",
        "print(iris.data.shape)\n",
        "print(new_X.shape)\n",
        "print(sel.get_support(indices=True))\n",
        "print(sel.scores_)\n",
        "print(sel.pvalues_)"
      ],
      "execution_count": 0,
      "outputs": [
        {
          "output_type": "stream",
          "text": [
            "(150, 4)\n",
            "(150, 2)\n",
            "[2 3]\n",
            "[0.53480876 0.25384192 0.97983332 0.98708597]\n",
            "None\n"
          ],
          "name": "stdout"
        }
      ]
    },
    {
      "cell_type": "code",
      "metadata": {
        "id": "EVCQby3LrDOF",
        "colab_type": "code",
        "outputId": "15ae167c-f992-4a58-f657-2f6b5ae882e4",
        "colab": {
          "base_uri": "https://localhost:8080/",
          "height": 131
        }
      },
      "source": [
        "from sklearn.datasets import load_boston, load_iris\n",
        "from sklearn.feature_selection import SelectKBest\n",
        "from sklearn.feature_selection import mutual_info_regression\n",
        "import numpy as np\n",
        "\n",
        "boston = load_boston()\n",
        "iris = load_iris()\n",
        "\n",
        "sel = SelectKBest(mutual_info_regression, k=5)\n",
        "new_X = sel.fit_transform(boston.data, boston.target)\n",
        "\n",
        "print(boston.data.shape)\n",
        "print(new_X.shape)\n",
        "print(sel.get_support(indices=True))\n",
        "print(sel.scores_)\n",
        "print(sel.pvalues_)"
      ],
      "execution_count": 0,
      "outputs": [
        {
          "output_type": "stream",
          "text": [
            "(506, 13)\n",
            "(506, 5)\n",
            "[ 2  4  5 10 12]\n",
            "[0.33594111 0.18633534 0.47288889 0.02458002 0.46479112 0.53114918\n",
            " 0.30987676 0.29679503 0.2312889  0.36291386 0.44037949 0.15784046\n",
            " 0.66529557]\n",
            "None\n"
          ],
          "name": "stdout"
        }
      ]
    },
    {
      "cell_type": "markdown",
      "metadata": {
        "id": "MXuJIazDtqoZ",
        "colab_type": "text"
      },
      "source": [
        "#### f score"
      ]
    },
    {
      "cell_type": "code",
      "metadata": {
        "id": "nXKyBfeds9Et",
        "colab_type": "code",
        "outputId": "e8d399c8-6b58-42b5-ade1-1577a4192f29",
        "colab": {
          "base_uri": "https://localhost:8080/",
          "height": 98
        }
      },
      "source": [
        "from sklearn.datasets import load_boston, load_iris\n",
        "from sklearn.feature_selection import SelectKBest\n",
        "from sklearn.feature_selection import f_classif\n",
        "import numpy as np\n",
        "\n",
        "boston = load_boston()\n",
        "iris = load_iris()\n",
        "\n",
        "sel = SelectKBest(f_classif, k=2)\n",
        "new_X = sel.fit_transform(iris.data, iris.target)\n",
        "\n",
        "print(iris.data.shape)\n",
        "print(new_X.shape)\n",
        "print(sel.get_support(indices=True))\n",
        "print(sel.scores_)\n",
        "print(sel.pvalues_)"
      ],
      "execution_count": 0,
      "outputs": [
        {
          "output_type": "stream",
          "text": [
            "(150, 4)\n",
            "(150, 2)\n",
            "[2 3]\n",
            "[ 119.26450218   49.16004009 1180.16118225  960.0071468 ]\n",
            "[1.66966919e-31 4.49201713e-17 2.85677661e-91 4.16944584e-85]\n"
          ],
          "name": "stdout"
        }
      ]
    },
    {
      "cell_type": "code",
      "metadata": {
        "id": "YBFQC26ZrCt_",
        "colab_type": "code",
        "outputId": "00f4fbd7-a4f2-4127-9807-2549d2386544",
        "colab": {
          "base_uri": "https://localhost:8080/",
          "height": 181
        }
      },
      "source": [
        "from sklearn.datasets import load_boston, load_iris\n",
        "from sklearn.feature_selection import SelectKBest\n",
        "from sklearn.feature_selection import f_regression\n",
        "import numpy as np\n",
        "\n",
        "boston = load_boston()\n",
        "iris = load_iris()\n",
        "\n",
        "sel = SelectKBest(f_regression, k=5)\n",
        "new_X = sel.fit_transform(boston.data, boston.target)\n",
        "\n",
        "print(boston.data.shape)\n",
        "print(new_X.shape)\n",
        "print(sel.get_support(indices=True))\n",
        "print(sel.scores_)\n",
        "print(sel.pvalues_)"
      ],
      "execution_count": 0,
      "outputs": [
        {
          "output_type": "stream",
          "text": [
            "(506, 13)\n",
            "(506, 5)\n",
            "[ 2  5  9 10 12]\n",
            "[ 89.48611476  75.2576423  153.95488314  15.97151242 112.59148028\n",
            " 471.84673988  83.47745922  33.57957033  85.91427767 141.76135658\n",
            " 175.10554288  63.05422911 601.61787111]\n",
            "[1.17398708e-19 5.71358415e-17 4.90025998e-31 7.39062317e-05\n",
            " 7.06504159e-24 2.48722887e-74 1.56998221e-18 1.20661173e-08\n",
            " 5.46593257e-19 5.63773363e-29 1.60950948e-34 1.31811273e-14\n",
            " 5.08110339e-88]\n"
          ],
          "name": "stdout"
        }
      ]
    },
    {
      "cell_type": "markdown",
      "metadata": {
        "id": "h6QuZ1PotxIW",
        "colab_type": "text"
      },
      "source": [
        "#### Summary"
      ]
    },
    {
      "cell_type": "code",
      "metadata": {
        "id": "LPxAkLSZf56H",
        "colab_type": "code",
        "colab": {}
      },
      "source": [
        "from sklearn.datasets import load_iris\n",
        "from sklearn.feature_selection import chi2, f_classif\n",
        "from sklearn.feature_selection import GenericUnivariateSelect\n",
        "# modeL 'percentile', 'k_best', 'fpr', 'fdr', 'fwe'\n",
        "iris = load_iris()\n",
        "X,y = iris.data , iris.target\n",
        "s1 = GenericUnivariateSelect(score_func=chi2, mode='percentile',param=34) # choose features corresponding to first 34% high scores\n",
        "s2 = GenericUnivariateSelect(score_func=chi2, mode='k_best',param=2) # choose 2 features with the two best scores\n",
        "s3 = GenericUnivariateSelect(score_func=chi2, mode='fpr',param=0.05) # remove those features with p-value > 0.05, Select the pvalues below alpha based on False Positive Rate test\n",
        "s4 = GenericUnivariateSelect(score_func=chi2, mode='fdr',param=0.05) # remove those features with p-value > 0.05, Select the pvalues for an estimated false discovery rate\n",
        "s5 = GenericUnivariateSelect(score_func=chi2, mode='fwe',param=0.05) # family-wise error rate"
      ],
      "execution_count": 0,
      "outputs": []
    },
    {
      "cell_type": "code",
      "metadata": {
        "id": "7wKphDgcgOE0",
        "colab_type": "code",
        "outputId": "e9df5b0e-5d11-4f5d-8b9f-94853e5437fd",
        "colab": {
          "base_uri": "https://localhost:8080/",
          "height": 98
        }
      },
      "source": [
        "print(s1.fit_transform(X, y).shape)\n",
        "print(s2.fit_transform(X, y).shape)\n",
        "print(s3.fit_transform(X, y).shape)\n",
        "print(s4.fit_transform(X, y).shape)\n",
        "print(s5.fit_transform(X, y).shape)"
      ],
      "execution_count": 0,
      "outputs": [
        {
          "output_type": "stream",
          "text": [
            "(150, 2)\n",
            "(150, 2)\n",
            "(150, 3)\n",
            "(150, 3)\n",
            "(150, 3)\n"
          ],
          "name": "stdout"
        }
      ]
    },
    {
      "cell_type": "code",
      "metadata": {
        "id": "u78R69AMnf6j",
        "colab_type": "code",
        "outputId": "94808552-c725-4094-dc6d-1814f6e93071",
        "colab": {
          "base_uri": "https://localhost:8080/",
          "height": 98
        }
      },
      "source": [
        "print(s1.scores_, s1.pvalues_)\n",
        "print(s2.scores_, s2.pvalues_)\n",
        "print(s3.scores_, s3.pvalues_)\n",
        "print(s4.scores_, s4.pvalues_)\n",
        "print(s5.scores_, s5.pvalues_)"
      ],
      "execution_count": 0,
      "outputs": [
        {
          "output_type": "stream",
          "text": [
            "[ 10.81782088   3.7107283  116.31261309  67.0483602 ] [4.47651499e-03 1.56395980e-01 5.53397228e-26 2.75824965e-15]\n",
            "[ 10.81782088   3.7107283  116.31261309  67.0483602 ] [4.47651499e-03 1.56395980e-01 5.53397228e-26 2.75824965e-15]\n",
            "[ 10.81782088   3.7107283  116.31261309  67.0483602 ] [4.47651499e-03 1.56395980e-01 5.53397228e-26 2.75824965e-15]\n",
            "[ 10.81782088   3.7107283  116.31261309  67.0483602 ] [4.47651499e-03 1.56395980e-01 5.53397228e-26 2.75824965e-15]\n",
            "[ 10.81782088   3.7107283  116.31261309  67.0483602 ] [4.47651499e-03 1.56395980e-01 5.53397228e-26 2.75824965e-15]\n"
          ],
          "name": "stdout"
        }
      ]
    }
  ]
}