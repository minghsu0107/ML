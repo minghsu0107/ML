{
  "nbformat": 4,
  "nbformat_minor": 0,
  "metadata": {
    "colab": {
      "name": "lightGBM.ipynb",
      "version": "0.3.2",
      "provenance": [],
      "collapsed_sections": [],
      "toc_visible": true,
      "include_colab_link": true
    },
    "kernelspec": {
      "name": "python3",
      "display_name": "Python 3"
    },
    "accelerator": "GPU"
  },
  "cells": [
    {
      "cell_type": "markdown",
      "metadata": {
        "id": "view-in-github",
        "colab_type": "text"
      },
      "source": [
        "<a href=\"https://colab.research.google.com/github/minghsu0107/ML/blob/master/machine-learning/lightGBM.ipynb\" target=\"_parent\"><img src=\"https://colab.research.google.com/assets/colab-badge.svg\" alt=\"Open In Colab\"/></a>"
      ]
    },
    {
      "cell_type": "markdown",
      "metadata": {
        "id": "SlED0zWkfT7I",
        "colab_type": "text"
      },
      "source": [
        "## APIs"
      ]
    },
    {
      "cell_type": "code",
      "metadata": {
        "id": "JsOpIKMbPGdP",
        "colab_type": "code",
        "outputId": "20f8c16e-8fcc-4de4-8945-73301ae67e7b",
        "colab": {
          "base_uri": "https://localhost:8080/",
          "height": 876
        }
      },
      "source": [
        "import lightgbm as lgb\n",
        "import pandas as pd\n",
        "from sklearn.model_selection import GridSearchCV\n",
        "from sklearn.datasets import load_iris\n",
        "from sklearn.model_selection import train_test_split\n",
        "\n",
        "print('Load data...')\n",
        "iris = load_iris()\n",
        "data=iris.data\n",
        "target = iris.target\n",
        "X_train,X_test,y_train,y_test =train_test_split(data,target,test_size=0.2)\n",
        "\n",
        "\n",
        "print('Start training...')\n",
        "gbm = lgb.LGBMClassifier(num_classes=3, objective='multiclass',num_leaves=31,learning_rate=0.05,n_estimators=20)\n",
        "gbm.fit(X_train, y_train, eval_set=[(X_test, y_test)], eval_names = ['my_eval'], eval_metric='logloss', early_stopping_rounds=5)\n",
        "\n",
        "\n",
        "print('Start predicting...')\n",
        "y_pred = gbm.predict(X_test, num_iteration=gbm.best_iteration_)\n",
        "\n",
        "\n",
        "# feature importances\n",
        "print('Feature importances:', list(gbm.feature_importances_))\n",
        "\n",
        "\n",
        "estimator = lgb.LGBMClassifier(num_leaves=31)\n",
        "param_grid = {\n",
        "    'learning_rate': [0.01, 0.1, 1],\n",
        "    'n_estimators': [20, 40 , 100]\n",
        "}\n",
        "gbm = GridSearchCV(estimator=estimator, param_grid=param_grid)\n",
        "gbm.fit(X_train, y_train)\n",
        "print(gbm.best_params_, gbm.best_score_)\n",
        "\n",
        "\n",
        "new_estimator = lgb.LGBMClassifier()\n",
        "best_params = {\n",
        "    'learning_rate': 1,\n",
        "    'n_estimators': 40\n",
        "}\n",
        "new_estimator.set_params(**best_params)\n",
        "new_estimator.fit(X_train, y_train)\n",
        "              \n",
        "from lightgbm import plot_importance\n",
        "# importance_type:  \n",
        "# If “split”, result contains numbers of times the feature is used in a model. \n",
        "# If “gain”, result contains total gains of splits which use the feature.\n",
        "lgb.plot_importance(new_estimator, importance_type='gain', precision=2)"
      ],
      "execution_count": 0,
      "outputs": [
        {
          "output_type": "stream",
          "text": [
            "Load data...\n",
            "Start training...\n",
            "[1]\tmy_eval's multi_logloss: 1.03545\tmy_eval's multi_logloss: 1.03545\n",
            "Training until validation scores don't improve for 5 rounds.\n",
            "[2]\tmy_eval's multi_logloss: 0.980161\tmy_eval's multi_logloss: 0.980161\n",
            "[3]\tmy_eval's multi_logloss: 0.928894\tmy_eval's multi_logloss: 0.928894\n",
            "[4]\tmy_eval's multi_logloss: 0.881974\tmy_eval's multi_logloss: 0.881974\n",
            "[5]\tmy_eval's multi_logloss: 0.836849\tmy_eval's multi_logloss: 0.836849\n",
            "[6]\tmy_eval's multi_logloss: 0.798592\tmy_eval's multi_logloss: 0.798592\n",
            "[7]\tmy_eval's multi_logloss: 0.759974\tmy_eval's multi_logloss: 0.759974\n",
            "[8]\tmy_eval's multi_logloss: 0.723955\tmy_eval's multi_logloss: 0.723955\n",
            "[9]\tmy_eval's multi_logloss: 0.692298\tmy_eval's multi_logloss: 0.692298\n",
            "[10]\tmy_eval's multi_logloss: 0.663025\tmy_eval's multi_logloss: 0.663025\n",
            "[11]\tmy_eval's multi_logloss: 0.634518\tmy_eval's multi_logloss: 0.634518\n",
            "[12]\tmy_eval's multi_logloss: 0.609186\tmy_eval's multi_logloss: 0.609186\n",
            "[13]\tmy_eval's multi_logloss: 0.586827\tmy_eval's multi_logloss: 0.586827\n",
            "[14]\tmy_eval's multi_logloss: 0.563283\tmy_eval's multi_logloss: 0.563283\n",
            "[15]\tmy_eval's multi_logloss: 0.541513\tmy_eval's multi_logloss: 0.541513\n",
            "[16]\tmy_eval's multi_logloss: 0.522392\tmy_eval's multi_logloss: 0.522392\n",
            "[17]\tmy_eval's multi_logloss: 0.504782\tmy_eval's multi_logloss: 0.504782\n",
            "[18]\tmy_eval's multi_logloss: 0.488443\tmy_eval's multi_logloss: 0.488443\n",
            "[19]\tmy_eval's multi_logloss: 0.472212\tmy_eval's multi_logloss: 0.472212\n",
            "[20]\tmy_eval's multi_logloss: 0.458821\tmy_eval's multi_logloss: 0.458821\n",
            "Did not meet early stopping. Best iteration is:\n",
            "[20]\tmy_eval's multi_logloss: 0.458821\tmy_eval's multi_logloss: 0.458821\n",
            "Start predicting...\n",
            "Feature importances: [20, 12, 160, 44]\n"
          ],
          "name": "stdout"
        },
        {
          "output_type": "stream",
          "text": [
            "/usr/local/lib/python3.6/dist-packages/sklearn/model_selection/_split.py:1978: FutureWarning: The default value of cv will change from 3 to 5 in version 0.22. Specify it explicitly to silence this warning.\n",
            "  warnings.warn(CV_WARNING, FutureWarning)\n"
          ],
          "name": "stderr"
        },
        {
          "output_type": "stream",
          "text": [
            "{'learning_rate': 1, 'n_estimators': 20} 0.9833333333333333\n"
          ],
          "name": "stdout"
        },
        {
          "output_type": "stream",
          "text": [
            "/usr/local/lib/python3.6/dist-packages/sklearn/model_selection/_search.py:814: DeprecationWarning: The default of the `iid` parameter will change from True to False in version 0.22 and will be removed in 0.24. This will change numeric results when test-set sizes are unequal.\n",
            "  DeprecationWarning)\n"
          ],
          "name": "stderr"
        },
        {
          "output_type": "execute_result",
          "data": {
            "text/plain": [
              "<matplotlib.axes._subplots.AxesSubplot at 0x7f4a85992d68>"
            ]
          },
          "metadata": {
            "tags": []
          },
          "execution_count": 25
        },
        {
          "output_type": "display_data",
          "data": {
            "image/png": "[encoded data removed]",
            "text/plain": [
              "<Figure size 432x288 with 1 Axes>"
            ]
          },
          "metadata": {
            "tags": []
          }
        }
      ]
    },
    {
      "cell_type": "code",
      "metadata": {
        "id": "mB6fiTo3P7Z8",
        "colab_type": "code",
        "outputId": "d6a8362c-5075-4483-b944-ce37ae974353",
        "colab": {
          "base_uri": "https://localhost:8080/",
          "height": 493
        }
      },
      "source": [
        "import numpy as np\n",
        "import lightgbm as lgb\n",
        "import pandas as pd\n",
        "from sklearn.datasets import load_iris\n",
        "from sklearn.model_selection import train_test_split\n",
        "iris = load_iris()\n",
        "data=iris.data\n",
        "target = iris.target\n",
        "X_train,X_test,y_train,y_test = train_test_split(data,target,test_size=0.2)\n",
        "\n",
        "\n",
        "from sklearn.datasets import dump_svmlight_file\n",
        "\n",
        "dump_svmlight_file(X_train, y_train, 'dtrain.svm', zero_based=True)\n",
        "dump_svmlight_file(X_test, y_test, 'dtest.svm', zero_based=True)\n",
        "\n",
        "lgb_train = lgb.Dataset('dtrain.svm')\n",
        "lgb_eval = lgb.Dataset('dtest.svm')\n",
        "#lgb_train = lgb.Dataset(X_train, y_train)\n",
        "#lgb_eval = lgb.Dataset(X_test, y_test, reference=lgb_train)\n",
        "\n",
        "params = {\n",
        "    'task': 'train',\n",
        "    'boosting_type': 'gbdt',\n",
        "    'objective': 'multiclass',\n",
        "    'num_classes': 3,\n",
        "    'num_leaves': 31, \n",
        "    'learning_rate': 0.05,\n",
        "    'feature_fraction': 0.9,\n",
        "    'bagging_fraction': 0.8,\n",
        "    'bagging_freq': 5, # bagging every k iterations\n",
        "    'verbose': 1\n",
        "}\n",
        "\n",
        "print('Start training...')\n",
        "gbm = lgb.train(params,lgb_train,num_boost_round=20,valid_sets=lgb_eval, valid_names=['my_val'],early_stopping_rounds=5)\n",
        "\n",
        "print('Save model...')\n",
        "gbm.save_model('model.txt')\n",
        "\n",
        "bst = lgb.Booster(model_file='model.txt')\n",
        "print('Start predicting...')\n",
        "y_pred = bst.predict(X_test, num_iteration=bst.best_iteration)\n",
        "np.argmax(y_pred, axis=1)\n",
        "\n"
      ],
      "execution_count": 0,
      "outputs": [
        {
          "output_type": "stream",
          "text": [
            "Start training...\n",
            "[1]\tmy_val's multi_logloss: 1.03193\n",
            "Training until validation scores don't improve for 5 rounds.\n",
            "[2]\tmy_val's multi_logloss: 0.970566\n",
            "[3]\tmy_val's multi_logloss: 0.914087\n",
            "[4]\tmy_val's multi_logloss: 0.86139\n",
            "[5]\tmy_val's multi_logloss: 0.813089\n",
            "[6]\tmy_val's multi_logloss: 0.768269\n",
            "[7]\tmy_val's multi_logloss: 0.726412\n",
            "[8]\tmy_val's multi_logloss: 0.687391\n",
            "[9]\tmy_val's multi_logloss: 0.651582\n",
            "[10]\tmy_val's multi_logloss: 0.618796\n",
            "[11]\tmy_val's multi_logloss: 0.585013\n",
            "[12]\tmy_val's multi_logloss: 0.553711\n",
            "[13]\tmy_val's multi_logloss: 0.524196\n",
            "[14]\tmy_val's multi_logloss: 0.499743\n",
            "[15]\tmy_val's multi_logloss: 0.473777\n",
            "[16]\tmy_val's multi_logloss: 0.449049\n",
            "[17]\tmy_val's multi_logloss: 0.426156\n",
            "[18]\tmy_val's multi_logloss: 0.40443\n",
            "[19]\tmy_val's multi_logloss: 0.384796\n",
            "[20]\tmy_val's multi_logloss: 0.366322\n",
            "Did not meet early stopping. Best iteration is:\n",
            "[20]\tmy_val's multi_logloss: 0.366322\n",
            "Save model...\n",
            "Start predicting...\n"
          ],
          "name": "stdout"
        },
        {
          "output_type": "execute_result",
          "data": {
            "text/plain": [
              "array([1, 0, 2, 0, 2, 2, 1, 0, 1, 1, 0, 2, 0, 0, 1, 2, 2, 1, 0, 2, 2, 0,\n",
              "       0, 1, 1, 0, 1, 1, 2, 0])"
            ]
          },
          "metadata": {
            "tags": []
          },
          "execution_count": 14
        }
      ]
    },
    {
      "cell_type": "code",
      "metadata": {
        "id": "cGLKiYycLqms",
        "colab_type": "code",
        "outputId": "7a59f1e1-82b9-4a3a-8878-faa696d17cd1",
        "colab": {
          "base_uri": "https://localhost:8080/",
          "height": 433
        }
      },
      "source": [
        "params = {\n",
        "    'boosting_type': 'dart',\n",
        "    'learning_rate': 0.1,\n",
        "    'max_depth': 5,\n",
        "    'min_data_in_leaf': 2,\n",
        "    'min_child_weight': 0.2,\n",
        "    'min_gain_to_split': 0.05,\n",
        "    'bagging_fraction': 0.8,\n",
        "    'bagging_freq': 3,\n",
        "    'feature_fraction': 0.8,\n",
        "    'lambda_l1': 0.01,\n",
        "    'lambda_l2': 0.01,\n",
        "    'objective': 'multiclass',\n",
        "    'num_class': 3,\n",
        "    'seed': 27,\n",
        "    'metric': 'multi_error'\n",
        "}\n",
        "\n",
        "cvresult = lgb.cv(params, lgb_train, \n",
        "                  num_boost_round = 10, \n",
        "                  nfold=5,\n",
        "                  early_stopping_rounds=50,\n",
        "                  stratified=True)\n",
        "import pandas as pd\n",
        "df = pd.DataFrame(cvresult)\n",
        "df.columns\n",
        "df"
      ],
      "execution_count": 0,
      "outputs": [
        {
          "output_type": "stream",
          "text": [
            "/usr/local/lib/python3.6/dist-packages/lightgbm/callback.py:189: UserWarning: Early stopping is not available in dart mode\n",
            "  warnings.warn('Early stopping is not available in dart mode')\n"
          ],
          "name": "stderr"
        },
        {
          "output_type": "execute_result",
          "data": {
            "text/html": [
              "<div>\n",
              "<style scoped>\n",
              "    .dataframe tbody tr th:only-of-type {\n",
              "        vertical-align: middle;\n",
              "    }\n",
              "\n",
              "    .dataframe tbody tr th {\n",
              "        vertical-align: top;\n",
              "    }\n",
              "\n",
              "    .dataframe thead th {\n",
              "        text-align: right;\n",
              "    }\n",
              "</style>\n",
              "<table border=\"1\" class=\"dataframe\">\n",
              "  <thead>\n",
              "    <tr style=\"text-align: right;\">\n",
              "      <th></th>\n",
              "      <th>multi_error-mean</th>\n",
              "      <th>multi_error-stdv</th>\n",
              "    </tr>\n",
              "  </thead>\n",
              "  <tbody>\n",
              "    <tr>\n",
              "      <th>0</th>\n",
              "      <td>0.082696</td>\n",
              "      <td>0.058000</td>\n",
              "    </tr>\n",
              "    <tr>\n",
              "      <th>1</th>\n",
              "      <td>0.083029</td>\n",
              "      <td>0.058693</td>\n",
              "    </tr>\n",
              "    <tr>\n",
              "      <th>2</th>\n",
              "      <td>0.091362</td>\n",
              "      <td>0.048361</td>\n",
              "    </tr>\n",
              "    <tr>\n",
              "      <th>3</th>\n",
              "      <td>0.074696</td>\n",
              "      <td>0.054983</td>\n",
              "    </tr>\n",
              "    <tr>\n",
              "      <th>4</th>\n",
              "      <td>0.083029</td>\n",
              "      <td>0.069525</td>\n",
              "    </tr>\n",
              "    <tr>\n",
              "      <th>5</th>\n",
              "      <td>0.083029</td>\n",
              "      <td>0.069525</td>\n",
              "    </tr>\n",
              "    <tr>\n",
              "      <th>6</th>\n",
              "      <td>0.091362</td>\n",
              "      <td>0.071530</td>\n",
              "    </tr>\n",
              "    <tr>\n",
              "      <th>7</th>\n",
              "      <td>0.082667</td>\n",
              "      <td>0.079068</td>\n",
              "    </tr>\n",
              "    <tr>\n",
              "      <th>8</th>\n",
              "      <td>0.082667</td>\n",
              "      <td>0.079068</td>\n",
              "    </tr>\n",
              "    <tr>\n",
              "      <th>9</th>\n",
              "      <td>0.074333</td>\n",
              "      <td>0.076315</td>\n",
              "    </tr>\n",
              "  </tbody>\n",
              "</table>\n",
              "</div>"
            ],
            "text/plain": [
              "   multi_error-mean  multi_error-stdv\n",
              "0          0.082696          0.058000\n",
              "1          0.083029          0.058693\n",
              "2          0.091362          0.048361\n",
              "3          0.074696          0.054983\n",
              "4          0.083029          0.069525\n",
              "5          0.083029          0.069525\n",
              "6          0.091362          0.071530\n",
              "7          0.082667          0.079068\n",
              "8          0.082667          0.079068\n",
              "9          0.074333          0.076315"
            ]
          },
          "metadata": {
            "tags": []
          },
          "execution_count": 67
        }
      ]
    },
    {
      "cell_type": "code",
      "metadata": {
        "id": "OlViPFs6OGG9",
        "colab_type": "code",
        "outputId": "0eb35962-e9b2-4d01-b740-79235f4d2a78",
        "colab": {
          "base_uri": "https://localhost:8080/",
          "height": 108
        }
      },
      "source": [
        "params['n_estimators'] = df.shape[0]\n",
        "\n",
        "params['min_split_gain'] = params['min_gain_to_split']\n",
        "params['reg_alpha'] = params['lambda_l1']\n",
        "params['reg_lambda'] = params['lambda_l2']\n",
        "params['subsample'] = params['bagging_fraction']\n",
        "params['subsample_freq'] = params['bagging_freq']\n",
        "params['colsample_bytree'] = params['feature_fraction']\n",
        "params['min_child_samples'] = params['min_data_in_leaf']\n",
        "\n",
        "del params['min_gain_to_split']\n",
        "del params['lambda_l1']\n",
        "del params['lambda_l2']\n",
        "del params['bagging_fraction']\n",
        "del params['bagging_freq']\n",
        "del params['feature_fraction']\n",
        "del params['min_data_in_leaf']\n",
        "\n",
        "clf = lgb.LGBMClassifier()\n",
        "clf.set_params(**params)\n",
        "print(clf.__dict__)\n",
        "from sklearn.model_selection import cross_val_score\n",
        "scores = cross_val_score(clf, X_train, y_train, cv=5)\n",
        "\n",
        "print(\"Accuracy of cross validation(train): %0.4f (+/- %0.2f)\" % (scores.mean(), scores.std() * 2))\n",
        "\n",
        "scores = cross_val_score(clf, X_test, y_test, cv=5)\n",
        "print(\"Accuracy of cross validation(test): %0.4f (+/- %0.2f)\" % (scores.mean(), scores.std() * 2))"
      ],
      "execution_count": 0,
      "outputs": [
        {
          "output_type": "stream",
          "text": [
            "{'boosting_type': 'dart', 'objective': 'multiclass', 'num_leaves': 31, 'max_depth': 5, 'learning_rate': 0.1, 'n_estimators': 10, 'subsample_for_bin': 200000, 'min_split_gain': 0.05, 'min_child_weight': 0.2, 'min_child_samples': 2, 'subsample': 0.8, 'subsample_freq': 3, 'colsample_bytree': 0.8, 'reg_alpha': 0.01, 'reg_lambda': 0.01, 'random_state': None, 'n_jobs': -1, 'silent': True, 'importance_type': 'split', '_Booster': None, '_evals_result': None, '_best_score': None, '_best_iteration': None, '_other_params': {'boosting_type': 'dart', 'learning_rate': 0.1, 'max_depth': 5, 'min_child_weight': 0.2, 'objective': 'multiclass', 'num_class': 3, 'seed': 27, 'metric': 'multi_error', 'n_estimators': 10, 'min_split_gain': 0.05, 'reg_alpha': 0.01, 'reg_lambda': 0.01, 'subsample': 0.8, 'subsample_freq': 3, 'colsample_bytree': 0.8, 'min_child_samples': 2}, '_objective': 'multiclass', 'class_weight': None, '_n_features': None, '_classes': None, '_n_classes': None, 'num_class': 3, 'seed': 27, 'metric': 'multi_error'}\n",
            "Accuracy of cross validation(train): 0.9757 (+/- 0.06)\n",
            "Accuracy of cross validation(test): 1.0000 (+/- 0.00)\n"
          ],
          "name": "stdout"
        }
      ]
    },
    {
      "cell_type": "code",
      "metadata": {
        "id": "RcZysn25Dd0I",
        "colab_type": "code",
        "colab": {}
      },
      "source": [
        ""
      ],
      "execution_count": 0,
      "outputs": []
    }
  ]
}