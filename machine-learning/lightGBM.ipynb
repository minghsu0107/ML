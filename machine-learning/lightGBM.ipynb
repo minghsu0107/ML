{
  "nbformat": 4,
  "nbformat_minor": 0,
  "metadata": {
    "colab": {
      "name": "lightGBM.ipynb",
      "version": "0.3.2",
      "provenance": [],
      "collapsed_sections": [],
      "toc_visible": true,
      "include_colab_link": true
    },
    "kernelspec": {
      "name": "python3",
      "display_name": "Python 3"
    },
    "accelerator": "GPU"
  },
  "cells": [
    {
      "cell_type": "markdown",
      "metadata": {
        "id": "view-in-github",
        "colab_type": "text"
      },
      "source": [
        "<a href=\"https://colab.research.google.com/github/minghsu0107/ML/blob/master/machine-learning/lightGBM.ipynb\" target=\"_parent\"><img src=\"https://colab.research.google.com/assets/colab-badge.svg\" alt=\"Open In Colab\"/></a>"
      ]
    },
    {
      "cell_type": "markdown",
      "metadata": {
        "id": "SlED0zWkfT7I",
        "colab_type": "text"
      },
      "source": [
        "## APIs"
      ]
    },
    {
      "cell_type": "code",
      "metadata": {
        "id": "JsOpIKMbPGdP",
        "colab_type": "code",
        "outputId": "4a7965af-16eb-4672-d0d1-a4915cbf713f",
        "colab": {
          "base_uri": "https://localhost:8080/",
          "height": 1000
        }
      },
      "source": [
        "import lightgbm as lgb\n",
        "import pandas as pd\n",
        "from sklearn.model_selection import GridSearchCV\n",
        "from sklearn.datasets import load_iris\n",
        "from sklearn.model_selection import train_test_split\n",
        "\n",
        "print('Load data...')\n",
        "iris = load_iris()\n",
        "data=iris.data\n",
        "target = iris.target\n",
        "X_train,X_test,y_train,y_test =train_test_split(data,target,test_size=0.2)\n",
        "\n",
        "\n",
        "print('Start training...')\n",
        "gbm = lgb.LGBMClassifier(num_classes=3, objective='multiclass',num_leaves=31,learning_rate=0.05,n_estimators=20)\n",
        "gbm.fit(X_train, y_train, eval_set=[(X_test, y_test)], eval_names = ['my_eval'], eval_metric='logloss', early_stopping_rounds=5)\n",
        "\n",
        "\n",
        "print('Start predicting...')\n",
        "y_pred = gbm.predict(X_test, num_iteration=gbm.best_iteration_)\n",
        "\n",
        "\n",
        "# feature importances\n",
        "print('Feature importances:', list(gbm.feature_importances_))\n",
        "\n",
        "\n",
        "estimator = lgb.LGBMClassifier(num_leaves=31)\n",
        "param_grid = {\n",
        "    'learning_rate': [0.01, 0.1, 1],\n",
        "    'n_estimators': [20, 40 , 100]\n",
        "}\n",
        "gbm = GridSearchCV(estimator=estimator, param_grid=param_grid)\n",
        "gbm.fit(X_train, y_train)\n",
        "print(gbm.best_params_, gbm.best_score_)\n",
        "print(gbm.__dict__)\n",
        "\n",
        "new_estimator = lgb.LGBMClassifier()\n",
        "best_params = {\n",
        "    'learning_rate': 1,\n",
        "    'n_estimators': 40\n",
        "}\n",
        "new_estimator.set_params(**best_params)\n",
        "new_estimator.fit(X_train, y_train)\n",
        "              \n",
        "from lightgbm import plot_importance\n",
        "# importance_type:  \n",
        "# If “split”, result contains numbers of times the feature is used in a model. \n",
        "# If “gain”, result contains total gains of splits which use the feature.\n",
        "lgb.plot_importance(new_estimator, importance_type='gain', precision=2)"
      ],
      "execution_count": 0,
      "outputs": [
        {
          "output_type": "stream",
          "text": [
            "Load data...\n",
            "Start training...\n",
            "[1]\tmy_eval's multi_logloss: 1.059\tmy_eval's multi_logloss: 1.059\n",
            "Training until validation scores don't improve for 5 rounds.\n",
            "[2]\tmy_eval's multi_logloss: 1.00091\tmy_eval's multi_logloss: 1.00091\n",
            "[3]\tmy_eval's multi_logloss: 0.948175\tmy_eval's multi_logloss: 0.948175\n",
            "[4]\tmy_eval's multi_logloss: 0.900024\tmy_eval's multi_logloss: 0.900024\n",
            "[5]\tmy_eval's multi_logloss: 0.856095\tmy_eval's multi_logloss: 0.856095\n",
            "[6]\tmy_eval's multi_logloss: 0.815761\tmy_eval's multi_logloss: 0.815761\n",
            "[7]\tmy_eval's multi_logloss: 0.77875\tmy_eval's multi_logloss: 0.77875\n",
            "[8]\tmy_eval's multi_logloss: 0.744644\tmy_eval's multi_logloss: 0.744644\n",
            "[9]\tmy_eval's multi_logloss: 0.713206\tmy_eval's multi_logloss: 0.713206\n",
            "[10]\tmy_eval's multi_logloss: 0.684168\tmy_eval's multi_logloss: 0.684168\n",
            "[11]\tmy_eval's multi_logloss: 0.657302\tmy_eval's multi_logloss: 0.657302\n",
            "[12]\tmy_eval's multi_logloss: 0.629209\tmy_eval's multi_logloss: 0.629209\n",
            "[13]\tmy_eval's multi_logloss: 0.600483\tmy_eval's multi_logloss: 0.600483\n",
            "[14]\tmy_eval's multi_logloss: 0.576562\tmy_eval's multi_logloss: 0.576562\n",
            "[15]\tmy_eval's multi_logloss: 0.551293\tmy_eval's multi_logloss: 0.551293\n",
            "[16]\tmy_eval's multi_logloss: 0.530379\tmy_eval's multi_logloss: 0.530379\n",
            "[17]\tmy_eval's multi_logloss: 0.510915\tmy_eval's multi_logloss: 0.510915\n",
            "[18]\tmy_eval's multi_logloss: 0.489875\tmy_eval's multi_logloss: 0.489875\n",
            "[19]\tmy_eval's multi_logloss: 0.47478\tmy_eval's multi_logloss: 0.47478\n",
            "[20]\tmy_eval's multi_logloss: 0.456153\tmy_eval's multi_logloss: 0.456153\n",
            "Did not meet early stopping. Best iteration is:\n",
            "[20]\tmy_eval's multi_logloss: 0.456153\tmy_eval's multi_logloss: 0.456153\n",
            "Start predicting...\n",
            "Feature importances: [59, 4, 110, 46]\n"
          ],
          "name": "stdout"
        },
        {
          "output_type": "stream",
          "text": [
            "/usr/local/lib/python3.6/dist-packages/sklearn/model_selection/_split.py:1978: FutureWarning: The default value of cv will change from 3 to 5 in version 0.22. Specify it explicitly to silence this warning.\n",
            "  warnings.warn(CV_WARNING, FutureWarning)\n"
          ],
          "name": "stderr"
        },
        {
          "output_type": "stream",
          "text": [
            "{'learning_rate': 0.1, 'n_estimators': 40} 0.9333333333333333\n",
            "{'scoring': None, 'estimator': LGBMClassifier(boosting_type='gbdt', class_weight=None, colsample_bytree=1.0,\n",
            "               importance_type='split', learning_rate=0.1, max_depth=-1,\n",
            "               min_child_samples=20, min_child_weight=0.001, min_split_gain=0.0,\n",
            "               n_estimators=100, n_jobs=-1, num_leaves=31, objective=None,\n",
            "               random_state=None, reg_alpha=0.0, reg_lambda=0.0, silent=True,\n",
            "               subsample=1.0, subsample_for_bin=200000, subsample_freq=0), 'n_jobs': None, 'iid': 'warn', 'refit': True, 'cv': 'warn', 'verbose': 0, 'pre_dispatch': '2*n_jobs', 'error_score': 'raise-deprecating', 'return_train_score': False, 'param_grid': {'learning_rate': [0.01, 0.1, 1], 'n_estimators': [20, 40, 100]}, 'multimetric_': False, 'best_index_': 4, 'best_score_': 0.9333333333333333, 'best_params_': {'learning_rate': 0.1, 'n_estimators': 40}, 'best_estimator_': LGBMClassifier(boosting_type='gbdt', class_weight=None, colsample_bytree=1.0,\n",
            "               importance_type='split', learning_rate=0.1, max_depth=-1,\n",
            "               min_child_samples=20, min_child_weight=0.001, min_split_gain=0.0,\n",
            "               n_estimators=40, n_jobs=-1, num_leaves=31, objective=None,\n",
            "               random_state=None, reg_alpha=0.0, reg_lambda=0.0, silent=True,\n",
            "               subsample=1.0, subsample_for_bin=200000, subsample_freq=0), 'refit_time_': 0.018048524856567383, 'scorer_': <function _passthrough_scorer at 0x7f4f6ed2d0d0>, 'cv_results_': {'mean_fit_time': array([0.00635664, 0.00977612, 0.02088205, 0.0059584 , 0.01280657,\n",
            "       0.02279234, 0.00592192, 0.00918206, 0.01742045]), 'std_fit_time': array([1.40541950e-04, 2.24324729e-05, 3.59101984e-04, 3.36862045e-04,\n",
            "       3.51206213e-03, 2.46840050e-03, 1.29908204e-04, 2.32499912e-04,\n",
            "       6.39080407e-04]), 'mean_score_time': array([0.00070556, 0.0007178 , 0.00074736, 0.0006822 , 0.00066781,\n",
            "       0.00075857, 0.00059859, 0.00062617, 0.00143401]), 'std_score_time': array([1.01077731e-04, 1.10480939e-04, 3.31406589e-05, 1.70379877e-05,\n",
            "       1.49362469e-05, 7.21715088e-05, 2.68375976e-05, 1.27300539e-05,\n",
            "       1.05507712e-03]), 'param_learning_rate': masked_array(data=[0.01, 0.01, 0.01, 0.1, 0.1, 0.1, 1, 1, 1],\n",
            "             mask=[False, False, False, False, False, False, False, False,\n",
            "                   False],\n",
            "       fill_value='?',\n",
            "            dtype=object), 'param_n_estimators': masked_array(data=[20, 40, 100, 20, 40, 100, 20, 40, 100],\n",
            "             mask=[False, False, False, False, False, False, False, False,\n",
            "                   False],\n",
            "       fill_value='?',\n",
            "            dtype=object), 'params': [{'learning_rate': 0.01, 'n_estimators': 20}, {'learning_rate': 0.01, 'n_estimators': 40}, {'learning_rate': 0.01, 'n_estimators': 100}, {'learning_rate': 0.1, 'n_estimators': 20}, {'learning_rate': 0.1, 'n_estimators': 40}, {'learning_rate': 0.1, 'n_estimators': 100}, {'learning_rate': 1, 'n_estimators': 20}, {'learning_rate': 1, 'n_estimators': 40}, {'learning_rate': 1, 'n_estimators': 100}], 'split0_test_score': array([0.85365854, 0.85365854, 0.85365854, 0.85365854, 0.90243902,\n",
            "       0.90243902, 0.87804878, 0.90243902, 0.87804878]), 'split1_test_score': array([0.975, 0.975, 0.975, 0.975, 0.975, 0.975, 0.975, 0.975, 0.975]), 'split2_test_score': array([0.8974359 , 0.8974359 , 0.92307692, 0.92307692, 0.92307692,\n",
            "       0.92307692, 0.92307692, 0.92307692, 0.92307692]), 'mean_test_score': array([0.90833333, 0.90833333, 0.91666667, 0.91666667, 0.93333333,\n",
            "       0.93333333, 0.925     , 0.93333333, 0.925     ]), 'std_test_score': array([0.05041262, 0.05041262, 0.05004037, 0.05004037, 0.03064308,\n",
            "       0.03064308, 0.03984609, 0.03064308, 0.03984609]), 'rank_test_score': array([8, 8, 6, 6, 1, 1, 4, 1, 4], dtype=int32)}, 'n_splits_': 3}\n"
          ],
          "name": "stdout"
        },
        {
          "output_type": "stream",
          "text": [
            "/usr/local/lib/python3.6/dist-packages/sklearn/model_selection/_search.py:814: DeprecationWarning: The default of the `iid` parameter will change from True to False in version 0.22 and will be removed in 0.24. This will change numeric results when test-set sizes are unequal.\n",
            "  DeprecationWarning)\n"
          ],
          "name": "stderr"
        },
        {
          "output_type": "execute_result",
          "data": {
            "text/plain": [
              "<matplotlib.axes._subplots.AxesSubplot at 0x7f4f6d2465f8>"
            ]
          },
          "metadata": {
            "tags": []
          },
          "execution_count": 1
        },
        {
          "output_type": "display_data",
          "data": {
            "image/png": "[encoded data removed]",
            "text/plain": [
              "<Figure size 432x288 with 1 Axes>"
            ]
          },
          "metadata": {
            "tags": []
          }
        }
      ]
    },
    {
      "cell_type": "markdown",
      "metadata": {
        "id": "w1HBsuS5ae6y",
        "colab_type": "text"
      },
      "source": [
        "num_iteration (int or None, optional (default=None)) – Limit number of iterations in the prediction. If None, if the best iteration exists, it is used; otherwise, all iterations are used. If <= 0, all iterations are used (no limits)."
      ]
    },
    {
      "cell_type": "code",
      "metadata": {
        "id": "mB6fiTo3P7Z8",
        "colab_type": "code",
        "outputId": "7ac3b30d-7085-45a2-8563-ef47a600a166",
        "colab": {
          "base_uri": "https://localhost:8080/",
          "height": 493
        }
      },
      "source": [
        "import numpy as np\n",
        "import lightgbm as lgb\n",
        "import pandas as pd\n",
        "from sklearn.datasets import load_iris\n",
        "from sklearn.model_selection import train_test_split\n",
        "iris = load_iris()\n",
        "data=iris.data\n",
        "target = iris.target\n",
        "X_train,X_test,y_train,y_test = train_test_split(data,target,test_size=0.2)\n",
        "\n",
        "\n",
        "from sklearn.datasets import dump_svmlight_file\n",
        "\n",
        "dump_svmlight_file(X_train, y_train, 'dtrain.svm', zero_based=True)\n",
        "dump_svmlight_file(X_test, y_test, 'dtest.svm', zero_based=True)\n",
        "\n",
        "lgb_train = lgb.Dataset('dtrain.svm')\n",
        "lgb_eval = lgb.Dataset('dtest.svm')\n",
        "#lgb_train = lgb.Dataset(X_train, y_train)\n",
        "#lgb_eval = lgb.Dataset(X_test, y_test, reference=lgb_train)\n",
        "\n",
        "params = {\n",
        "    'task': 'train',\n",
        "    'boosting_type': 'gbdt',\n",
        "    'objective': 'multiclass',\n",
        "    'num_classes': 3,\n",
        "    'num_leaves': 31, \n",
        "    'learning_rate': 0.05,\n",
        "    'feature_fraction': 0.9,\n",
        "    'bagging_fraction': 0.8,\n",
        "    'bagging_freq': 5, # bagging every k iterations\n",
        "    'verbose': 1\n",
        "}\n",
        "\n",
        "print('Start training...')\n",
        "gbm = lgb.train(params,lgb_train,num_boost_round=20,valid_sets=lgb_eval, valid_names=['my_val'],early_stopping_rounds=5)\n",
        "\n",
        "print('Save model...')\n",
        "gbm.save_model('model.txt')\n",
        "\n",
        "bst = lgb.Booster(model_file='model.txt')\n",
        "print('Start predicting...')\n",
        "y_pred = bst.predict(X_test, num_iteration=bst.best_iteration)\n",
        "\n",
        "np.argmax(y_pred, axis=1)\n",
        "\n"
      ],
      "execution_count": 3,
      "outputs": [
        {
          "output_type": "stream",
          "text": [
            "Start training...\n",
            "[1]\tmy_val's multi_logloss: 1.03296\n",
            "Training until validation scores don't improve for 5 rounds.\n",
            "[2]\tmy_val's multi_logloss: 0.97151\n",
            "[3]\tmy_val's multi_logloss: 0.915344\n",
            "[4]\tmy_val's multi_logloss: 0.864335\n",
            "[5]\tmy_val's multi_logloss: 0.817227\n",
            "[6]\tmy_val's multi_logloss: 0.77179\n",
            "[7]\tmy_val's multi_logloss: 0.729377\n",
            "[8]\tmy_val's multi_logloss: 0.690299\n",
            "[9]\tmy_val's multi_logloss: 0.654621\n",
            "[10]\tmy_val's multi_logloss: 0.621441\n",
            "[11]\tmy_val's multi_logloss: 0.589686\n",
            "[12]\tmy_val's multi_logloss: 0.560999\n",
            "[13]\tmy_val's multi_logloss: 0.533298\n",
            "[14]\tmy_val's multi_logloss: 0.507808\n",
            "[15]\tmy_val's multi_logloss: 0.48393\n",
            "[16]\tmy_val's multi_logloss: 0.460918\n",
            "[17]\tmy_val's multi_logloss: 0.439584\n",
            "[18]\tmy_val's multi_logloss: 0.419316\n",
            "[19]\tmy_val's multi_logloss: 0.401261\n",
            "[20]\tmy_val's multi_logloss: 0.384242\n",
            "Did not meet early stopping. Best iteration is:\n",
            "[20]\tmy_val's multi_logloss: 0.384242\n",
            "Save model...\n",
            "Start predicting...\n"
          ],
          "name": "stdout"
        },
        {
          "output_type": "execute_result",
          "data": {
            "text/plain": [
              "array([1, 0, 2, 0, 0, 2, 2, 1, 0, 0, 1, 0, 2, 2, 1, 2, 1, 1, 2, 1, 0, 0,\n",
              "       2, 0, 2, 0, 2, 1, 2, 0])"
            ]
          },
          "metadata": {
            "tags": []
          },
          "execution_count": 3
        }
      ]
    },
    {
      "cell_type": "code",
      "metadata": {
        "id": "cGLKiYycLqms",
        "colab_type": "code",
        "outputId": "7a59f1e1-82b9-4a3a-8878-faa696d17cd1",
        "colab": {
          "base_uri": "https://localhost:8080/",
          "height": 433
        }
      },
      "source": [
        "params = {\n",
        "    'boosting_type': 'dart',\n",
        "    'learning_rate': 0.1,\n",
        "    'max_depth': 5,\n",
        "    'min_data_in_leaf': 2,\n",
        "    'min_child_weight': 0.2,\n",
        "    'min_gain_to_split': 0.05,\n",
        "    'bagging_fraction': 0.8,\n",
        "    'bagging_freq': 3,\n",
        "    'feature_fraction': 0.8,\n",
        "    'lambda_l1': 0.01,\n",
        "    'lambda_l2': 0.01,\n",
        "    'objective': 'multiclass',\n",
        "    'num_class': 3,\n",
        "    'seed': 27,\n",
        "    'metric': 'multi_error'\n",
        "}\n",
        "\n",
        "cvresult = lgb.cv(params, lgb_train, \n",
        "                  num_boost_round = 10, \n",
        "                  nfold=5,\n",
        "                  early_stopping_rounds=50,\n",
        "                  stratified=True)\n",
        "import pandas as pd\n",
        "df = pd.DataFrame(cvresult)\n",
        "df.columns\n",
        "df"
      ],
      "execution_count": 0,
      "outputs": [
        {
          "output_type": "stream",
          "text": [
            "/usr/local/lib/python3.6/dist-packages/lightgbm/callback.py:189: UserWarning: Early stopping is not available in dart mode\n",
            "  warnings.warn('Early stopping is not available in dart mode')\n"
          ],
          "name": "stderr"
        },
        {
          "output_type": "execute_result",
          "data": {
            "text/html": [
              "<div>\n",
              "<style scoped>\n",
              "    .dataframe tbody tr th:only-of-type {\n",
              "        vertical-align: middle;\n",
              "    }\n",
              "\n",
              "    .dataframe tbody tr th {\n",
              "        vertical-align: top;\n",
              "    }\n",
              "\n",
              "    .dataframe thead th {\n",
              "        text-align: right;\n",
              "    }\n",
              "</style>\n",
              "<table border=\"1\" class=\"dataframe\">\n",
              "  <thead>\n",
              "    <tr style=\"text-align: right;\">\n",
              "      <th></th>\n",
              "      <th>multi_error-mean</th>\n",
              "      <th>multi_error-stdv</th>\n",
              "    </tr>\n",
              "  </thead>\n",
              "  <tbody>\n",
              "    <tr>\n",
              "      <th>0</th>\n",
              "      <td>0.082696</td>\n",
              "      <td>0.058000</td>\n",
              "    </tr>\n",
              "    <tr>\n",
              "      <th>1</th>\n",
              "      <td>0.083029</td>\n",
              "      <td>0.058693</td>\n",
              "    </tr>\n",
              "    <tr>\n",
              "      <th>2</th>\n",
              "      <td>0.091362</td>\n",
              "      <td>0.048361</td>\n",
              "    </tr>\n",
              "    <tr>\n",
              "      <th>3</th>\n",
              "      <td>0.074696</td>\n",
              "      <td>0.054983</td>\n",
              "    </tr>\n",
              "    <tr>\n",
              "      <th>4</th>\n",
              "      <td>0.083029</td>\n",
              "      <td>0.069525</td>\n",
              "    </tr>\n",
              "    <tr>\n",
              "      <th>5</th>\n",
              "      <td>0.083029</td>\n",
              "      <td>0.069525</td>\n",
              "    </tr>\n",
              "    <tr>\n",
              "      <th>6</th>\n",
              "      <td>0.091362</td>\n",
              "      <td>0.071530</td>\n",
              "    </tr>\n",
              "    <tr>\n",
              "      <th>7</th>\n",
              "      <td>0.082667</td>\n",
              "      <td>0.079068</td>\n",
              "    </tr>\n",
              "    <tr>\n",
              "      <th>8</th>\n",
              "      <td>0.082667</td>\n",
              "      <td>0.079068</td>\n",
              "    </tr>\n",
              "    <tr>\n",
              "      <th>9</th>\n",
              "      <td>0.074333</td>\n",
              "      <td>0.076315</td>\n",
              "    </tr>\n",
              "  </tbody>\n",
              "</table>\n",
              "</div>"
            ],
            "text/plain": [
              "   multi_error-mean  multi_error-stdv\n",
              "0          0.082696          0.058000\n",
              "1          0.083029          0.058693\n",
              "2          0.091362          0.048361\n",
              "3          0.074696          0.054983\n",
              "4          0.083029          0.069525\n",
              "5          0.083029          0.069525\n",
              "6          0.091362          0.071530\n",
              "7          0.082667          0.079068\n",
              "8          0.082667          0.079068\n",
              "9          0.074333          0.076315"
            ]
          },
          "metadata": {
            "tags": []
          },
          "execution_count": 67
        }
      ]
    },
    {
      "cell_type": "code",
      "metadata": {
        "id": "OlViPFs6OGG9",
        "colab_type": "code",
        "outputId": "0eb35962-e9b2-4d01-b740-79235f4d2a78",
        "colab": {
          "base_uri": "https://localhost:8080/",
          "height": 108
        }
      },
      "source": [
        "params['n_estimators'] = df.shape[0]\n",
        "\n",
        "params['min_split_gain'] = params['min_gain_to_split']\n",
        "params['reg_alpha'] = params['lambda_l1']\n",
        "params['reg_lambda'] = params['lambda_l2']\n",
        "params['subsample'] = params['bagging_fraction']\n",
        "params['subsample_freq'] = params['bagging_freq']\n",
        "params['colsample_bytree'] = params['feature_fraction']\n",
        "params['min_child_samples'] = params['min_data_in_leaf']\n",
        "\n",
        "del params['min_gain_to_split']\n",
        "del params['lambda_l1']\n",
        "del params['lambda_l2']\n",
        "del params['bagging_fraction']\n",
        "del params['bagging_freq']\n",
        "del params['feature_fraction']\n",
        "del params['min_data_in_leaf']\n",
        "\n",
        "clf = lgb.LGBMClassifier()\n",
        "clf.set_params(**params)\n",
        "print(clf.__dict__)\n",
        "from sklearn.model_selection import cross_val_score\n",
        "scores = cross_val_score(clf, X_train, y_train, cv=5)\n",
        "\n",
        "print(\"Accuracy of cross validation(train): %0.4f (+/- %0.2f)\" % (scores.mean(), scores.std() * 2))\n",
        "\n",
        "scores = cross_val_score(clf, X_test, y_test, cv=5)\n",
        "print(\"Accuracy of cross validation(test): %0.4f (+/- %0.2f)\" % (scores.mean(), scores.std() * 2))"
      ],
      "execution_count": 0,
      "outputs": [
        {
          "output_type": "stream",
          "text": [
            "{'boosting_type': 'dart', 'objective': 'multiclass', 'num_leaves': 31, 'max_depth': 5, 'learning_rate': 0.1, 'n_estimators': 10, 'subsample_for_bin': 200000, 'min_split_gain': 0.05, 'min_child_weight': 0.2, 'min_child_samples': 2, 'subsample': 0.8, 'subsample_freq': 3, 'colsample_bytree': 0.8, 'reg_alpha': 0.01, 'reg_lambda': 0.01, 'random_state': None, 'n_jobs': -1, 'silent': True, 'importance_type': 'split', '_Booster': None, '_evals_result': None, '_best_score': None, '_best_iteration': None, '_other_params': {'boosting_type': 'dart', 'learning_rate': 0.1, 'max_depth': 5, 'min_child_weight': 0.2, 'objective': 'multiclass', 'num_class': 3, 'seed': 27, 'metric': 'multi_error', 'n_estimators': 10, 'min_split_gain': 0.05, 'reg_alpha': 0.01, 'reg_lambda': 0.01, 'subsample': 0.8, 'subsample_freq': 3, 'colsample_bytree': 0.8, 'min_child_samples': 2}, '_objective': 'multiclass', 'class_weight': None, '_n_features': None, '_classes': None, '_n_classes': None, 'num_class': 3, 'seed': 27, 'metric': 'multi_error'}\n",
            "Accuracy of cross validation(train): 0.9757 (+/- 0.06)\n",
            "Accuracy of cross validation(test): 1.0000 (+/- 0.00)\n"
          ],
          "name": "stdout"
        }
      ]
    },
    {
      "cell_type": "code",
      "metadata": {
        "id": "RcZysn25Dd0I",
        "colab_type": "code",
        "colab": {}
      },
      "source": [
        ""
      ],
      "execution_count": 0,
      "outputs": []
    }
  ]
}