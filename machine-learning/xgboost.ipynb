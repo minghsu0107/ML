{
  "nbformat": 4,
  "nbformat_minor": 0,
  "metadata": {
    "colab": {
      "name": "xgboost.ipynb",
      "version": "0.3.2",
      "provenance": [],
      "collapsed_sections": [],
      "toc_visible": true,
      "include_colab_link": true
    },
    "kernelspec": {
      "name": "python3",
      "display_name": "Python 3"
    },
    "accelerator": "GPU"
  },
  "cells": [
    {
      "cell_type": "markdown",
      "metadata": {
        "id": "view-in-github",
        "colab_type": "text"
      },
      "source": [
        "<a href=\"https://colab.research.google.com/github/minghsu0107/ML/blob/master/machine-learning/xgboost.ipynb\" target=\"_parent\"><img src=\"https://colab.research.google.com/assets/colab-badge.svg\" alt=\"Open In Colab\"/></a>"
      ]
    },
    {
      "cell_type": "markdown",
      "metadata": {
        "id": "9UpYPY6q_ccJ",
        "colab_type": "text"
      },
      "source": [
        "## Play with Iris Dataset"
      ]
    },
    {
      "cell_type": "code",
      "metadata": {
        "id": "j57fHMjvWfkg",
        "colab_type": "code",
        "outputId": "3e63c564-b690-4fb6-f8ee-0fd7d6741ce0",
        "colab": {
          "base_uri": "https://localhost:8080/",
          "height": 51
        }
      },
      "source": [
        "from sklearn import datasets\n",
        "\n",
        "iris = datasets.load_iris()\n",
        "X = iris.data\n",
        "y = iris.target\n",
        "print(X.shape)\n",
        "print(iris.target_names)"
      ],
      "execution_count": 103,
      "outputs": [
        {
          "output_type": "stream",
          "text": [
            "(150, 4)\n",
            "['setosa' 'versicolor' 'virginica']\n"
          ],
          "name": "stdout"
        }
      ]
    },
    {
      "cell_type": "code",
      "metadata": {
        "id": "oB2IaXgb_ggX",
        "colab_type": "code",
        "outputId": "5b452a6e-3eb6-4b1a-939b-e2154b926157",
        "colab": {
          "base_uri": "https://localhost:8080/",
          "height": 34
        }
      },
      "source": [
        "from sklearn.model_selection import train_test_split\n",
        "\n",
        "X_train, X_test, y_train, y_test = train_test_split(X, y, test_size=0.2, random_state=42)\n",
        "X_train.shape, y_train.shape"
      ],
      "execution_count": 0,
      "outputs": [
        {
          "output_type": "execute_result",
          "data": {
            "text/plain": [
              "((120, 4), (120,))"
            ]
          },
          "metadata": {
            "tags": []
          },
          "execution_count": 52
        }
      ]
    },
    {
      "cell_type": "code",
      "metadata": {
        "id": "4pD3P-AN-7AU",
        "colab_type": "code",
        "outputId": "8e998db9-7e98-446e-9ef5-9c105a49e053",
        "colab": {
          "base_uri": "https://localhost:8080/",
          "height": 51
        }
      },
      "source": [
        "import xgboost as xgb\n",
        "\n",
        "dtrain = xgb.DMatrix(X_train, label=y_train)\n",
        "dtest = xgb.DMatrix(X_test, label=y_test)\n",
        "\n",
        "dtrain.save_binary('dtrain.buffer')\n",
        "dtest.save_binary('dtest.buffer')\n",
        "\n",
        "dtrain = xgb.DMatrix('dtrain.buffer')\n",
        "dtest = xgb.DMatrix('dtest.buffer')"
      ],
      "execution_count": 0,
      "outputs": [
        {
          "output_type": "stream",
          "text": [
            "[03:11:20] 120x4 matrix with 480 entries loaded from dtrain.buffer\n",
            "[03:11:20] 30x4 matrix with 120 entries loaded from dtest.buffer\n"
          ],
          "name": "stdout"
        }
      ]
    },
    {
      "cell_type": "markdown",
      "metadata": {
        "id": "YlIjD6ErBHtj",
        "colab_type": "text"
      },
      "source": [
        "If you want to use svmlight for less memory consumption, first dump the numpy array into svmlight format and then just pass the filename to DMatrix:"
      ]
    },
    {
      "cell_type": "code",
      "metadata": {
        "id": "yrSjUINbATwv",
        "colab_type": "code",
        "outputId": "f17a7597-d771-49cf-c507-75e71f875f7b",
        "colab": {
          "base_uri": "https://localhost:8080/",
          "height": 51
        }
      },
      "source": [
        "from sklearn.datasets import dump_svmlight_file\n",
        "\n",
        "dump_svmlight_file(X_train, y_train, 'dtrain.svm', zero_based=True)\n",
        "dump_svmlight_file(X_test, y_test, 'dtest.svm', zero_based=True)\n",
        "dtrain_svm = xgb.DMatrix('dtrain.svm')\n",
        "dtest_svm = xgb.DMatrix('dtest.svm')"
      ],
      "execution_count": 0,
      "outputs": [
        {
          "output_type": "stream",
          "text": [
            "[03:11:20] 120x4 matrix with 480 entries loaded from dtrain.svm\n",
            "[03:11:20] 30x4 matrix with 120 entries loaded from dtest.svm\n"
          ],
          "name": "stdout"
        }
      ]
    },
    {
      "cell_type": "markdown",
      "metadata": {
        "id": "0zvOzymeCgX7",
        "colab_type": "text"
      },
      "source": [
        "Generally try with eta 0.1, 0.2, 0.3, max_depth in range of 2 to 10 and num_round around few hundred."
      ]
    },
    {
      "cell_type": "code",
      "metadata": {
        "id": "8mUApdpOAeCJ",
        "colab_type": "code",
        "colab": {}
      },
      "source": [
        "param = {\n",
        "    'booster': 'gbtree',\n",
        "    'max_depth': 3,  # the maximum depth of each tree\n",
        "    'eta': 0.3,  # the training step for each iteration\n",
        "    'silent': 1,  # logging mode - quiet\n",
        "    'objective': 'multi:softprob',  # error evaluation for multiclass training\n",
        "    'num_class': 3}  # the number of classes that exist in this datset\n",
        "num_round = 20  # the number of training iterations"
      ],
      "execution_count": 0,
      "outputs": []
    },
    {
      "cell_type": "code",
      "metadata": {
        "id": "4VpFZ3I_CVtr",
        "colab_type": "code",
        "colab": {}
      },
      "source": [
        "bst = xgb.train(param, dtrain_svm, num_round)"
      ],
      "execution_count": 0,
      "outputs": []
    },
    {
      "cell_type": "code",
      "metadata": {
        "id": "9nYhSRT3Cnie",
        "colab_type": "code",
        "colab": {}
      },
      "source": [
        "bst.dump_model('dump.raw.txt')"
      ],
      "execution_count": 0,
      "outputs": []
    },
    {
      "cell_type": "code",
      "metadata": {
        "id": "5QYM5jRjCwPM",
        "colab_type": "code",
        "outputId": "1657b141-397f-47f6-e74c-c170d6b88c7e",
        "colab": {
          "base_uri": "https://localhost:8080/",
          "height": 51
        }
      },
      "source": [
        "import numpy as np\n",
        "\n",
        "preds = bst.predict(dtest)\n",
        "best_preds = np.asarray([np.argmax(line) for line in preds])\n",
        "best_preds"
      ],
      "execution_count": 0,
      "outputs": [
        {
          "output_type": "execute_result",
          "data": {
            "text/plain": [
              "array([1, 0, 2, 1, 1, 0, 1, 2, 1, 1, 2, 0, 0, 0, 0, 1, 2, 1, 1, 2, 0, 2,\n",
              "       0, 2, 2, 2, 2, 2, 0, 0])"
            ]
          },
          "metadata": {
            "tags": []
          },
          "execution_count": 58
        }
      ]
    },
    {
      "cell_type": "code",
      "metadata": {
        "id": "15pfJ9dRFCEV",
        "colab_type": "code",
        "outputId": "41791bbe-c4d0-48ff-c751-fcc03d255131",
        "colab": {
          "base_uri": "https://localhost:8080/",
          "height": 34
        }
      },
      "source": [
        "from sklearn.metrics import precision_score\n",
        "\n",
        "print(precision_score(y_test, best_preds, average='macro'))"
      ],
      "execution_count": 0,
      "outputs": [
        {
          "output_type": "stream",
          "text": [
            "1.0\n"
          ],
          "name": "stdout"
        }
      ]
    },
    {
      "cell_type": "markdown",
      "metadata": {
        "id": "SgJ933pd53Gm",
        "colab_type": "text"
      },
      "source": [
        "We  can save the model for further usage."
      ]
    },
    {
      "cell_type": "code",
      "metadata": {
        "id": "nQUjjVWnFsxh",
        "colab_type": "code",
        "colab": {}
      },
      "source": [
        "bst.save_model('iris_bst.model')"
      ],
      "execution_count": 0,
      "outputs": []
    },
    {
      "cell_type": "code",
      "metadata": {
        "id": "EUtfr2kS3lHR",
        "colab_type": "code",
        "colab": {}
      },
      "source": [
        "#clf = xgb.Booster()\n",
        "#clf.load_model('iris_bst.model')\n",
        "clf = xgb.Booster(model_file='iris_bst.model')"
      ],
      "execution_count": 0,
      "outputs": []
    },
    {
      "cell_type": "code",
      "metadata": {
        "id": "Z9gEgMux33Q5",
        "colab_type": "code",
        "outputId": "3b85a691-7236-4b4b-ad66-388dc643b9d6",
        "colab": {
          "base_uri": "https://localhost:8080/",
          "height": 527
        }
      },
      "source": [
        "clf.predict(dtest)"
      ],
      "execution_count": 0,
      "outputs": [
        {
          "output_type": "execute_result",
          "data": {
            "text/plain": [
              "array([[0.00563804, 0.97755206, 0.01680986],\n",
              "       [0.98254657, 0.01395846, 0.00349498],\n",
              "       [0.0036375 , 0.00615226, 0.9902103 ],\n",
              "       [0.00564738, 0.97917044, 0.0151822 ],\n",
              "       [0.00540075, 0.93640935, 0.0581899 ],\n",
              "       [0.98607963, 0.0104128 , 0.00350755],\n",
              "       [0.00438964, 0.99041265, 0.0051977 ],\n",
              "       [0.0156953 , 0.06653062, 0.91777414],\n",
              "       [0.0063378 , 0.94877166, 0.04489056],\n",
              "       [0.00438964, 0.99041265, 0.0051977 ],\n",
              "       [0.01785045, 0.07566603, 0.9064836 ],\n",
              "       [0.99054164, 0.00561866, 0.00383973],\n",
              "       [0.98254657, 0.01395846, 0.00349498],\n",
              "       [0.990855  , 0.00562044, 0.00352453],\n",
              "       [0.990855  , 0.00562044, 0.00352453],\n",
              "       [0.00435676, 0.9863815 , 0.00926175],\n",
              "       [0.0028351 , 0.00545694, 0.991708  ],\n",
              "       [0.00506935, 0.98753244, 0.00739827],\n",
              "       [0.00435527, 0.98265946, 0.01298527],\n",
              "       [0.00283684, 0.00484793, 0.9923152 ],\n",
              "       [0.990855  , 0.00562044, 0.00352453],\n",
              "       [0.01177546, 0.08546326, 0.90276134],\n",
              "       [0.990855  , 0.00562044, 0.00352453],\n",
              "       [0.00283684, 0.00484793, 0.9923152 ],\n",
              "       [0.00561747, 0.01081239, 0.98357016],\n",
              "       [0.00363441, 0.00699543, 0.9893701 ],\n",
              "       [0.0036375 , 0.00615226, 0.9902103 ],\n",
              "       [0.00561747, 0.01081239, 0.98357016],\n",
              "       [0.99054164, 0.00561866, 0.00383973],\n",
              "       [0.990855  , 0.00562044, 0.00352453]], dtype=float32)"
            ]
          },
          "metadata": {
            "tags": []
          },
          "execution_count": 62
        }
      ]
    },
    {
      "cell_type": "code",
      "metadata": {
        "id": "OF_pDmNY4Bqd",
        "colab_type": "code",
        "outputId": "bd523090-4645-45ac-f97b-47b765a8953d",
        "colab": {
          "base_uri": "https://localhost:8080/",
          "height": 329
        }
      },
      "source": [
        "from xgboost import plot_importance\n",
        "print(clf.get_fscore())\n",
        "plot_importance(clf)"
      ],
      "execution_count": 0,
      "outputs": [
        {
          "output_type": "stream",
          "text": [
            "{'f2': 91, 'f3': 44, 'f0': 19, 'f1': 18}\n"
          ],
          "name": "stdout"
        },
        {
          "output_type": "execute_result",
          "data": {
            "text/plain": [
              "<matplotlib.axes._subplots.AxesSubplot at 0x7f6100175278>"
            ]
          },
          "metadata": {
            "tags": []
          },
          "execution_count": 63
        },
        {
          "output_type": "display_data",
          "data": {
            "image/png": "[encoded data removed]",
            "text/plain": [
              "<Figure size 432x288 with 1 Axes>"
            ]
          },
          "metadata": {
            "tags": []
          }
        }
      ]
    },
    {
      "cell_type": "code",
      "metadata": {
        "id": "UNdN7goXMzt5",
        "colab_type": "code",
        "outputId": "d96f58df-bc70-4575-8949-06ec49a967e0",
        "colab": {
          "base_uri": "https://localhost:8080/",
          "height": 986
        }
      },
      "source": [
        "dir(clf)"
      ],
      "execution_count": 0,
      "outputs": [
        {
          "output_type": "execute_result",
          "data": {
            "text/plain": [
              "['__class__',\n",
              " '__copy__',\n",
              " '__deepcopy__',\n",
              " '__del__',\n",
              " '__delattr__',\n",
              " '__dict__',\n",
              " '__dir__',\n",
              " '__doc__',\n",
              " '__eq__',\n",
              " '__format__',\n",
              " '__ge__',\n",
              " '__getattribute__',\n",
              " '__getstate__',\n",
              " '__gt__',\n",
              " '__hash__',\n",
              " '__init__',\n",
              " '__init_subclass__',\n",
              " '__le__',\n",
              " '__lt__',\n",
              " '__module__',\n",
              " '__ne__',\n",
              " '__new__',\n",
              " '__reduce__',\n",
              " '__reduce_ex__',\n",
              " '__repr__',\n",
              " '__setattr__',\n",
              " '__setstate__',\n",
              " '__sizeof__',\n",
              " '__str__',\n",
              " '__subclasshook__',\n",
              " '__weakref__',\n",
              " '_validate_features',\n",
              " 'attr',\n",
              " 'attributes',\n",
              " 'boost',\n",
              " 'booster',\n",
              " 'copy',\n",
              " 'dump_model',\n",
              " 'eval',\n",
              " 'eval_set',\n",
              " 'feature_names',\n",
              " 'feature_types',\n",
              " 'get_dump',\n",
              " 'get_fscore',\n",
              " 'get_score',\n",
              " 'get_split_value_histogram',\n",
              " 'handle',\n",
              " 'load_model',\n",
              " 'load_rabit_checkpoint',\n",
              " 'predict',\n",
              " 'save_model',\n",
              " 'save_rabit_checkpoint',\n",
              " 'save_raw',\n",
              " 'set_attr',\n",
              " 'set_param',\n",
              " 'trees_to_dataframe',\n",
              " 'update']"
            ]
          },
          "metadata": {
            "tags": []
          },
          "execution_count": 64
        }
      ]
    },
    {
      "cell_type": "markdown",
      "metadata": {
        "id": "y3eZgmVX6jvd",
        "colab_type": "text"
      },
      "source": [
        "We can also continue training on the existed model."
      ]
    },
    {
      "cell_type": "code",
      "metadata": {
        "id": "9VFdgi8k5DbE",
        "colab_type": "code",
        "colab": {}
      },
      "source": [
        "bst = xgb.train(param, dtest, num_round, xgb_model='iris_bst.model')"
      ],
      "execution_count": 0,
      "outputs": []
    },
    {
      "cell_type": "code",
      "metadata": {
        "id": "dw5b4hda66Ox",
        "colab_type": "code",
        "outputId": "b327a7c4-19c1-48c5-c26f-3198e42c50a2",
        "colab": {
          "base_uri": "https://localhost:8080/",
          "height": 527
        }
      },
      "source": [
        "bst.predict(dtest)"
      ],
      "execution_count": 0,
      "outputs": [
        {
          "output_type": "execute_result",
          "data": {
            "text/plain": [
              "array([[0.00626042, 0.97150415, 0.02223538],\n",
              "       [0.9833303 , 0.01250299, 0.00416675],\n",
              "       [0.00305996, 0.00463209, 0.9923079 ],\n",
              "       [0.00627413, 0.9736327 , 0.02009312],\n",
              "       [0.00591656, 0.9181438 , 0.07593963],\n",
              "       [0.98649627, 0.00932354, 0.00418016],\n",
              "       [0.0048936 , 0.98820364, 0.00690268],\n",
              "       [0.01343146, 0.05095716, 0.93561137],\n",
              "       [0.00697244, 0.93419635, 0.05883117],\n",
              "       [0.0048936 , 0.98820364, 0.00690268],\n",
              "       [0.01531663, 0.05810924, 0.9265741 ],\n",
              "       [0.9903985 , 0.00502806, 0.00457345],\n",
              "       [0.9833303 , 0.01250299, 0.00416675],\n",
              "       [0.9907718 , 0.00502995, 0.00419828],\n",
              "       [0.9907718 , 0.00502995, 0.00419828],\n",
              "       [0.00485046, 0.9828661 , 0.01228339],\n",
              "       [0.00238424, 0.00410734, 0.99350846],\n",
              "       [0.0056468 , 0.984536  , 0.00981717],\n",
              "       [0.00484286, 0.97795653, 0.01720059],\n",
              "       [0.00238534, 0.0036484 , 0.9939663 ],\n",
              "       [0.9907718 , 0.00502995, 0.00419828],\n",
              "       [0.01011908, 0.06573138, 0.9241496 ],\n",
              "       [0.9907718 , 0.00502995, 0.00419828],\n",
              "       [0.00238534, 0.0036484 , 0.9939663 ],\n",
              "       [0.00473257, 0.00815282, 0.98711467],\n",
              "       [0.003058  , 0.00526804, 0.991674  ],\n",
              "       [0.00305996, 0.00463209, 0.9923079 ],\n",
              "       [0.00473257, 0.00815282, 0.98711467],\n",
              "       [0.9903985 , 0.00502806, 0.00457345],\n",
              "       [0.9907718 , 0.00502995, 0.00419828]], dtype=float32)"
            ]
          },
          "metadata": {
            "tags": []
          },
          "execution_count": 66
        }
      ]
    },
    {
      "cell_type": "markdown",
      "metadata": {
        "id": "hMKSl_al-L05",
        "colab_type": "text"
      },
      "source": [
        "## Incremental Training"
      ]
    },
    {
      "cell_type": "code",
      "metadata": {
        "id": "aYgJAolF-R04",
        "colab_type": "code",
        "colab": {}
      },
      "source": [
        "import pandas as pd\n",
        "import xgboost as xgb\n",
        "from sklearn.model_selection import ShuffleSplit\n",
        "from sklearn.datasets import load_boston\n",
        "from sklearn.metrics import mean_absolute_error as mae"
      ],
      "execution_count": 0,
      "outputs": []
    },
    {
      "cell_type": "code",
      "metadata": {
        "id": "Gg36NSCwAMP6",
        "colab_type": "code",
        "colab": {}
      },
      "source": [
        "boston = load_boston()\n",
        "features = boston.feature_names\n",
        "X = boston.data\n",
        "y = boston.target\n",
        "\n",
        "X=pd.DataFrame(X,columns=features)\n",
        "y = pd.Series(y, index=X.index)\n",
        "\n",
        "# split data into training and testing sets\n",
        "# n_splits = 1: split for one time\n",
        "rs = ShuffleSplit(test_size=0.3, n_splits=1, random_state=10)\n",
        "for train_idx, test_idx in rs.split(X):  # this looks silly\n",
        "    pass\n",
        "\n",
        "train_split = round(len(train_idx) / 2)\n",
        "train1_idx = train_idx[:train_split]\n",
        "train2_idx = train_idx[train_split:]\n",
        "\n",
        "X_train = X.loc[train_idx]\n",
        "X_train_1 = X.loc[train1_idx]\n",
        "X_train_2 = X.loc[train2_idx]\n",
        "X_test = X.loc[test_idx]\n",
        "\n",
        "y_train = y.loc[train_idx]\n",
        "y_train_1 = y.loc[train1_idx]\n",
        "y_train_2 = y.loc[train2_idx]\n",
        "y_test = y.loc[test_idx]"
      ],
      "execution_count": 0,
      "outputs": []
    },
    {
      "cell_type": "code",
      "metadata": {
        "id": "2r5xId8uAfbe",
        "colab_type": "code",
        "outputId": "c0f0b0ea-648c-4969-a8d6-5cc10de198d3",
        "colab": {
          "base_uri": "https://localhost:8080/",
          "height": 278
        }
      },
      "source": [
        "xg_train_0 = xgb.DMatrix(X_train, label=y_train)\n",
        "xg_train_1 = xgb.DMatrix(X_train_1, label=y_train_1)\n",
        "xg_train_2 = xgb.DMatrix(X_train_2, label=y_train_2)\n",
        "xg_test = xgb.DMatrix(X_test, label=y_test)\n",
        "\n",
        "params = {'objective': 'reg:linear', 'verbose': False}\n",
        "model_0 = xgb.train(params, xg_train_0, 30)\n",
        "model_1 = xgb.train(params, xg_train_1, 30)\n",
        "model_1.save_model('model_1.model')\n",
        "model_2_v1 = xgb.train(params, xg_train_2, 30)\n",
        "model_2_v2 = xgb.train(params, xg_train_2, 30, xgb_model=model_1)\n",
        "\n",
        "params.update({'process_type': 'update',\n",
        "               'updater'     : 'refresh',\n",
        "               'refresh_leaf': True})\n",
        "model_2_v2_update = xgb.train(params, xg_train_2, 30, xgb_model=model_1)\n",
        "\n",
        "print('full train\\t',mae(model_0.predict(xg_test), y_test)) # benchmark\n",
        "print('model 1 \\t',mae(model_1.predict(xg_test), y_test))  \n",
        "print('model 2 \\t',mae(model_2_v1.predict(xg_test), y_test))  # \"before\"\n",
        "print('model 1+2\\t',mae(model_2_v2.predict(xg_test), y_test))  # \"after\"\n",
        "print('model 1+update2\\t',mae(model_2_v2_update.predict(xg_test), y_test))  # \"after\""
      ],
      "execution_count": 0,
      "outputs": [
        {
          "output_type": "stream",
          "text": [
            "/usr/local/lib/python3.6/dist-packages/xgboost/core.py:587: FutureWarning: Series.base is deprecated and will be removed in a future version\n",
            "  if getattr(data, 'base', None) is not None and \\\n"
          ],
          "name": "stderr"
        },
        {
          "output_type": "stream",
          "text": [
            "[03:11:36] WARNING: /workspace/src/objective/regression_obj.cu:152: reg:linear is now deprecated in favor of reg:squarederror.\n",
            "[03:11:36] WARNING: /workspace/src/objective/regression_obj.cu:152: reg:linear is now deprecated in favor of reg:squarederror.\n",
            "[03:11:36] WARNING: /workspace/src/objective/regression_obj.cu:152: reg:linear is now deprecated in favor of reg:squarederror.\n",
            "[03:11:36] WARNING: /workspace/src/objective/regression_obj.cu:152: reg:linear is now deprecated in favor of reg:squarederror.\n",
            "[03:11:36] WARNING: /workspace/src/objective/regression_obj.cu:152: reg:linear is now deprecated in favor of reg:squarederror.\n",
            "[03:11:36] WARNING: /workspace/src/learner.cc:194: DANGER AHEAD: You have manually specified `updater` parameter. The `tree_method` parameter will be ignored. Incorrect sequence of updaters will produce undefined behavior. For common uses, we recommend using `tree_method` parameter instead.\n",
            "full train\t 2.548246261320616\n",
            "model 1 \t 3.098096799850464\n",
            "model 2 \t 2.617744428860514\n",
            "model 1+2\t 2.7464016261853668\n",
            "model 1+update2\t 2.8126610558283955\n"
          ],
          "name": "stdout"
        }
      ]
    },
    {
      "cell_type": "markdown",
      "metadata": {
        "id": "YMqFAjD2PPrn",
        "colab_type": "text"
      },
      "source": [
        "## XGB Test"
      ]
    },
    {
      "cell_type": "markdown",
      "metadata": {
        "id": "MdcVZfojGzkV",
        "colab_type": "text"
      },
      "source": [
        "### Prepare data"
      ]
    },
    {
      "cell_type": "code",
      "metadata": {
        "id": "zVLtERR8PSiv",
        "colab_type": "code",
        "colab": {}
      },
      "source": [
        "import numpy as np\n",
        "import xgboost as xgb\n",
        "from xgboost.sklearn import XGBClassifier\n",
        "from sklearn.model_selection import train_test_split, GridSearchCV"
      ],
      "execution_count": 0,
      "outputs": []
    },
    {
      "cell_type": "code",
      "metadata": {
        "id": "wnLxu_5VRpyu",
        "colab_type": "code",
        "colab": {}
      },
      "source": [
        "from sklearn import datasets\n",
        "\n",
        "iris = datasets.load_iris()\n",
        "X = iris.data\n",
        "y = iris.target\n",
        "X_train, X_test, y_train, y_test = train_test_split(X, y, test_size=0.2, random_state=42)"
      ],
      "execution_count": 0,
      "outputs": []
    },
    {
      "cell_type": "markdown",
      "metadata": {
        "id": "P4RLSpuxG3uM",
        "colab_type": "text"
      },
      "source": [
        "### Get number of boosters by CV"
      ]
    },
    {
      "cell_type": "markdown",
      "metadata": {
        "id": "YIrUVkhdL66E",
        "colab_type": "text"
      },
      "source": [
        "xgb.cv performs cross-validation at each boosting iteration and thus returns the optimum number of trees required."
      ]
    },
    {
      "cell_type": "code",
      "metadata": {
        "id": "sW8BZgH7-Cg3",
        "colab_type": "code",
        "outputId": "a8a3e498-6c7b-424d-ae29-8aa4c3193637",
        "colab": {
          "base_uri": "https://localhost:8080/",
          "height": 1000
        }
      },
      "source": [
        "xgb1 = XGBClassifier(\n",
        "    learning_rate =0.1,\n",
        "    n_estimators=1000,\n",
        "    max_depth=5,\n",
        "    min_child_weight=1,\n",
        "    gamma=0,\n",
        "    subsample=0.8,\n",
        "    colsample_bytree=0.8,\n",
        "    objective= 'multi:softprob',\n",
        "    num_class=3,\n",
        "    nthread=4,\n",
        "    scale_pos_weight=1,\n",
        "    seed=27)\n",
        "\n",
        "dtrain = xgb.DMatrix(X_train, label=y_train)\n",
        "xgb_param = xgb1.get_xgb_params()\n",
        "cvresult = xgb.cv(xgb_param, dtrain, \n",
        "                  num_boost_round = xgb1.get_params()['n_estimators'], \n",
        "                  nfold=5,\n",
        "                  metrics='mlogloss',\n",
        "                  early_stopping_rounds=50, \n",
        "                  stratified=True)\n",
        "\n",
        "cvresult"
      ],
      "execution_count": 0,
      "outputs": [
        {
          "output_type": "execute_result",
          "data": {
            "text/html": [
              "<div>\n",
              "<style scoped>\n",
              "    .dataframe tbody tr th:only-of-type {\n",
              "        vertical-align: middle;\n",
              "    }\n",
              "\n",
              "    .dataframe tbody tr th {\n",
              "        vertical-align: top;\n",
              "    }\n",
              "\n",
              "    .dataframe thead th {\n",
              "        text-align: right;\n",
              "    }\n",
              "</style>\n",
              "<table border=\"1\" class=\"dataframe\">\n",
              "  <thead>\n",
              "    <tr style=\"text-align: right;\">\n",
              "      <th></th>\n",
              "      <th>train-mlogloss-mean</th>\n",
              "      <th>train-mlogloss-std</th>\n",
              "      <th>test-mlogloss-mean</th>\n",
              "      <th>test-mlogloss-std</th>\n",
              "    </tr>\n",
              "  </thead>\n",
              "  <tbody>\n",
              "    <tr>\n",
              "      <th>0</th>\n",
              "      <td>0.977897</td>\n",
              "      <td>0.002407</td>\n",
              "      <td>0.984724</td>\n",
              "      <td>0.009450</td>\n",
              "    </tr>\n",
              "    <tr>\n",
              "      <th>1</th>\n",
              "      <td>0.872988</td>\n",
              "      <td>0.003070</td>\n",
              "      <td>0.886396</td>\n",
              "      <td>0.012001</td>\n",
              "    </tr>\n",
              "    <tr>\n",
              "      <th>2</th>\n",
              "      <td>0.785642</td>\n",
              "      <td>0.003654</td>\n",
              "      <td>0.800829</td>\n",
              "      <td>0.010647</td>\n",
              "    </tr>\n",
              "    <tr>\n",
              "      <th>3</th>\n",
              "      <td>0.708423</td>\n",
              "      <td>0.005110</td>\n",
              "      <td>0.725151</td>\n",
              "      <td>0.011139</td>\n",
              "    </tr>\n",
              "    <tr>\n",
              "      <th>4</th>\n",
              "      <td>0.641874</td>\n",
              "      <td>0.006151</td>\n",
              "      <td>0.662517</td>\n",
              "      <td>0.011975</td>\n",
              "    </tr>\n",
              "    <tr>\n",
              "      <th>5</th>\n",
              "      <td>0.582477</td>\n",
              "      <td>0.006543</td>\n",
              "      <td>0.608077</td>\n",
              "      <td>0.013172</td>\n",
              "    </tr>\n",
              "    <tr>\n",
              "      <th>6</th>\n",
              "      <td>0.530642</td>\n",
              "      <td>0.006694</td>\n",
              "      <td>0.562257</td>\n",
              "      <td>0.016395</td>\n",
              "    </tr>\n",
              "    <tr>\n",
              "      <th>7</th>\n",
              "      <td>0.484445</td>\n",
              "      <td>0.006883</td>\n",
              "      <td>0.520560</td>\n",
              "      <td>0.020744</td>\n",
              "    </tr>\n",
              "    <tr>\n",
              "      <th>8</th>\n",
              "      <td>0.443772</td>\n",
              "      <td>0.006678</td>\n",
              "      <td>0.483261</td>\n",
              "      <td>0.020576</td>\n",
              "    </tr>\n",
              "    <tr>\n",
              "      <th>9</th>\n",
              "      <td>0.407615</td>\n",
              "      <td>0.007206</td>\n",
              "      <td>0.451485</td>\n",
              "      <td>0.022554</td>\n",
              "    </tr>\n",
              "    <tr>\n",
              "      <th>10</th>\n",
              "      <td>0.375168</td>\n",
              "      <td>0.007609</td>\n",
              "      <td>0.422796</td>\n",
              "      <td>0.024787</td>\n",
              "    </tr>\n",
              "    <tr>\n",
              "      <th>11</th>\n",
              "      <td>0.346261</td>\n",
              "      <td>0.007600</td>\n",
              "      <td>0.396275</td>\n",
              "      <td>0.027021</td>\n",
              "    </tr>\n",
              "    <tr>\n",
              "      <th>12</th>\n",
              "      <td>0.319355</td>\n",
              "      <td>0.006546</td>\n",
              "      <td>0.372993</td>\n",
              "      <td>0.029791</td>\n",
              "    </tr>\n",
              "    <tr>\n",
              "      <th>13</th>\n",
              "      <td>0.295460</td>\n",
              "      <td>0.005932</td>\n",
              "      <td>0.353544</td>\n",
              "      <td>0.031727</td>\n",
              "    </tr>\n",
              "    <tr>\n",
              "      <th>14</th>\n",
              "      <td>0.274107</td>\n",
              "      <td>0.006069</td>\n",
              "      <td>0.336912</td>\n",
              "      <td>0.033661</td>\n",
              "    </tr>\n",
              "    <tr>\n",
              "      <th>15</th>\n",
              "      <td>0.254682</td>\n",
              "      <td>0.006052</td>\n",
              "      <td>0.319239</td>\n",
              "      <td>0.035084</td>\n",
              "    </tr>\n",
              "    <tr>\n",
              "      <th>16</th>\n",
              "      <td>0.237113</td>\n",
              "      <td>0.005940</td>\n",
              "      <td>0.304256</td>\n",
              "      <td>0.035246</td>\n",
              "    </tr>\n",
              "    <tr>\n",
              "      <th>17</th>\n",
              "      <td>0.221288</td>\n",
              "      <td>0.006386</td>\n",
              "      <td>0.290370</td>\n",
              "      <td>0.037163</td>\n",
              "    </tr>\n",
              "    <tr>\n",
              "      <th>18</th>\n",
              "      <td>0.206624</td>\n",
              "      <td>0.006316</td>\n",
              "      <td>0.278674</td>\n",
              "      <td>0.037439</td>\n",
              "    </tr>\n",
              "    <tr>\n",
              "      <th>19</th>\n",
              "      <td>0.193463</td>\n",
              "      <td>0.006930</td>\n",
              "      <td>0.267999</td>\n",
              "      <td>0.038549</td>\n",
              "    </tr>\n",
              "    <tr>\n",
              "      <th>20</th>\n",
              "      <td>0.181286</td>\n",
              "      <td>0.006841</td>\n",
              "      <td>0.260009</td>\n",
              "      <td>0.040860</td>\n",
              "    </tr>\n",
              "    <tr>\n",
              "      <th>21</th>\n",
              "      <td>0.170595</td>\n",
              "      <td>0.006447</td>\n",
              "      <td>0.252452</td>\n",
              "      <td>0.041312</td>\n",
              "    </tr>\n",
              "    <tr>\n",
              "      <th>22</th>\n",
              "      <td>0.160096</td>\n",
              "      <td>0.006074</td>\n",
              "      <td>0.245681</td>\n",
              "      <td>0.042193</td>\n",
              "    </tr>\n",
              "    <tr>\n",
              "      <th>23</th>\n",
              "      <td>0.150692</td>\n",
              "      <td>0.005999</td>\n",
              "      <td>0.239537</td>\n",
              "      <td>0.042814</td>\n",
              "    </tr>\n",
              "    <tr>\n",
              "      <th>24</th>\n",
              "      <td>0.142128</td>\n",
              "      <td>0.006165</td>\n",
              "      <td>0.234199</td>\n",
              "      <td>0.044483</td>\n",
              "    </tr>\n",
              "    <tr>\n",
              "      <th>25</th>\n",
              "      <td>0.134072</td>\n",
              "      <td>0.006110</td>\n",
              "      <td>0.228781</td>\n",
              "      <td>0.046630</td>\n",
              "    </tr>\n",
              "    <tr>\n",
              "      <th>26</th>\n",
              "      <td>0.127046</td>\n",
              "      <td>0.006080</td>\n",
              "      <td>0.224853</td>\n",
              "      <td>0.047034</td>\n",
              "    </tr>\n",
              "    <tr>\n",
              "      <th>27</th>\n",
              "      <td>0.120096</td>\n",
              "      <td>0.006071</td>\n",
              "      <td>0.221322</td>\n",
              "      <td>0.049238</td>\n",
              "    </tr>\n",
              "    <tr>\n",
              "      <th>28</th>\n",
              "      <td>0.113914</td>\n",
              "      <td>0.005749</td>\n",
              "      <td>0.218443</td>\n",
              "      <td>0.050487</td>\n",
              "    </tr>\n",
              "    <tr>\n",
              "      <th>29</th>\n",
              "      <td>0.108511</td>\n",
              "      <td>0.005665</td>\n",
              "      <td>0.216606</td>\n",
              "      <td>0.052603</td>\n",
              "    </tr>\n",
              "    <tr>\n",
              "      <th>30</th>\n",
              "      <td>0.103520</td>\n",
              "      <td>0.005816</td>\n",
              "      <td>0.214205</td>\n",
              "      <td>0.053637</td>\n",
              "    </tr>\n",
              "    <tr>\n",
              "      <th>31</th>\n",
              "      <td>0.098714</td>\n",
              "      <td>0.005715</td>\n",
              "      <td>0.211735</td>\n",
              "      <td>0.055586</td>\n",
              "    </tr>\n",
              "    <tr>\n",
              "      <th>32</th>\n",
              "      <td>0.094222</td>\n",
              "      <td>0.005766</td>\n",
              "      <td>0.209545</td>\n",
              "      <td>0.057320</td>\n",
              "    </tr>\n",
              "    <tr>\n",
              "      <th>33</th>\n",
              "      <td>0.090114</td>\n",
              "      <td>0.005590</td>\n",
              "      <td>0.207867</td>\n",
              "      <td>0.057911</td>\n",
              "    </tr>\n",
              "    <tr>\n",
              "      <th>34</th>\n",
              "      <td>0.086580</td>\n",
              "      <td>0.005462</td>\n",
              "      <td>0.207497</td>\n",
              "      <td>0.060535</td>\n",
              "    </tr>\n",
              "    <tr>\n",
              "      <th>35</th>\n",
              "      <td>0.083152</td>\n",
              "      <td>0.005461</td>\n",
              "      <td>0.206284</td>\n",
              "      <td>0.061176</td>\n",
              "    </tr>\n",
              "    <tr>\n",
              "      <th>36</th>\n",
              "      <td>0.079859</td>\n",
              "      <td>0.005606</td>\n",
              "      <td>0.205773</td>\n",
              "      <td>0.062950</td>\n",
              "    </tr>\n",
              "    <tr>\n",
              "      <th>37</th>\n",
              "      <td>0.076860</td>\n",
              "      <td>0.005587</td>\n",
              "      <td>0.204687</td>\n",
              "      <td>0.064416</td>\n",
              "    </tr>\n",
              "    <tr>\n",
              "      <th>38</th>\n",
              "      <td>0.074164</td>\n",
              "      <td>0.005444</td>\n",
              "      <td>0.203970</td>\n",
              "      <td>0.067031</td>\n",
              "    </tr>\n",
              "    <tr>\n",
              "      <th>39</th>\n",
              "      <td>0.071570</td>\n",
              "      <td>0.005403</td>\n",
              "      <td>0.202932</td>\n",
              "      <td>0.066797</td>\n",
              "    </tr>\n",
              "    <tr>\n",
              "      <th>40</th>\n",
              "      <td>0.069316</td>\n",
              "      <td>0.005511</td>\n",
              "      <td>0.201780</td>\n",
              "      <td>0.067637</td>\n",
              "    </tr>\n",
              "  </tbody>\n",
              "</table>\n",
              "</div>"
            ],
            "text/plain": [
              "    train-mlogloss-mean  ...  test-mlogloss-std\n",
              "0              0.977897  ...           0.009450\n",
              "1              0.872988  ...           0.012001\n",
              "2              0.785642  ...           0.010647\n",
              "3              0.708423  ...           0.011139\n",
              "4              0.641874  ...           0.011975\n",
              "5              0.582477  ...           0.013172\n",
              "6              0.530642  ...           0.016395\n",
              "7              0.484445  ...           0.020744\n",
              "8              0.443772  ...           0.020576\n",
              "9              0.407615  ...           0.022554\n",
              "10             0.375168  ...           0.024787\n",
              "11             0.346261  ...           0.027021\n",
              "12             0.319355  ...           0.029791\n",
              "13             0.295460  ...           0.031727\n",
              "14             0.274107  ...           0.033661\n",
              "15             0.254682  ...           0.035084\n",
              "16             0.237113  ...           0.035246\n",
              "17             0.221288  ...           0.037163\n",
              "18             0.206624  ...           0.037439\n",
              "19             0.193463  ...           0.038549\n",
              "20             0.181286  ...           0.040860\n",
              "21             0.170595  ...           0.041312\n",
              "22             0.160096  ...           0.042193\n",
              "23             0.150692  ...           0.042814\n",
              "24             0.142128  ...           0.044483\n",
              "25             0.134072  ...           0.046630\n",
              "26             0.127046  ...           0.047034\n",
              "27             0.120096  ...           0.049238\n",
              "28             0.113914  ...           0.050487\n",
              "29             0.108511  ...           0.052603\n",
              "30             0.103520  ...           0.053637\n",
              "31             0.098714  ...           0.055586\n",
              "32             0.094222  ...           0.057320\n",
              "33             0.090114  ...           0.057911\n",
              "34             0.086580  ...           0.060535\n",
              "35             0.083152  ...           0.061176\n",
              "36             0.079859  ...           0.062950\n",
              "37             0.076860  ...           0.064416\n",
              "38             0.074164  ...           0.067031\n",
              "39             0.071570  ...           0.066797\n",
              "40             0.069316  ...           0.067637\n",
              "\n",
              "[41 rows x 4 columns]"
            ]
          },
          "metadata": {
            "tags": []
          },
          "execution_count": 80
        }
      ]
    },
    {
      "cell_type": "code",
      "metadata": {
        "id": "XfVrtLQ2BOnv",
        "colab_type": "code",
        "outputId": "5635792f-88ec-4037-c818-2f46bf9b68d9",
        "colab": {
          "base_uri": "https://localhost:8080/",
          "height": 68
        }
      },
      "source": [
        "print(cvresult.shape)\n",
        "xgb1.set_params(n_estimators=cvresult.shape[0])\n",
        "\n",
        "from sklearn.model_selection import cross_val_score\n",
        "scores = cross_val_score(xgb1, X_train, y_train, cv=5)\n",
        "\n",
        "print(\"Accuracy of cross validation(train): %0.4f (+/- %0.2f)\" % (scores.mean(), scores.std() * 2))\n",
        "\n",
        "scores = cross_val_score(xgb1, X_test, y_test, cv=5)\n",
        "print(\"Accuracy of cross validation(test): %0.4f (+/- %0.2f)\" % (scores.mean(), scores.std() * 2))"
      ],
      "execution_count": 0,
      "outputs": [
        {
          "output_type": "stream",
          "text": [
            "(41, 4)\n",
            "Accuracy of cross validation(train): 0.9500 (+/- 0.08)\n",
            "Accuracy of cross validation(test): 0.9048 (+/- 0.16)\n"
          ],
          "name": "stdout"
        }
      ]
    },
    {
      "cell_type": "code",
      "metadata": {
        "id": "awMOAKTBFwyi",
        "colab_type": "code",
        "outputId": "b66d7a7e-1aa1-483e-ca7f-ce84b0cb2d21",
        "colab": {
          "base_uri": "https://localhost:8080/",
          "height": 363
        }
      },
      "source": [
        "xgb1.fit(X_train, y_train)\n",
        "print(xgb1.feature_importances_)\n",
        "print(xgb1.get_booster().get_fscore())\n",
        "\n",
        "# importance_type = ['weight', 'gain', 'cover', 'total_gain', 'total_cover']\n",
        "print(xgb1.get_booster().get_score(importance_type='weight'))\n",
        "\n",
        "from xgboost import plot_importance\n",
        "plot_importance(xgb1)"
      ],
      "execution_count": 0,
      "outputs": [
        {
          "output_type": "stream",
          "text": [
            "[0.02989605 0.04874194 0.51202303 0.409339  ]\n",
            "{'f2': 174, 'f3': 110, 'f0': 53, 'f1': 60}\n",
            "{'f2': 174, 'f3': 110, 'f0': 53, 'f1': 60}\n"
          ],
          "name": "stdout"
        },
        {
          "output_type": "execute_result",
          "data": {
            "text/plain": [
              "<matplotlib.axes._subplots.AxesSubplot at 0x7f61000ad400>"
            ]
          },
          "metadata": {
            "tags": []
          },
          "execution_count": 95
        },
        {
          "output_type": "display_data",
          "data": {
            "image/png": "[encoded data removed]",
            "text/plain": [
              "<Figure size 432x288 with 1 Axes>"
            ]
          },
          "metadata": {
            "tags": []
          }
        }
      ]
    },
    {
      "cell_type": "markdown",
      "metadata": {
        "id": "luqAEOFxP8-Y",
        "colab_type": "text"
      },
      "source": [
        "### Tuning"
      ]
    },
    {
      "cell_type": "code",
      "metadata": {
        "id": "QmYTz_ldWkTS",
        "colab_type": "code",
        "outputId": "c11437bb-8d07-441b-ee80-4190fcda308c",
        "colab": {
          "base_uri": "https://localhost:8080/",
          "height": 714
        }
      },
      "source": [
        "import sklearn\n",
        "sorted(sklearn.metrics.SCORERS.keys())"
      ],
      "execution_count": 0,
      "outputs": [
        {
          "output_type": "execute_result",
          "data": {
            "text/plain": [
              "['accuracy',\n",
              " 'adjusted_mutual_info_score',\n",
              " 'adjusted_rand_score',\n",
              " 'average_precision',\n",
              " 'balanced_accuracy',\n",
              " 'brier_score_loss',\n",
              " 'completeness_score',\n",
              " 'explained_variance',\n",
              " 'f1',\n",
              " 'f1_macro',\n",
              " 'f1_micro',\n",
              " 'f1_samples',\n",
              " 'f1_weighted',\n",
              " 'fowlkes_mallows_score',\n",
              " 'homogeneity_score',\n",
              " 'jaccard',\n",
              " 'jaccard_macro',\n",
              " 'jaccard_micro',\n",
              " 'jaccard_samples',\n",
              " 'jaccard_weighted',\n",
              " 'max_error',\n",
              " 'mutual_info_score',\n",
              " 'neg_log_loss',\n",
              " 'neg_mean_absolute_error',\n",
              " 'neg_mean_squared_error',\n",
              " 'neg_mean_squared_log_error',\n",
              " 'neg_median_absolute_error',\n",
              " 'normalized_mutual_info_score',\n",
              " 'precision',\n",
              " 'precision_macro',\n",
              " 'precision_micro',\n",
              " 'precision_samples',\n",
              " 'precision_weighted',\n",
              " 'r2',\n",
              " 'recall',\n",
              " 'recall_macro',\n",
              " 'recall_micro',\n",
              " 'recall_samples',\n",
              " 'recall_weighted',\n",
              " 'roc_auc',\n",
              " 'v_measure_score']"
            ]
          },
          "metadata": {
            "tags": []
          },
          "execution_count": 84
        }
      ]
    },
    {
      "cell_type": "markdown",
      "metadata": {
        "id": "NPyJH484SlLG",
        "colab_type": "text"
      },
      "source": [
        "If a best param is on the boundary of the testing interval, we should try another interval to cover it. "
      ]
    },
    {
      "cell_type": "code",
      "metadata": {
        "id": "yyZ0QGsJR9vT",
        "colab_type": "code",
        "outputId": "4577680b-5781-47f1-e8be-16195ed769ed",
        "colab": {
          "base_uri": "https://localhost:8080/",
          "height": 34
        }
      },
      "source": [
        "param_test1 = {\n",
        "    'max_depth':range(3,10,2),\n",
        "    'min_child_weight':range(1,6,2)}\n",
        "\n",
        "gsearch1 = GridSearchCV(estimator = XGBClassifier(\n",
        "    learning_rate=0.1, n_estimators=41, max_depth=5,\n",
        "    min_child_weight=1, gamma=0, subsample=0.8, colsample_bytree=0.8,\n",
        "    objective= 'multi:softprob', nthread=4, scale_pos_weight=1, seed=27), \n",
        "    param_grid = param_test1, scoring='accuracy', n_jobs=4, iid=False, cv=5)\n",
        "\n",
        "gsearch1.fit(X_train, y_train)\n",
        "gsearch1.best_params_, gsearch1.best_score_"
      ],
      "execution_count": 0,
      "outputs": [
        {
          "output_type": "execute_result",
          "data": {
            "text/plain": [
              "({'max_depth': 3, 'min_child_weight': 1}, 0.9499710144927537)"
            ]
          },
          "metadata": {
            "tags": []
          },
          "execution_count": 85
        }
      ]
    },
    {
      "cell_type": "code",
      "metadata": {
        "id": "xu9F8BLoTcHe",
        "colab_type": "code",
        "outputId": "3bce2c19-dc31-42d4-ce68-5f3b9beefb61",
        "colab": {
          "base_uri": "https://localhost:8080/",
          "height": 34
        }
      },
      "source": [
        "param_test2 = {\n",
        "    'max_depth':[1, 2, 3, 4],\n",
        "    'min_child_weight':[1, 2, 3]\n",
        "}\n",
        "gsearch2 = GridSearchCV(estimator = XGBClassifier(\n",
        "    learning_rate=0.1, n_estimators=41, max_depth=3,\n",
        "    min_child_weight=1, gamma=0, subsample=0.8, colsample_bytree=0.8,\n",
        "    objective= 'multi:softprob', nthread=4, scale_pos_weight=1, seed=27), \n",
        "    param_grid = param_test2, scoring='accuracy', n_jobs=4,iid=False, cv=5)\n",
        "\n",
        "gsearch2.fit(X_train, y_train)\n",
        "gsearch2.best_params_, gsearch2.best_score_"
      ],
      "execution_count": 0,
      "outputs": [
        {
          "output_type": "execute_result",
          "data": {
            "text/plain": [
              "({'max_depth': 1, 'min_child_weight': 1}, 0.9583043478260869)"
            ]
          },
          "metadata": {
            "tags": []
          },
          "execution_count": 86
        }
      ]
    },
    {
      "cell_type": "code",
      "metadata": {
        "id": "v7B_ukwu28kM",
        "colab_type": "code",
        "outputId": "f537357e-8d65-4b4c-85cc-4f80ff5ff309",
        "colab": {
          "base_uri": "https://localhost:8080/",
          "height": 34
        }
      },
      "source": [
        "param_test3 = {\n",
        " 'gamma':[i/10.0 for i in range(0,5)]\n",
        "}\n",
        "gsearch2 = GridSearchCV(estimator = XGBClassifier(\n",
        "    learning_rate=0.1, n_estimators=41, max_depth=1,\n",
        "    min_child_weight=1, gamma=0, subsample=0.8, colsample_bytree=0.8,\n",
        "    objective= 'multi:softprob', nthread=4, scale_pos_weight=1, seed=27), \n",
        "    param_grid = param_test3, scoring='accuracy', n_jobs=4,iid=False, cv=5)\n",
        "\n",
        "gsearch2.fit(X_train, y_train)\n",
        "gsearch2.best_params_, gsearch2.best_score_"
      ],
      "execution_count": 0,
      "outputs": [
        {
          "output_type": "execute_result",
          "data": {
            "text/plain": [
              "({'gamma': 0.0}, 0.9583043478260869)"
            ]
          },
          "metadata": {
            "tags": []
          },
          "execution_count": 87
        }
      ]
    },
    {
      "cell_type": "markdown",
      "metadata": {
        "id": "Y_4BeVtyYRrv",
        "colab_type": "text"
      },
      "source": [
        "Before proceeding, a good idea would be to re-calibrate the number of boosting rounds for the updated parameters."
      ]
    },
    {
      "cell_type": "code",
      "metadata": {
        "id": "i9t3xN15Xnxj",
        "colab_type": "code",
        "outputId": "021f29e5-9153-4994-8070-d47e474c3156",
        "colab": {
          "base_uri": "https://localhost:8080/",
          "height": 68
        }
      },
      "source": [
        "xgb2 = XGBClassifier(\n",
        "    learning_rate=0.1,\n",
        "    n_estimators=1000,\n",
        "    max_depth=1,\n",
        "    min_child_weight=1,\n",
        "    gamma=0,\n",
        "    subsample=0.8,\n",
        "    colsample_bytree=0.8,\n",
        "    objective= 'multi:softprob',\n",
        "    num_class=3,\n",
        "    nthread=4,\n",
        "    scale_pos_weight=1,\n",
        "    seed=27)\n",
        "\n",
        "dtrain = xgb.DMatrix(X_train, label=y_train)\n",
        "xgb_param = xgb2.get_xgb_params()\n",
        "cvresult = xgb.cv(xgb_param, dtrain, \n",
        "                  num_boost_round = xgb1.get_params()['n_estimators'], \n",
        "                  nfold=5,\n",
        "                  metrics='mlogloss',\n",
        "                  early_stopping_rounds=50, \n",
        "                  stratified=True)\n",
        "\n",
        "print(\"best number of boosting rounds: \", cvresult.shape[0])\n",
        "xgb2.set_params(n_estimators=cvresult.shape[0])\n",
        "\n",
        "from sklearn.model_selection import cross_val_score\n",
        "scores = cross_val_score(xgb2, X_train, y_train, cv=5)\n",
        "print(\"Accuracy of cross validation(train): %0.4f (+/- %0.2f)\" % (scores.mean(), scores.std() * 2))\n",
        "scores = cross_val_score(xgb2, X_test, y_test, cv=5)\n",
        "print(\"Accuracy of cross validation(test): %0.4f (+/- %0.2f)\" % (scores.mean(), scores.std() * 2))"
      ],
      "execution_count": 0,
      "outputs": [
        {
          "output_type": "stream",
          "text": [
            "best number of boosting rounds:  41\n",
            "Accuracy of cross validation(train): 0.9583 (+/- 0.09)\n",
            "Accuracy of cross validation(test): 0.9048 (+/- 0.16)\n"
          ],
          "name": "stdout"
        }
      ]
    },
    {
      "cell_type": "code",
      "metadata": {
        "id": "6a9XSkgUY35F",
        "colab_type": "code",
        "outputId": "a53f559f-8013-4ae9-817b-e925b95800f9",
        "colab": {
          "base_uri": "https://localhost:8080/",
          "height": 34
        }
      },
      "source": [
        "param_test4 = {\n",
        "    'subsample':[i/10.0 for i in range(6,10)],\n",
        "    'colsample_bytree':[i/10.0 for i in range(6,10)]\n",
        "}\n",
        "gsearch4 = GridSearchCV(estimator = XGBClassifier(\n",
        "    learning_rate=0.1, n_estimators=72, max_depth=1,\n",
        "    min_child_weight=1, gamma=0, subsample=0.8, colsample_bytree=0.8,\n",
        "    objective= 'multi:softprob', nthread=4, scale_pos_weight=1, seed=27), \n",
        "    param_grid = param_test4, scoring='accuracy', n_jobs=4,iid=False, cv=5)\n",
        "\n",
        "gsearch4.fit(X_train, y_train)\n",
        "gsearch4.best_params_, gsearch2.best_score_"
      ],
      "execution_count": 0,
      "outputs": [
        {
          "output_type": "execute_result",
          "data": {
            "text/plain": [
              "({'colsample_bytree': 0.6, 'subsample': 0.6}, 0.9583043478260869)"
            ]
          },
          "metadata": {
            "tags": []
          },
          "execution_count": 89
        }
      ]
    },
    {
      "cell_type": "code",
      "metadata": {
        "id": "ekSly8cNapm0",
        "colab_type": "code",
        "outputId": "22f37de9-adde-4f02-b3a3-55619f47353a",
        "colab": {
          "base_uri": "https://localhost:8080/",
          "height": 34
        }
      },
      "source": [
        "param_test5 = {\n",
        "    'subsample':[i/100.0 for i in range(55,65,5)],\n",
        "    'colsample_bytree':[i/100.0 for i in range(55,65,5)]\n",
        "}\n",
        "gsearch5 = GridSearchCV(estimator = XGBClassifier(\n",
        "    learning_rate=0.1, n_estimators=72, max_depth=1,\n",
        "    min_child_weight=1, gamma=0, subsample=0.6, colsample_bytree=0.6,\n",
        "    objective= 'multi:softprob', nthread=4, scale_pos_weight=1, seed=27), \n",
        "    param_grid = param_test5, scoring='accuracy', n_jobs=4,iid=False, cv=5)\n",
        "\n",
        "gsearch5.fit(X_train, y_train)\n",
        "gsearch5.best_params_, gsearch5.best_score_"
      ],
      "execution_count": 0,
      "outputs": [
        {
          "output_type": "execute_result",
          "data": {
            "text/plain": [
              "({'colsample_bytree': 0.55, 'subsample': 0.6}, 0.9583043478260869)"
            ]
          },
          "metadata": {
            "tags": []
          },
          "execution_count": 90
        }
      ]
    },
    {
      "cell_type": "markdown",
      "metadata": {
        "id": "BnUad05UcmbN",
        "colab_type": "text"
      },
      "source": [
        "Tuning Regularization Parameters"
      ]
    },
    {
      "cell_type": "code",
      "metadata": {
        "id": "6y91yeNLc3oS",
        "colab_type": "code",
        "outputId": "1a7f54ae-c6ea-4aeb-879b-9e78e4b08ef6",
        "colab": {
          "base_uri": "https://localhost:8080/",
          "height": 34
        }
      },
      "source": [
        "param_test6 = {\n",
        "    'reg_alpha':[1e-5, 1e-2, 0.1, 1, 100],\n",
        "    'reg_lambda':[1e-5, 1e-2, 0.1, 1, 100]\n",
        "}\n",
        "\n",
        "gsearch6 = GridSearchCV(estimator = XGBClassifier(\n",
        "    learning_rate=0.1, n_estimators=72, max_depth=1,\n",
        "    min_child_weight=1, gamma=0, subsample=0.6, colsample_bytree=0.55,\n",
        "    objective= 'multi:softprob', nthread=4, scale_pos_weight=1, seed=27), \n",
        "    param_grid = param_test6, scoring='accuracy', n_jobs=4,iid=False, cv=5)\n",
        "\n",
        "gsearch6.fit(X_train, y_train)\n",
        "gsearch6.best_params_, gsearch6.best_score_"
      ],
      "execution_count": 0,
      "outputs": [
        {
          "output_type": "execute_result",
          "data": {
            "text/plain": [
              "({'reg_alpha': 1e-05, 'reg_lambda': 1e-05}, 0.9663043478260869)"
            ]
          },
          "metadata": {
            "tags": []
          },
          "execution_count": 91
        }
      ]
    },
    {
      "cell_type": "code",
      "metadata": {
        "id": "xLoWQqepdF_b",
        "colab_type": "code",
        "outputId": "1a857db1-a620-47c7-e6d8-3f27436367f2",
        "colab": {
          "base_uri": "https://localhost:8080/",
          "height": 34
        }
      },
      "source": [
        "param_test7 = {\n",
        "    'reg_alpha':[0, 1e-6, 5*1e-6, 1e-5, 5*1e-5],\n",
        "    'reg_lambda':[0, 1e-6, 5*1e-6, 1e-5, 5*1e-5]\n",
        "}\n",
        "\n",
        "gsearch7 = GridSearchCV(estimator = XGBClassifier(\n",
        "    learning_rate=0.1, n_estimators=72, max_depth=1,\n",
        "    min_child_weight=1, gamma=0, subsample=0.6, colsample_bytree=0.55,\n",
        "    objective= 'multi:softprob', nthread=4, scale_pos_weight=1, seed=27), \n",
        "    param_grid = param_test7, scoring='accuracy', n_jobs=4,iid=False, cv=5)\n",
        "\n",
        "gsearch7.fit(X_train, y_train)\n",
        "gsearch7.best_params_, gsearch7.best_score_"
      ],
      "execution_count": 0,
      "outputs": [
        {
          "output_type": "execute_result",
          "data": {
            "text/plain": [
              "({'reg_alpha': 0, 'reg_lambda': 0}, 0.9663043478260869)"
            ]
          },
          "metadata": {
            "tags": []
          },
          "execution_count": 92
        }
      ]
    },
    {
      "cell_type": "code",
      "metadata": {
        "id": "KHzXtd-BdX5k",
        "colab_type": "code",
        "outputId": "05a88e89-677b-466e-b4eb-be81f63e0a1b",
        "colab": {
          "base_uri": "https://localhost:8080/",
          "height": 68
        }
      },
      "source": [
        "xgb3 = XGBClassifier(\n",
        "    learning_rate=0.1,\n",
        "    n_estimators=1000,\n",
        "    max_depth=1,\n",
        "    min_child_weight=1,\n",
        "    gamma=0,\n",
        "    subsample=0.6,\n",
        "    colsample_bytree=0.55,\n",
        "    reg_alpha=0,\n",
        "    reg_lambda=0,\n",
        "    objective= 'multi:softprob',\n",
        "    num_class=3,\n",
        "    nthread=4,\n",
        "    scale_pos_weight=1,\n",
        "    seed=27)\n",
        "\n",
        "dtrain = xgb.DMatrix(X_train, label=y_train)\n",
        "xgb_param = xgb3.get_xgb_params()\n",
        "cvresult = xgb.cv(xgb_param, dtrain, \n",
        "                  num_boost_round = xgb1.get_params()['n_estimators'], \n",
        "                  nfold=5,\n",
        "                  metrics='mlogloss',\n",
        "                  early_stopping_rounds=50, \n",
        "                  stratified=True)\n",
        "\n",
        "print(\"best number of boosting rounds: \", cvresult.shape[0])\n",
        "xgb3.set_params(n_estimators=cvresult.shape[0])\n",
        "\n",
        "from sklearn.model_selection import cross_val_score\n",
        "scores = cross_val_score(xgb3, X_train, y_train, cv=5)\n",
        "print(\"Accuracy of cross validation(train): %0.4f (+/- %0.2f)\" % (scores.mean(), scores.std() * 2))\n",
        "scores = cross_val_score(xgb3, X_test, y_test, cv=5)\n",
        "print(\"Accuracy of cross validation(test): %0.4f (+/- %0.2f)\" % (scores.mean(), scores.std() * 2))"
      ],
      "execution_count": 0,
      "outputs": [
        {
          "output_type": "stream",
          "text": [
            "best number of boosting rounds:  41\n",
            "Accuracy of cross validation(train): 0.9663 (+/- 0.10)\n",
            "Accuracy of cross validation(test): 0.9667 (+/- 0.13)\n"
          ],
          "name": "stdout"
        }
      ]
    },
    {
      "cell_type": "markdown",
      "metadata": {
        "id": "518tSMCkg-Va",
        "colab_type": "text"
      },
      "source": [
        "Reducing Learning Rate"
      ]
    },
    {
      "cell_type": "code",
      "metadata": {
        "id": "Eh1MIEp_g-8W",
        "colab_type": "code",
        "outputId": "640f3f54-dcae-4805-e54a-581f0ecb18ce",
        "colab": {
          "base_uri": "https://localhost:8080/",
          "height": 68
        }
      },
      "source": [
        "final_params = {\n",
        "    'learning_rate': 0.08,\n",
        "    'n_estimators': 1000,\n",
        "    'max_depth': 1,\n",
        "    'min_child_weight': 1,\n",
        "    'gamma': 0,\n",
        "    'subsample': 0.6,\n",
        "    'colsample_bytree': 0.55,\n",
        "    'reg_alpha': 0,\n",
        "    'reg_lambda': 0,\n",
        "    'objective': 'multi:softmax',\n",
        "    'num_class': 3,\n",
        "    'nthread': 4,\n",
        "    'scale_pos_weight': 1,\n",
        "    'seed': 27 }\n",
        "\n",
        "xgb4 = XGBClassifier(**final_params)\n",
        "\n",
        "dtrain = xgb.DMatrix(X_train, label=y_train)\n",
        "xgb_param = xgb4.get_xgb_params()\n",
        "cvresult = xgb.cv(xgb_param, dtrain, \n",
        "                  num_boost_round = xgb1.get_params()['n_estimators'], \n",
        "                  nfold=5,\n",
        "                  metrics='mlogloss',\n",
        "                  early_stopping_rounds=50, \n",
        "                  stratified=True)\n",
        "\n",
        "print(\"best number of boosting rounds: \", cvresult.shape[0])\n",
        "xgb4.set_params(n_estimators=cvresult.shape[0])\n",
        "\n",
        "from sklearn.model_selection import cross_val_score\n",
        "scores = cross_val_score(xgb4, X_train, y_train, cv=5)\n",
        "print(\"Accuracy of cross validation(train): %0.4f (+/- %0.2f)\" % (scores.mean(), scores.std() * 2))\n",
        "scores = cross_val_score(xgb4, X_test, y_test, cv=5)\n",
        "print(\"Accuracy of cross validation(test): %0.4f (+/- %0.2f)\" % (scores.mean(), scores.std() * 2))"
      ],
      "execution_count": 99,
      "outputs": [
        {
          "output_type": "stream",
          "text": [
            "best number of boosting rounds:  41\n",
            "Accuracy of cross validation(train): 0.9663 (+/- 0.10)\n",
            "Accuracy of cross validation(test): 0.9333 (+/- 0.16)\n"
          ],
          "name": "stdout"
        }
      ]
    },
    {
      "cell_type": "code",
      "metadata": {
        "id": "UllavcEqgmj_",
        "colab_type": "code",
        "colab": {
          "base_uri": "https://localhost:8080/",
          "height": 238
        },
        "outputId": "4089ee8e-6ff1-4cf0-d474-0b49d131c2d4"
      },
      "source": [
        "from sklearn.metrics import classification_report, confusion_matrix\n",
        "xgb4.fit(X_train, y_train)\n",
        "predict_y = xgb4.predict(X_test)\n",
        "print(classification_report(y_test, \n",
        "                            predict_y, \n",
        "                            target_names=['setosa', 'versicolor', 'virginica']))\n",
        "print(confusion_matrix(y_test, predict_y))"
      ],
      "execution_count": 109,
      "outputs": [
        {
          "output_type": "stream",
          "text": [
            "              precision    recall  f1-score   support\n",
            "\n",
            "      setosa       1.00      1.00      1.00        10\n",
            "  versicolor       1.00      1.00      1.00         9\n",
            "   virginica       1.00      1.00      1.00        11\n",
            "\n",
            "    accuracy                           1.00        30\n",
            "   macro avg       1.00      1.00      1.00        30\n",
            "weighted avg       1.00      1.00      1.00        30\n",
            "\n",
            "[[10  0  0]\n",
            " [ 0  9  0]\n",
            " [ 0  0 11]]\n"
          ],
          "name": "stdout"
        }
      ]
    },
    {
      "cell_type": "code",
      "metadata": {
        "id": "siGlIhEyg0BL",
        "colab_type": "code",
        "colab": {}
      },
      "source": [
        ""
      ],
      "execution_count": 0,
      "outputs": []
    }
  ]
}