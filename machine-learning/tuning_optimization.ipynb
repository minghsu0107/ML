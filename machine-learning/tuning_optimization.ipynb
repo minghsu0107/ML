{
  "nbformat": 4,
  "nbformat_minor": 0,
  "metadata": {
    "colab": {
      "name": "tuning_optimization.ipynb",
      "version": "0.3.2",
      "provenance": [],
      "collapsed_sections": [
        "0L8TY6_92a_1",
        "3l-SdHcfCBvc",
        "5B91u88vm4-E",
        "Hn1BJGWJKEAC"
      ],
      "toc_visible": true,
      "include_colab_link": true
    },
    "kernelspec": {
      "name": "python3",
      "display_name": "Python 3"
    },
    "accelerator": "GPU"
  },
  "cells": [
    {
      "cell_type": "markdown",
      "metadata": {
        "id": "view-in-github",
        "colab_type": "text"
      },
      "source": [
        "<a href=\"https://colab.research.google.com/github/minghsu0107/ML/blob/master/machine-learning/tuning_optimization.ipynb\" target=\"_parent\"><img src=\"https://colab.research.google.com/assets/colab-badge.svg\" alt=\"Open In Colab\"/></a>"
      ]
    },
    {
      "cell_type": "markdown",
      "metadata": {
        "id": "W6teCpC4IrR-",
        "colab_type": "text"
      },
      "source": [
        "# Bayesian Optimization"
      ]
    },
    {
      "cell_type": "markdown",
      "metadata": {
        "id": "kvhsCd0BI3i8",
        "colab_type": "text"
      },
      "source": [
        "The one-sentence summary of Bayesian hyperparameter optimization is: build a probability model of the objective function and use it to select the most promising hyperparameters to evaluate in the true objective function.\n",
        "\n",
        "1. Build a surrogate probability model of the objective function\n",
        "2. Find the hyperparameters that perform best on the surrogate\n",
        "3. Apply these hyperparameters to the true objective function\n",
        "4. Update the surrogate model incorporating the new results\n",
        "Repeat steps 2–4 until max iterations or time is reached"
      ]
    },
    {
      "cell_type": "markdown",
      "metadata": {
        "id": "0L8TY6_92a_1",
        "colab_type": "text"
      },
      "source": [
        "## gaussian process-based optimization"
      ]
    },
    {
      "cell_type": "code",
      "metadata": {
        "id": "Th2BTgZwug6o",
        "colab_type": "code",
        "colab": {}
      },
      "source": [
        "import numpy as np\n",
        "import matplotlib.pyplot as plt\n",
        "\n",
        "from sklearn.datasets import load_boston\n",
        "from sklearn.ensemble import GradientBoostingRegressor\n",
        "from sklearn.model_selection import cross_val_score\n",
        "\n",
        "boston = load_boston()\n",
        "X, y = boston.data, boston.target\n",
        "n_features = X.shape[1]\n",
        "\n",
        "# gradient boosted trees tend to do well on problems like this\n",
        "reg = GradientBoostingRegressor(n_estimators=50, random_state=0)"
      ],
      "execution_count": 0,
      "outputs": []
    },
    {
      "cell_type": "code",
      "metadata": {
        "id": "-eGuSXEhx1IF",
        "colab_type": "code",
        "colab": {}
      },
      "source": [
        "from skopt.space import Real, Integer\n",
        "from skopt.utils import use_named_args\n",
        "\n",
        "\n",
        "# The list of hyper-parameters we want to optimize. For each one we define the bounds,\n",
        "# the corresponding scikit-learn parameter name, as well as how to sample values\n",
        "# from that dimension (`'log-uniform'` for the learning rate)\n",
        "space  = [Integer(1, 5, name='max_depth'),\n",
        "          Real(10**-5, 10**0, \"log-uniform\", name='learning_rate'),\n",
        "          Integer(1, n_features, name='max_features'),\n",
        "          Integer(2, 100, name='min_samples_split'),\n",
        "          Integer(1, 100, name='min_samples_leaf')]\n",
        "\n",
        "# If you have a search-space where all dimensions have names, \n",
        "# then you can use skopt.utils.use_named_args as a decorator on your objective function, \n",
        "# in order to call it directly with the named arguments.\n",
        "@use_named_args(space)\n",
        "def objective(**params):\n",
        "    reg.set_params(**params)\n",
        "\n",
        "    return -np.mean(cross_val_score(reg, X, y, cv=5, n_jobs=-1,\n",
        "                                    scoring=\"neg_mean_absolute_error\"))"
      ],
      "execution_count": 0,
      "outputs": []
    },
    {
      "cell_type": "code",
      "metadata": {
        "id": "CzlrN_-5yvSM",
        "colab_type": "code",
        "outputId": "71328d99-c6a0-4e6a-b90f-714c8da16dc8",
        "colab": {
          "base_uri": "https://localhost:8080/",
          "height": 34
        }
      },
      "source": [
        "from skopt import gp_minimize\n",
        "res_gp = gp_minimize(objective, space, n_calls=50, random_state=0)\n",
        "\n",
        "\"Best score=%.4f\" % res_gp.fun"
      ],
      "execution_count": 0,
      "outputs": [
        {
          "output_type": "execute_result",
          "data": {
            "text/plain": [
              "'Best score=2.9453'"
            ]
          },
          "metadata": {
            "tags": []
          },
          "execution_count": 23
        }
      ]
    },
    {
      "cell_type": "code",
      "metadata": {
        "id": "qz3Nbatly0s5",
        "colab_type": "code",
        "outputId": "203d3b31-545d-44d5-f718-b706e9d4dac0",
        "colab": {
          "base_uri": "https://localhost:8080/",
          "height": 119
        }
      },
      "source": [
        "print(\"\"\"Best parameters:\n",
        "- max_depth=%d\n",
        "- learning_rate=%.6f\n",
        "- max_features=%d\n",
        "- min_samples_split=%d\n",
        "- min_samples_leaf=%d\"\"\" % (res_gp.x[0], res_gp.x[1], \n",
        "                            res_gp.x[2], res_gp.x[3], \n",
        "                            res_gp.x[4]))"
      ],
      "execution_count": 0,
      "outputs": [
        {
          "output_type": "stream",
          "text": [
            "Best parameters:\n",
            "- max_depth=5\n",
            "- learning_rate=0.106481\n",
            "- max_features=11\n",
            "- min_samples_split=100\n",
            "- min_samples_leaf=1\n"
          ],
          "name": "stdout"
        }
      ]
    },
    {
      "cell_type": "code",
      "metadata": {
        "id": "NCpaM-j8z2Qq",
        "colab_type": "code",
        "outputId": "d489bd8e-f3e9-4c7b-ba34-1ea79ed3d726",
        "colab": {
          "base_uri": "https://localhost:8080/",
          "height": 314
        }
      },
      "source": [
        "from skopt.plots import plot_convergence\n",
        "\n",
        "plot_convergence(res_gp)"
      ],
      "execution_count": 0,
      "outputs": [
        {
          "output_type": "execute_result",
          "data": {
            "text/plain": [
              "<matplotlib.axes._subplots.AxesSubplot at 0x7f962fa0a5c0>"
            ]
          },
          "metadata": {
            "tags": []
          },
          "execution_count": 25
        },
        {
          "output_type": "display_data",
          "data": {
            "image/png": "[encoded data removed]",
            "text/plain": [
              "<Figure size 432x288 with 1 Axes>"
            ]
          },
          "metadata": {
            "tags": []
          }
        }
      ]
    },
    {
      "cell_type": "markdown",
      "metadata": {
        "id": "3l-SdHcfCBvc",
        "colab_type": "text"
      },
      "source": [
        "## More gaussian process"
      ]
    },
    {
      "cell_type": "markdown",
      "metadata": {
        "id": "TikAWWU3Pz-q",
        "colab_type": "text"
      },
      "source": [
        "In contrast to GridSearchCV, not all parameter values are tried out, but rather a fixed number of parameter settings is sampled from the specified distributions. The number of parameter settings that are tried is given by n_iter(default=50)."
      ]
    },
    {
      "cell_type": "code",
      "metadata": {
        "id": "LOqtpS4GY2cn",
        "colab_type": "code",
        "outputId": "dc60e30c-eab3-42d7-a055-664ce16faf78",
        "colab": {
          "base_uri": "https://localhost:8080/",
          "height": 293
        }
      },
      "source": [
        "!pip3 install scikit-learn==0.20.3"
      ],
      "execution_count": 0,
      "outputs": [
        {
          "output_type": "stream",
          "text": [
            "Collecting scikit-learn==0.20.3\n",
            "\u001b[?25l  Downloading https://files.pythonhosted.org/packages/5e/82/c0de5839d613b82bddd088599ac0bbfbbbcbd8ca470680658352d2c435bd/scikit_learn-0.20.3-cp36-cp36m-manylinux1_x86_64.whl (5.4MB)\n",
            "\u001b[K     |████████████████████████████████| 5.4MB 6.6MB/s \n",
            "\u001b[?25hRequirement already satisfied: scipy>=0.13.3 in /usr/local/lib/python3.6/dist-packages (from scikit-learn==0.20.3) (1.3.1)\n",
            "Requirement already satisfied: numpy>=1.8.2 in /usr/local/lib/python3.6/dist-packages (from scikit-learn==0.20.3) (1.16.4)\n",
            "Installing collected packages: scikit-learn\n",
            "  Found existing installation: scikit-learn 0.21.3\n",
            "    Uninstalling scikit-learn-0.21.3:\n",
            "      Successfully uninstalled scikit-learn-0.21.3\n",
            "Successfully installed scikit-learn-0.20.3\n"
          ],
          "name": "stdout"
        },
        {
          "output_type": "display_data",
          "data": {
            "application/vnd.colab-display-data+json": {
              "pip_warning": {
                "packages": [
                  "sklearn"
                ]
              }
            }
          },
          "metadata": {
            "tags": []
          }
        }
      ]
    },
    {
      "cell_type": "code",
      "metadata": {
        "id": "MKMO7gEEDD9A",
        "colab_type": "code",
        "outputId": "d7f91bcd-6c08-4f3e-ec3f-d6b31b7f4c23",
        "colab": {
          "base_uri": "https://localhost:8080/",
          "height": 119
        }
      },
      "source": [
        "from skopt import BayesSearchCV\n",
        "from sklearn.datasets import load_digits\n",
        "from sklearn.svm import SVC\n",
        "from sklearn.model_selection import train_test_split\n",
        "\n",
        "X, y = load_digits(10, True)\n",
        "X_train, X_test, y_train, y_test = train_test_split(X, y, train_size=0.75, test_size=.25, random_state=0)\n",
        "\n",
        "\n",
        "# log-uniform: understand as search over p = exp(x) by varying x\n",
        "opt = BayesSearchCV(\n",
        "    SVC(),\n",
        "    search_spaces = {\n",
        "        'C': (1e-6, 1e+6, 'log-uniform'),  \n",
        "        'gamma': (1e-6, 1e+1, 'log-uniform'),\n",
        "        'degree': (1, 8),  # integer valued parameter\n",
        "        'kernel': ['linear', 'poly', 'rbf']  # categorical parameter\n",
        "    },\n",
        "    n_iter=32,\n",
        "    cv=3\n",
        ")\n",
        "\n",
        "opt.fit(X_train, y_train)\n",
        "\n",
        "print(\"val. score: %s\" % opt.best_score_)\n",
        "print(\"test score: %s\" % opt.score(X_test, y_test))\n",
        "opt.best_params_"
      ],
      "execution_count": 0,
      "outputs": [
        {
          "output_type": "stream",
          "text": [
            "val. score: 0.991833704528582\n",
            "test score: 0.9933333333333333\n"
          ],
          "name": "stdout"
        },
        {
          "output_type": "execute_result",
          "data": {
            "text/plain": [
              "{'C': 39.677110302416466,\n",
              " 'degree': 3,\n",
              " 'gamma': 0.0006991037058299821,\n",
              " 'kernel': 'rbf'}"
            ]
          },
          "metadata": {
            "tags": []
          },
          "execution_count": 21
        }
      ]
    },
    {
      "cell_type": "code",
      "metadata": {
        "id": "Ja6BmHjzEPKl",
        "colab_type": "code",
        "outputId": "fdea095b-54ef-4bf6-842d-379b22f00e39",
        "colab": {
          "base_uri": "https://localhost:8080/",
          "height": 34
        }
      },
      "source": [
        "clf = SVC()\n",
        "clf.set_params(**opt.best_params_)\n",
        "clf.fit(X_train, y_train)\n",
        "print(clf.score(X_test, y_test))"
      ],
      "execution_count": 0,
      "outputs": [
        {
          "output_type": "stream",
          "text": [
            "0.9755555555555555\n"
          ],
          "name": "stdout"
        }
      ]
    },
    {
      "cell_type": "code",
      "metadata": {
        "id": "thz9hR47FGwY",
        "colab_type": "code",
        "outputId": "ee1b062c-a6be-41fb-b76f-4f920fd1e809",
        "colab": {
          "base_uri": "https://localhost:8080/",
          "height": 295
        }
      },
      "source": [
        "from skopt import BayesSearchCV\n",
        "\n",
        "from sklearn.datasets import load_iris\n",
        "from sklearn.svm import SVC\n",
        "\n",
        "X, y = load_iris(True)\n",
        "\n",
        "searchcv = BayesSearchCV(\n",
        "    SVC(),\n",
        "    search_spaces={'C': (0.01, 100.0, 'log-uniform')},\n",
        "    n_iter=10,\n",
        "    verbose=0,\n",
        "    scoring=\"precision_macro\"\n",
        ")\n",
        "\n",
        "def on_step(optim_result):\n",
        "    score = searchcv.best_score_\n",
        "    print(\"best score: %s\" % score)\n",
        "    if score >= 0.98:\n",
        "        print('Interrupting!')\n",
        "        return True\n",
        "\n",
        "searchcv.fit(X, y, callback=on_step)\n",
        "print(\"val. score: %s\" % searchcv.best_score_)\n",
        "searchcv.best_params_"
      ],
      "execution_count": 0,
      "outputs": [
        {
          "output_type": "stream",
          "text": [
            "best score: 0.9817738791423002\n",
            "Interrupting!\n",
            "val. score: 0.9817738791423002\n"
          ],
          "name": "stdout"
        },
        {
          "output_type": "stream",
          "text": [
            "/usr/local/lib/python3.6/dist-packages/sklearn/model_selection/_split.py:2053: FutureWarning: You should specify a value for 'cv' instead of relying on the default value. The default value will change from 3 to 5 in version 0.22.\n",
            "  warnings.warn(CV_WARNING, FutureWarning)\n",
            "/usr/local/lib/python3.6/dist-packages/sklearn/svm/base.py:196: FutureWarning: The default value of gamma will change from 'auto' to 'scale' in version 0.22 to account better for unscaled features. Set gamma explicitly to 'auto' or 'scale' to avoid this warning.\n",
            "  \"avoid this warning.\", FutureWarning)\n",
            "/usr/local/lib/python3.6/dist-packages/sklearn/svm/base.py:196: FutureWarning: The default value of gamma will change from 'auto' to 'scale' in version 0.22 to account better for unscaled features. Set gamma explicitly to 'auto' or 'scale' to avoid this warning.\n",
            "  \"avoid this warning.\", FutureWarning)\n",
            "/usr/local/lib/python3.6/dist-packages/sklearn/svm/base.py:196: FutureWarning: The default value of gamma will change from 'auto' to 'scale' in version 0.22 to account better for unscaled features. Set gamma explicitly to 'auto' or 'scale' to avoid this warning.\n",
            "  \"avoid this warning.\", FutureWarning)\n",
            "/usr/local/lib/python3.6/dist-packages/sklearn/svm/base.py:196: FutureWarning: The default value of gamma will change from 'auto' to 'scale' in version 0.22 to account better for unscaled features. Set gamma explicitly to 'auto' or 'scale' to avoid this warning.\n",
            "  \"avoid this warning.\", FutureWarning)\n"
          ],
          "name": "stderr"
        },
        {
          "output_type": "execute_result",
          "data": {
            "text/plain": [
              "{'C': 5.393251930490651}"
            ]
          },
          "metadata": {
            "tags": []
          },
          "execution_count": 34
        }
      ]
    },
    {
      "cell_type": "code",
      "metadata": {
        "id": "xeX9KcwOFMoV",
        "colab_type": "code",
        "outputId": "44a152ad-9e73-4613-8918-58515e580f3b",
        "colab": {
          "base_uri": "https://localhost:8080/",
          "height": 281
        }
      },
      "source": [
        "from skopt import BayesSearchCV\n",
        "from sklearn.model_selection import GridSearchCV\n",
        "from sklearn.linear_model import LogisticRegression\n",
        "from sklearn.naive_bayes import GaussianNB \n",
        "from sklearn.ensemble import RandomForestClassifier\n",
        "from mlxtend.classifier import EnsembleVoteClassifier\n",
        "from sklearn.pipeline import Pipeline\n",
        "from mlxtend.feature_selection import SequentialFeatureSelector\n",
        "import warnings\n",
        "\n",
        "warnings.simplefilter('ignore')\n",
        "from sklearn import datasets\n",
        "\n",
        "iris = datasets.load_iris()\n",
        "X, y = iris.data[:, :], iris.target\n",
        "\n",
        "\n",
        "clf1 = LogisticRegression(random_state=1)\n",
        "clf2 = RandomForestClassifier(random_state=1)\n",
        "clf3 = GaussianNB()\n",
        "\n",
        "# Creating a feature-selection-classifier pipeline\n",
        "\n",
        "sfs1 = SequentialFeatureSelector(clf1, \n",
        "                                 k_features=4,\n",
        "                                 forward=True, \n",
        "                                 floating=False, \n",
        "                                 scoring='accuracy',\n",
        "                                 verbose=0,\n",
        "                                 cv=0)\n",
        "\n",
        "clf1_pipe = Pipeline([('sfs', sfs1),\n",
        "                      ('logreg', clf1)])\n",
        "\n",
        "eclf = EnsembleVoteClassifier(clfs=[clf1_pipe, clf2, clf3], \n",
        "                              voting='soft')\n",
        "\n",
        "\n",
        "params = {'pipeline__sfs__k_features': [1, 2, 3],\n",
        "          'pipeline__logreg__C': (1.0, 100.0, 'log-uniform'),\n",
        "          'randomforestclassifier__n_estimators': (20, 200)}\n",
        "# if scoring = None, use the estimator's score method(same as GridSearchCV)\n",
        "searchcv = BayesSearchCV(\n",
        "    eclf,\n",
        "    search_spaces=params,\n",
        "    n_iter=40,\n",
        "    verbose=0,\n",
        "    scoring=\"precision_macro\"\n",
        ")\n",
        "searchcv.fit(X, y)"
      ],
      "execution_count": 0,
      "outputs": [
        {
          "output_type": "execute_result",
          "data": {
            "text/plain": [
              "BayesSearchCV(cv=None, error_score='raise',\n",
              "       estimator=EnsembleVoteClassifier(clfs=[Pipeline(memory=None,\n",
              "     steps=[('sfs', SequentialFeatureSelector(clone_estimator=True, cv=0,\n",
              "             estimator=LogisticRegression(C=1.0, class_weight=None, dual=False, fit_intercept=True,\n",
              "          intercept_scaling=1, max_iter=100, multi_class='warn',\n",
              "...(priors=None, var_smoothing=1e-09)],\n",
              "            refit=True, verbose=0, voting='soft', weights=None),\n",
              "       fit_params=None, iid=True, n_iter=40, n_jobs=1, n_points=1,\n",
              "       optimizer_kwargs=None, pre_dispatch='2*n_jobs', random_state=None,\n",
              "       refit=True, return_train_score=False, scoring='precision_macro',\n",
              "       search_spaces={'pipeline__sfs__k_features': [1, 2, 3], 'pipeline__logreg__C': (1.0, 100.0, 'log-uniform'), 'randomforestclassifier__n_estimators': (20, 200)},\n",
              "       verbose=0)"
            ]
          },
          "metadata": {
            "tags": []
          },
          "execution_count": 40
        }
      ]
    },
    {
      "cell_type": "code",
      "metadata": {
        "id": "apTfU4nReI2X",
        "colab_type": "code",
        "outputId": "d3a9fc31-ea84-49a8-e093-8ba4104fcb03",
        "colab": {
          "base_uri": "https://localhost:8080/",
          "height": 85
        }
      },
      "source": [
        "print(\"val. score: %s\" % searchcv.best_score_)\n",
        "searchcv.best_params_"
      ],
      "execution_count": 0,
      "outputs": [
        {
          "output_type": "stream",
          "text": [
            "val. score: 0.9606481481481481\n"
          ],
          "name": "stdout"
        },
        {
          "output_type": "execute_result",
          "data": {
            "text/plain": [
              "{'pipeline__logreg__C': 2.750946971987132,\n",
              " 'pipeline__sfs__k_features': 3,\n",
              " 'randomforestclassifier__n_estimators': 79}"
            ]
          },
          "metadata": {
            "tags": []
          },
          "execution_count": 41
        }
      ]
    },
    {
      "cell_type": "markdown",
      "metadata": {
        "id": "5B91u88vm4-E",
        "colab_type": "text"
      },
      "source": [
        "## Using bayesian-optimization package"
      ]
    },
    {
      "cell_type": "markdown",
      "metadata": {
        "id": "FS5p65VeVygZ",
        "colab_type": "text"
      },
      "source": [
        "### Simple example"
      ]
    },
    {
      "cell_type": "code",
      "metadata": {
        "id": "8oYCMDnkm7Tz",
        "colab_type": "code",
        "colab": {}
      },
      "source": [
        "from sklearn.datasets import make_classification\n",
        "from sklearn.ensemble import RandomForestClassifier\n",
        "from sklearn.model_selection import cross_val_score\n",
        "from bayes_opt import BayesianOptimization\n",
        "import warnings\n",
        "warnings.simplefilter('ignore')\n",
        "\n",
        "x, y = make_classification(n_samples=1000, n_features=10, n_classes=2)"
      ],
      "execution_count": 0,
      "outputs": []
    },
    {
      "cell_type": "code",
      "metadata": {
        "id": "aw0MUmmoCbTt",
        "colab_type": "code",
        "outputId": "77263b86-a659-4af1-cf67-111c97945c9d",
        "colab": {
          "base_uri": "https://localhost:8080/",
          "height": 34
        }
      },
      "source": [
        "import numpy as np\n",
        "rf = RandomForestClassifier()\n",
        "print(np.mean(cross_val_score(rf, x, y, cv=20, scoring='roc_auc')))"
      ],
      "execution_count": 0,
      "outputs": [
        {
          "output_type": "stream",
          "text": [
            "0.9876508974358973\n"
          ],
          "name": "stdout"
        }
      ]
    },
    {
      "cell_type": "code",
      "metadata": {
        "id": "rvkEqQI5C8RK",
        "colab_type": "code",
        "colab": {}
      },
      "source": [
        "def rf_cv(n_estimators, min_samples_split, max_features, max_depth):\n",
        "    val = cross_val_score(\n",
        "        RandomForestClassifier(n_estimators=int(n_estimators),\n",
        "            min_samples_split=int(min_samples_split),\n",
        "            max_features=min(max_features, 0.999), # float\n",
        "            max_depth=int(max_depth),\n",
        "            random_state=2\n",
        "        ),\n",
        "        x, y, scoring='roc_auc', cv=5).mean()\n",
        "    return val"
      ],
      "execution_count": 0,
      "outputs": []
    },
    {
      "cell_type": "code",
      "metadata": {
        "id": "yCoQQtWMDFDX",
        "colab_type": "code",
        "outputId": "fa6f3df7-dab7-4f94-fdc4-5d726bfda5a9",
        "colab": {
          "base_uri": "https://localhost:8080/",
          "height": 578
        }
      },
      "source": [
        "rf_bo = BayesianOptimization(\n",
        "        rf_cv,\n",
        "        {'n_estimators': (10, 250),\n",
        "        'min_samples_split': (2, 25),\n",
        "        'max_features': (0.1, 0.999),\n",
        "        'max_depth': (5, 15)})\n",
        "# defualt: choose 5 samples initially, then iterate for 25 times(30 times in total)\n",
        "rf_bo.maximize()"
      ],
      "execution_count": 0,
      "outputs": [
        {
          "output_type": "stream",
          "text": [
            "|   iter    |  target   | max_depth | max_fe... | min_sa... | n_esti... |\n",
            "-------------------------------------------------------------------------\n",
            "| \u001b[0m 1       \u001b[0m | \u001b[0m 0.983   \u001b[0m | \u001b[0m 8.742   \u001b[0m | \u001b[0m 0.9283  \u001b[0m | \u001b[0m 18.72   \u001b[0m | \u001b[0m 222.9   \u001b[0m |\n",
            "| \u001b[0m 2       \u001b[0m | \u001b[0m 0.9825  \u001b[0m | \u001b[0m 10.66   \u001b[0m | \u001b[0m 0.9646  \u001b[0m | \u001b[0m 9.939   \u001b[0m | \u001b[0m 87.8    \u001b[0m |\n",
            "| \u001b[95m 3       \u001b[0m | \u001b[95m 0.9858  \u001b[0m | \u001b[95m 11.96   \u001b[0m | \u001b[95m 0.6632  \u001b[0m | \u001b[95m 19.66   \u001b[0m | \u001b[95m 230.1   \u001b[0m |\n",
            "| \u001b[95m 4       \u001b[0m | \u001b[95m 0.9858  \u001b[0m | \u001b[95m 8.466   \u001b[0m | \u001b[95m 0.5774  \u001b[0m | \u001b[95m 18.45   \u001b[0m | \u001b[95m 181.3   \u001b[0m |\n",
            "| \u001b[0m 5       \u001b[0m | \u001b[0m 0.9841  \u001b[0m | \u001b[0m 12.38   \u001b[0m | \u001b[0m 0.4495  \u001b[0m | \u001b[0m 20.24   \u001b[0m | \u001b[0m 63.53   \u001b[0m |\n",
            "| \u001b[0m 6       \u001b[0m | \u001b[0m 0.9852  \u001b[0m | \u001b[0m 14.0    \u001b[0m | \u001b[0m 0.2821  \u001b[0m | \u001b[0m 2.251   \u001b[0m | \u001b[0m 250.0   \u001b[0m |\n",
            "| \u001b[0m 7       \u001b[0m | \u001b[0m 0.9844  \u001b[0m | \u001b[0m 5.374   \u001b[0m | \u001b[0m 0.9904  \u001b[0m | \u001b[0m 24.85   \u001b[0m | \u001b[0m 249.5   \u001b[0m |\n",
            "| \u001b[0m 8       \u001b[0m | \u001b[0m 0.9824  \u001b[0m | \u001b[0m 14.04   \u001b[0m | \u001b[0m 0.9248  \u001b[0m | \u001b[0m 2.076   \u001b[0m | \u001b[0m 249.7   \u001b[0m |\n",
            "| \u001b[0m 9       \u001b[0m | \u001b[0m 0.9816  \u001b[0m | \u001b[0m 5.506   \u001b[0m | \u001b[0m 0.6935  \u001b[0m | \u001b[0m 24.42   \u001b[0m | \u001b[0m 10.43   \u001b[0m |\n",
            "| \u001b[0m 10      \u001b[0m | \u001b[0m 0.9793  \u001b[0m | \u001b[0m 6.036   \u001b[0m | \u001b[0m 0.1537  \u001b[0m | \u001b[0m 24.51   \u001b[0m | \u001b[0m 249.9   \u001b[0m |\n",
            "| \u001b[0m 11      \u001b[0m | \u001b[0m 0.9699  \u001b[0m | \u001b[0m 14.37   \u001b[0m | \u001b[0m 0.997   \u001b[0m | \u001b[0m 2.003   \u001b[0m | \u001b[0m 11.2    \u001b[0m |\n",
            "| \u001b[0m 12      \u001b[0m | \u001b[0m 0.9829  \u001b[0m | \u001b[0m 15.0    \u001b[0m | \u001b[0m 0.9803  \u001b[0m | \u001b[0m 24.94   \u001b[0m | \u001b[0m 133.5   \u001b[0m |\n",
            "| \u001b[0m 13      \u001b[0m | \u001b[0m 0.9773  \u001b[0m | \u001b[0m 5.207   \u001b[0m | \u001b[0m 0.1527  \u001b[0m | \u001b[0m 2.057   \u001b[0m | \u001b[0m 204.2   \u001b[0m |\n",
            "| \u001b[0m 14      \u001b[0m | \u001b[0m 0.9837  \u001b[0m | \u001b[0m 5.043   \u001b[0m | \u001b[0m 0.8207  \u001b[0m | \u001b[0m 24.84   \u001b[0m | \u001b[0m 61.23   \u001b[0m |\n",
            "| \u001b[0m 15      \u001b[0m | \u001b[0m 0.9851  \u001b[0m | \u001b[0m 14.98   \u001b[0m | \u001b[0m 0.8445  \u001b[0m | \u001b[0m 24.01   \u001b[0m | \u001b[0m 248.9   \u001b[0m |\n",
            "| \u001b[0m 16      \u001b[0m | \u001b[0m 0.9834  \u001b[0m | \u001b[0m 14.56   \u001b[0m | \u001b[0m 0.9961  \u001b[0m | \u001b[0m 24.77   \u001b[0m | \u001b[0m 190.9   \u001b[0m |\n",
            "| \u001b[0m 17      \u001b[0m | \u001b[0m 0.9821  \u001b[0m | \u001b[0m 14.73   \u001b[0m | \u001b[0m 0.9781  \u001b[0m | \u001b[0m 24.96   \u001b[0m | \u001b[0m 75.25   \u001b[0m |\n",
            "| \u001b[0m 18      \u001b[0m | \u001b[0m 0.9816  \u001b[0m | \u001b[0m 5.179   \u001b[0m | \u001b[0m 0.2517  \u001b[0m | \u001b[0m 24.84   \u001b[0m | \u001b[0m 102.0   \u001b[0m |\n",
            "| \u001b[0m 19      \u001b[0m | \u001b[0m 0.9823  \u001b[0m | \u001b[0m 14.83   \u001b[0m | \u001b[0m 0.9846  \u001b[0m | \u001b[0m 3.576   \u001b[0m | \u001b[0m 152.1   \u001b[0m |\n",
            "| \u001b[0m 20      \u001b[0m | \u001b[0m 0.985   \u001b[0m | \u001b[0m 14.91   \u001b[0m | \u001b[0m 0.8406  \u001b[0m | \u001b[0m 24.9    \u001b[0m | \u001b[0m 246.9   \u001b[0m |\n",
            "| \u001b[0m 21      \u001b[0m | \u001b[0m 0.9834  \u001b[0m | \u001b[0m 14.93   \u001b[0m | \u001b[0m 0.9519  \u001b[0m | \u001b[0m 24.91   \u001b[0m | \u001b[0m 231.8   \u001b[0m |\n",
            "| \u001b[0m 22      \u001b[0m | \u001b[0m 0.9841  \u001b[0m | \u001b[0m 5.025   \u001b[0m | \u001b[0m 0.9952  \u001b[0m | \u001b[0m 22.66   \u001b[0m | \u001b[0m 156.1   \u001b[0m |\n",
            "| \u001b[0m 23      \u001b[0m | \u001b[0m 0.9831  \u001b[0m | \u001b[0m 14.97   \u001b[0m | \u001b[0m 0.946   \u001b[0m | \u001b[0m 13.91   \u001b[0m | \u001b[0m 249.8   \u001b[0m |\n",
            "| \u001b[0m 24      \u001b[0m | \u001b[0m 0.9829  \u001b[0m | \u001b[0m 5.05    \u001b[0m | \u001b[0m 0.9849  \u001b[0m | \u001b[0m 24.71   \u001b[0m | \u001b[0m 49.48   \u001b[0m |\n",
            "| \u001b[0m 25      \u001b[0m | \u001b[0m 0.9798  \u001b[0m | \u001b[0m 14.67   \u001b[0m | \u001b[0m 0.1123  \u001b[0m | \u001b[0m 24.71   \u001b[0m | \u001b[0m 175.7   \u001b[0m |\n",
            "| \u001b[0m 26      \u001b[0m | \u001b[0m 0.9836  \u001b[0m | \u001b[0m 14.99   \u001b[0m | \u001b[0m 0.9565  \u001b[0m | \u001b[0m 24.48   \u001b[0m | \u001b[0m 248.3   \u001b[0m |\n",
            "| \u001b[0m 27      \u001b[0m | \u001b[0m 0.9833  \u001b[0m | \u001b[0m 14.99   \u001b[0m | \u001b[0m 0.9704  \u001b[0m | \u001b[0m 11.64   \u001b[0m | \u001b[0m 246.6   \u001b[0m |\n",
            "| \u001b[0m 28      \u001b[0m | \u001b[0m 0.9836  \u001b[0m | \u001b[0m 5.072   \u001b[0m | \u001b[0m 0.9162  \u001b[0m | \u001b[0m 24.88   \u001b[0m | \u001b[0m 81.41   \u001b[0m |\n",
            "| \u001b[0m 29      \u001b[0m | \u001b[0m 0.9835  \u001b[0m | \u001b[0m 14.42   \u001b[0m | \u001b[0m 0.9658  \u001b[0m | \u001b[0m 23.85   \u001b[0m | \u001b[0m 249.4   \u001b[0m |\n",
            "| \u001b[0m 30      \u001b[0m | \u001b[0m 0.9825  \u001b[0m | \u001b[0m 14.81   \u001b[0m | \u001b[0m 0.9704  \u001b[0m | \u001b[0m 24.71   \u001b[0m | \u001b[0m 43.08   \u001b[0m |\n",
            "=========================================================================\n"
          ],
          "name": "stdout"
        }
      ]
    },
    {
      "cell_type": "code",
      "metadata": {
        "id": "zu7K__1oIxoS",
        "colab_type": "code",
        "outputId": "d76bb763-0eda-450f-8605-455996b27629",
        "colab": {
          "base_uri": "https://localhost:8080/",
          "height": 102
        }
      },
      "source": [
        "rf_bo.max"
      ],
      "execution_count": 0,
      "outputs": [
        {
          "output_type": "execute_result",
          "data": {
            "text/plain": [
              "{'params': {'max_depth': 8.46618268560162,\n",
              "  'max_features': 0.5774248505640364,\n",
              "  'min_samples_split': 18.447776971497508,\n",
              "  'n_estimators': 181.34369329062656},\n",
              " 'target': 0.9858162196219622}"
            ]
          },
          "metadata": {
            "tags": []
          },
          "execution_count": 18
        }
      ]
    },
    {
      "cell_type": "markdown",
      "metadata": {
        "id": "Hn1BJGWJKEAC",
        "colab_type": "text"
      },
      "source": [
        "### Optimize lightGBM"
      ]
    },
    {
      "cell_type": "code",
      "metadata": {
        "id": "ms-TTK2xJPUM",
        "colab_type": "code",
        "colab": {}
      },
      "source": [
        "from sklearn.datasets import load_boston\n",
        "from bayes_opt import BayesianOptimization\n",
        "import lightgbm as lgb\n",
        "from sklearn.model_selection import train_test_split\n",
        "from sklearn.preprocessing import StandardScaler\n",
        "import warnings\n",
        "warnings.filterwarnings('ignore')\n",
        "import pandas as pd\n",
        "import numpy as np\n",
        "from sklearn import metrics\n",
        "import matplotlib.pyplot as plt\n",
        "import seaborn as sns\n",
        "plt.style.use('ggplot')\n",
        "from sklearn.ensemble import RandomForestRegressor\n",
        "from sklearn.model_selection import cross_val_score\n",
        "from sklearn.model_selection import KFold"
      ],
      "execution_count": 0,
      "outputs": []
    },
    {
      "cell_type": "code",
      "metadata": {
        "id": "DrED29vBJfEs",
        "colab_type": "code",
        "colab": {}
      },
      "source": [
        "data = load_boston()\n",
        "X = data.data\n",
        "Y = data.target\n",
        "X_train,X_test,Y_train,Y_test = train_test_split(X,Y,test_size=0.2,random_state=2019)\n",
        "\n",
        "ss = StandardScaler()\n",
        "X_train = ss.fit_transform(X_train)\n",
        "X_test = ss.transform(X_test)"
      ],
      "execution_count": 0,
      "outputs": []
    },
    {
      "cell_type": "markdown",
      "metadata": {
        "id": "lmkLx3qGKdq1",
        "colab_type": "text"
      },
      "source": [
        "if we don't do the hyperparameter tuning"
      ]
    },
    {
      "cell_type": "code",
      "metadata": {
        "id": "xIwGF2sKKdNH",
        "colab_type": "code",
        "outputId": "b8f01a35-96f6-4b2c-a979-9afabc0f6d84",
        "colab": {
          "base_uri": "https://localhost:8080/",
          "height": 337
        }
      },
      "source": [
        "regressor = lgb.LGBMRegressor(n_estimators=80)\n",
        "regressor.fit(X_train,Y_train)\n",
        "\n",
        "print(cross_val_score(regressor, X_test, Y_test, cv=5, scoring='r2').mean())\n",
        "print(metrics.mean_absolute_error(regressor.predict(X_test), Y_test))\n",
        "print(metrics.r2_score(regressor.predict(X_test),Y_test))\n",
        "sns.regplot(regressor.predict(X_test), Y_test)"
      ],
      "execution_count": 0,
      "outputs": [
        {
          "output_type": "stream",
          "text": [
            "0.5842211473283357\n",
            "2.488337768978677\n",
            "0.786481538974334\n"
          ],
          "name": "stdout"
        },
        {
          "output_type": "execute_result",
          "data": {
            "text/plain": [
              "<matplotlib.axes._subplots.AxesSubplot at 0x7f38466c4c18>"
            ]
          },
          "metadata": {
            "tags": []
          },
          "execution_count": 118
        },
        {
          "output_type": "display_data",
          "data": {
            "image/png": "[encoded data removed]",
            "text/plain": [
              "<Figure size 432x288 with 1 Axes>"
            ]
          },
          "metadata": {
            "tags": []
          }
        }
      ]
    },
    {
      "cell_type": "markdown",
      "metadata": {
        "id": "eeGDCk2nMtXX",
        "colab_type": "text"
      },
      "source": [
        "Start tuning"
      ]
    },
    {
      "cell_type": "code",
      "metadata": {
        "id": "16vmNfcKMvtc",
        "colab_type": "code",
        "colab": {}
      },
      "source": [
        "def LGB_CV(\n",
        "          max_depth,\n",
        "          num_leaves,\n",
        "          min_data_in_leaf,\n",
        "          feature_fraction,\n",
        "          bagging_fraction,\n",
        "          lambda_l1\n",
        "         ):\n",
        "    \n",
        "    folds = KFold(n_splits=5, shuffle=True, random_state=15)\n",
        "    oof = np.zeros(X_train.shape[0])\n",
        "\n",
        "    for fold_, (trn_idx, val_idx) in enumerate(folds.split(X_train, Y_train)):\n",
        "        print(\"fold n°{}\".format(fold_))\n",
        "        trn_data = lgb.Dataset(X_train[trn_idx],\n",
        "                               label=Y_train[trn_idx],\n",
        "                               )\n",
        "        val_data = lgb.Dataset(X_train[val_idx],\n",
        "                               label=Y_train[val_idx],\n",
        "                               )\n",
        "    \n",
        "        param = {\n",
        "            'num_leaves': int(num_leaves),\n",
        "            'min_data_in_leaf': int(min_data_in_leaf), \n",
        "            'objective':'regression',\n",
        "            'max_depth': int(max_depth),\n",
        "            'learning_rate': 0.01,\n",
        "            \"boosting\": \"gbdt\",\n",
        "            \"feature_fraction\": feature_fraction,\n",
        "            \"bagging_freq\": 1,\n",
        "            \"bagging_fraction\": bagging_fraction ,\n",
        "            \"bagging_seed\": 11,\n",
        "            \"metric\": 'rmse',\n",
        "            \"lambda_l1\": lambda_l1,\n",
        "            \"verbosity\": -1\n",
        "        }\n",
        "    \n",
        "        clf = lgb.train(param,\n",
        "                        trn_data,\n",
        "                        5000,\n",
        "                        valid_sets = [trn_data, val_data],\n",
        "                        verbose_eval=500,\n",
        "                        early_stopping_rounds = 200)\n",
        "        \n",
        "        oof[val_idx] = clf.predict(X_train[val_idx],\n",
        "                                   num_iteration=clf.best_iteration)\n",
        "        \n",
        "        del clf, trn_idx, val_idx\n",
        "        \n",
        "    return metrics.r2_score(oof, Y_train)"
      ],
      "execution_count": 0,
      "outputs": []
    },
    {
      "cell_type": "code",
      "metadata": {
        "id": "RIP-h4UMQkBo",
        "colab_type": "code",
        "outputId": "2ec7a788-ad18-4f39-f21e-22d4eff4f925",
        "colab": {
          "base_uri": "https://localhost:8080/",
          "height": 1000
        }
      },
      "source": [
        "LGB_BO = BayesianOptimization(LGB_CV, {\n",
        "    'max_depth': (4, 20),\n",
        "    'num_leaves': (5, 130),\n",
        "    'min_data_in_leaf': (5, 30),\n",
        "    'feature_fraction': (0.7, 1.0),\n",
        "    'bagging_fraction': (0.7, 1.0),\n",
        "    'lambda_l1': (0, 6)\n",
        "    })\n",
        "LGB_BO.maximize(init_points=2,n_iter=3)"
      ],
      "execution_count": 0,
      "outputs": [
        {
          "output_type": "stream",
          "text": [
            "|   iter    |  target   | baggin... | featur... | lambda_l1 | max_depth | min_da... | num_le... |\n",
            "-------------------------------------------------------------------------------------------------\n",
            "fold n°0\n",
            "Training until validation scores don't improve for 200 rounds.\n",
            "[500]\ttraining's rmse: 1.89199\tvalid_1's rmse: 3.54411\n",
            "Early stopping, best iteration is:\n",
            "[358]\ttraining's rmse: 2.22523\tvalid_1's rmse: 3.51324\n",
            "fold n°1\n",
            "Training until validation scores don't improve for 200 rounds.\n",
            "[500]\ttraining's rmse: 1.84809\tvalid_1's rmse: 3.26396\n",
            "[1000]\ttraining's rmse: 1.23477\tvalid_1's rmse: 3.08713\n",
            "[1500]\ttraining's rmse: 0.96906\tvalid_1's rmse: 3.04648\n",
            "[2000]\ttraining's rmse: 0.833759\tvalid_1's rmse: 3.04132\n",
            "Early stopping, best iteration is:\n",
            "[1837]\ttraining's rmse: 0.868068\tvalid_1's rmse: 3.03965\n",
            "fold n°2\n",
            "Training until validation scores don't improve for 200 rounds.\n",
            "[500]\ttraining's rmse: 1.87329\tvalid_1's rmse: 3.03392\n",
            "[1000]\ttraining's rmse: 1.22766\tvalid_1's rmse: 2.92991\n",
            "[1500]\ttraining's rmse: 0.958276\tvalid_1's rmse: 2.91787\n",
            "Early stopping, best iteration is:\n",
            "[1635]\ttraining's rmse: 0.912753\tvalid_1's rmse: 2.91073\n",
            "fold n°3\n",
            "Training until validation scores don't improve for 200 rounds.\n",
            "[500]\ttraining's rmse: 1.78761\tvalid_1's rmse: 3.28213\n",
            "[1000]\ttraining's rmse: 1.19088\tvalid_1's rmse: 3.13178\n",
            "[1500]\ttraining's rmse: 0.958921\tvalid_1's rmse: 3.10206\n",
            "Early stopping, best iteration is:\n",
            "[1737]\ttraining's rmse: 0.891791\tvalid_1's rmse: 3.09208\n",
            "fold n°4\n",
            "Training until validation scores don't improve for 200 rounds.\n",
            "[500]\ttraining's rmse: 1.67254\tvalid_1's rmse: 4.98279\n",
            "[1000]\ttraining's rmse: 1.12812\tvalid_1's rmse: 4.80413\n",
            "[1500]\ttraining's rmse: 0.895639\tvalid_1's rmse: 4.74807\n",
            "[2000]\ttraining's rmse: 0.78697\tvalid_1's rmse: 4.71368\n",
            "Early stopping, best iteration is:\n",
            "[2205]\ttraining's rmse: 0.760199\tvalid_1's rmse: 4.70996\n",
            "| \u001b[0m 1       \u001b[0m | \u001b[0m 0.8367  \u001b[0m | \u001b[0m 0.9034  \u001b[0m | \u001b[0m 0.7597  \u001b[0m | \u001b[0m 4.865   \u001b[0m | \u001b[0m 8.231   \u001b[0m | \u001b[0m 11.32   \u001b[0m | \u001b[0m 101.8   \u001b[0m |\n",
            "fold n°0\n",
            "Training until validation scores don't improve for 200 rounds.\n",
            "[500]\ttraining's rmse: 1.98876\tvalid_1's rmse: 3.57271\n",
            "Early stopping, best iteration is:\n",
            "[357]\ttraining's rmse: 2.29819\tvalid_1's rmse: 3.51632\n",
            "fold n°1\n",
            "Training until validation scores don't improve for 200 rounds.\n",
            "[500]\ttraining's rmse: 1.98086\tvalid_1's rmse: 3.34804\n",
            "[1000]\ttraining's rmse: 1.39882\tvalid_1's rmse: 3.19545\n",
            "[1500]\ttraining's rmse: 1.09147\tvalid_1's rmse: 3.1384\n",
            "[2000]\ttraining's rmse: 0.901836\tvalid_1's rmse: 3.10865\n",
            "[2500]\ttraining's rmse: 0.781473\tvalid_1's rmse: 3.09953\n",
            "[3000]\ttraining's rmse: 0.70241\tvalid_1's rmse: 3.09666\n",
            "Early stopping, best iteration is:\n",
            "[2804]\ttraining's rmse: 0.730377\tvalid_1's rmse: 3.09591\n",
            "fold n°2\n",
            "Training until validation scores don't improve for 200 rounds.\n",
            "[500]\ttraining's rmse: 1.99823\tvalid_1's rmse: 2.96922\n",
            "[1000]\ttraining's rmse: 1.42145\tvalid_1's rmse: 2.84281\n",
            "Early stopping, best iteration is:\n",
            "[971]\ttraining's rmse: 1.44684\tvalid_1's rmse: 2.84125\n",
            "fold n°3\n",
            "Training until validation scores don't improve for 200 rounds.\n",
            "[500]\ttraining's rmse: 1.89983\tvalid_1's rmse: 3.59211\n",
            "[1000]\ttraining's rmse: 1.36062\tvalid_1's rmse: 3.37221\n",
            "[1500]\ttraining's rmse: 1.0767\tvalid_1's rmse: 3.31253\n",
            "[2000]\ttraining's rmse: 0.903009\tvalid_1's rmse: 3.28057\n",
            "[2500]\ttraining's rmse: 0.789872\tvalid_1's rmse: 3.26236\n",
            "Early stopping, best iteration is:\n",
            "[2693]\ttraining's rmse: 0.756716\tvalid_1's rmse: 3.25921\n",
            "fold n°4\n",
            "Training until validation scores don't improve for 200 rounds.\n",
            "[500]\ttraining's rmse: 1.80247\tvalid_1's rmse: 4.84594\n",
            "[1000]\ttraining's rmse: 1.26884\tvalid_1's rmse: 4.70379\n",
            "[1500]\ttraining's rmse: 0.989712\tvalid_1's rmse: 4.65926\n",
            "[2000]\ttraining's rmse: 0.829132\tvalid_1's rmse: 4.63217\n",
            "[2500]\ttraining's rmse: 0.727286\tvalid_1's rmse: 4.61911\n",
            "[3000]\ttraining's rmse: 0.662046\tvalid_1's rmse: 4.61311\n",
            "[3500]\ttraining's rmse: 0.617196\tvalid_1's rmse: 4.60774\n",
            "Early stopping, best iteration is:\n",
            "[3512]\ttraining's rmse: 0.616174\tvalid_1's rmse: 4.60711\n",
            "| \u001b[95m 2       \u001b[0m | \u001b[95m 0.8383  \u001b[0m | \u001b[95m 0.8711  \u001b[0m | \u001b[95m 0.9973  \u001b[0m | \u001b[95m 4.006   \u001b[0m | \u001b[95m 4.06    \u001b[0m | \u001b[95m 9.647   \u001b[0m | \u001b[95m 124.2   \u001b[0m |\n",
            "fold n°0\n",
            "Training until validation scores don't improve for 200 rounds.\n",
            "[500]\ttraining's rmse: 3.27337\tvalid_1's rmse: 3.75371\n",
            "[1000]\ttraining's rmse: 2.70821\tvalid_1's rmse: 3.59282\n",
            "[1500]\ttraining's rmse: 2.37376\tvalid_1's rmse: 3.54818\n",
            "[2000]\ttraining's rmse: 2.13565\tvalid_1's rmse: 3.51494\n",
            "[2500]\ttraining's rmse: 1.95343\tvalid_1's rmse: 3.5067\n",
            "Early stopping, best iteration is:\n",
            "[2475]\ttraining's rmse: 1.96115\tvalid_1's rmse: 3.50041\n",
            "fold n°1\n",
            "Training until validation scores don't improve for 200 rounds.\n",
            "[500]\ttraining's rmse: 3.24378\tvalid_1's rmse: 3.72435\n",
            "[1000]\ttraining's rmse: 2.72313\tvalid_1's rmse: 3.51276\n",
            "[1500]\ttraining's rmse: 2.39587\tvalid_1's rmse: 3.42535\n",
            "[2000]\ttraining's rmse: 2.15575\tvalid_1's rmse: 3.39278\n",
            "Early stopping, best iteration is:\n",
            "[2283]\ttraining's rmse: 2.04183\tvalid_1's rmse: 3.37883\n",
            "fold n°2\n",
            "Training until validation scores don't improve for 200 rounds.\n",
            "[500]\ttraining's rmse: 3.20671\tvalid_1's rmse: 3.83934\n",
            "[1000]\ttraining's rmse: 2.63841\tvalid_1's rmse: 3.58855\n",
            "[1500]\ttraining's rmse: 2.32547\tvalid_1's rmse: 3.53869\n",
            "Early stopping, best iteration is:\n",
            "[1314]\ttraining's rmse: 2.42613\tvalid_1's rmse: 3.5322\n",
            "fold n°3\n",
            "Training until validation scores don't improve for 200 rounds.\n",
            "[500]\ttraining's rmse: 3.1217\tvalid_1's rmse: 3.63201\n",
            "[1000]\ttraining's rmse: 2.55597\tvalid_1's rmse: 3.53511\n",
            "[1500]\ttraining's rmse: 2.2542\tvalid_1's rmse: 3.50721\n",
            "[2000]\ttraining's rmse: 2.04142\tvalid_1's rmse: 3.48698\n",
            "[2500]\ttraining's rmse: 1.87628\tvalid_1's rmse: 3.47109\n",
            "[3000]\ttraining's rmse: 1.74114\tvalid_1's rmse: 3.46559\n",
            "[3500]\ttraining's rmse: 1.62558\tvalid_1's rmse: 3.45552\n",
            "Early stopping, best iteration is:\n",
            "[3601]\ttraining's rmse: 1.60398\tvalid_1's rmse: 3.4482\n",
            "fold n°4\n",
            "Training until validation scores don't improve for 200 rounds.\n",
            "[500]\ttraining's rmse: 2.93859\tvalid_1's rmse: 5.2126\n",
            "[1000]\ttraining's rmse: 2.38723\tvalid_1's rmse: 5.07507\n",
            "[1500]\ttraining's rmse: 2.0827\tvalid_1's rmse: 4.99739\n",
            "[2000]\ttraining's rmse: 1.86998\tvalid_1's rmse: 4.9808\n",
            "Early stopping, best iteration is:\n",
            "[1879]\ttraining's rmse: 1.91547\tvalid_1's rmse: 4.97077\n",
            "| \u001b[0m 3       \u001b[0m | \u001b[0m 0.8092  \u001b[0m | \u001b[0m 0.7909  \u001b[0m | \u001b[0m 0.9784  \u001b[0m | \u001b[0m 1.123   \u001b[0m | \u001b[0m 4.277   \u001b[0m | \u001b[0m 29.75   \u001b[0m | \u001b[0m 5.203   \u001b[0m |\n",
            "fold n°0\n",
            "Training until validation scores don't improve for 200 rounds.\n",
            "[500]\ttraining's rmse: 2.85957\tvalid_1's rmse: 3.7237\n",
            "[1000]\ttraining's rmse: 2.25296\tvalid_1's rmse: 3.57196\n",
            "[1500]\ttraining's rmse: 1.89083\tvalid_1's rmse: 3.552\n",
            "Early stopping, best iteration is:\n",
            "[1340]\ttraining's rmse: 1.98672\tvalid_1's rmse: 3.54174\n",
            "fold n°1\n",
            "Training until validation scores don't improve for 200 rounds.\n",
            "[500]\ttraining's rmse: 2.86499\tvalid_1's rmse: 3.50313\n",
            "[1000]\ttraining's rmse: 2.32486\tvalid_1's rmse: 3.27319\n",
            "[1500]\ttraining's rmse: 2.01784\tvalid_1's rmse: 3.18735\n",
            "[2000]\ttraining's rmse: 1.79358\tvalid_1's rmse: 3.15799\n",
            "[2500]\ttraining's rmse: 1.61804\tvalid_1's rmse: 3.1481\n",
            "[3000]\ttraining's rmse: 1.47119\tvalid_1's rmse: 3.15008\n",
            "Early stopping, best iteration is:\n",
            "[2813]\ttraining's rmse: 1.52299\tvalid_1's rmse: 3.13906\n",
            "fold n°2\n",
            "Training until validation scores don't improve for 200 rounds.\n",
            "[500]\ttraining's rmse: 2.76305\tvalid_1's rmse: 3.61931\n",
            "[1000]\ttraining's rmse: 2.16007\tvalid_1's rmse: 3.48672\n",
            "Early stopping, best iteration is:\n",
            "[1246]\ttraining's rmse: 1.98439\tvalid_1's rmse: 3.46413\n",
            "fold n°3\n",
            "Training until validation scores don't improve for 200 rounds.\n",
            "[500]\ttraining's rmse: 2.76573\tvalid_1's rmse: 3.56908\n",
            "[1000]\ttraining's rmse: 2.19107\tvalid_1's rmse: 3.49477\n",
            "[1500]\ttraining's rmse: 1.88495\tvalid_1's rmse: 3.46501\n",
            "Early stopping, best iteration is:\n",
            "[1793]\ttraining's rmse: 1.75372\tvalid_1's rmse: 3.45564\n",
            "fold n°4\n",
            "Training until validation scores don't improve for 200 rounds.\n",
            "[500]\ttraining's rmse: 2.66519\tvalid_1's rmse: 4.95352\n",
            "[1000]\ttraining's rmse: 2.05814\tvalid_1's rmse: 4.79176\n",
            "[1500]\ttraining's rmse: 1.73361\tvalid_1's rmse: 4.7703\n",
            "[2000]\ttraining's rmse: 1.52135\tvalid_1's rmse: 4.71831\n",
            "Early stopping, best iteration is:\n",
            "[1993]\ttraining's rmse: 1.52367\tvalid_1's rmse: 4.71738\n",
            "| \u001b[0m 4       \u001b[0m | \u001b[0m 0.8226  \u001b[0m | \u001b[0m 0.9965  \u001b[0m | \u001b[0m 0.9205  \u001b[0m | \u001b[0m 3.874   \u001b[0m | \u001b[0m 20.0    \u001b[0m | \u001b[0m 29.91   \u001b[0m | \u001b[0m 129.7   \u001b[0m |\n",
            "fold n°0\n",
            "Training until validation scores don't improve for 200 rounds.\n",
            "[500]\ttraining's rmse: 0.853334\tvalid_1's rmse: 3.10557\n",
            "[1000]\ttraining's rmse: 0.40198\tvalid_1's rmse: 3.071\n",
            "[1500]\ttraining's rmse: 0.251477\tvalid_1's rmse: 3.05778\n",
            "Early stopping, best iteration is:\n",
            "[1492]\ttraining's rmse: 0.252603\tvalid_1's rmse: 3.05606\n",
            "fold n°1\n",
            "Training until validation scores don't improve for 200 rounds.\n",
            "[500]\ttraining's rmse: 0.827001\tvalid_1's rmse: 3.06739\n",
            "[1000]\ttraining's rmse: 0.356045\tvalid_1's rmse: 2.96463\n",
            "[1500]\ttraining's rmse: 0.204277\tvalid_1's rmse: 2.94788\n",
            "[2000]\ttraining's rmse: 0.143705\tvalid_1's rmse: 2.94227\n",
            "[2500]\ttraining's rmse: 0.118631\tvalid_1's rmse: 2.93927\n",
            "[3000]\ttraining's rmse: 0.106798\tvalid_1's rmse: 2.93814\n",
            "Early stopping, best iteration is:\n",
            "[3154]\ttraining's rmse: 0.104287\tvalid_1's rmse: 2.93801\n",
            "fold n°2\n",
            "Training until validation scores don't improve for 200 rounds.\n",
            "[500]\ttraining's rmse: 0.865981\tvalid_1's rmse: 2.91029\n",
            "[1000]\ttraining's rmse: 0.389945\tvalid_1's rmse: 2.87324\n",
            "Early stopping, best iteration is:\n",
            "[996]\ttraining's rmse: 0.393124\tvalid_1's rmse: 2.87297\n",
            "fold n°3\n",
            "Training until validation scores don't improve for 200 rounds.\n",
            "[500]\ttraining's rmse: 0.80175\tvalid_1's rmse: 3.28861\n",
            "[1000]\ttraining's rmse: 0.352439\tvalid_1's rmse: 3.22547\n",
            "[1500]\ttraining's rmse: 0.206106\tvalid_1's rmse: 3.21729\n",
            "Early stopping, best iteration is:\n",
            "[1442]\ttraining's rmse: 0.216834\tvalid_1's rmse: 3.2167\n",
            "fold n°4\n",
            "Training until validation scores don't improve for 200 rounds.\n",
            "[500]\ttraining's rmse: 0.690193\tvalid_1's rmse: 4.92221\n",
            "[1000]\ttraining's rmse: 0.29965\tvalid_1's rmse: 4.89811\n",
            "Early stopping, best iteration is:\n",
            "[973]\ttraining's rmse: 0.309844\tvalid_1's rmse: 4.89594\n",
            "| \u001b[95m 5       \u001b[0m | \u001b[95m 0.8437  \u001b[0m | \u001b[95m 0.8198  \u001b[0m | \u001b[95m 0.7109  \u001b[0m | \u001b[95m 0.6371  \u001b[0m | \u001b[95m 19.75   \u001b[0m | \u001b[95m 5.325   \u001b[0m | \u001b[95m 126.3   \u001b[0m |\n",
            "=================================================================================================\n"
          ],
          "name": "stdout"
        }
      ]
    },
    {
      "cell_type": "code",
      "metadata": {
        "id": "EYjDwybURg0V",
        "colab_type": "code",
        "outputId": "6e7fbcf5-9919-4d37-c540-9ed53d01c1d4",
        "colab": {
          "base_uri": "https://localhost:8080/",
          "height": 136
        }
      },
      "source": [
        "LGB_BO.max"
      ],
      "execution_count": 0,
      "outputs": [
        {
          "output_type": "execute_result",
          "data": {
            "text/plain": [
              "{'params': {'bagging_fraction': 0.8197886672360276,\n",
              "  'feature_fraction': 0.7108687601949996,\n",
              "  'lambda_l1': 0.6371127266235574,\n",
              "  'max_depth': 19.75375283569926,\n",
              "  'min_data_in_leaf': 5.32540871062938,\n",
              "  'num_leaves': 126.25771040286507},\n",
              " 'target': 0.8436644618100338}"
            ]
          },
          "metadata": {
            "tags": []
          },
          "execution_count": 121
        }
      ]
    },
    {
      "cell_type": "code",
      "metadata": {
        "id": "DPk0Zq0KZDzn",
        "colab_type": "code",
        "colab": {}
      },
      "source": [
        "params = {\n",
        "    'boosting_type': 'gbdt',\n",
        "    'learning_rate': 0.01,\n",
        "    'max_depth': 20,\n",
        "    'min_data_in_leaf': 5,\n",
        "    'bagging_fraction': 0.8197886672360276,\n",
        "    'feature_fraction': 0.7108687601949996,\n",
        "    'lambda_l1': 0.6371127266235574,\n",
        "    'objective': 'regression',\n",
        "    'metric': 'rmse',\n",
        "    'num_leaves': 126\n",
        "}\n",
        "\n",
        "lgb_train = lgb.Dataset(X_train, Y_train)\n",
        "cv_results = lgb.cv(\n",
        "    params, lgb_train, num_boost_round=10000, nfold=5, stratified=False, shuffle=True,\n",
        "    early_stopping_rounds=200, verbose_eval=False, show_stdv=True)\n",
        "import pandas as pd\n",
        "df = pd.DataFrame(cv_results)"
      ],
      "execution_count": 0,
      "outputs": []
    },
    {
      "cell_type": "code",
      "metadata": {
        "id": "9CO3O_C8SB02",
        "colab_type": "code",
        "outputId": "ce16972b-c6b0-405e-bfbf-81bb1ac1ae74",
        "colab": {
          "base_uri": "https://localhost:8080/",
          "height": 102
        }
      },
      "source": [
        "print(\"n_estimators: %d\" % df.shape[0])\n",
        "params['n_estimators'] = df.shape[0]\n",
        "params['reg_alpha'] = params['lambda_l1']\n",
        "params['subsample'] = params['bagging_fraction']\n",
        "params['colsample_bytree'] = params['feature_fraction']\n",
        "params['min_child_samples'] = params['min_data_in_leaf']\n",
        "\n",
        "del params['lambda_l1']\n",
        "del params['bagging_fraction']\n",
        "del params['feature_fraction']\n",
        "del params['min_data_in_leaf']\n",
        "\n",
        "clf = lgb.LGBMRegressor()\n",
        "clf.set_params(**params)\n",
        "print(cross_val_score(clf, X_train, Y_train, cv=5, scoring='r2').mean())\n",
        "print(cross_val_score(clf, X_test, Y_test, cv=5, scoring='r2'))\n",
        "\n",
        "clf.fit(X_train, Y_train)\n",
        "print(metrics.mean_absolute_error(clf.predict(X_test), Y_test))\n",
        "print(metrics.r2_score(clf.predict(X_test), Y_test))"
      ],
      "execution_count": 0,
      "outputs": [
        {
          "output_type": "stream",
          "text": [
            "n_estimators: 2298\n",
            "0.8804234881485904\n",
            "[0.70824799 0.75458857 0.4814469  0.54968513 0.78070485]\n",
            "2.3451064680565437\n",
            "0.7922320217457438\n"
          ],
          "name": "stdout"
        }
      ]
    },
    {
      "cell_type": "markdown",
      "metadata": {
        "id": "gR5UQfI16v3N",
        "colab_type": "text"
      },
      "source": [
        "Another way"
      ]
    },
    {
      "cell_type": "code",
      "metadata": {
        "id": "Aitf7qQYgmha",
        "colab_type": "code",
        "outputId": "61cd35a2-a37f-4f92-9095-33499b7f0bbf",
        "colab": {
          "base_uri": "https://localhost:8080/",
          "height": 595
        }
      },
      "source": [
        "folds = KFold(n_splits=5, shuffle=True, random_state=15)\n",
        "oof = np.zeros(X_train.shape[0])\n",
        "predictions = np.zeros(X_test.shape[0])\n",
        "\n",
        "for fold_, (trn_idx, val_idx) in enumerate(folds.split(X_train, Y_train)):\n",
        "    print(\"fold n°{}\".format(fold_))\n",
        "    trn_data = lgb.Dataset(X_train[trn_idx],\n",
        "                           label=Y_train[trn_idx],\n",
        "                           )\n",
        "    val_data = lgb.Dataset(X_train[val_idx],\n",
        "                           label=Y_train[val_idx],\n",
        "                           )\n",
        "\n",
        "    param = {\n",
        "        'num_leaves': 43,\n",
        "        'min_data_in_leaf': 13, \n",
        "        'objective':'regression',\n",
        "        'max_depth': 9,\n",
        "        'learning_rate': 0.01,\n",
        "        \"boosting\": \"gbdt\",\n",
        "        \"feature_fraction\": 0.7033424815486718,\n",
        "        \"bagging_freq\": 1,\n",
        "        \"bagging_fraction\": 0.7782865625857565,\n",
        "        \"bagging_seed\": 11,\n",
        "        \"metric\": 'rmse',\n",
        "        \"lambda_l1\": 4.606948240110736,\n",
        "        \"verbosity\": -1\n",
        "    }\n",
        "\n",
        "    clf = lgb.train(param,\n",
        "                    trn_data,\n",
        "                    5000,\n",
        "                    valid_sets = [trn_data, val_data],\n",
        "                    verbose_eval=500,\n",
        "                    early_stopping_rounds = 200)\n",
        "\n",
        "    oof[val_idx] = clf.predict(X_train[val_idx],\n",
        "                               num_iteration=clf.best_iteration)\n",
        "#     del clf, trn_idx, val_idx\n",
        "    predictions += clf.predict(X_test, num_iteration=clf.best_iteration) / folds.n_splits\n",
        "#     del clf, trn_idx, val_idx"
      ],
      "execution_count": 0,
      "outputs": [
        {
          "output_type": "stream",
          "text": [
            "fold n°0\n",
            "Training until validation scores don't improve for 200 rounds.\n",
            "[500]\ttraining's rmse: 2.19689\tvalid_1's rmse: 3.6012\n",
            "Early stopping, best iteration is:\n",
            "[400]\ttraining's rmse: 2.40339\tvalid_1's rmse: 3.57248\n",
            "fold n°1\n",
            "Training until validation scores don't improve for 200 rounds.\n",
            "[500]\ttraining's rmse: 2.16088\tvalid_1's rmse: 3.29423\n",
            "[1000]\ttraining's rmse: 1.51569\tvalid_1's rmse: 3.08237\n",
            "[1500]\ttraining's rmse: 1.20131\tvalid_1's rmse: 3.03968\n",
            "Early stopping, best iteration is:\n",
            "[1497]\ttraining's rmse: 1.20283\tvalid_1's rmse: 3.03917\n",
            "fold n°2\n",
            "Training until validation scores don't improve for 200 rounds.\n",
            "[500]\ttraining's rmse: 2.18357\tvalid_1's rmse: 3.10094\n",
            "[1000]\ttraining's rmse: 1.55089\tvalid_1's rmse: 2.99352\n",
            "Early stopping, best iteration is:\n",
            "[1057]\ttraining's rmse: 1.50767\tvalid_1's rmse: 2.98875\n",
            "fold n°3\n",
            "Training until validation scores don't improve for 200 rounds.\n",
            "[500]\ttraining's rmse: 2.11155\tvalid_1's rmse: 3.277\n",
            "[1000]\ttraining's rmse: 1.4893\tvalid_1's rmse: 3.16153\n",
            "[1500]\ttraining's rmse: 1.19367\tvalid_1's rmse: 3.12875\n",
            "Early stopping, best iteration is:\n",
            "[1759]\ttraining's rmse: 1.09689\tvalid_1's rmse: 3.12005\n",
            "fold n°4\n",
            "Training until validation scores don't improve for 200 rounds.\n",
            "[500]\ttraining's rmse: 1.95734\tvalid_1's rmse: 4.99649\n",
            "[1000]\ttraining's rmse: 1.38521\tvalid_1's rmse: 4.81084\n",
            "[1500]\ttraining's rmse: 1.094\tvalid_1's rmse: 4.73873\n",
            "[2000]\ttraining's rmse: 0.937038\tvalid_1's rmse: 4.70813\n",
            "[2500]\ttraining's rmse: 0.839815\tvalid_1's rmse: 4.6918\n",
            "Early stopping, best iteration is:\n",
            "[2763]\ttraining's rmse: 0.802187\tvalid_1's rmse: 4.68298\n"
          ],
          "name": "stdout"
        }
      ]
    },
    {
      "cell_type": "code",
      "metadata": {
        "id": "4ow6WdV9gt7G",
        "colab_type": "code",
        "outputId": "807fd332-fba8-493e-e975-91a883e295e0",
        "colab": {
          "base_uri": "https://localhost:8080/",
          "height": 51
        }
      },
      "source": [
        "from sklearn import metrics\n",
        "print(metrics.mean_absolute_error(predictions, Y_test))\n",
        "print(metrics.r2_score(predictions, Y_test))"
      ],
      "execution_count": 0,
      "outputs": [
        {
          "output_type": "stream",
          "text": [
            "2.308559127312389\n",
            "0.7994514995860382\n"
          ],
          "name": "stdout"
        }
      ]
    },
    {
      "cell_type": "markdown",
      "metadata": {
        "id": "TjZ6Nb8knMP-",
        "colab_type": "text"
      },
      "source": [
        "## using Hyperopt"
      ]
    },
    {
      "cell_type": "code",
      "metadata": {
        "id": "gDa-QM6enROv",
        "colab_type": "code",
        "colab": {}
      },
      "source": [
        "import csv\n",
        "import numpy as np\n",
        "from sklearn.datasets import load_boston\n",
        "from sklearn.model_selection import train_test_split\n",
        "from sklearn.preprocessing import StandardScaler\n",
        "data = load_boston()\n",
        "X = data.data\n",
        "Y = data.target\n",
        "X_train,X_test,y_train,y_test = train_test_split(X,Y,test_size=0.2,random_state=50)\n",
        "\n",
        "ss = StandardScaler()\n",
        "X_train = ss.fit_transform(X_train)\n",
        "X_test = ss.transform(X_test)\n",
        "\n",
        "#儲存結果的file \n",
        "out_file = 'gbm_trials.csv'\n",
        "of_connection = open(out_file, 'w')\n",
        "writer = csv.writer(of_connection)\n",
        "# 寫入header的名稱\n",
        "writer.writerow(['loss', 'params', 'iteration', 'estimators', 'train_time'])\n",
        "of_connection.close()"
      ],
      "execution_count": 0,
      "outputs": []
    },
    {
      "cell_type": "code",
      "metadata": {
        "id": "cfbeuXYGyn7a",
        "colab_type": "code",
        "colab": {}
      },
      "source": [
        "from timeit import default_timer as timer\n",
        "import lightgbm as lgb\n",
        "from hyperopt import STATUS_OK\n",
        "\n",
        "#建立評估次數\n",
        "MAX_EVALS = 200\n",
        "#建立kfold 意思是要將資料分成幾個group\n",
        "#意思為分成10組 取1組當test set 剩下的就是train set\n",
        "N_FOLDS = 10\n",
        "\n",
        "train_set = lgb.Dataset(X_train,label = y_train)\n",
        "\n",
        "def objective(params, n_folds = N_FOLDS):\n",
        "    #會紀錄最後的運行紀錄\n",
        "    global ITERATION\n",
        "    ITERATION += 1\n",
        "    subsample = params['boosting_type'].get('subsample', 1.0)\n",
        "    params['boosting_type'] = params['boosting_type']['boosting_type']\n",
        "    params['subsample'] = subsample\n",
        "    for parameter_name in ['num_leaves', 'subsample_for_bin', 'min_child_samples']:\n",
        "        params[parameter_name] = int(params[parameter_name])\n",
        "    #準備計算跑model的時間\n",
        "    start = timer()\n",
        "    #交叉驗證 early_stopping_rounds是指超過100次都沒有改善的話就會停止模型\n",
        "    cv_results = lgb.cv(params, train_set, num_boost_round=10000, nfold=n_folds,\n",
        "                        stratified=False, shuffle=True, metrics='rmse',\n",
        "                        early_stopping_rounds=100, verbose_eval=False, show_stdv=True)\n",
        "    \n",
        "    #總運行時間\n",
        "    run_time = timer() - start\n",
        "    loss = np.min(cv_results['rmse-mean'])\n",
        "    \n",
        "    #estimators(樹的數量)\n",
        "    n_estimators = int(np.argmin(cv_results['rmse-mean']) + 1)\n",
        "    #將所獲的資料寫入csv裡\n",
        "    of_connection = open(out_file, 'a')\n",
        "    writer = csv.writer(of_connection)\n",
        "    writer.writerow([loss, params, ITERATION, n_estimators, run_time])\n",
        "    return {'loss': loss, 'params': params, 'iteration': ITERATION,\n",
        "            'estimators': n_estimators, \n",
        "            'train_time': run_time, 'status': STATUS_OK}"
      ],
      "execution_count": 0,
      "outputs": []
    },
    {
      "cell_type": "markdown",
      "metadata": {
        "id": "olOO31BTK2EM",
        "colab_type": "text"
      },
      "source": [
        "會使用的hp的機率函數型態\n",
        "choice:針對屬性資料(uniform)\n",
        "quniform:針對非連續性資料(uniform)\n",
        "uniform:針對連續性資料(uniform)\n",
        "loguniform:針對連續性log資料(uniform)"
      ]
    },
    {
      "cell_type": "code",
      "metadata": {
        "id": "IoLXwb_y0nCZ",
        "colab_type": "code",
        "colab": {}
      },
      "source": [
        "from hyperopt import hp\n",
        "space = {\n",
        "    'class_weight': hp.choice('class_weight', [None, 'balanced']),\n",
        "    #subsample代表為採樣數\n",
        "    #因為'goss'並無區分是否含有採樣數 所以給予1(不採樣)\n",
        "    'boosting_type': hp.choice('boosting_type', [{'boosting_type': 'gbdt', 'subsample': hp.uniform('gdbt_subsample', 0.5, 1)}, \n",
        "                                                 #{'boosting_type': 'dart', 'subsample': hp.uniform('dart_subsample', 0.5, 1)},\n",
        "                                                 {'boosting_type': 'goss', 'subsample': 1.0}]),\n",
        "    'num_leaves': hp.quniform('num_leaves', 30, 150, 1),\n",
        "    'learning_rate': hp.loguniform('learning_rate', np.log(0.01), np.log(0.2)),\n",
        "    'subsample_for_bin': hp.quniform('subsample_for_bin', 20000, 300000, 20000),\n",
        "    'min_child_samples': hp.quniform('min_child_samples', 20, 500, 5),\n",
        "    'reg_alpha': hp.uniform('reg_alpha', 0.0, 1.0),\n",
        "    'reg_lambda': hp.uniform('reg_lambda', 0.0, 1.0),\n",
        "    'colsample_bytree': hp.uniform('colsample_by_tree', 0.6, 1.0)}"
      ],
      "execution_count": 0,
      "outputs": []
    },
    {
      "cell_type": "code",
      "metadata": {
        "id": "6BdrSq_-0z8p",
        "colab_type": "code",
        "colab": {}
      },
      "source": [
        "import csv\n",
        "from hyperopt import tpe\n",
        "tpe_algorithm = tpe.suggest\n",
        "\n",
        "from hyperopt import Trials\n",
        "# Keep track of results\n",
        "bayes_trials = Trials()"
      ],
      "execution_count": 0,
      "outputs": []
    },
    {
      "cell_type": "code",
      "metadata": {
        "id": "5ViWt84Z16Xb",
        "colab_type": "code",
        "outputId": "133f9c72-0c60-4707-e8e9-f91d953170e7",
        "colab": {
          "base_uri": "https://localhost:8080/",
          "height": 34
        }
      },
      "source": [
        "from hyperopt import fmin\n",
        "\n",
        "# Global variable\n",
        "global  ITERATION\n",
        "ITERATION = 0\n",
        "#ITERATION可以讓我們看iteration的數量\n",
        "# Run optimization\n",
        "best = fmin(fn = objective, space = space, algo = tpe.suggest,\n",
        "            max_evals = MAX_EVALS, trials = bayes_trials, rstate = np.random.RandomState(50))"
      ],
      "execution_count": 0,
      "outputs": [
        {
          "output_type": "stream",
          "text": [
            "100%|██████████| 180/180 [18:50<00:00,  4.31s/it, best loss: 3.4854498230702413]\n"
          ],
          "name": "stdout"
        }
      ]
    },
    {
      "cell_type": "markdown",
      "metadata": {
        "id": "zmBIRvfnBjDu",
        "colab_type": "text"
      },
      "source": [
        "不會像grid search不會了解資料的好壞和無意義的跑高loss的model"
      ]
    },
    {
      "cell_type": "code",
      "metadata": {
        "id": "k2oEOFHT2gqi",
        "colab_type": "code",
        "outputId": "f837098f-9f27-42c4-f11a-fdfead5bb289",
        "colab": {
          "base_uri": "https://localhost:8080/",
          "height": 286
        }
      },
      "source": [
        "import pandas as pd\n",
        "import numpy as np\n",
        "import matplotlib.pyplot as plt\n",
        "\n",
        "results1=pd.read_csv('gbm_trials.csv')\n",
        "plt.plot(results1['loss'])"
      ],
      "execution_count": 0,
      "outputs": [
        {
          "output_type": "execute_result",
          "data": {
            "text/plain": [
              "[<matplotlib.lines.Line2D at 0x7f38490c85f8>]"
            ]
          },
          "metadata": {
            "tags": []
          },
          "execution_count": 78
        },
        {
          "output_type": "display_data",
          "data": {
            "image/png": "[encoded data removed]",
            "text/plain": [
              "<Figure size 432x288 with 1 Axes>"
            ]
          },
          "metadata": {
            "tags": []
          }
        }
      ]
    },
    {
      "cell_type": "code",
      "metadata": {
        "id": "syBpHmBX7Fzh",
        "colab_type": "code",
        "outputId": "3542c332-159f-4498-d920-6d3cc4188c9a",
        "colab": {
          "base_uri": "https://localhost:8080/",
          "height": 204
        }
      },
      "source": [
        "results = pd.read_csv('gbm_trials.csv')\n",
        "#找出最低的loss 並排序\n",
        "results.sort_values('loss', ascending = True, inplace = True)\n",
        "results.reset_index(inplace = True, drop = True)\n",
        "results.head()"
      ],
      "execution_count": 0,
      "outputs": [
        {
          "output_type": "execute_result",
          "data": {
            "text/html": [
              "<div>\n",
              "<style scoped>\n",
              "    .dataframe tbody tr th:only-of-type {\n",
              "        vertical-align: middle;\n",
              "    }\n",
              "\n",
              "    .dataframe tbody tr th {\n",
              "        vertical-align: top;\n",
              "    }\n",
              "\n",
              "    .dataframe thead th {\n",
              "        text-align: right;\n",
              "    }\n",
              "</style>\n",
              "<table border=\"1\" class=\"dataframe\">\n",
              "  <thead>\n",
              "    <tr style=\"text-align: right;\">\n",
              "      <th></th>\n",
              "      <th>loss</th>\n",
              "      <th>params</th>\n",
              "      <th>iteration</th>\n",
              "      <th>estimators</th>\n",
              "      <th>train_time</th>\n",
              "    </tr>\n",
              "  </thead>\n",
              "  <tbody>\n",
              "    <tr>\n",
              "      <th>0</th>\n",
              "      <td>3.485450</td>\n",
              "      <td>{'boosting_type': 'gbdt', 'class_weight': 'bal...</td>\n",
              "      <td>1</td>\n",
              "      <td>1449</td>\n",
              "      <td>13.226693</td>\n",
              "    </tr>\n",
              "    <tr>\n",
              "      <th>1</th>\n",
              "      <td>3.490548</td>\n",
              "      <td>{'boosting_type': 'gbdt', 'class_weight': 'bal...</td>\n",
              "      <td>67</td>\n",
              "      <td>2099</td>\n",
              "      <td>17.199969</td>\n",
              "    </tr>\n",
              "    <tr>\n",
              "      <th>2</th>\n",
              "      <td>3.498186</td>\n",
              "      <td>{'boosting_type': 'gbdt', 'class_weight': 'bal...</td>\n",
              "      <td>6</td>\n",
              "      <td>704</td>\n",
              "      <td>6.787330</td>\n",
              "    </tr>\n",
              "    <tr>\n",
              "      <th>3</th>\n",
              "      <td>3.555039</td>\n",
              "      <td>{'boosting_type': 'gbdt', 'class_weight': 'bal...</td>\n",
              "      <td>135</td>\n",
              "      <td>453</td>\n",
              "      <td>4.944958</td>\n",
              "    </tr>\n",
              "    <tr>\n",
              "      <th>4</th>\n",
              "      <td>3.561713</td>\n",
              "      <td>{'boosting_type': 'gbdt', 'class_weight': 'bal...</td>\n",
              "      <td>17</td>\n",
              "      <td>92</td>\n",
              "      <td>1.762599</td>\n",
              "    </tr>\n",
              "  </tbody>\n",
              "</table>\n",
              "</div>"
            ],
            "text/plain": [
              "       loss  ... train_time\n",
              "0  3.485450  ...  13.226693\n",
              "1  3.490548  ...  17.199969\n",
              "2  3.498186  ...   6.787330\n",
              "3  3.555039  ...   4.944958\n",
              "4  3.561713  ...   1.762599\n",
              "\n",
              "[5 rows x 5 columns]"
            ]
          },
          "metadata": {
            "tags": []
          },
          "execution_count": 79
        }
      ]
    },
    {
      "cell_type": "code",
      "metadata": {
        "id": "Bg5TjGi5Bw5e",
        "colab_type": "code",
        "outputId": "bda2323d-3029-4e93-e651-13386fe4ac1e",
        "colab": {
          "base_uri": "https://localhost:8080/",
          "height": 170
        }
      },
      "source": [
        "import ast\n",
        "#找出tree的數量\n",
        "#找出最佳參數\n",
        "best_bayes_estimators = int(results.loc[0, 'estimators'])\n",
        "best_bayes_params = ast.literal_eval(results.loc[0, 'params']).copy()\n",
        "\n",
        "#將最佳化過後的參數放入模型中\n",
        "best_bayes_model = lgb.LGBMRegressor(n_estimators=best_bayes_estimators, n_jobs = -1, \n",
        "                                      objective = 'regression', random_state = 50)\n",
        "best_bayes_model.set_params(**best_bayes_params)\n",
        "best_bayes_model.fit(X_train, y_train)"
      ],
      "execution_count": 0,
      "outputs": [
        {
          "output_type": "execute_result",
          "data": {
            "text/plain": [
              "LGBMRegressor(boosting_type='gbdt', class_weight='balanced',\n",
              "              colsample_bytree=0.8717607003605692, importance_type='split',\n",
              "              learning_rate=0.026414359538002214, max_depth=-1,\n",
              "              min_child_samples=25, min_child_weight=0.001, min_split_gain=0.0,\n",
              "              n_estimators=1449, n_jobs=-1, num_leaves=146,\n",
              "              objective='regression', random_state=50,\n",
              "              reg_alpha=0.6275079739033433, reg_lambda=0.2775571107341722,\n",
              "              silent=True, subsample=0.7042257794569732,\n",
              "              subsample_for_bin=260000, subsample_freq=0)"
            ]
          },
          "metadata": {
            "tags": []
          },
          "execution_count": 94
        }
      ]
    },
    {
      "cell_type": "code",
      "metadata": {
        "id": "I28gJgSvCPuN",
        "colab_type": "code",
        "outputId": "70da91b4-93ff-4575-acd8-f442a2b97936",
        "colab": {
          "base_uri": "https://localhost:8080/",
          "height": 51
        }
      },
      "source": [
        "from sklearn.metrics import mean_absolute_error, r2_score\n",
        "\n",
        "print(mean_absolute_error(best_bayes_model.predict(X_test), y_test))\n",
        "print(r2_score(best_bayes_model.predict(X_test), y_test))"
      ],
      "execution_count": 0,
      "outputs": [
        {
          "output_type": "stream",
          "text": [
            "2.1594341699352424\n",
            "0.7707818766568426\n"
          ],
          "name": "stdout"
        }
      ]
    },
    {
      "cell_type": "code",
      "metadata": {
        "id": "62_P4XSFOF4u",
        "colab_type": "code",
        "colab": {
          "base_uri": "https://localhost:8080/",
          "height": 187
        },
        "outputId": "3495cb92-47dc-411a-945b-5c5f24738764"
      },
      "source": [
        "best"
      ],
      "execution_count": 140,
      "outputs": [
        {
          "output_type": "execute_result",
          "data": {
            "text/plain": [
              "{'boosting_type': 0,\n",
              " 'class_weight': 1,\n",
              " 'colsample_by_tree': 0.8717607003605692,\n",
              " 'gdbt_subsample': 0.7042257794569732,\n",
              " 'learning_rate': 0.026414359538002214,\n",
              " 'min_child_samples': 25.0,\n",
              " 'num_leaves': 146.0,\n",
              " 'reg_alpha': 0.6275079739033433,\n",
              " 'reg_lambda': 0.2775571107341722,\n",
              " 'subsample_for_bin': 260000.0}"
            ]
          },
          "metadata": {
            "tags": []
          },
          "execution_count": 140
        }
      ]
    },
    {
      "cell_type": "code",
      "metadata": {
        "id": "HXA1WOqdOHHA",
        "colab_type": "code",
        "colab": {}
      },
      "source": [
        ""
      ],
      "execution_count": 0,
      "outputs": []
    }
  ]
}