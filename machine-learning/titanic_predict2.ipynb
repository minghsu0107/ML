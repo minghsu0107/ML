{
  "nbformat": 4,
  "nbformat_minor": 0,
  "metadata": {
    "kernelspec": {
      "name": "python3",
      "display_name": "Python 3"
    },
    "colab": {
      "name": "titanic-predict2.ipynb",
      "version": "0.3.2",
      "provenance": [],
      "collapsed_sections": [
        "Y3nzyS7j3LCn",
        "epeb_bi63LCw",
        "mi2aVkXY3LDD",
        "2CBasv5B3LDN",
        "oJ31_2JN3LDV",
        "BD9da0rt3LDi",
        "0BF4s0Qk3LFB",
        "ggFQijyd3LFi",
        "QPLD0rLd3LGl",
        "fSkTqtKh3LHv",
        "qE7IgutE3LIn",
        "8RBq-a0m3LJS",
        "epldttWy9Gdc",
        "lFv0WGDv3LJs",
        "V-xoLVMa3LJy",
        "rZEhCTrM3LKC",
        "S_xRbvoi3LKR",
        "HZVPyJiQ3LKU"
      ],
      "toc_visible": true,
      "include_colab_link": true
    },
    "accelerator": "GPU"
  },
  "cells": [
    {
      "cell_type": "markdown",
      "metadata": {
        "id": "view-in-github",
        "colab_type": "text"
      },
      "source": [
        "<a href=\"https://colab.research.google.com/github/minghsu0107/ML/blob/master/machine-learning/titanic_predict2.ipynb\" target=\"_parent\"><img src=\"https://colab.research.google.com/assets/colab-badge.svg\" alt=\"Open In Colab\"/></a>"
      ]
    },
    {
      "cell_type": "markdown",
      "metadata": {
        "id": "jxY_HSNi3LCe",
        "colab_type": "text"
      },
      "source": [
        "# Kaggle Machine Learning Competition: Predicting Titanic Survivors"
      ]
    },
    {
      "cell_type": "markdown",
      "metadata": {
        "id": "_aoRgOEv3LCj",
        "colab_type": "text"
      },
      "source": [
        "* Competition Site\n",
        "* Description\n",
        "* Evaluation\n",
        "* Data Set\n",
        "* Setup Imports and Variables\n",
        "* Explore the Data\n",
        "* Feature: Passenger Classes\n",
        "* Feature: Sex\n",
        "* Feature: Embarked\n",
        "* Feature: Age\n",
        "* Feature: Family Size\n",
        "* Final Data Preparation for Machine Learning\n",
        "* Data Wrangling Summary\n",
        "* Random Forest: Training\n",
        "* Random Forest: Predicting\n",
        "* Random Forest: Prepare for Kaggle Submission"
      ]
    },
    {
      "cell_type": "markdown",
      "metadata": {
        "id": "Y3nzyS7j3LCn",
        "colab_type": "text"
      },
      "source": [
        "## Competition Site"
      ]
    },
    {
      "cell_type": "markdown",
      "metadata": {
        "id": "NPIW3NJn3LCt",
        "colab_type": "text"
      },
      "source": [
        "Description, Evaluation, and Data Set taken from the [competition site](https://www.kaggle.com/c/titanic-gettingStarted)."
      ]
    },
    {
      "cell_type": "markdown",
      "metadata": {
        "id": "epeb_bi63LCw",
        "colab_type": "text"
      },
      "source": [
        "## Description"
      ]
    },
    {
      "cell_type": "markdown",
      "metadata": {
        "id": "m_RmVmEA3LC0",
        "colab_type": "text"
      },
      "source": [
        "![alt text](http://upload.wikimedia.org/wikipedia/commons/6/6e/St%C3%B6wer_Titanic.jpg)"
      ]
    },
    {
      "cell_type": "markdown",
      "metadata": {
        "id": "lCxoRA-m3LC4",
        "colab_type": "text"
      },
      "source": [
        "The sinking of the RMS Titanic is one of the most infamous shipwrecks in history.  On April 15, 1912, during her maiden voyage, the Titanic sank after colliding with an iceberg, killing 1502 out of 2224 passengers and crew. This sensational tragedy shocked the international community and led to better safety regulations for ships.\n",
        "\n",
        "One of the reasons that the shipwreck led to such loss of life was that there were not enough lifeboats for the passengers and crew. Although there was some element of luck involved in surviving the sinking, some groups of people were more likely to survive than others, such as women, children, and the upper-class.\n",
        "\n",
        "In this challenge, we ask you to complete the analysis of what sorts of people were likely to survive. In particular, we ask you to apply the tools of machine learning to predict which passengers survived the tragedy."
      ]
    },
    {
      "cell_type": "markdown",
      "metadata": {
        "id": "mi2aVkXY3LDD",
        "colab_type": "text"
      },
      "source": [
        "## Evaluation"
      ]
    },
    {
      "cell_type": "markdown",
      "metadata": {
        "id": "BXaWHdcg3LDH",
        "colab_type": "text"
      },
      "source": [
        "The historical data has been split into two groups, a 'training set' and a 'test set'.  For the training set, we provide the outcome ( 'ground truth' ) for each passenger.  You will use this set to build your model to generate predictions for the test set.\n",
        "\n",
        "For each passenger in the test set, you must predict whether or not they survived the sinking ( 0 for deceased, 1 for survived ).  Your score is the percentage of passengers you correctly predict.\n",
        "\n",
        " The Kaggle leaderboard has a public and private component.  50% of your predictions for the test set have been randomly assigned to the public leaderboard ( the same 50% for all users ).  Your score on this public portion is what will appear on the leaderboard.  At the end of the contest, we will reveal your score on the private 50% of the data, which will determine the final winner.  This method prevents users from 'overfitting' to the leaderboard."
      ]
    },
    {
      "cell_type": "markdown",
      "metadata": {
        "id": "2CBasv5B3LDN",
        "colab_type": "text"
      },
      "source": [
        "## Data Set"
      ]
    },
    {
      "cell_type": "markdown",
      "metadata": {
        "colab_type": "text",
        "id": "Iwa2pdcAz-Ic"
      },
      "source": [
        "| File Name        | Available Formats |\n",
        "|------------------|-------------------|\n",
        "| train            | .csv (59.76 kb)   |\n",
        "| gendermodel      | .csv (3.18 kb)    |\n",
        "| genderclassmodel | .csv (3.18 kb)    |\n",
        "| test             | .csv (27.96 kb)   |\n",
        "| gendermodel      | .py (3.58 kb)     |\n",
        "| genderclassmodel | .py (5.63 kb)     |\n",
        "| myfirstforest    | .py (3.99 kb)     |"
      ]
    },
    {
      "cell_type": "markdown",
      "metadata": {
        "id": "NqirHnOQ3LDT",
        "colab_type": "text"
      },
      "source": [
        "<pre>\n",
        "VARIABLE DESCRIPTIONS:\n",
        "survival        Survival\n",
        "                (0 = No; 1 = Yes)\n",
        "pclass          Passenger Class\n",
        "                (1 = 1st; 2 = 2nd; 3 = 3rd)\n",
        "name            Name\n",
        "sex             Sex\n",
        "age             Age\n",
        "sibsp           Number of Siblings/Spouses Aboard\n",
        "parch           Number of Parents/Children Aboard\n",
        "ticket          Ticket Number\n",
        "fare            Passenger Fare\n",
        "cabin           Cabin\n",
        "embarked        Port of Embarkation\n",
        "                (C = Cherbourg; Q = Queenstown; S = Southampton)\n",
        "\n",
        "SPECIAL NOTES:\n",
        "Pclass is a proxy for socio-economic status (SES)\n",
        " 1st ~ Upper; 2nd ~ Middle; 3rd ~ Lower\n",
        "\n",
        "Age is in Years; Fractional if Age less than One (1)\n",
        " If the Age is Estimated, it is in the form xx.5\n",
        "\n",
        "With respect to the family relation variables (i.e. sibsp and parch)\n",
        "some relations were ignored.  The following are the definitions used\n",
        "for sibsp and parch.\n",
        "\n",
        "Sibling:  Brother, Sister, Stepbrother, or Stepsister of Passenger Aboard Titanic\n",
        "Spouse:   Husband or Wife of Passenger Aboard Titanic (Mistresses and Fiances Ignored)\n",
        "Parent:   Mother or Father of Passenger Aboard Titanic\n",
        "Child:    Son, Daughter, Stepson, or Stepdaughter of Passenger Aboard Titanic\n",
        "\n",
        "Other family relatives excluded from this study include cousins,\n",
        "nephews/nieces, aunts/uncles, and in-laws.  Some children travelled\n",
        "only with a nanny, therefore parch=0 for them.  As well, some\n",
        "travelled with very close friends or neighbors in a village, however,\n",
        "the definitions do not support such relations.\n",
        "</pre>"
      ]
    },
    {
      "cell_type": "markdown",
      "metadata": {
        "id": "oJ31_2JN3LDV",
        "colab_type": "text"
      },
      "source": [
        "## Setup Imports and Variables"
      ]
    },
    {
      "cell_type": "code",
      "metadata": {
        "id": "vDuGwjwc3LDX",
        "colab_type": "code",
        "colab": {}
      },
      "source": [
        "import pandas as pd\n",
        "import numpy as np\n",
        "import pylab as plt\n",
        "\n",
        "# Set the global default size of matplotlib figures\n",
        "plt.rc('figure', figsize=(10, 5))\n",
        "\n",
        "# Size of matplotlib figures that contain subplots\n",
        "fizsize_with_subplots = (10, 10)\n",
        "\n",
        "# Size of matplotlib histogram bins\n",
        "bin_size = 10"
      ],
      "execution_count": 0,
      "outputs": []
    },
    {
      "cell_type": "markdown",
      "metadata": {
        "id": "BD9da0rt3LDi",
        "colab_type": "text"
      },
      "source": [
        "## Explore the Data"
      ]
    },
    {
      "cell_type": "markdown",
      "metadata": {
        "id": "XDKjCnjz3LDk",
        "colab_type": "text"
      },
      "source": [
        "Read the data:"
      ]
    },
    {
      "cell_type": "code",
      "metadata": {
        "id": "dFXK5dsZ3LDn",
        "colab_type": "code",
        "outputId": "8c5cf6d4-7754-4ae7-ffec-67853de7fef6",
        "colab": {
          "base_uri": "https://localhost:8080/"
        }
      },
      "source": [
        "df_train = pd.read_csv('./drive/My Drive/titanic/train.csv')\n",
        "df_train.head(5)"
      ],
      "execution_count": 0,
      "outputs": [
        {
          "output_type": "execute_result",
          "data": {
            "text/html": [
              "<div>\n",
              "<style scoped>\n",
              "    .dataframe tbody tr th:only-of-type {\n",
              "        vertical-align: middle;\n",
              "    }\n",
              "\n",
              "    .dataframe tbody tr th {\n",
              "        vertical-align: top;\n",
              "    }\n",
              "\n",
              "    .dataframe thead th {\n",
              "        text-align: right;\n",
              "    }\n",
              "</style>\n",
              "<table border=\"1\" class=\"dataframe\">\n",
              "  <thead>\n",
              "    <tr style=\"text-align: right;\">\n",
              "      <th></th>\n",
              "      <th>PassengerId</th>\n",
              "      <th>Survived</th>\n",
              "      <th>Pclass</th>\n",
              "      <th>Name</th>\n",
              "      <th>Sex</th>\n",
              "      <th>Age</th>\n",
              "      <th>SibSp</th>\n",
              "      <th>Parch</th>\n",
              "      <th>Ticket</th>\n",
              "      <th>Fare</th>\n",
              "      <th>Cabin</th>\n",
              "      <th>Embarked</th>\n",
              "    </tr>\n",
              "  </thead>\n",
              "  <tbody>\n",
              "    <tr>\n",
              "      <th>0</th>\n",
              "      <td>1</td>\n",
              "      <td>0</td>\n",
              "      <td>3</td>\n",
              "      <td>Braund, Mr. Owen Harris</td>\n",
              "      <td>male</td>\n",
              "      <td>22.0</td>\n",
              "      <td>1</td>\n",
              "      <td>0</td>\n",
              "      <td>A/5 21171</td>\n",
              "      <td>7.2500</td>\n",
              "      <td>NaN</td>\n",
              "      <td>S</td>\n",
              "    </tr>\n",
              "    <tr>\n",
              "      <th>1</th>\n",
              "      <td>2</td>\n",
              "      <td>1</td>\n",
              "      <td>1</td>\n",
              "      <td>Cumings, Mrs. John Bradley (Florence Briggs Th...</td>\n",
              "      <td>female</td>\n",
              "      <td>38.0</td>\n",
              "      <td>1</td>\n",
              "      <td>0</td>\n",
              "      <td>PC 17599</td>\n",
              "      <td>71.2833</td>\n",
              "      <td>C85</td>\n",
              "      <td>C</td>\n",
              "    </tr>\n",
              "    <tr>\n",
              "      <th>2</th>\n",
              "      <td>3</td>\n",
              "      <td>1</td>\n",
              "      <td>3</td>\n",
              "      <td>Heikkinen, Miss. Laina</td>\n",
              "      <td>female</td>\n",
              "      <td>26.0</td>\n",
              "      <td>0</td>\n",
              "      <td>0</td>\n",
              "      <td>STON/O2. 3101282</td>\n",
              "      <td>7.9250</td>\n",
              "      <td>NaN</td>\n",
              "      <td>S</td>\n",
              "    </tr>\n",
              "    <tr>\n",
              "      <th>3</th>\n",
              "      <td>4</td>\n",
              "      <td>1</td>\n",
              "      <td>1</td>\n",
              "      <td>Futrelle, Mrs. Jacques Heath (Lily May Peel)</td>\n",
              "      <td>female</td>\n",
              "      <td>35.0</td>\n",
              "      <td>1</td>\n",
              "      <td>0</td>\n",
              "      <td>113803</td>\n",
              "      <td>53.1000</td>\n",
              "      <td>C123</td>\n",
              "      <td>S</td>\n",
              "    </tr>\n",
              "    <tr>\n",
              "      <th>4</th>\n",
              "      <td>5</td>\n",
              "      <td>0</td>\n",
              "      <td>3</td>\n",
              "      <td>Allen, Mr. William Henry</td>\n",
              "      <td>male</td>\n",
              "      <td>35.0</td>\n",
              "      <td>0</td>\n",
              "      <td>0</td>\n",
              "      <td>373450</td>\n",
              "      <td>8.0500</td>\n",
              "      <td>NaN</td>\n",
              "      <td>S</td>\n",
              "    </tr>\n",
              "  </tbody>\n",
              "</table>\n",
              "</div>"
            ],
            "text/plain": [
              "   PassengerId  Survived  Pclass  ...     Fare Cabin  Embarked\n",
              "0            1         0       3  ...   7.2500   NaN         S\n",
              "1            2         1       1  ...  71.2833   C85         C\n",
              "2            3         1       3  ...   7.9250   NaN         S\n",
              "3            4         1       1  ...  53.1000  C123         S\n",
              "4            5         0       3  ...   8.0500   NaN         S\n",
              "\n",
              "[5 rows x 12 columns]"
            ]
          },
          "metadata": {
            "tags": []
          },
          "execution_count": 198
        }
      ]
    },
    {
      "cell_type": "code",
      "metadata": {
        "id": "VXk5wk4B3LD3",
        "colab_type": "code",
        "outputId": "e25ef82b-d110-4081-b7f2-f88d3010d7b4",
        "colab": {
          "base_uri": "https://localhost:8080/"
        }
      },
      "source": [
        "df_train.tail()"
      ],
      "execution_count": 0,
      "outputs": [
        {
          "output_type": "execute_result",
          "data": {
            "text/html": [
              "<div>\n",
              "<style scoped>\n",
              "    .dataframe tbody tr th:only-of-type {\n",
              "        vertical-align: middle;\n",
              "    }\n",
              "\n",
              "    .dataframe tbody tr th {\n",
              "        vertical-align: top;\n",
              "    }\n",
              "\n",
              "    .dataframe thead th {\n",
              "        text-align: right;\n",
              "    }\n",
              "</style>\n",
              "<table border=\"1\" class=\"dataframe\">\n",
              "  <thead>\n",
              "    <tr style=\"text-align: right;\">\n",
              "      <th></th>\n",
              "      <th>PassengerId</th>\n",
              "      <th>Survived</th>\n",
              "      <th>Pclass</th>\n",
              "      <th>Name</th>\n",
              "      <th>Sex</th>\n",
              "      <th>Age</th>\n",
              "      <th>SibSp</th>\n",
              "      <th>Parch</th>\n",
              "      <th>Ticket</th>\n",
              "      <th>Fare</th>\n",
              "      <th>Cabin</th>\n",
              "      <th>Embarked</th>\n",
              "    </tr>\n",
              "  </thead>\n",
              "  <tbody>\n",
              "    <tr>\n",
              "      <th>886</th>\n",
              "      <td>887</td>\n",
              "      <td>0</td>\n",
              "      <td>2</td>\n",
              "      <td>Montvila, Rev. Juozas</td>\n",
              "      <td>male</td>\n",
              "      <td>27.0</td>\n",
              "      <td>0</td>\n",
              "      <td>0</td>\n",
              "      <td>211536</td>\n",
              "      <td>13.00</td>\n",
              "      <td>NaN</td>\n",
              "      <td>S</td>\n",
              "    </tr>\n",
              "    <tr>\n",
              "      <th>887</th>\n",
              "      <td>888</td>\n",
              "      <td>1</td>\n",
              "      <td>1</td>\n",
              "      <td>Graham, Miss. Margaret Edith</td>\n",
              "      <td>female</td>\n",
              "      <td>19.0</td>\n",
              "      <td>0</td>\n",
              "      <td>0</td>\n",
              "      <td>112053</td>\n",
              "      <td>30.00</td>\n",
              "      <td>B42</td>\n",
              "      <td>S</td>\n",
              "    </tr>\n",
              "    <tr>\n",
              "      <th>888</th>\n",
              "      <td>889</td>\n",
              "      <td>0</td>\n",
              "      <td>3</td>\n",
              "      <td>Johnston, Miss. Catherine Helen \"Carrie\"</td>\n",
              "      <td>female</td>\n",
              "      <td>NaN</td>\n",
              "      <td>1</td>\n",
              "      <td>2</td>\n",
              "      <td>W./C. 6607</td>\n",
              "      <td>23.45</td>\n",
              "      <td>NaN</td>\n",
              "      <td>S</td>\n",
              "    </tr>\n",
              "    <tr>\n",
              "      <th>889</th>\n",
              "      <td>890</td>\n",
              "      <td>1</td>\n",
              "      <td>1</td>\n",
              "      <td>Behr, Mr. Karl Howell</td>\n",
              "      <td>male</td>\n",
              "      <td>26.0</td>\n",
              "      <td>0</td>\n",
              "      <td>0</td>\n",
              "      <td>111369</td>\n",
              "      <td>30.00</td>\n",
              "      <td>C148</td>\n",
              "      <td>C</td>\n",
              "    </tr>\n",
              "    <tr>\n",
              "      <th>890</th>\n",
              "      <td>891</td>\n",
              "      <td>0</td>\n",
              "      <td>3</td>\n",
              "      <td>Dooley, Mr. Patrick</td>\n",
              "      <td>male</td>\n",
              "      <td>32.0</td>\n",
              "      <td>0</td>\n",
              "      <td>0</td>\n",
              "      <td>370376</td>\n",
              "      <td>7.75</td>\n",
              "      <td>NaN</td>\n",
              "      <td>Q</td>\n",
              "    </tr>\n",
              "  </tbody>\n",
              "</table>\n",
              "</div>"
            ],
            "text/plain": [
              "     PassengerId  Survived  Pclass  ...   Fare Cabin  Embarked\n",
              "886          887         0       2  ...  13.00   NaN         S\n",
              "887          888         1       1  ...  30.00   B42         S\n",
              "888          889         0       3  ...  23.45   NaN         S\n",
              "889          890         1       1  ...  30.00  C148         C\n",
              "890          891         0       3  ...   7.75   NaN         Q\n",
              "\n",
              "[5 rows x 12 columns]"
            ]
          },
          "metadata": {
            "tags": []
          },
          "execution_count": 199
        }
      ]
    },
    {
      "cell_type": "markdown",
      "metadata": {
        "id": "OB8AJaA23LEC",
        "colab_type": "text"
      },
      "source": [
        "View the data types of each column:"
      ]
    },
    {
      "cell_type": "code",
      "metadata": {
        "id": "vrhfos873LEF",
        "colab_type": "code",
        "outputId": "fb580206-05dd-45ef-fb6c-332f2cc52701",
        "colab": {
          "base_uri": "https://localhost:8080/"
        }
      },
      "source": [
        "df_train.dtypes"
      ],
      "execution_count": 0,
      "outputs": [
        {
          "output_type": "execute_result",
          "data": {
            "text/plain": [
              "PassengerId      int64\n",
              "Survived         int64\n",
              "Pclass           int64\n",
              "Name            object\n",
              "Sex             object\n",
              "Age            float64\n",
              "SibSp            int64\n",
              "Parch            int64\n",
              "Ticket          object\n",
              "Fare           float64\n",
              "Cabin           object\n",
              "Embarked        object\n",
              "dtype: object"
            ]
          },
          "metadata": {
            "tags": []
          },
          "execution_count": 200
        }
      ]
    },
    {
      "cell_type": "markdown",
      "metadata": {
        "id": "Wry3EHEj3LES",
        "colab_type": "text"
      },
      "source": [
        "Type 'object' is a string for pandas, which poses problems with machine learning algorithms.  If we want to use these as features, we'll need to convert these to number representations."
      ]
    },
    {
      "cell_type": "markdown",
      "metadata": {
        "id": "WENuk9B83LEW",
        "colab_type": "text"
      },
      "source": [
        "Get some basic information on the DataFrame:"
      ]
    },
    {
      "cell_type": "code",
      "metadata": {
        "id": "Qzd_BFIv3LEY",
        "colab_type": "code",
        "outputId": "e6cd4537-f445-4597-ba81-909f76646815",
        "colab": {
          "base_uri": "https://localhost:8080/"
        }
      },
      "source": [
        "df_train.info()"
      ],
      "execution_count": 0,
      "outputs": [
        {
          "output_type": "stream",
          "text": [
            "<class 'pandas.core.frame.DataFrame'>\n",
            "RangeIndex: 891 entries, 0 to 890\n",
            "Data columns (total 12 columns):\n",
            "PassengerId    891 non-null int64\n",
            "Survived       891 non-null int64\n",
            "Pclass         891 non-null int64\n",
            "Name           891 non-null object\n",
            "Sex            891 non-null object\n",
            "Age            714 non-null float64\n",
            "SibSp          891 non-null int64\n",
            "Parch          891 non-null int64\n",
            "Ticket         891 non-null object\n",
            "Fare           891 non-null float64\n",
            "Cabin          204 non-null object\n",
            "Embarked       889 non-null object\n",
            "dtypes: float64(2), int64(5), object(5)\n",
            "memory usage: 83.6+ KB\n"
          ],
          "name": "stdout"
        }
      ]
    },
    {
      "cell_type": "markdown",
      "metadata": {
        "id": "mLj4UZmd3LEh",
        "colab_type": "text"
      },
      "source": [
        "Age, Cabin, and Embarked are missing values.  Cabin has too many missing values, whereas we might be able to infer values for Age and Embarked."
      ]
    },
    {
      "cell_type": "markdown",
      "metadata": {
        "id": "5Qc8xWvO3LEj",
        "colab_type": "text"
      },
      "source": [
        "Generate various descriptive statistics on the DataFrame:"
      ]
    },
    {
      "cell_type": "code",
      "metadata": {
        "id": "Z3n1B5Oh3LEn",
        "colab_type": "code",
        "outputId": "858ba9aa-ed0d-45fa-d1ea-e20049e448f2",
        "colab": {
          "base_uri": "https://localhost:8080/"
        }
      },
      "source": [
        "df_train.describe()"
      ],
      "execution_count": 0,
      "outputs": [
        {
          "output_type": "execute_result",
          "data": {
            "text/html": [
              "<div>\n",
              "<style scoped>\n",
              "    .dataframe tbody tr th:only-of-type {\n",
              "        vertical-align: middle;\n",
              "    }\n",
              "\n",
              "    .dataframe tbody tr th {\n",
              "        vertical-align: top;\n",
              "    }\n",
              "\n",
              "    .dataframe thead th {\n",
              "        text-align: right;\n",
              "    }\n",
              "</style>\n",
              "<table border=\"1\" class=\"dataframe\">\n",
              "  <thead>\n",
              "    <tr style=\"text-align: right;\">\n",
              "      <th></th>\n",
              "      <th>PassengerId</th>\n",
              "      <th>Survived</th>\n",
              "      <th>Pclass</th>\n",
              "      <th>Age</th>\n",
              "      <th>SibSp</th>\n",
              "      <th>Parch</th>\n",
              "      <th>Fare</th>\n",
              "    </tr>\n",
              "  </thead>\n",
              "  <tbody>\n",
              "    <tr>\n",
              "      <th>count</th>\n",
              "      <td>891.000000</td>\n",
              "      <td>891.000000</td>\n",
              "      <td>891.000000</td>\n",
              "      <td>714.000000</td>\n",
              "      <td>891.000000</td>\n",
              "      <td>891.000000</td>\n",
              "      <td>891.000000</td>\n",
              "    </tr>\n",
              "    <tr>\n",
              "      <th>mean</th>\n",
              "      <td>446.000000</td>\n",
              "      <td>0.383838</td>\n",
              "      <td>2.308642</td>\n",
              "      <td>29.699118</td>\n",
              "      <td>0.523008</td>\n",
              "      <td>0.381594</td>\n",
              "      <td>32.204208</td>\n",
              "    </tr>\n",
              "    <tr>\n",
              "      <th>std</th>\n",
              "      <td>257.353842</td>\n",
              "      <td>0.486592</td>\n",
              "      <td>0.836071</td>\n",
              "      <td>14.526497</td>\n",
              "      <td>1.102743</td>\n",
              "      <td>0.806057</td>\n",
              "      <td>49.693429</td>\n",
              "    </tr>\n",
              "    <tr>\n",
              "      <th>min</th>\n",
              "      <td>1.000000</td>\n",
              "      <td>0.000000</td>\n",
              "      <td>1.000000</td>\n",
              "      <td>0.420000</td>\n",
              "      <td>0.000000</td>\n",
              "      <td>0.000000</td>\n",
              "      <td>0.000000</td>\n",
              "    </tr>\n",
              "    <tr>\n",
              "      <th>25%</th>\n",
              "      <td>223.500000</td>\n",
              "      <td>0.000000</td>\n",
              "      <td>2.000000</td>\n",
              "      <td>20.125000</td>\n",
              "      <td>0.000000</td>\n",
              "      <td>0.000000</td>\n",
              "      <td>7.910400</td>\n",
              "    </tr>\n",
              "    <tr>\n",
              "      <th>50%</th>\n",
              "      <td>446.000000</td>\n",
              "      <td>0.000000</td>\n",
              "      <td>3.000000</td>\n",
              "      <td>28.000000</td>\n",
              "      <td>0.000000</td>\n",
              "      <td>0.000000</td>\n",
              "      <td>14.454200</td>\n",
              "    </tr>\n",
              "    <tr>\n",
              "      <th>75%</th>\n",
              "      <td>668.500000</td>\n",
              "      <td>1.000000</td>\n",
              "      <td>3.000000</td>\n",
              "      <td>38.000000</td>\n",
              "      <td>1.000000</td>\n",
              "      <td>0.000000</td>\n",
              "      <td>31.000000</td>\n",
              "    </tr>\n",
              "    <tr>\n",
              "      <th>max</th>\n",
              "      <td>891.000000</td>\n",
              "      <td>1.000000</td>\n",
              "      <td>3.000000</td>\n",
              "      <td>80.000000</td>\n",
              "      <td>8.000000</td>\n",
              "      <td>6.000000</td>\n",
              "      <td>512.329200</td>\n",
              "    </tr>\n",
              "  </tbody>\n",
              "</table>\n",
              "</div>"
            ],
            "text/plain": [
              "       PassengerId    Survived      Pclass  ...       SibSp       Parch        Fare\n",
              "count   891.000000  891.000000  891.000000  ...  891.000000  891.000000  891.000000\n",
              "mean    446.000000    0.383838    2.308642  ...    0.523008    0.381594   32.204208\n",
              "std     257.353842    0.486592    0.836071  ...    1.102743    0.806057   49.693429\n",
              "min       1.000000    0.000000    1.000000  ...    0.000000    0.000000    0.000000\n",
              "25%     223.500000    0.000000    2.000000  ...    0.000000    0.000000    7.910400\n",
              "50%     446.000000    0.000000    3.000000  ...    0.000000    0.000000   14.454200\n",
              "75%     668.500000    1.000000    3.000000  ...    1.000000    0.000000   31.000000\n",
              "max     891.000000    1.000000    3.000000  ...    8.000000    6.000000  512.329200\n",
              "\n",
              "[8 rows x 7 columns]"
            ]
          },
          "metadata": {
            "tags": []
          },
          "execution_count": 202
        }
      ]
    },
    {
      "cell_type": "markdown",
      "metadata": {
        "id": "ZMCkfJZ63LEy",
        "colab_type": "text"
      },
      "source": [
        "Now that we have a general idea of the data set contents, we can dive deeper into each column.  We'll be doing exploratory data analysis and cleaning data to setup 'features' we'll be using in our machine learning algorithms.\n",
        "\n",
        "Plot a few features to get a better idea of each:"
      ]
    },
    {
      "cell_type": "code",
      "metadata": {
        "id": "ydRyYXE43LE0",
        "colab_type": "code",
        "outputId": "f1f18bd3-b2f4-4b58-aa8f-d2da2c8e844c",
        "colab": {
          "base_uri": "https://localhost:8080/"
        }
      },
      "source": [
        "# Set up a grid of plots\n",
        "fig = plt.figure(figsize=fizsize_with_subplots) \n",
        "fig_dims = (3, 2)\n",
        "\n",
        "# Plot death and survival counts\n",
        "plt.subplot2grid(fig_dims, (0, 0))\n",
        "df_train['Survived'].value_counts().plot(kind='bar', \n",
        "                                         title='Death and Survival Counts')\n",
        "\n",
        "# Plot Pclass counts\n",
        "plt.subplot2grid(fig_dims, (0, 1))\n",
        "df_train['Pclass'].value_counts().plot(kind='bar', \n",
        "                                       title='Passenger Class Counts')\n",
        "\n",
        "# Plot Sex counts\n",
        "plt.subplot2grid(fig_dims, (1, 0))\n",
        "df_train['Sex'].value_counts().plot(kind='bar', \n",
        "                                    title='Gender Counts')\n",
        "plt.xticks(rotation=0)\n",
        "\n",
        "# Plot Embarked counts\n",
        "plt.subplot2grid(fig_dims, (1, 1))\n",
        "df_train['Embarked'].value_counts().plot(kind='bar', \n",
        "                                         title='Ports of Embarkation Counts')\n",
        "\n",
        "# Plot the Age histogram\n",
        "plt.subplot2grid(fig_dims, (2, 0))\n",
        "df_train['Age'].hist()\n",
        "plt.title('Age Histogram')"
      ],
      "execution_count": 0,
      "outputs": [
        {
          "output_type": "execute_result",
          "data": {
            "text/plain": [
              "Text(0.5, 1.0, 'Age Histogram')"
            ]
          },
          "metadata": {
            "tags": []
          },
          "execution_count": 203
        },
        {
          "output_type": "display_data",
          "data": {
            "image/png": "[encoded data removed]",
            "text/plain": [
              "<Figure size 720x720 with 5 Axes>"
            ]
          },
          "metadata": {
            "tags": []
          }
        }
      ]
    },
    {
      "cell_type": "markdown",
      "metadata": {
        "id": "8xNWwbKQ3LE-",
        "colab_type": "text"
      },
      "source": [
        "Next we'll explore various features to view their impact on survival rates."
      ]
    },
    {
      "cell_type": "markdown",
      "metadata": {
        "id": "0BF4s0Qk3LFB",
        "colab_type": "text"
      },
      "source": [
        "## Feature: Passenger Classes"
      ]
    },
    {
      "cell_type": "markdown",
      "metadata": {
        "id": "ynaotp_T3LFF",
        "colab_type": "text"
      },
      "source": [
        "From our exploratory data analysis in the previous section, we see there are three passenger classes: First, Second, and Third class.  We'll determine which proportion of passengers survived based on their passenger class."
      ]
    },
    {
      "cell_type": "markdown",
      "metadata": {
        "id": "TCMGx3rP3LFH",
        "colab_type": "text"
      },
      "source": [
        "Generate a cross tab of Pclass and Survived:"
      ]
    },
    {
      "cell_type": "code",
      "metadata": {
        "id": "Rjf9XmBX3LFJ",
        "colab_type": "code",
        "outputId": "b60ce623-bcc8-4055-927c-6631b8045fb1",
        "colab": {
          "base_uri": "https://localhost:8080/"
        }
      },
      "source": [
        "pclass_xt = pd.crosstab(df_train['Pclass'], df_train['Survived'])\n",
        "#pclass_xt.sum(1)\n",
        "pclass_xt"
      ],
      "execution_count": 0,
      "outputs": [
        {
          "output_type": "execute_result",
          "data": {
            "text/html": [
              "<div>\n",
              "<style scoped>\n",
              "    .dataframe tbody tr th:only-of-type {\n",
              "        vertical-align: middle;\n",
              "    }\n",
              "\n",
              "    .dataframe tbody tr th {\n",
              "        vertical-align: top;\n",
              "    }\n",
              "\n",
              "    .dataframe thead th {\n",
              "        text-align: right;\n",
              "    }\n",
              "</style>\n",
              "<table border=\"1\" class=\"dataframe\">\n",
              "  <thead>\n",
              "    <tr style=\"text-align: right;\">\n",
              "      <th>Survived</th>\n",
              "      <th>0</th>\n",
              "      <th>1</th>\n",
              "    </tr>\n",
              "    <tr>\n",
              "      <th>Pclass</th>\n",
              "      <th></th>\n",
              "      <th></th>\n",
              "    </tr>\n",
              "  </thead>\n",
              "  <tbody>\n",
              "    <tr>\n",
              "      <th>1</th>\n",
              "      <td>80</td>\n",
              "      <td>136</td>\n",
              "    </tr>\n",
              "    <tr>\n",
              "      <th>2</th>\n",
              "      <td>97</td>\n",
              "      <td>87</td>\n",
              "    </tr>\n",
              "    <tr>\n",
              "      <th>3</th>\n",
              "      <td>372</td>\n",
              "      <td>119</td>\n",
              "    </tr>\n",
              "  </tbody>\n",
              "</table>\n",
              "</div>"
            ],
            "text/plain": [
              "Survived    0    1\n",
              "Pclass            \n",
              "1          80  136\n",
              "2          97   87\n",
              "3         372  119"
            ]
          },
          "metadata": {
            "tags": []
          },
          "execution_count": 204
        }
      ]
    },
    {
      "cell_type": "markdown",
      "metadata": {
        "id": "dVowBpD63LFT",
        "colab_type": "text"
      },
      "source": [
        "Plot the cross tab:"
      ]
    },
    {
      "cell_type": "code",
      "metadata": {
        "id": "CWJj2-tY3LFV",
        "colab_type": "code",
        "outputId": "bc857f07-5026-4fec-8d17-6bd7bf72b828",
        "colab": {
          "base_uri": "https://localhost:8080/"
        }
      },
      "source": [
        "# Normalize the cross tab to sum to 1:\n",
        "pclass_xt_pct = pclass_xt.div(pclass_xt.sum(axis=1).astype(float), axis=0)\n",
        "\n",
        "pclass_xt_pct.plot(kind='bar', \n",
        "                   stacked=True, \n",
        "                   title='Survival Rate by Passenger Classes')\n",
        "plt.xlabel('Passenger Class')\n",
        "plt.ylabel('Survival Rate')\n",
        "pclass_xt_pct"
      ],
      "execution_count": 0,
      "outputs": [
        {
          "output_type": "execute_result",
          "data": {
            "text/html": [
              "<div>\n",
              "<style scoped>\n",
              "    .dataframe tbody tr th:only-of-type {\n",
              "        vertical-align: middle;\n",
              "    }\n",
              "\n",
              "    .dataframe tbody tr th {\n",
              "        vertical-align: top;\n",
              "    }\n",
              "\n",
              "    .dataframe thead th {\n",
              "        text-align: right;\n",
              "    }\n",
              "</style>\n",
              "<table border=\"1\" class=\"dataframe\">\n",
              "  <thead>\n",
              "    <tr style=\"text-align: right;\">\n",
              "      <th>Survived</th>\n",
              "      <th>0</th>\n",
              "      <th>1</th>\n",
              "    </tr>\n",
              "    <tr>\n",
              "      <th>Pclass</th>\n",
              "      <th></th>\n",
              "      <th></th>\n",
              "    </tr>\n",
              "  </thead>\n",
              "  <tbody>\n",
              "    <tr>\n",
              "      <th>1</th>\n",
              "      <td>0.370370</td>\n",
              "      <td>0.629630</td>\n",
              "    </tr>\n",
              "    <tr>\n",
              "      <th>2</th>\n",
              "      <td>0.527174</td>\n",
              "      <td>0.472826</td>\n",
              "    </tr>\n",
              "    <tr>\n",
              "      <th>3</th>\n",
              "      <td>0.757637</td>\n",
              "      <td>0.242363</td>\n",
              "    </tr>\n",
              "  </tbody>\n",
              "</table>\n",
              "</div>"
            ],
            "text/plain": [
              "Survived         0         1\n",
              "Pclass                      \n",
              "1         0.370370  0.629630\n",
              "2         0.527174  0.472826\n",
              "3         0.757637  0.242363"
            ]
          },
          "metadata": {
            "tags": []
          },
          "execution_count": 205
        },
        {
          "output_type": "display_data",
          "data": {
            "image/png": "[encoded data removed]",
            "text/plain": [
              "<Figure size 720x360 with 1 Axes>"
            ]
          },
          "metadata": {
            "tags": []
          }
        }
      ]
    },
    {
      "cell_type": "markdown",
      "metadata": {
        "id": "OpBAobyL3LFg",
        "colab_type": "text"
      },
      "source": [
        "We can see that passenger class seems to have a significant impact on whether a passenger survived.  Those in First Class the highest chance for survival."
      ]
    },
    {
      "cell_type": "markdown",
      "metadata": {
        "id": "ggFQijyd3LFi",
        "colab_type": "text"
      },
      "source": [
        "## Feature: Sex"
      ]
    },
    {
      "cell_type": "markdown",
      "metadata": {
        "id": "WP65CDFN3LFk",
        "colab_type": "text"
      },
      "source": [
        "Gender might have also played a role in determining a passenger's survival rate.  We'll need to map Sex from a string to a number to prepare it for machine learning algorithms."
      ]
    },
    {
      "cell_type": "markdown",
      "metadata": {
        "id": "ZnQ5EIjF3LFm",
        "colab_type": "text"
      },
      "source": [
        "Generate a mapping of Sex from a string to a number representation:"
      ]
    },
    {
      "cell_type": "code",
      "metadata": {
        "id": "AgqeFDi_3LFr",
        "colab_type": "code",
        "outputId": "4b547d1f-b3b8-4e16-8bed-adca02f1ad04",
        "colab": {
          "base_uri": "https://localhost:8080/"
        }
      },
      "source": [
        "sexes = sorted(df_train['Sex'].unique())\n",
        "genders_mapping = dict(zip(sexes, range(0, len(sexes) + 1)))\n",
        "genders_mapping"
      ],
      "execution_count": 0,
      "outputs": [
        {
          "output_type": "execute_result",
          "data": {
            "text/plain": [
              "{'female': 0, 'male': 1}"
            ]
          },
          "metadata": {
            "tags": []
          },
          "execution_count": 206
        }
      ]
    },
    {
      "cell_type": "markdown",
      "metadata": {
        "id": "Ng9jFjor3LFy",
        "colab_type": "text"
      },
      "source": [
        "Transform Sex from a string to a number representation:"
      ]
    },
    {
      "cell_type": "code",
      "metadata": {
        "id": "TP0iT6zf3LF1",
        "colab_type": "code",
        "outputId": "d64a3757-b230-42e7-b5b5-47221cfb9e7e",
        "colab": {
          "base_uri": "https://localhost:8080/"
        }
      },
      "source": [
        "df_train['Sex_Val'] = df_train['Sex'].map(genders_mapping).astype(int)\n",
        "df_train.head()"
      ],
      "execution_count": 0,
      "outputs": [
        {
          "output_type": "execute_result",
          "data": {
            "text/html": [
              "<div>\n",
              "<style scoped>\n",
              "    .dataframe tbody tr th:only-of-type {\n",
              "        vertical-align: middle;\n",
              "    }\n",
              "\n",
              "    .dataframe tbody tr th {\n",
              "        vertical-align: top;\n",
              "    }\n",
              "\n",
              "    .dataframe thead th {\n",
              "        text-align: right;\n",
              "    }\n",
              "</style>\n",
              "<table border=\"1\" class=\"dataframe\">\n",
              "  <thead>\n",
              "    <tr style=\"text-align: right;\">\n",
              "      <th></th>\n",
              "      <th>PassengerId</th>\n",
              "      <th>Survived</th>\n",
              "      <th>Pclass</th>\n",
              "      <th>Name</th>\n",
              "      <th>Sex</th>\n",
              "      <th>Age</th>\n",
              "      <th>SibSp</th>\n",
              "      <th>Parch</th>\n",
              "      <th>Ticket</th>\n",
              "      <th>Fare</th>\n",
              "      <th>Cabin</th>\n",
              "      <th>Embarked</th>\n",
              "      <th>Sex_Val</th>\n",
              "    </tr>\n",
              "  </thead>\n",
              "  <tbody>\n",
              "    <tr>\n",
              "      <th>0</th>\n",
              "      <td>1</td>\n",
              "      <td>0</td>\n",
              "      <td>3</td>\n",
              "      <td>Braund, Mr. Owen Harris</td>\n",
              "      <td>male</td>\n",
              "      <td>22.0</td>\n",
              "      <td>1</td>\n",
              "      <td>0</td>\n",
              "      <td>A/5 21171</td>\n",
              "      <td>7.2500</td>\n",
              "      <td>NaN</td>\n",
              "      <td>S</td>\n",
              "      <td>1</td>\n",
              "    </tr>\n",
              "    <tr>\n",
              "      <th>1</th>\n",
              "      <td>2</td>\n",
              "      <td>1</td>\n",
              "      <td>1</td>\n",
              "      <td>Cumings, Mrs. John Bradley (Florence Briggs Th...</td>\n",
              "      <td>female</td>\n",
              "      <td>38.0</td>\n",
              "      <td>1</td>\n",
              "      <td>0</td>\n",
              "      <td>PC 17599</td>\n",
              "      <td>71.2833</td>\n",
              "      <td>C85</td>\n",
              "      <td>C</td>\n",
              "      <td>0</td>\n",
              "    </tr>\n",
              "    <tr>\n",
              "      <th>2</th>\n",
              "      <td>3</td>\n",
              "      <td>1</td>\n",
              "      <td>3</td>\n",
              "      <td>Heikkinen, Miss. Laina</td>\n",
              "      <td>female</td>\n",
              "      <td>26.0</td>\n",
              "      <td>0</td>\n",
              "      <td>0</td>\n",
              "      <td>STON/O2. 3101282</td>\n",
              "      <td>7.9250</td>\n",
              "      <td>NaN</td>\n",
              "      <td>S</td>\n",
              "      <td>0</td>\n",
              "    </tr>\n",
              "    <tr>\n",
              "      <th>3</th>\n",
              "      <td>4</td>\n",
              "      <td>1</td>\n",
              "      <td>1</td>\n",
              "      <td>Futrelle, Mrs. Jacques Heath (Lily May Peel)</td>\n",
              "      <td>female</td>\n",
              "      <td>35.0</td>\n",
              "      <td>1</td>\n",
              "      <td>0</td>\n",
              "      <td>113803</td>\n",
              "      <td>53.1000</td>\n",
              "      <td>C123</td>\n",
              "      <td>S</td>\n",
              "      <td>0</td>\n",
              "    </tr>\n",
              "    <tr>\n",
              "      <th>4</th>\n",
              "      <td>5</td>\n",
              "      <td>0</td>\n",
              "      <td>3</td>\n",
              "      <td>Allen, Mr. William Henry</td>\n",
              "      <td>male</td>\n",
              "      <td>35.0</td>\n",
              "      <td>0</td>\n",
              "      <td>0</td>\n",
              "      <td>373450</td>\n",
              "      <td>8.0500</td>\n",
              "      <td>NaN</td>\n",
              "      <td>S</td>\n",
              "      <td>1</td>\n",
              "    </tr>\n",
              "  </tbody>\n",
              "</table>\n",
              "</div>"
            ],
            "text/plain": [
              "   PassengerId  Survived  Pclass  ... Cabin Embarked  Sex_Val\n",
              "0            1         0       3  ...   NaN        S        1\n",
              "1            2         1       1  ...   C85        C        0\n",
              "2            3         1       3  ...   NaN        S        0\n",
              "3            4         1       1  ...  C123        S        0\n",
              "4            5         0       3  ...   NaN        S        1\n",
              "\n",
              "[5 rows x 13 columns]"
            ]
          },
          "metadata": {
            "tags": []
          },
          "execution_count": 207
        }
      ]
    },
    {
      "cell_type": "markdown",
      "metadata": {
        "id": "8i4gfqY93LF_",
        "colab_type": "text"
      },
      "source": [
        "Plot a normalized cross tab for Sex_Val and Survived:"
      ]
    },
    {
      "cell_type": "code",
      "metadata": {
        "id": "Qs5cYNkL3LGA",
        "colab_type": "code",
        "outputId": "8ae5b0ea-b978-424f-bbc6-34121b0b410e",
        "colab": {
          "base_uri": "https://localhost:8080/"
        }
      },
      "source": [
        "sex_val_xt = pd.crosstab(df_train['Sex_Val'], df_train['Survived'])\n",
        "sex_val_xt_pct = sex_val_xt.div(sex_val_xt.sum(1).astype(float), axis=0)\n",
        "sex_val_xt_pct.plot(kind='bar', stacked=True, title='Survival Rate by Gender')"
      ],
      "execution_count": 0,
      "outputs": [
        {
          "output_type": "execute_result",
          "data": {
            "text/plain": [
              "<matplotlib.axes._subplots.AxesSubplot at 0x7f4448d94d68>"
            ]
          },
          "metadata": {
            "tags": []
          },
          "execution_count": 208
        },
        {
          "output_type": "display_data",
          "data": {
            "image/png": "[encoded data removed]",
            "text/plain": [
              "<Figure size 720x360 with 1 Axes>"
            ]
          },
          "metadata": {
            "tags": []
          }
        }
      ]
    },
    {
      "cell_type": "markdown",
      "metadata": {
        "id": "NfnITd6Z3LGL",
        "colab_type": "text"
      },
      "source": [
        "The majority of females survived, whereas the majority of males did not."
      ]
    },
    {
      "cell_type": "markdown",
      "metadata": {
        "id": "Q7FGVIdA3LGN",
        "colab_type": "text"
      },
      "source": [
        "Next we'll determine whether we can gain any insights on survival rate by looking at both Sex and Pclass."
      ]
    },
    {
      "cell_type": "markdown",
      "metadata": {
        "id": "GKgwDWjx3LGQ",
        "colab_type": "text"
      },
      "source": [
        "Count males and females in each Pclass:"
      ]
    },
    {
      "cell_type": "code",
      "metadata": {
        "id": "vCDjnot83LGR",
        "colab_type": "code",
        "outputId": "1cb602ed-f80e-4281-c6b2-65fe4ec8c483",
        "colab": {
          "base_uri": "https://localhost:8080/"
        }
      },
      "source": [
        "# Get the unique values of Pclass:\n",
        "passenger_classes = sorted(df_train['Pclass'].unique())\n",
        "\n",
        "for p_class in passenger_classes:\n",
        "    print ('M: ', p_class, len(df_train[(df_train['Sex'] == 'male') & \n",
        "                             (df_train['Pclass'] == p_class)]))\n",
        "    print ('F: ', p_class, len(df_train[(df_train['Sex'] == 'female') & \n",
        "                             (df_train['Pclass'] == p_class)]))"
      ],
      "execution_count": 0,
      "outputs": [
        {
          "output_type": "stream",
          "text": [
            "M:  1 122\n",
            "F:  1 94\n",
            "M:  2 108\n",
            "F:  2 76\n",
            "M:  3 347\n",
            "F:  3 144\n"
          ],
          "name": "stdout"
        }
      ]
    },
    {
      "cell_type": "markdown",
      "metadata": {
        "id": "_9r2_eCV3LGX",
        "colab_type": "text"
      },
      "source": [
        "Plot survival rate by Sex and Pclass:"
      ]
    },
    {
      "cell_type": "code",
      "metadata": {
        "id": "g1vXKXPN3LGZ",
        "colab_type": "code",
        "outputId": "38d47ce9-708d-4c3e-c6d6-d822e7cf91a1",
        "colab": {
          "base_uri": "https://localhost:8080/"
        }
      },
      "source": [
        "# Plot survival rate by Sex\n",
        "females_df = df_train[df_train['Sex'] == 'female']\n",
        "females_xt = pd.crosstab(females_df['Pclass'], df_train['Survived'])\n",
        "females_xt_pct = females_xt.div(females_xt.sum(1).astype(float), axis=0)\n",
        "females_xt_pct.plot(kind='bar', \n",
        "                    stacked=True, \n",
        "                    title='Female Survival Rate by Passenger Class')\n",
        "plt.xlabel('Passenger Class')\n",
        "plt.ylabel('Survival Rate')\n",
        "\n",
        "# Plot survival rate by Pclass\n",
        "males_df = df_train[df_train['Sex'] == 'male']\n",
        "males_xt = pd.crosstab(males_df['Pclass'], df_train['Survived'])\n",
        "males_xt_pct = males_xt.div(males_xt.sum(1).astype(float), axis=0)\n",
        "males_xt_pct.plot(kind='bar', \n",
        "                  stacked=True, \n",
        "                  title='Male Survival Rate by Passenger Class')\n",
        "plt.xlabel('Passenger Class')\n",
        "plt.ylabel('Survival Rate')"
      ],
      "execution_count": 0,
      "outputs": [
        {
          "output_type": "execute_result",
          "data": {
            "text/plain": [
              "Text(0, 0.5, 'Survival Rate')"
            ]
          },
          "metadata": {
            "tags": []
          },
          "execution_count": 210
        },
        {
          "output_type": "display_data",
          "data": {
            "image/png": "[encoded data removed]",
            "text/plain": [
              "<Figure size 720x360 with 1 Axes>"
            ]
          },
          "metadata": {
            "tags": []
          }
        },
        {
          "output_type": "display_data",
          "data": {
            "image/png": "[encoded data removed]",
            "text/plain": [
              "<Figure size 720x360 with 1 Axes>"
            ]
          },
          "metadata": {
            "tags": []
          }
        }
      ]
    },
    {
      "cell_type": "markdown",
      "metadata": {
        "id": "_ICpJwiI3LGk",
        "colab_type": "text"
      },
      "source": [
        "The vast majority of females in First and Second class survived.  Males in First class had the highest chance for survival."
      ]
    },
    {
      "cell_type": "markdown",
      "metadata": {
        "id": "QPLD0rLd3LGl",
        "colab_type": "text"
      },
      "source": [
        "## Feature: Embarked"
      ]
    },
    {
      "cell_type": "markdown",
      "metadata": {
        "id": "B7Iza1hY3LGm",
        "colab_type": "text"
      },
      "source": [
        "The Embarked column might be an important feature but it is missing a couple data points which might pose a problem for machine learning algorithms:"
      ]
    },
    {
      "cell_type": "code",
      "metadata": {
        "id": "Wepa7wZ23LGo",
        "colab_type": "code",
        "outputId": "3150ff1e-5107-4b81-ba30-fb5a34820c6d",
        "colab": {
          "base_uri": "https://localhost:8080/",
          "height": 129
        }
      },
      "source": [
        "df_train[df_train['Embarked'].isnull()]\n"
      ],
      "execution_count": 0,
      "outputs": [
        {
          "output_type": "execute_result",
          "data": {
            "text/html": [
              "<div>\n",
              "<style scoped>\n",
              "    .dataframe tbody tr th:only-of-type {\n",
              "        vertical-align: middle;\n",
              "    }\n",
              "\n",
              "    .dataframe tbody tr th {\n",
              "        vertical-align: top;\n",
              "    }\n",
              "\n",
              "    .dataframe thead th {\n",
              "        text-align: right;\n",
              "    }\n",
              "</style>\n",
              "<table border=\"1\" class=\"dataframe\">\n",
              "  <thead>\n",
              "    <tr style=\"text-align: right;\">\n",
              "      <th></th>\n",
              "      <th>PassengerId</th>\n",
              "      <th>Survived</th>\n",
              "      <th>Pclass</th>\n",
              "      <th>Name</th>\n",
              "      <th>Sex</th>\n",
              "      <th>Age</th>\n",
              "      <th>SibSp</th>\n",
              "      <th>Parch</th>\n",
              "      <th>Ticket</th>\n",
              "      <th>Fare</th>\n",
              "      <th>Cabin</th>\n",
              "      <th>Embarked</th>\n",
              "      <th>Sex_Val</th>\n",
              "    </tr>\n",
              "  </thead>\n",
              "  <tbody>\n",
              "    <tr>\n",
              "      <th>61</th>\n",
              "      <td>62</td>\n",
              "      <td>1</td>\n",
              "      <td>1</td>\n",
              "      <td>Icard, Miss. Amelie</td>\n",
              "      <td>female</td>\n",
              "      <td>38.0</td>\n",
              "      <td>0</td>\n",
              "      <td>0</td>\n",
              "      <td>113572</td>\n",
              "      <td>80.0</td>\n",
              "      <td>B28</td>\n",
              "      <td>NaN</td>\n",
              "      <td>0</td>\n",
              "    </tr>\n",
              "    <tr>\n",
              "      <th>829</th>\n",
              "      <td>830</td>\n",
              "      <td>1</td>\n",
              "      <td>1</td>\n",
              "      <td>Stone, Mrs. George Nelson (Martha Evelyn)</td>\n",
              "      <td>female</td>\n",
              "      <td>62.0</td>\n",
              "      <td>0</td>\n",
              "      <td>0</td>\n",
              "      <td>113572</td>\n",
              "      <td>80.0</td>\n",
              "      <td>B28</td>\n",
              "      <td>NaN</td>\n",
              "      <td>0</td>\n",
              "    </tr>\n",
              "  </tbody>\n",
              "</table>\n",
              "</div>"
            ],
            "text/plain": [
              "     PassengerId  Survived  Pclass  ... Cabin Embarked  Sex_Val\n",
              "61            62         1       1  ...   B28      NaN        0\n",
              "829          830         1       1  ...   B28      NaN        0\n",
              "\n",
              "[2 rows x 13 columns]"
            ]
          },
          "metadata": {
            "tags": []
          },
          "execution_count": 211
        }
      ]
    },
    {
      "cell_type": "markdown",
      "metadata": {
        "id": "CeJe3g3k3LHE",
        "colab_type": "text"
      },
      "source": [
        "Since the vast majority of passengers embarked in 'S': 3, we assign the missing values in Embarked to 'S': "
      ]
    },
    {
      "cell_type": "code",
      "metadata": {
        "id": "lh0GwFQdjwTf",
        "colab_type": "code",
        "colab": {}
      },
      "source": [
        "from numpy import nan\n",
        "df_train.replace({'Embarked' : \n",
        "               { np.nan : 'S' \n",
        "               }\n",
        "           }, \n",
        "           inplace=True)"
      ],
      "execution_count": 0,
      "outputs": []
    },
    {
      "cell_type": "markdown",
      "metadata": {
        "id": "CCWgsWiV3LHI",
        "colab_type": "text"
      },
      "source": [
        "Verify we do not have any more NaNs for Embarked:"
      ]
    },
    {
      "cell_type": "code",
      "metadata": {
        "id": "PHQQN5ON3LHK",
        "colab_type": "code",
        "outputId": "318caa1e-4067-481a-c820-5321023b7894",
        "colab": {
          "base_uri": "https://localhost:8080/",
          "height": 34
        }
      },
      "source": [
        "embarked_locs = sorted(df_train['Embarked'].unique())\n",
        "embarked_locs"
      ],
      "execution_count": 0,
      "outputs": [
        {
          "output_type": "execute_result",
          "data": {
            "text/plain": [
              "['C', 'Q', 'S']"
            ]
          },
          "metadata": {
            "tags": []
          },
          "execution_count": 213
        }
      ]
    },
    {
      "cell_type": "markdown",
      "metadata": {
        "id": "SgUvn5ay3LGu",
        "colab_type": "text"
      },
      "source": [
        "Prepare to map Embarked from a string to a number representation:"
      ]
    },
    {
      "cell_type": "code",
      "metadata": {
        "id": "TTD-6ncU3LGv",
        "colab_type": "code",
        "outputId": "a5cc0da6-db83-41ad-a7ba-9e03de943a6c",
        "colab": {
          "base_uri": "https://localhost:8080/",
          "height": 34
        }
      },
      "source": [
        "# Get the unique values of Embarked\n",
        "embarked_locs = sorted(df_train['Embarked'].unique())\n",
        "\n",
        "embarked_locs_mapping = dict(zip(embarked_locs, \n",
        "                                 range(1, len(embarked_locs) + 1)))\n",
        "embarked_locs_mapping"
      ],
      "execution_count": 0,
      "outputs": [
        {
          "output_type": "execute_result",
          "data": {
            "text/plain": [
              "{'C': 1, 'Q': 2, 'S': 3}"
            ]
          },
          "metadata": {
            "tags": []
          },
          "execution_count": 214
        }
      ]
    },
    {
      "cell_type": "markdown",
      "metadata": {
        "id": "WjrO4GKp3LG2",
        "colab_type": "text"
      },
      "source": [
        "Transform Embarked from a string to a number representation to prepare it for machine learning algorithms:"
      ]
    },
    {
      "cell_type": "code",
      "metadata": {
        "id": "lqAoWnMD3LG3",
        "colab_type": "code",
        "outputId": "8bc053f2-8834-4d6a-83b4-d15499c26d6b",
        "colab": {
          "base_uri": "https://localhost:8080/",
          "height": 397
        }
      },
      "source": [
        "df_train['Embarked_Val'] = df_train['Embarked'] \\\n",
        "                               .map(embarked_locs_mapping) \\\n",
        "                               .astype(int)\n",
        "df_train.head()"
      ],
      "execution_count": 0,
      "outputs": [
        {
          "output_type": "execute_result",
          "data": {
            "text/html": [
              "<div>\n",
              "<style scoped>\n",
              "    .dataframe tbody tr th:only-of-type {\n",
              "        vertical-align: middle;\n",
              "    }\n",
              "\n",
              "    .dataframe tbody tr th {\n",
              "        vertical-align: top;\n",
              "    }\n",
              "\n",
              "    .dataframe thead th {\n",
              "        text-align: right;\n",
              "    }\n",
              "</style>\n",
              "<table border=\"1\" class=\"dataframe\">\n",
              "  <thead>\n",
              "    <tr style=\"text-align: right;\">\n",
              "      <th></th>\n",
              "      <th>PassengerId</th>\n",
              "      <th>Survived</th>\n",
              "      <th>Pclass</th>\n",
              "      <th>Name</th>\n",
              "      <th>Sex</th>\n",
              "      <th>Age</th>\n",
              "      <th>SibSp</th>\n",
              "      <th>Parch</th>\n",
              "      <th>Ticket</th>\n",
              "      <th>Fare</th>\n",
              "      <th>Cabin</th>\n",
              "      <th>Embarked</th>\n",
              "      <th>Sex_Val</th>\n",
              "      <th>Embarked_Val</th>\n",
              "    </tr>\n",
              "  </thead>\n",
              "  <tbody>\n",
              "    <tr>\n",
              "      <th>0</th>\n",
              "      <td>1</td>\n",
              "      <td>0</td>\n",
              "      <td>3</td>\n",
              "      <td>Braund, Mr. Owen Harris</td>\n",
              "      <td>male</td>\n",
              "      <td>22.0</td>\n",
              "      <td>1</td>\n",
              "      <td>0</td>\n",
              "      <td>A/5 21171</td>\n",
              "      <td>7.2500</td>\n",
              "      <td>NaN</td>\n",
              "      <td>S</td>\n",
              "      <td>1</td>\n",
              "      <td>3</td>\n",
              "    </tr>\n",
              "    <tr>\n",
              "      <th>1</th>\n",
              "      <td>2</td>\n",
              "      <td>1</td>\n",
              "      <td>1</td>\n",
              "      <td>Cumings, Mrs. John Bradley (Florence Briggs Th...</td>\n",
              "      <td>female</td>\n",
              "      <td>38.0</td>\n",
              "      <td>1</td>\n",
              "      <td>0</td>\n",
              "      <td>PC 17599</td>\n",
              "      <td>71.2833</td>\n",
              "      <td>C85</td>\n",
              "      <td>C</td>\n",
              "      <td>0</td>\n",
              "      <td>1</td>\n",
              "    </tr>\n",
              "    <tr>\n",
              "      <th>2</th>\n",
              "      <td>3</td>\n",
              "      <td>1</td>\n",
              "      <td>3</td>\n",
              "      <td>Heikkinen, Miss. Laina</td>\n",
              "      <td>female</td>\n",
              "      <td>26.0</td>\n",
              "      <td>0</td>\n",
              "      <td>0</td>\n",
              "      <td>STON/O2. 3101282</td>\n",
              "      <td>7.9250</td>\n",
              "      <td>NaN</td>\n",
              "      <td>S</td>\n",
              "      <td>0</td>\n",
              "      <td>3</td>\n",
              "    </tr>\n",
              "    <tr>\n",
              "      <th>3</th>\n",
              "      <td>4</td>\n",
              "      <td>1</td>\n",
              "      <td>1</td>\n",
              "      <td>Futrelle, Mrs. Jacques Heath (Lily May Peel)</td>\n",
              "      <td>female</td>\n",
              "      <td>35.0</td>\n",
              "      <td>1</td>\n",
              "      <td>0</td>\n",
              "      <td>113803</td>\n",
              "      <td>53.1000</td>\n",
              "      <td>C123</td>\n",
              "      <td>S</td>\n",
              "      <td>0</td>\n",
              "      <td>3</td>\n",
              "    </tr>\n",
              "    <tr>\n",
              "      <th>4</th>\n",
              "      <td>5</td>\n",
              "      <td>0</td>\n",
              "      <td>3</td>\n",
              "      <td>Allen, Mr. William Henry</td>\n",
              "      <td>male</td>\n",
              "      <td>35.0</td>\n",
              "      <td>0</td>\n",
              "      <td>0</td>\n",
              "      <td>373450</td>\n",
              "      <td>8.0500</td>\n",
              "      <td>NaN</td>\n",
              "      <td>S</td>\n",
              "      <td>1</td>\n",
              "      <td>3</td>\n",
              "    </tr>\n",
              "  </tbody>\n",
              "</table>\n",
              "</div>"
            ],
            "text/plain": [
              "   PassengerId  Survived  Pclass  ... Embarked Sex_Val  Embarked_Val\n",
              "0            1         0       3  ...        S       1             3\n",
              "1            2         1       1  ...        C       0             1\n",
              "2            3         1       3  ...        S       0             3\n",
              "3            4         1       1  ...        S       0             3\n",
              "4            5         0       3  ...        S       1             3\n",
              "\n",
              "[5 rows x 14 columns]"
            ]
          },
          "metadata": {
            "tags": []
          },
          "execution_count": 215
        }
      ]
    },
    {
      "cell_type": "markdown",
      "metadata": {
        "id": "BV3DB8kr3LG9",
        "colab_type": "text"
      },
      "source": [
        "Plot the histogram for Embarked_Val:"
      ]
    },
    {
      "cell_type": "code",
      "metadata": {
        "id": "oETycsJY3LG-",
        "colab_type": "code",
        "outputId": "1ac4d78d-6b76-40f9-9d6f-41d37f4a8af8",
        "colab": {
          "base_uri": "https://localhost:8080/",
          "height": 350
        }
      },
      "source": [
        "df_train['Embarked_Val'].hist(bins=len(embarked_locs), range=(1, 4))\n",
        "plt.title('Port of Embarkation Histogram')\n",
        "plt.xlabel('Port of Embarkation')\n",
        "plt.ylabel('Count')\n",
        "plt.show()"
      ],
      "execution_count": 0,
      "outputs": [
        {
          "output_type": "display_data",
          "data": {
            "image/png": "[encoded data removed]",
            "text/plain": [
              "<Figure size 720x360 with 1 Axes>"
            ]
          },
          "metadata": {
            "tags": []
          }
        }
      ]
    },
    {
      "cell_type": "markdown",
      "metadata": {
        "id": "VST0z_Mu3LHT",
        "colab_type": "text"
      },
      "source": [
        "Plot a normalized cross tab for Embarked_Val and Survived:"
      ]
    },
    {
      "cell_type": "code",
      "metadata": {
        "id": "zl4eCcUN3LHV",
        "colab_type": "code",
        "outputId": "eed4a6c8-2666-45c4-882f-5f508b7900a3",
        "colab": {
          "base_uri": "https://localhost:8080/",
          "height": 363
        }
      },
      "source": [
        "embarked_val_xt = pd.crosstab(df_train['Embarked_Val'], df_train['Survived'])\n",
        "embarked_val_xt_pct = \\\n",
        "    embarked_val_xt.div(embarked_val_xt.sum(1).astype(float), axis=0)\n",
        "embarked_val_xt_pct.plot(kind='bar', stacked=True)\n",
        "plt.title('Survival Rate by Port of Embarkation')\n",
        "plt.xlabel('Port of Embarkation')\n",
        "plt.ylabel('Survival Rate')"
      ],
      "execution_count": 0,
      "outputs": [
        {
          "output_type": "execute_result",
          "data": {
            "text/plain": [
              "Text(0, 0.5, 'Survival Rate')"
            ]
          },
          "metadata": {
            "tags": []
          },
          "execution_count": 217
        },
        {
          "output_type": "display_data",
          "data": {
            "image/png": "[encoded data removed]",
            "text/plain": [
              "<Figure size 720x360 with 1 Axes>"
            ]
          },
          "metadata": {
            "tags": []
          }
        }
      ]
    },
    {
      "cell_type": "code",
      "metadata": {
        "id": "PHQQPBxXqSnC",
        "colab_type": "code",
        "outputId": "dbccd329-79e9-4f12-9e70-a7653e86a6be",
        "colab": {
          "base_uri": "https://localhost:8080/",
          "height": 34
        }
      },
      "source": [
        "embarked_locs = sorted(df_train['Embarked_Val'].unique())\n",
        "embarked_locs"
      ],
      "execution_count": 0,
      "outputs": [
        {
          "output_type": "execute_result",
          "data": {
            "text/plain": [
              "[1, 2, 3]"
            ]
          },
          "metadata": {
            "tags": []
          },
          "execution_count": 218
        }
      ]
    },
    {
      "cell_type": "markdown",
      "metadata": {
        "id": "_tUHPwKf3LHh",
        "colab_type": "text"
      },
      "source": [
        "It appears those that embarked in location 'C': 1 had the highest rate of survival.  We'll dig in some more to see why this might be the case.  Below we plot a graphs to determine gender and passenger class makeup for each port:"
      ]
    },
    {
      "cell_type": "code",
      "metadata": {
        "id": "0JKmCXEO3LHh",
        "colab_type": "code",
        "outputId": "dc928c8f-77b3-430f-89f4-07467a21ae91",
        "colab": {
          "base_uri": "https://localhost:8080/",
          "height": 591
        }
      },
      "source": [
        "# Set up a grid of plots\n",
        "fig = plt.figure(figsize=fizsize_with_subplots) \n",
        "\n",
        "rows = 2\n",
        "cols = 3\n",
        "col_names = ('Sex_Val', 'Pclass')\n",
        "\n",
        "for portIdx in embarked_locs:\n",
        "    for colIdx in range(0, len(col_names)):\n",
        "        plt.subplot2grid((rows, cols), (colIdx, portIdx - 1))\n",
        "        df_train[df_train['Embarked_Val'] == portIdx][col_names[colIdx]] \\\n",
        "            .value_counts().plot(kind='bar')"
      ],
      "execution_count": 0,
      "outputs": [
        {
          "output_type": "display_data",
          "data": {
            "image/png": "[encoded data removed]",
            "text/plain": [
              "<Figure size 720x720 with 6 Axes>"
            ]
          },
          "metadata": {
            "tags": []
          }
        }
      ]
    },
    {
      "cell_type": "markdown",
      "metadata": {
        "id": "cz7qBGtG3LHq",
        "colab_type": "text"
      },
      "source": [
        "Leaving Embarked as integers implies ordering in the values, which does not exist.  Another way to represent Embarked without ordering is to create dummy variables:"
      ]
    },
    {
      "cell_type": "code",
      "metadata": {
        "id": "sZr_S8TI3LHr",
        "colab_type": "code",
        "outputId": "c01e008a-0234-4b7f-d9a3-b1ef834ca696",
        "colab": {
          "base_uri": "https://localhost:8080/",
          "height": 504
        }
      },
      "source": [
        "df_train = pd.concat([df_train, pd.get_dummies(df_train['Embarked_Val'], prefix='Embarked_Val')], axis=1)\n",
        "\n",
        "df_train.head()"
      ],
      "execution_count": 0,
      "outputs": [
        {
          "output_type": "execute_result",
          "data": {
            "text/html": [
              "<div>\n",
              "<style scoped>\n",
              "    .dataframe tbody tr th:only-of-type {\n",
              "        vertical-align: middle;\n",
              "    }\n",
              "\n",
              "    .dataframe tbody tr th {\n",
              "        vertical-align: top;\n",
              "    }\n",
              "\n",
              "    .dataframe thead th {\n",
              "        text-align: right;\n",
              "    }\n",
              "</style>\n",
              "<table border=\"1\" class=\"dataframe\">\n",
              "  <thead>\n",
              "    <tr style=\"text-align: right;\">\n",
              "      <th></th>\n",
              "      <th>PassengerId</th>\n",
              "      <th>Survived</th>\n",
              "      <th>Pclass</th>\n",
              "      <th>Name</th>\n",
              "      <th>Sex</th>\n",
              "      <th>Age</th>\n",
              "      <th>SibSp</th>\n",
              "      <th>Parch</th>\n",
              "      <th>Ticket</th>\n",
              "      <th>Fare</th>\n",
              "      <th>Cabin</th>\n",
              "      <th>Embarked</th>\n",
              "      <th>Sex_Val</th>\n",
              "      <th>Embarked_Val</th>\n",
              "      <th>Embarked_Val_1</th>\n",
              "      <th>Embarked_Val_2</th>\n",
              "      <th>Embarked_Val_3</th>\n",
              "    </tr>\n",
              "  </thead>\n",
              "  <tbody>\n",
              "    <tr>\n",
              "      <th>0</th>\n",
              "      <td>1</td>\n",
              "      <td>0</td>\n",
              "      <td>3</td>\n",
              "      <td>Braund, Mr. Owen Harris</td>\n",
              "      <td>male</td>\n",
              "      <td>22.0</td>\n",
              "      <td>1</td>\n",
              "      <td>0</td>\n",
              "      <td>A/5 21171</td>\n",
              "      <td>7.2500</td>\n",
              "      <td>NaN</td>\n",
              "      <td>S</td>\n",
              "      <td>1</td>\n",
              "      <td>3</td>\n",
              "      <td>0</td>\n",
              "      <td>0</td>\n",
              "      <td>1</td>\n",
              "    </tr>\n",
              "    <tr>\n",
              "      <th>1</th>\n",
              "      <td>2</td>\n",
              "      <td>1</td>\n",
              "      <td>1</td>\n",
              "      <td>Cumings, Mrs. John Bradley (Florence Briggs Th...</td>\n",
              "      <td>female</td>\n",
              "      <td>38.0</td>\n",
              "      <td>1</td>\n",
              "      <td>0</td>\n",
              "      <td>PC 17599</td>\n",
              "      <td>71.2833</td>\n",
              "      <td>C85</td>\n",
              "      <td>C</td>\n",
              "      <td>0</td>\n",
              "      <td>1</td>\n",
              "      <td>1</td>\n",
              "      <td>0</td>\n",
              "      <td>0</td>\n",
              "    </tr>\n",
              "    <tr>\n",
              "      <th>2</th>\n",
              "      <td>3</td>\n",
              "      <td>1</td>\n",
              "      <td>3</td>\n",
              "      <td>Heikkinen, Miss. Laina</td>\n",
              "      <td>female</td>\n",
              "      <td>26.0</td>\n",
              "      <td>0</td>\n",
              "      <td>0</td>\n",
              "      <td>STON/O2. 3101282</td>\n",
              "      <td>7.9250</td>\n",
              "      <td>NaN</td>\n",
              "      <td>S</td>\n",
              "      <td>0</td>\n",
              "      <td>3</td>\n",
              "      <td>0</td>\n",
              "      <td>0</td>\n",
              "      <td>1</td>\n",
              "    </tr>\n",
              "    <tr>\n",
              "      <th>3</th>\n",
              "      <td>4</td>\n",
              "      <td>1</td>\n",
              "      <td>1</td>\n",
              "      <td>Futrelle, Mrs. Jacques Heath (Lily May Peel)</td>\n",
              "      <td>female</td>\n",
              "      <td>35.0</td>\n",
              "      <td>1</td>\n",
              "      <td>0</td>\n",
              "      <td>113803</td>\n",
              "      <td>53.1000</td>\n",
              "      <td>C123</td>\n",
              "      <td>S</td>\n",
              "      <td>0</td>\n",
              "      <td>3</td>\n",
              "      <td>0</td>\n",
              "      <td>0</td>\n",
              "      <td>1</td>\n",
              "    </tr>\n",
              "    <tr>\n",
              "      <th>4</th>\n",
              "      <td>5</td>\n",
              "      <td>0</td>\n",
              "      <td>3</td>\n",
              "      <td>Allen, Mr. William Henry</td>\n",
              "      <td>male</td>\n",
              "      <td>35.0</td>\n",
              "      <td>0</td>\n",
              "      <td>0</td>\n",
              "      <td>373450</td>\n",
              "      <td>8.0500</td>\n",
              "      <td>NaN</td>\n",
              "      <td>S</td>\n",
              "      <td>1</td>\n",
              "      <td>3</td>\n",
              "      <td>0</td>\n",
              "      <td>0</td>\n",
              "      <td>1</td>\n",
              "    </tr>\n",
              "  </tbody>\n",
              "</table>\n",
              "</div>"
            ],
            "text/plain": [
              "   PassengerId  Survived  ...  Embarked_Val_2 Embarked_Val_3\n",
              "0            1         0  ...               0              1\n",
              "1            2         1  ...               0              0\n",
              "2            3         1  ...               0              1\n",
              "3            4         1  ...               0              1\n",
              "4            5         0  ...               0              1\n",
              "\n",
              "[5 rows x 17 columns]"
            ]
          },
          "metadata": {
            "tags": []
          },
          "execution_count": 220
        }
      ]
    },
    {
      "cell_type": "markdown",
      "metadata": {
        "id": "fSkTqtKh3LHv",
        "colab_type": "text"
      },
      "source": [
        "## Feature: Age"
      ]
    },
    {
      "cell_type": "markdown",
      "metadata": {
        "id": "IHd1sgO-3LHy",
        "colab_type": "text"
      },
      "source": [
        "The Age column seems like an important feature--unfortunately it is missing many values.  We'll need to fill in the missing values like we did with Embarked."
      ]
    },
    {
      "cell_type": "markdown",
      "metadata": {
        "id": "B_5jsXSc3LHz",
        "colab_type": "text"
      },
      "source": [
        "Filter to view missing Age values:"
      ]
    },
    {
      "cell_type": "code",
      "metadata": {
        "id": "i2cgA7pH3LH0",
        "colab_type": "code",
        "outputId": "df461080-1caa-4090-829c-4af6e23c47c0",
        "colab": {
          "base_uri": "https://localhost:8080/"
        }
      },
      "source": [
        "df_train[df_train['Age'].isnull()][['Sex', 'Pclass', 'Age']].head()"
      ],
      "execution_count": 0,
      "outputs": [
        {
          "output_type": "execute_result",
          "data": {
            "text/html": [
              "<div>\n",
              "<style scoped>\n",
              "    .dataframe tbody tr th:only-of-type {\n",
              "        vertical-align: middle;\n",
              "    }\n",
              "\n",
              "    .dataframe tbody tr th {\n",
              "        vertical-align: top;\n",
              "    }\n",
              "\n",
              "    .dataframe thead th {\n",
              "        text-align: right;\n",
              "    }\n",
              "</style>\n",
              "<table border=\"1\" class=\"dataframe\">\n",
              "  <thead>\n",
              "    <tr style=\"text-align: right;\">\n",
              "      <th></th>\n",
              "      <th>Sex</th>\n",
              "      <th>Pclass</th>\n",
              "      <th>Age</th>\n",
              "    </tr>\n",
              "  </thead>\n",
              "  <tbody>\n",
              "    <tr>\n",
              "      <th>5</th>\n",
              "      <td>male</td>\n",
              "      <td>3</td>\n",
              "      <td>NaN</td>\n",
              "    </tr>\n",
              "    <tr>\n",
              "      <th>17</th>\n",
              "      <td>male</td>\n",
              "      <td>2</td>\n",
              "      <td>NaN</td>\n",
              "    </tr>\n",
              "    <tr>\n",
              "      <th>19</th>\n",
              "      <td>female</td>\n",
              "      <td>3</td>\n",
              "      <td>NaN</td>\n",
              "    </tr>\n",
              "    <tr>\n",
              "      <th>26</th>\n",
              "      <td>male</td>\n",
              "      <td>3</td>\n",
              "      <td>NaN</td>\n",
              "    </tr>\n",
              "    <tr>\n",
              "      <th>28</th>\n",
              "      <td>female</td>\n",
              "      <td>3</td>\n",
              "      <td>NaN</td>\n",
              "    </tr>\n",
              "  </tbody>\n",
              "</table>\n",
              "</div>"
            ],
            "text/plain": [
              "       Sex  Pclass  Age\n",
              "5     male       3  NaN\n",
              "17    male       2  NaN\n",
              "19  female       3  NaN\n",
              "26    male       3  NaN\n",
              "28  female       3  NaN"
            ]
          },
          "metadata": {
            "tags": []
          },
          "execution_count": 221
        }
      ]
    },
    {
      "cell_type": "markdown",
      "metadata": {
        "id": "KWEORSWR3LIE",
        "colab_type": "text"
      },
      "source": [
        "Determine the Age typical for each passenger class by Sex_Val.  We'll use the median instead of the mean because the Age histogram seems to be right skewed."
      ]
    },
    {
      "cell_type": "code",
      "metadata": {
        "id": "cK-ZB0193LIF",
        "colab_type": "code",
        "colab": {}
      },
      "source": [
        "# To keep Age in tact, make a copy of it called AgeFill \n",
        "# that we will use to fill in the missing ages:\n",
        "df_train['AgeFill'] = df_train['Age']\n",
        "\n",
        "# Populate AgeFill\n",
        "df_train['AgeFill'] = df_train['AgeFill'] \\\n",
        "                        .groupby([df_train['Sex_Val'], df_train['Pclass']]) \\\n",
        "                        .apply(lambda x: x.fillna(x.median()))"
      ],
      "execution_count": 0,
      "outputs": []
    },
    {
      "cell_type": "markdown",
      "metadata": {
        "id": "r0HuRzJO3LII",
        "colab_type": "text"
      },
      "source": [
        "Ensure AgeFill does not contain any missing values:"
      ]
    },
    {
      "cell_type": "code",
      "metadata": {
        "id": "E0r4Nug73LIK",
        "colab_type": "code",
        "outputId": "fba6504a-b5d1-4c57-ca9a-2640075816f3",
        "colab": {
          "base_uri": "https://localhost:8080/"
        }
      },
      "source": [
        "len(df_train[df_train['AgeFill'].isnull()])"
      ],
      "execution_count": 0,
      "outputs": [
        {
          "output_type": "execute_result",
          "data": {
            "text/plain": [
              "0"
            ]
          },
          "metadata": {
            "tags": []
          },
          "execution_count": 223
        }
      ]
    },
    {
      "cell_type": "markdown",
      "metadata": {
        "id": "jx0dNUAd3LIR",
        "colab_type": "text"
      },
      "source": [
        "Plot a normalized cross tab for AgeFill and Survived:"
      ]
    },
    {
      "cell_type": "code",
      "metadata": {
        "id": "twnkRG_33LIS",
        "colab_type": "code",
        "outputId": "04b7bf6f-46bd-4818-d069-6424c9ec8f0a",
        "colab": {
          "base_uri": "https://localhost:8080/"
        }
      },
      "source": [
        "# Set up a grid of plots\n",
        "fig, axes = plt.subplots(2, 1, figsize=fizsize_with_subplots)\n",
        "\n",
        "# Histogram of AgeFill segmented by Survived\n",
        "df1 = df_train[df_train['Survived'] == 0]['Age']\n",
        "df2 = df_train[df_train['Survived'] == 1]['Age']\n",
        "max_age = max(df_train['AgeFill'])\n",
        "\n",
        "axes[0].hist([df1, df2], \n",
        "             bins=(int)(max_age / bin_size),\n",
        "             range=(1, max_age), \n",
        "             stacked=True)\n",
        "axes[0].legend(('Died', 'Survived'), loc='best')\n",
        "axes[0].set_title('Survivors by Age Groups Histogram')\n",
        "axes[0].set_xlabel('Age')\n",
        "axes[0].set_ylabel('Count')\n",
        "\n",
        "# Scatter plot Survived and AgeFill\n",
        "axes[1].scatter(df_train['Survived'], df_train['AgeFill'])\n",
        "axes[1].set_title('Survivors by Age Plot')\n",
        "axes[1].set_xlabel('Survived')\n",
        "axes[1].set_ylabel('Age')"
      ],
      "execution_count": 0,
      "outputs": [
        {
          "output_type": "stream",
          "text": [
            "/usr/local/lib/python3.6/dist-packages/numpy/lib/histograms.py:824: RuntimeWarning: invalid value encountered in greater_equal\n",
            "  keep = (tmp_a >= first_edge)\n",
            "/usr/local/lib/python3.6/dist-packages/numpy/lib/histograms.py:825: RuntimeWarning: invalid value encountered in less_equal\n",
            "  keep &= (tmp_a <= last_edge)\n"
          ],
          "name": "stderr"
        },
        {
          "output_type": "execute_result",
          "data": {
            "text/plain": [
              "Text(0, 0.5, 'Age')"
            ]
          },
          "metadata": {
            "tags": []
          },
          "execution_count": 224
        },
        {
          "output_type": "display_data",
          "data": {
            "image/png": "[encoded data removed]",
            "text/plain": [
              "<Figure size 720x720 with 2 Axes>"
            ]
          },
          "metadata": {
            "tags": []
          }
        }
      ]
    },
    {
      "cell_type": "markdown",
      "metadata": {
        "id": "dlKgfd4w3LIX",
        "colab_type": "text"
      },
      "source": [
        "Unfortunately, the graphs above do not seem to clearly show any insights.  We'll keep digging further."
      ]
    },
    {
      "cell_type": "markdown",
      "metadata": {
        "id": "KFwDGff33LIY",
        "colab_type": "text"
      },
      "source": [
        "Plot AgeFill density by Pclass:"
      ]
    },
    {
      "cell_type": "code",
      "metadata": {
        "id": "jVwa_Zw73LIZ",
        "colab_type": "code",
        "outputId": "61433ac4-5612-44f8-88ee-86a6ef307f0e",
        "colab": {
          "base_uri": "https://localhost:8080/"
        }
      },
      "source": [
        "for pclass in passenger_classes:\n",
        "    df_train.AgeFill[df_train.Pclass == pclass].plot(kind='kde')\n",
        "plt.title('Age Density Plot by Passenger Class')\n",
        "plt.xlabel('Age')\n",
        "plt.legend(('1st Class', '2nd Class', '3rd Class'), loc='best')"
      ],
      "execution_count": 0,
      "outputs": [
        {
          "output_type": "execute_result",
          "data": {
            "text/plain": [
              "<matplotlib.legend.Legend at 0x7f44454642b0>"
            ]
          },
          "metadata": {
            "tags": []
          },
          "execution_count": 225
        },
        {
          "output_type": "display_data",
          "data": {
            "image/png": "[encoded data removed]",
            "text/plain": [
              "<Figure size 720x360 with 1 Axes>"
            ]
          },
          "metadata": {
            "tags": []
          }
        }
      ]
    },
    {
      "cell_type": "markdown",
      "metadata": {
        "id": "tfMzaK7Y3LIe",
        "colab_type": "text"
      },
      "source": [
        "When looking at AgeFill density by Pclass, we see the first class passengers were generally older then second class passengers, which in turn were older than third class passengers.  We've determined that first class passengers had a higher survival rate than second class passengers, which in turn had a higher survival rate than third class passengers."
      ]
    },
    {
      "cell_type": "code",
      "metadata": {
        "id": "sk5GSodW3LIf",
        "colab_type": "code",
        "outputId": "cc8844cd-f6b9-46d5-fdb0-792844929fd6",
        "colab": {
          "base_uri": "https://localhost:8080/"
        }
      },
      "source": [
        "# Set up a grid of plots\n",
        "fig = plt.figure(figsize=fizsize_with_subplots) \n",
        "fig_dims = (3, 1)\n",
        "\n",
        "# Plot the AgeFill histogram for Survivors\n",
        "plt.subplot2grid(fig_dims, (0, 0))\n",
        "survived_df = df_train[df_train['Survived'] == 1]\n",
        "survived_df['AgeFill'].hist(bins=(int)(max_age / bin_size), range=(1, max_age))\n",
        "\n",
        "# Plot the AgeFill histogram for Females\n",
        "plt.subplot2grid(fig_dims, (1, 0))\n",
        "females_df = df_train[(df_train['Sex_Val'] == 0) & (df_train['Survived'] == 1)]\n",
        "females_df['AgeFill'].hist(bins=(int)(max_age / bin_size), range=(1, max_age))\n",
        "\n",
        "# Plot the AgeFill histogram for first class passengers\n",
        "plt.subplot2grid(fig_dims, (2, 0))\n",
        "class1_df = df_train[(df_train['Pclass'] == 1) & (df_train['Survived'] == 1)]\n",
        "class1_df['AgeFill'].hist(bins=(int)(max_age / bin_size), range=(1, max_age))"
      ],
      "execution_count": 0,
      "outputs": [
        {
          "output_type": "execute_result",
          "data": {
            "text/plain": [
              "<matplotlib.axes._subplots.AxesSubplot at 0x7f4445738cc0>"
            ]
          },
          "metadata": {
            "tags": []
          },
          "execution_count": 226
        },
        {
          "output_type": "display_data",
          "data": {
            "image/png": "[encoded data removed]",
            "text/plain": [
              "<Figure size 720x720 with 3 Axes>"
            ]
          },
          "metadata": {
            "tags": []
          }
        }
      ]
    },
    {
      "cell_type": "markdown",
      "metadata": {
        "id": "SXVFWldZ3LIl",
        "colab_type": "text"
      },
      "source": [
        "In the first graph, we see that most survivors come from the 20's to 30's age ranges and might be explained by the following two graphs.  The second graph shows most females are within their 20's.  The third graph shows most first class passengers are within their 30's."
      ]
    },
    {
      "cell_type": "markdown",
      "metadata": {
        "id": "qE7IgutE3LIn",
        "colab_type": "text"
      },
      "source": [
        "## Feature: Family Size"
      ]
    },
    {
      "cell_type": "markdown",
      "metadata": {
        "id": "-mwJSy1f3LIo",
        "colab_type": "text"
      },
      "source": [
        "Feature enginering involves creating new features or modifying existing features which might be advantageous to a machine learning algorithm.\n",
        "\n",
        "Define a new feature FamilySize that is the sum of Parch (number of parents or children on board) and SibSp (number of siblings or spouses):"
      ]
    },
    {
      "cell_type": "code",
      "metadata": {
        "id": "wvD5BPz-3LIp",
        "colab_type": "code",
        "outputId": "ac9403d5-556f-457c-a67a-631ad418ea4a",
        "colab": {
          "base_uri": "https://localhost:8080/"
        }
      },
      "source": [
        "df_train['FamilySize'] = df_train['SibSp'] + df_train['Parch']\n",
        "df_train.head()"
      ],
      "execution_count": 0,
      "outputs": [
        {
          "output_type": "execute_result",
          "data": {
            "text/html": [
              "<div>\n",
              "<style scoped>\n",
              "    .dataframe tbody tr th:only-of-type {\n",
              "        vertical-align: middle;\n",
              "    }\n",
              "\n",
              "    .dataframe tbody tr th {\n",
              "        vertical-align: top;\n",
              "    }\n",
              "\n",
              "    .dataframe thead th {\n",
              "        text-align: right;\n",
              "    }\n",
              "</style>\n",
              "<table border=\"1\" class=\"dataframe\">\n",
              "  <thead>\n",
              "    <tr style=\"text-align: right;\">\n",
              "      <th></th>\n",
              "      <th>PassengerId</th>\n",
              "      <th>Survived</th>\n",
              "      <th>Pclass</th>\n",
              "      <th>Name</th>\n",
              "      <th>Sex</th>\n",
              "      <th>Age</th>\n",
              "      <th>SibSp</th>\n",
              "      <th>Parch</th>\n",
              "      <th>Ticket</th>\n",
              "      <th>Fare</th>\n",
              "      <th>Cabin</th>\n",
              "      <th>Embarked</th>\n",
              "      <th>Sex_Val</th>\n",
              "      <th>Embarked_Val</th>\n",
              "      <th>Embarked_Val_1</th>\n",
              "      <th>Embarked_Val_2</th>\n",
              "      <th>Embarked_Val_3</th>\n",
              "      <th>AgeFill</th>\n",
              "      <th>FamilySize</th>\n",
              "    </tr>\n",
              "  </thead>\n",
              "  <tbody>\n",
              "    <tr>\n",
              "      <th>0</th>\n",
              "      <td>1</td>\n",
              "      <td>0</td>\n",
              "      <td>3</td>\n",
              "      <td>Braund, Mr. Owen Harris</td>\n",
              "      <td>male</td>\n",
              "      <td>22.0</td>\n",
              "      <td>1</td>\n",
              "      <td>0</td>\n",
              "      <td>A/5 21171</td>\n",
              "      <td>7.2500</td>\n",
              "      <td>NaN</td>\n",
              "      <td>S</td>\n",
              "      <td>1</td>\n",
              "      <td>3</td>\n",
              "      <td>0</td>\n",
              "      <td>0</td>\n",
              "      <td>1</td>\n",
              "      <td>22.0</td>\n",
              "      <td>1</td>\n",
              "    </tr>\n",
              "    <tr>\n",
              "      <th>1</th>\n",
              "      <td>2</td>\n",
              "      <td>1</td>\n",
              "      <td>1</td>\n",
              "      <td>Cumings, Mrs. John Bradley (Florence Briggs Th...</td>\n",
              "      <td>female</td>\n",
              "      <td>38.0</td>\n",
              "      <td>1</td>\n",
              "      <td>0</td>\n",
              "      <td>PC 17599</td>\n",
              "      <td>71.2833</td>\n",
              "      <td>C85</td>\n",
              "      <td>C</td>\n",
              "      <td>0</td>\n",
              "      <td>1</td>\n",
              "      <td>1</td>\n",
              "      <td>0</td>\n",
              "      <td>0</td>\n",
              "      <td>38.0</td>\n",
              "      <td>1</td>\n",
              "    </tr>\n",
              "    <tr>\n",
              "      <th>2</th>\n",
              "      <td>3</td>\n",
              "      <td>1</td>\n",
              "      <td>3</td>\n",
              "      <td>Heikkinen, Miss. Laina</td>\n",
              "      <td>female</td>\n",
              "      <td>26.0</td>\n",
              "      <td>0</td>\n",
              "      <td>0</td>\n",
              "      <td>STON/O2. 3101282</td>\n",
              "      <td>7.9250</td>\n",
              "      <td>NaN</td>\n",
              "      <td>S</td>\n",
              "      <td>0</td>\n",
              "      <td>3</td>\n",
              "      <td>0</td>\n",
              "      <td>0</td>\n",
              "      <td>1</td>\n",
              "      <td>26.0</td>\n",
              "      <td>0</td>\n",
              "    </tr>\n",
              "    <tr>\n",
              "      <th>3</th>\n",
              "      <td>4</td>\n",
              "      <td>1</td>\n",
              "      <td>1</td>\n",
              "      <td>Futrelle, Mrs. Jacques Heath (Lily May Peel)</td>\n",
              "      <td>female</td>\n",
              "      <td>35.0</td>\n",
              "      <td>1</td>\n",
              "      <td>0</td>\n",
              "      <td>113803</td>\n",
              "      <td>53.1000</td>\n",
              "      <td>C123</td>\n",
              "      <td>S</td>\n",
              "      <td>0</td>\n",
              "      <td>3</td>\n",
              "      <td>0</td>\n",
              "      <td>0</td>\n",
              "      <td>1</td>\n",
              "      <td>35.0</td>\n",
              "      <td>1</td>\n",
              "    </tr>\n",
              "    <tr>\n",
              "      <th>4</th>\n",
              "      <td>5</td>\n",
              "      <td>0</td>\n",
              "      <td>3</td>\n",
              "      <td>Allen, Mr. William Henry</td>\n",
              "      <td>male</td>\n",
              "      <td>35.0</td>\n",
              "      <td>0</td>\n",
              "      <td>0</td>\n",
              "      <td>373450</td>\n",
              "      <td>8.0500</td>\n",
              "      <td>NaN</td>\n",
              "      <td>S</td>\n",
              "      <td>1</td>\n",
              "      <td>3</td>\n",
              "      <td>0</td>\n",
              "      <td>0</td>\n",
              "      <td>1</td>\n",
              "      <td>35.0</td>\n",
              "      <td>0</td>\n",
              "    </tr>\n",
              "  </tbody>\n",
              "</table>\n",
              "</div>"
            ],
            "text/plain": [
              "   PassengerId  Survived  Pclass  ... Embarked_Val_3 AgeFill  FamilySize\n",
              "0            1         0       3  ...              1    22.0           1\n",
              "1            2         1       1  ...              0    38.0           1\n",
              "2            3         1       3  ...              1    26.0           0\n",
              "3            4         1       1  ...              1    35.0           1\n",
              "4            5         0       3  ...              1    35.0           0\n",
              "\n",
              "[5 rows x 19 columns]"
            ]
          },
          "metadata": {
            "tags": []
          },
          "execution_count": 227
        }
      ]
    },
    {
      "cell_type": "markdown",
      "metadata": {
        "id": "zlBh67XP3LIu",
        "colab_type": "text"
      },
      "source": [
        "Plot a histogram of FamilySize:"
      ]
    },
    {
      "cell_type": "code",
      "metadata": {
        "id": "Ej0J9M0n3LIu",
        "colab_type": "code",
        "outputId": "d41c739e-8332-452e-e644-cf60f2fa12d3",
        "colab": {
          "base_uri": "https://localhost:8080/"
        }
      },
      "source": [
        "df_train['FamilySize'].hist()\n",
        "plt.title('Family Size Histogram')"
      ],
      "execution_count": 0,
      "outputs": [
        {
          "output_type": "execute_result",
          "data": {
            "text/plain": [
              "Text(0.5, 1.0, 'Family Size Histogram')"
            ]
          },
          "metadata": {
            "tags": []
          },
          "execution_count": 228
        },
        {
          "output_type": "display_data",
          "data": {
            "image/png": "[encoded data removed]",
            "text/plain": [
              "<Figure size 720x360 with 1 Axes>"
            ]
          },
          "metadata": {
            "tags": []
          }
        }
      ]
    },
    {
      "cell_type": "markdown",
      "metadata": {
        "id": "59zO_q2a3LJA",
        "colab_type": "text"
      },
      "source": [
        "Plot a histogram of AgeFill segmented by Survived:"
      ]
    },
    {
      "cell_type": "code",
      "metadata": {
        "id": "3gwBQVu03LJC",
        "colab_type": "code",
        "outputId": "b2cfbac5-8cbd-42dc-fad8-1e05de22e61d",
        "colab": {
          "base_uri": "https://localhost:8080/"
        }
      },
      "source": [
        "# Get the unique values of Embarked and its maximum\n",
        "family_sizes = sorted(df_train['FamilySize'].unique())\n",
        "family_size_max = max(family_sizes)\n",
        "\n",
        "df1 = df_train[df_train['Survived'] == 0]['FamilySize']\n",
        "df2 = df_train[df_train['Survived'] == 1]['FamilySize']\n",
        "plt.hist([df1, df2], \n",
        "         bins=family_size_max + 1, \n",
        "         range=(0, family_size_max), \n",
        "         stacked=True)\n",
        "plt.legend(('Died', 'Survived'), loc='best')\n",
        "plt.title('Survivors by Family Size')"
      ],
      "execution_count": 0,
      "outputs": [
        {
          "output_type": "execute_result",
          "data": {
            "text/plain": [
              "Text(0.5, 1.0, 'Survivors by Family Size')"
            ]
          },
          "metadata": {
            "tags": []
          },
          "execution_count": 229
        },
        {
          "output_type": "display_data",
          "data": {
            "image/png": "[encoded data removed]",
            "text/plain": [
              "<Figure size 720x360 with 1 Axes>"
            ]
          },
          "metadata": {
            "tags": []
          }
        }
      ]
    },
    {
      "cell_type": "markdown",
      "metadata": {
        "id": "mTzNjhKY3LJR",
        "colab_type": "text"
      },
      "source": [
        "Based on the histograms, it is not immediately obvious what impact FamilySize has on survival.  The machine learning algorithms might benefit from this feature.\n",
        "\n",
        "Additional features we might want to engineer might be related to the Name column, for example honorrary or pedestrian titles might give clues and better predictive power for a male's survival."
      ]
    },
    {
      "cell_type": "markdown",
      "metadata": {
        "id": "8RBq-a0m3LJS",
        "colab_type": "text"
      },
      "source": [
        "## Feature: Title"
      ]
    },
    {
      "cell_type": "code",
      "metadata": {
        "id": "yR83nEZnxQzT",
        "colab_type": "code",
        "colab": {}
      },
      "source": [
        "def fill_Title(X_train):\n",
        "\n",
        "    for typeName in [\"Ms.\", \"Miss.\", \"Mr.\", \"Sir.\", \"Major\", \"Dr.\", \"Master.\", \"Mme.\"]:\n",
        "\n",
        "        mask =  (X_train[\"Name\"].str.contains(typeName))\n",
        "\n",
        "        replaceTitle = typeName\n",
        "\n",
        "        if(typeName== \"Mme.\"):\n",
        "\n",
        "           replaceTitle = \"Ms.\"\n",
        "\n",
        "        X_train.loc[mask,\"Title\"] = replaceTitle\n",
        "\n",
        "   \n",
        "\n",
        "    mask = X_train[\"Title\"].isnull() & (X_train[\"Age\"]<14) & (X_train[\"Sex\"]==\"male\")\n",
        "\n",
        "    X_train.loc[mask, \"Title\"] = \"Master.\"\n",
        "\n",
        "   \n",
        "    mask = X_train[\"Title\"].isnull() & (X_train[\"Age\"]>13) & (X_train[\"Sex\"]==\"male\")\n",
        "\n",
        "\n",
        "    X_train.loc[mask, \"Title\"] = \"Mr.\"\n",
        "\n",
        "    mask = X_train[\"Title\"].isnull() & (X_train[\"Sex\"]==\"female\")\n",
        "\n",
        "    X_train.loc[mask, \"Title\"] = \"Miss.\"\n",
        "\n",
        "    return X_train \n"
      ],
      "execution_count": 0,
      "outputs": []
    },
    {
      "cell_type": "code",
      "metadata": {
        "id": "gtLeynjHy_-v",
        "colab_type": "code",
        "outputId": "bd1c021f-33e6-4c09-8da0-319b4ae21969",
        "colab": {
          "base_uri": "https://localhost:8080/"
        }
      },
      "source": [
        "df_train = fill_Title(df_train)\n",
        "df_train.dtypes"
      ],
      "execution_count": 0,
      "outputs": [
        {
          "output_type": "execute_result",
          "data": {
            "text/plain": [
              "PassengerId         int64\n",
              "Survived            int64\n",
              "Pclass              int64\n",
              "Name               object\n",
              "Sex                object\n",
              "Age               float64\n",
              "SibSp               int64\n",
              "Parch               int64\n",
              "Ticket             object\n",
              "Fare              float64\n",
              "Cabin              object\n",
              "Embarked           object\n",
              "Sex_Val             int64\n",
              "Embarked_Val        int64\n",
              "Embarked_Val_1      uint8\n",
              "Embarked_Val_2      uint8\n",
              "Embarked_Val_3      uint8\n",
              "AgeFill           float64\n",
              "FamilySize          int64\n",
              "Title              object\n",
              "dtype: object"
            ]
          },
          "metadata": {
            "tags": []
          },
          "execution_count": 231
        }
      ]
    },
    {
      "cell_type": "markdown",
      "metadata": {
        "colab_type": "text",
        "id": "epldttWy9Gdc"
      },
      "source": [
        "## Final Data Preparation for Machine Learning"
      ]
    },
    {
      "cell_type": "markdown",
      "metadata": {
        "id": "JhA1IdUX3LJV",
        "colab_type": "text"
      },
      "source": [
        "Many machine learning algorithms do not work on strings and they usually require the data to be in an array, not a DataFrame.\n",
        "\n",
        "Show only the columns of type 'object' (strings):"
      ]
    },
    {
      "cell_type": "code",
      "metadata": {
        "id": "mRAwOZnl3LJV",
        "colab_type": "code",
        "outputId": "385a0a63-cd17-45b6-b0f3-e31b0269267f",
        "colab": {
          "base_uri": "https://localhost:8080/"
        }
      },
      "source": [
        "df_train.dtypes[df_train.dtypes.map(lambda x: x == 'object')]"
      ],
      "execution_count": 0,
      "outputs": [
        {
          "output_type": "execute_result",
          "data": {
            "text/plain": [
              "Name        object\n",
              "Sex         object\n",
              "Ticket      object\n",
              "Cabin       object\n",
              "Embarked    object\n",
              "Title       object\n",
              "dtype: object"
            ]
          },
          "metadata": {
            "tags": []
          },
          "execution_count": 232
        }
      ]
    },
    {
      "cell_type": "markdown",
      "metadata": {
        "id": "A2BUy9d83LJa",
        "colab_type": "text"
      },
      "source": [
        "Drop the columns we won't use:"
      ]
    },
    {
      "cell_type": "code",
      "metadata": {
        "id": "w5E-3bh23LJb",
        "colab_type": "code",
        "colab": {}
      },
      "source": [
        "df_train = df_train.drop(['Name', 'Sex', 'Ticket', 'Cabin', 'Embarked'], \n",
        "                         axis=1)"
      ],
      "execution_count": 0,
      "outputs": []
    },
    {
      "cell_type": "markdown",
      "metadata": {
        "id": "yoNAUo863LJe",
        "colab_type": "text"
      },
      "source": [
        "Drop the following columns:\n",
        "* The Age column since we will be using the AgeFill column instead.\n",
        "* The SibSp and Parch columns since we will be using FamilySize instead.\n",
        "* The PassengerId column since it won't be used as a feature.\n",
        "* The Embarked_Val as we decided to use dummy variables instead."
      ]
    },
    {
      "cell_type": "code",
      "metadata": {
        "id": "7QTEJUL83LJf",
        "colab_type": "code",
        "outputId": "3c45081a-2f30-4ddb-b0f5-8e47234766ce",
        "colab": {
          "base_uri": "https://localhost:8080/"
        }
      },
      "source": [
        "df_train = df_train.drop(['Age', 'SibSp', 'Parch', 'PassengerId', 'Embarked_Val'], axis=1)\n",
        "df_train.dtypes"
      ],
      "execution_count": 0,
      "outputs": [
        {
          "output_type": "execute_result",
          "data": {
            "text/plain": [
              "Survived            int64\n",
              "Pclass              int64\n",
              "Fare              float64\n",
              "Sex_Val             int64\n",
              "Embarked_Val_1      uint8\n",
              "Embarked_Val_2      uint8\n",
              "Embarked_Val_3      uint8\n",
              "AgeFill           float64\n",
              "FamilySize          int64\n",
              "Title              object\n",
              "dtype: object"
            ]
          },
          "metadata": {
            "tags": []
          },
          "execution_count": 234
        }
      ]
    },
    {
      "cell_type": "code",
      "metadata": {
        "id": "S9LZNxHD9PI5",
        "colab_type": "code",
        "outputId": "aff009ae-b593-41e0-8dae-eaf466ee261f",
        "colab": {
          "base_uri": "https://localhost:8080/"
        }
      },
      "source": [
        "df_train = pd.concat([df_train, pd.get_dummies(df_train['Title'], prefix='Title_Val')], axis=1)\n",
        "df_train = df_train.drop(['Title'], axis=1)\n",
        "df_train.head()\n",
        "df_train.dtypes"
      ],
      "execution_count": 0,
      "outputs": [
        {
          "output_type": "execute_result",
          "data": {
            "text/plain": [
              "Survived               int64\n",
              "Pclass                 int64\n",
              "Fare                 float64\n",
              "Sex_Val                int64\n",
              "Embarked_Val_1         uint8\n",
              "Embarked_Val_2         uint8\n",
              "Embarked_Val_3         uint8\n",
              "AgeFill              float64\n",
              "FamilySize             int64\n",
              "Title_Val_Dr.          uint8\n",
              "Title_Val_Major        uint8\n",
              "Title_Val_Master.      uint8\n",
              "Title_Val_Miss.        uint8\n",
              "Title_Val_Mr.          uint8\n",
              "Title_Val_Ms.          uint8\n",
              "Title_Val_Sir.         uint8\n",
              "dtype: object"
            ]
          },
          "metadata": {
            "tags": []
          },
          "execution_count": 235
        }
      ]
    },
    {
      "cell_type": "markdown",
      "metadata": {
        "colab_type": "text",
        "id": "wPcy3Mkf9Gex"
      },
      "source": [
        "Convert the DataFrame to a numpy array:"
      ]
    },
    {
      "cell_type": "code",
      "metadata": {
        "id": "juLyhUNF3LJn",
        "colab_type": "code",
        "outputId": "67af4415-cfc0-494d-d8b6-eb2e3184cb7a",
        "colab": {
          "base_uri": "https://localhost:8080/"
        }
      },
      "source": [
        "train_data = df_train.values\n",
        "train_data"
      ],
      "execution_count": 0,
      "outputs": [
        {
          "output_type": "execute_result",
          "data": {
            "text/plain": [
              "array([[ 0.    ,  3.    ,  7.25  , ...,  1.    ,  0.    ,  0.    ],\n",
              "       [ 1.    ,  1.    , 71.2833, ...,  1.    ,  0.    ,  0.    ],\n",
              "       [ 1.    ,  3.    ,  7.925 , ...,  0.    ,  0.    ,  0.    ],\n",
              "       ...,\n",
              "       [ 0.    ,  3.    , 23.45  , ...,  0.    ,  0.    ,  0.    ],\n",
              "       [ 1.    ,  1.    , 30.    , ...,  1.    ,  0.    ,  0.    ],\n",
              "       [ 0.    ,  3.    ,  7.75  , ...,  1.    ,  0.    ,  0.    ]])"
            ]
          },
          "metadata": {
            "tags": []
          },
          "execution_count": 236
        }
      ]
    },
    {
      "cell_type": "markdown",
      "metadata": {
        "id": "lFv0WGDv3LJs",
        "colab_type": "text"
      },
      "source": [
        "## Data Wrangling Summary"
      ]
    },
    {
      "cell_type": "markdown",
      "metadata": {
        "id": "ispFJ2mg3LJt",
        "colab_type": "text"
      },
      "source": [
        "Below is a summary of the data wrangling we performed on our training data set.  We encapsulate this in a function since we'll need to do the same operations to our test set later."
      ]
    },
    {
      "cell_type": "code",
      "metadata": {
        "id": "JIdSEYBk3LJu",
        "colab_type": "code",
        "colab": {}
      },
      "source": [
        "def clean_data(df, drop_passenger_id):\n",
        "    \n",
        "    # Get the unique values of Sex\n",
        "    sexes = sorted(df['Sex'].unique())\n",
        "    \n",
        "    # Generate a mapping of Sex from a string to a number representation    \n",
        "    genders_mapping = dict(zip(sexes, range(0, len(sexes) + 1)))\n",
        "\n",
        "    # Transform Sex from a string to a number representation\n",
        "    df['Sex_Val'] = df['Sex'].map(genders_mapping).astype(int)\n",
        "    \n",
        "    # Fill in missing values of Embarked\n",
        "    # Since the vast majority of passengers embarked in 'S': 3, \n",
        "    # we assign the missing values in Embarked to 'S':\n",
        "    if len(df[df['Embarked'].isnull()] > 0):\n",
        "        df.replace({'Embarked' : \n",
        "                       { np.nan : 'S' \n",
        "                       }\n",
        "                   }, \n",
        "                   inplace=True)\n",
        "  \n",
        "    \n",
        "    # Get the unique values of Embarked\n",
        "    embarked_locs = sorted(df['Embarked'].unique())\n",
        "\n",
        "    # Generate a mapping of Embarked from a string to a number representation        \n",
        "    embarked_locs_mapping = dict(zip(embarked_locs, \n",
        "                                     range(0, len(embarked_locs) + 1)))\n",
        "    \n",
        "    # Transform Embarked from a string to dummy variables\n",
        "    df = pd.concat([df, pd.get_dummies(df['Embarked'], prefix='Embarked_Val')], axis=1)\n",
        "   \n",
        "    \n",
        "    # Fill in missing values of Fare with the average Fare\n",
        "    if len(df[df['Fare'].isnull()]) > 0:\n",
        "        df.fillna(0, inplace=True)\n",
        "        avg_fare = df.mean()\n",
        "        df.replace({ np.nan: avg_fare }, inplace=True)\n",
        "    \n",
        "    # To keep Age in tact, make a copy of it called AgeFill \n",
        "    # that we will use to fill in the missing ages:\n",
        "    df['AgeFill'] = df['Age']\n",
        "\n",
        "    # Determine the Age typical for each passenger class by Sex_Val.  \n",
        "    # We'll use the median instead of the mean because the Age \n",
        "    # histogram seems to be right skewed.\n",
        "    df['AgeFill'] = df['AgeFill'] \\\n",
        "                        .groupby([df['Sex_Val'], df['Pclass']]) \\\n",
        "                        .apply(lambda x: x.fillna(x.median()))\n",
        "    \n",
        "    # Extract title headers\n",
        "    df = fill_Title(df)\n",
        "    df = pd.concat([df, pd.get_dummies(df['Title'], prefix='Title_Val')], axis=1)\n",
        "    df = df.drop(['Title'], axis=1)\n",
        "    \n",
        "    # Define a new feature FamilySize that is the sum of \n",
        "    # Parch (number of parents or children on board) and \n",
        "    # SibSp (number of siblings or spouses):\n",
        "    df['FamilySize'] = df['SibSp'] + df['Parch']\n",
        "    \n",
        "    # Drop the columns we won't use:\n",
        "    df = df.drop(['Name', 'Sex', 'Ticket', 'Cabin', 'Embarked'], axis=1)\n",
        "    \n",
        "    # Drop the Age column since we will be using the AgeFill column instead.\n",
        "    # Drop the SibSp and Parch columns since we will be using FamilySize.\n",
        "    # Drop the PassengerId column since it won't be used as a feature.\n",
        "    df = df.drop(['Age', 'SibSp', 'Parch'], axis=1)\n",
        "    \n",
        "    \n",
        "    \n",
        "    if drop_passenger_id:\n",
        "        df = df.drop(['PassengerId'], axis=1)\n",
        "    \n",
        "    return df"
      ],
      "execution_count": 0,
      "outputs": []
    },
    {
      "cell_type": "markdown",
      "metadata": {
        "id": "V-xoLVMa3LJy",
        "colab_type": "text"
      },
      "source": [
        "## Random Forest: Training"
      ]
    },
    {
      "cell_type": "markdown",
      "metadata": {
        "id": "pMP27BSD3LJ0",
        "colab_type": "text"
      },
      "source": [
        "Create the random forest object:"
      ]
    },
    {
      "cell_type": "code",
      "metadata": {
        "id": "DPw1TJcV3LJ1",
        "colab_type": "code",
        "colab": {}
      },
      "source": [
        "from sklearn.ensemble import RandomForestClassifier\n",
        "from sklearn.model_selection import GridSearchCV\n",
        "\n",
        "\n",
        "param_test1 = {'n_estimators':range(10, 400, 5)}\n",
        "gsearch1= GridSearchCV(estimator = RandomForestClassifier(criterion='entropy', \n",
        "                                                          random_state=10, oob_score=True),\n",
        "                       param_grid =param_test1, scoring='roc_auc', cv=5)"
      ],
      "execution_count": 0,
      "outputs": []
    },
    {
      "cell_type": "code",
      "metadata": {
        "id": "RT914GmjriBG",
        "colab_type": "code",
        "colab": {}
      },
      "source": [
        "# Training data features, skip the first column 'Survived'\n",
        "train_features = train_data[:, 1:]\n",
        "\n",
        "# 'Survived' column values\n",
        "train_target = train_data[:, 0]"
      ],
      "execution_count": 0,
      "outputs": []
    },
    {
      "cell_type": "markdown",
      "metadata": {
        "id": "CuAss3b_3LJ6",
        "colab_type": "text"
      },
      "source": [
        "Fit the training data and create the decision trees:"
      ]
    },
    {
      "cell_type": "code",
      "metadata": {
        "id": "3ww0Hwx83LJ7",
        "colab_type": "code",
        "colab": {}
      },
      "source": [
        "gsearch1.fit(train_features, train_target)\n",
        "gsearch1.cv_results_, gsearch1.best_params_, gsearch1.best_score_"
      ],
      "execution_count": 0,
      "outputs": []
    },
    {
      "cell_type": "code",
      "metadata": {
        "id": "szrqWTiCCDfD",
        "colab_type": "code",
        "colab": {}
      },
      "source": [
        "'''\n",
        "param_test2 = {'max_depth':range(3,50,2), 'min_samples_split':range(2,201,20)}\n",
        "gsearch2= GridSearchCV(estimator = RandomForestClassifier(n_estimators= 250, criterion='entropy',\n",
        "                       random_state=10, oob_score=True),\n",
        "                       param_grid = param_test2, scoring='roc_auc',iid=False, cv=5)\n",
        "'''"
      ],
      "execution_count": 0,
      "outputs": []
    },
    {
      "cell_type": "code",
      "metadata": {
        "id": "rvT6dXztCwjP",
        "colab_type": "code",
        "colab": {}
      },
      "source": [
        "'''\n",
        "gsearch2.fit(train_features, train_target)\n",
        "gsearch2.cv_results_, gsearch2.best_params_, gsearch2.best_score_\n",
        "'''"
      ],
      "execution_count": 0,
      "outputs": []
    },
    {
      "cell_type": "code",
      "metadata": {
        "id": "zwBEcRKyFOGJ",
        "colab_type": "code",
        "colab": {}
      },
      "source": [
        "# Fit the model to our training data\n",
        "clf = RandomForestClassifier(n_estimators= 250, criterion='entropy',\n",
        "                             random_state=10)\n",
        "clf = clf.fit(train_features, train_target)\n",
        "score = clf.score(train_features, train_target)\n",
        "\"Mean accuracy of Random Forest: {0}\".format(score)"
      ],
      "execution_count": 0,
      "outputs": []
    },
    {
      "cell_type": "code",
      "metadata": {
        "id": "tt_5XgQ8HvHu",
        "colab_type": "code",
        "colab": {}
      },
      "source": [
        "'''\n",
        "param_test3= {'min_samples_split':range(2,50,2), 'min_samples_leaf':range(1,60,5)}\n",
        "gsearch3= GridSearchCV(estimator = RandomForestClassifier(n_estimators= 70, max_depth=11,\n",
        "                                   min_samples_split=22, random_state=10, oob_score=True),\n",
        "                       param_grid = param_test3, scoring='roc_auc',iid=False, cv=5)\n",
        "'''"
      ],
      "execution_count": 0,
      "outputs": []
    },
    {
      "cell_type": "code",
      "metadata": {
        "id": "KiKlG6tHIQRR",
        "colab_type": "code",
        "colab": {}
      },
      "source": [
        "'''\n",
        "gsearch3.fit(train_features, train_target)\n",
        "gsearch3.cv_results_, gsearch3.best_params_, gsearch3.best_score_\n",
        "'''"
      ],
      "execution_count": 0,
      "outputs": []
    },
    {
      "cell_type": "code",
      "metadata": {
        "id": "sli-HJWxJRgz",
        "colab_type": "code",
        "colab": {}
      },
      "source": [
        "# Fit the model to our training data\n",
        "clf = RandomForestClassifier(n_estimators= 385, criterion='entropy',\n",
        "                             random_state=10, oob_score=True)\n",
        "clf = clf.fit(train_features, train_target)\n",
        "score = clf.score(train_features, train_target)\n",
        "\"Mean accuracy of Random Forest: {0}\".format(score)"
      ],
      "execution_count": 0,
      "outputs": []
    },
    {
      "cell_type": "code",
      "metadata": {
        "id": "2uzoFSVtMpTn",
        "colab_type": "code",
        "colab": {}
      },
      "source": [
        "param_test4= {'max_features':range(3, 15, 2)}\n",
        "gsearch4= GridSearchCV(estimator = RandomForestClassifier(n_estimators= 385,\n",
        "                                                          random_state=10, oob_score=True),\n",
        "                       param_grid = param_test4,scoring='roc_auc',iid=False, cv=5)"
      ],
      "execution_count": 0,
      "outputs": []
    },
    {
      "cell_type": "code",
      "metadata": {
        "id": "9WvXNJJ4NNxi",
        "colab_type": "code",
        "colab": {}
      },
      "source": [
        "gsearch4.fit(train_features, train_target)\n",
        "gsearch4.cv_results_, gsearch4.best_params_, gsearch4.best_score_"
      ],
      "execution_count": 0,
      "outputs": []
    },
    {
      "cell_type": "code",
      "metadata": {
        "id": "EZ93tSQbNs0Y",
        "colab_type": "code",
        "colab": {}
      },
      "source": [
        "# Fit the model to our training data\n",
        "clf = RandomForestClassifier(n_estimators= 385, max_features=13, criterion='entropy',\n",
        "                             random_state=10, oob_score=True)\n",
        "clf = clf.fit(train_features, train_target)\n",
        "score = clf.score(train_features, train_target)\n",
        "\"Mean accuracy of Random Forest: {0}\".format(score)"
      ],
      "execution_count": 0,
      "outputs": []
    },
    {
      "cell_type": "markdown",
      "metadata": {
        "id": "rZEhCTrM3LKC",
        "colab_type": "text"
      },
      "source": [
        "## Random Forest: Predicting"
      ]
    },
    {
      "cell_type": "markdown",
      "metadata": {
        "id": "wd5s6JMB3LKD",
        "colab_type": "text"
      },
      "source": [
        "Read the test data:"
      ]
    },
    {
      "cell_type": "code",
      "metadata": {
        "id": "y8JBaujS3LKE",
        "colab_type": "code",
        "colab": {}
      },
      "source": [
        "df_test = pd.read_csv('./drive/My Drive/titanic/test.csv')\n",
        "df_test.head()"
      ],
      "execution_count": 0,
      "outputs": []
    },
    {
      "cell_type": "markdown",
      "metadata": {
        "id": "kGdDMaJu3LKJ",
        "colab_type": "text"
      },
      "source": [
        "Note the test data does not contain the column 'Survived', we'll use our trained model to predict these values."
      ]
    },
    {
      "cell_type": "code",
      "metadata": {
        "id": "zGG_caxW3LKK",
        "colab_type": "code",
        "colab": {}
      },
      "source": [
        "# Data wrangle the test set and convert it to a numpy array\n",
        "df_test = clean_data(df_test, drop_passenger_id=False)\n",
        "# Fill the missing column\n",
        "df_test['Title_Val_Sir.'] = 0\n",
        "df_test['Title_Val_Major'] = 0\n",
        "test_data = df_test.values\n",
        "df_test.info()"
      ],
      "execution_count": 0,
      "outputs": []
    },
    {
      "cell_type": "markdown",
      "metadata": {
        "id": "vaxBOMy03LKN",
        "colab_type": "text"
      },
      "source": [
        "Take the decision trees and run it on the test data:"
      ]
    },
    {
      "cell_type": "code",
      "metadata": {
        "id": "AUavjHdS3LKO",
        "colab_type": "code",
        "colab": {}
      },
      "source": [
        "# Get the test data features, skipping the first column 'PassengerId'\n",
        "test_x = test_data[:, 1:]\n",
        "\n",
        "# Predict the Survival values for the test data\n",
        "test_y = clf.predict(test_x)\n"
      ],
      "execution_count": 0,
      "outputs": []
    },
    {
      "cell_type": "markdown",
      "metadata": {
        "id": "S_xRbvoi3LKR",
        "colab_type": "text"
      },
      "source": [
        "## Random Forest: Prepare for Kaggle Submission\n",
        "\n",
        "Create a DataFrame by combining the index from the test data with the output of predictions, then write the results to the output:"
      ]
    },
    {
      "cell_type": "code",
      "metadata": {
        "id": "IdApuO-L3LKR",
        "colab_type": "code",
        "colab": {}
      },
      "source": [
        "df_test['Survived'] = test_y\n",
        "df_test[['PassengerId', 'Survived']] \\\n",
        "    .to_csv('./drive/My Drive/titanic/results-rf2.csv', index=False)"
      ],
      "execution_count": 0,
      "outputs": []
    },
    {
      "cell_type": "markdown",
      "metadata": {
        "id": "HZVPyJiQ3LKU",
        "colab_type": "text"
      },
      "source": [
        "## Evaluate Model Accuracy"
      ]
    },
    {
      "cell_type": "markdown",
      "metadata": {
        "id": "4Pnh2ZME3LKV",
        "colab_type": "text"
      },
      "source": [
        "Submitting to Kaggle will give you an accuracy score.  It would be helpful to get an idea of accuracy without submitting to Kaggle.\n",
        "\n",
        "We'll split our training data, 80% will go to \"train\" and 20% will go to \"test\":"
      ]
    },
    {
      "cell_type": "code",
      "metadata": {
        "id": "0SqetWdh3LKW",
        "colab_type": "code",
        "outputId": "3bb2951a-ff06-46de-c06d-ff8037da89a9",
        "colab": {
          "base_uri": "https://localhost:8080/",
          "height": 69
        }
      },
      "source": [
        "from sklearn import metrics\n",
        "from sklearn.model_selection import train_test_split\n",
        "\n",
        "# Split 80-20 train vs test data\n",
        "train_x, test_x, train_y, test_y = train_test_split(train_features, \n",
        "                                                    train_target, \n",
        "                                                    test_size=0.2, \n",
        "                                                    random_state=0)\n",
        "print (train_features.shape, train_target.shape)\n",
        "print (train_x.shape, train_y.shape)\n",
        "print (test_x.shape, test_y.shape)"
      ],
      "execution_count": 0,
      "outputs": [
        {
          "output_type": "stream",
          "text": [
            "(891, 15) (891,)\n",
            "(712, 15) (712,)\n",
            "(179, 15) (179,)\n"
          ],
          "name": "stdout"
        }
      ]
    },
    {
      "cell_type": "markdown",
      "metadata": {
        "id": "gxix9JQv3LKf",
        "colab_type": "text"
      },
      "source": [
        "Use the new training data to fit the model, predict, and get the accuracy score:"
      ]
    },
    {
      "cell_type": "code",
      "metadata": {
        "id": "xsPqkPe53LKg",
        "colab_type": "code",
        "outputId": "62e29549-4785-463a-a57c-e9639e952708",
        "colab": {
          "base_uri": "https://localhost:8080/",
          "height": 572
        }
      },
      "source": [
        "clf = RandomForestClassifier(n_estimators= 385, max_features=13, criterion='entropy',\n",
        "                             random_state=10, oob_score=True)\n",
        "clf = clf.fit(train_x, train_y)\n",
        "predict_y = clf.predict(test_x)\n",
        "\n",
        "from sklearn.metrics import accuracy_score\n",
        "print (\"Accuracy = %.2f\" % (accuracy_score(test_y, predict_y)))\n",
        "\n",
        "roc_auc = roc_auc_score(test_y, predict_y)\n",
        "from sklearn.metrics import roc_auc_score\n",
        "print (\"AUC - ROC : \", roc_auc)\n",
        "\n",
        "\n",
        "print(\"OOB Score = %.2f\" % (clf.oob_score_))\n",
        "\n",
        "feature_importances = pd.DataFrame(clf.feature_importances_,\n",
        "                                   index = df_train.columns.drop(['Survived']),\n",
        "                                   columns=['importance']).sort_values('importance', ascending=False)\n",
        "feature_importances"
      ],
      "execution_count": 0,
      "outputs": [
        {
          "output_type": "stream",
          "text": [
            "Accuracy = 0.86\n",
            "AUC - ROC :  0.8377470355731225\n",
            "OOB Score = 0.82\n"
          ],
          "name": "stdout"
        },
        {
          "output_type": "execute_result",
          "data": {
            "text/html": [
              "<div>\n",
              "<style scoped>\n",
              "    .dataframe tbody tr th:only-of-type {\n",
              "        vertical-align: middle;\n",
              "    }\n",
              "\n",
              "    .dataframe tbody tr th {\n",
              "        vertical-align: top;\n",
              "    }\n",
              "\n",
              "    .dataframe thead th {\n",
              "        text-align: right;\n",
              "    }\n",
              "</style>\n",
              "<table border=\"1\" class=\"dataframe\">\n",
              "  <thead>\n",
              "    <tr style=\"text-align: right;\">\n",
              "      <th></th>\n",
              "      <th>importance</th>\n",
              "    </tr>\n",
              "  </thead>\n",
              "  <tbody>\n",
              "    <tr>\n",
              "      <th>Fare</th>\n",
              "      <td>0.271291</td>\n",
              "    </tr>\n",
              "    <tr>\n",
              "      <th>AgeFill</th>\n",
              "      <td>0.244902</td>\n",
              "    </tr>\n",
              "    <tr>\n",
              "      <th>Sex_Val</th>\n",
              "      <td>0.223146</td>\n",
              "    </tr>\n",
              "    <tr>\n",
              "      <th>Pclass</th>\n",
              "      <td>0.088445</td>\n",
              "    </tr>\n",
              "    <tr>\n",
              "      <th>FamilySize</th>\n",
              "      <td>0.077656</td>\n",
              "    </tr>\n",
              "    <tr>\n",
              "      <th>Title_Val_Mr.</th>\n",
              "      <td>0.037871</td>\n",
              "    </tr>\n",
              "    <tr>\n",
              "      <th>Embarked_Val_3</th>\n",
              "      <td>0.013465</td>\n",
              "    </tr>\n",
              "    <tr>\n",
              "      <th>Title_Val_Master.</th>\n",
              "      <td>0.011613</td>\n",
              "    </tr>\n",
              "    <tr>\n",
              "      <th>Embarked_Val_1</th>\n",
              "      <td>0.011305</td>\n",
              "    </tr>\n",
              "    <tr>\n",
              "      <th>Embarked_Val_2</th>\n",
              "      <td>0.010782</td>\n",
              "    </tr>\n",
              "    <tr>\n",
              "      <th>Title_Val_Miss.</th>\n",
              "      <td>0.006754</td>\n",
              "    </tr>\n",
              "    <tr>\n",
              "      <th>Title_Val_Dr.</th>\n",
              "      <td>0.001399</td>\n",
              "    </tr>\n",
              "    <tr>\n",
              "      <th>Title_Val_Major</th>\n",
              "      <td>0.001246</td>\n",
              "    </tr>\n",
              "    <tr>\n",
              "      <th>Title_Val_Sir.</th>\n",
              "      <td>0.000121</td>\n",
              "    </tr>\n",
              "    <tr>\n",
              "      <th>Title_Val_Ms.</th>\n",
              "      <td>0.000005</td>\n",
              "    </tr>\n",
              "  </tbody>\n",
              "</table>\n",
              "</div>"
            ],
            "text/plain": [
              "                   importance\n",
              "Fare                 0.271291\n",
              "AgeFill              0.244902\n",
              "Sex_Val              0.223146\n",
              "Pclass               0.088445\n",
              "FamilySize           0.077656\n",
              "Title_Val_Mr.        0.037871\n",
              "Embarked_Val_3       0.013465\n",
              "Title_Val_Master.    0.011613\n",
              "Embarked_Val_1       0.011305\n",
              "Embarked_Val_2       0.010782\n",
              "Title_Val_Miss.      0.006754\n",
              "Title_Val_Dr.        0.001399\n",
              "Title_Val_Major      0.001246\n",
              "Title_Val_Sir.       0.000121\n",
              "Title_Val_Ms.        0.000005"
            ]
          },
          "metadata": {
            "tags": []
          },
          "execution_count": 243
        }
      ]
    },
    {
      "cell_type": "markdown",
      "metadata": {
        "id": "2d1qQ5gb3LKk",
        "colab_type": "text"
      },
      "source": [
        "View the Confusion Matrix:"
      ]
    },
    {
      "cell_type": "code",
      "metadata": {
        "id": "hsJwN9yqnBw0",
        "colab_type": "code",
        "outputId": "8b9f5b53-24c1-4019-9b4f-3b3c248763e7",
        "colab": {
          "base_uri": "https://localhost:8080/",
          "height": 415
        }
      },
      "source": [
        "feature_importances.plot(kind='bar')"
      ],
      "execution_count": 0,
      "outputs": [
        {
          "output_type": "execute_result",
          "data": {
            "text/plain": [
              "<matplotlib.axes._subplots.AxesSubplot at 0x7f84f59f24a8>"
            ]
          },
          "metadata": {
            "tags": []
          },
          "execution_count": 175
        },
        {
          "output_type": "display_data",
          "data": {
            "image/png": "[encoded data removed]",
            "text/plain": [
              "<Figure size 720x360 with 1 Axes>"
            ]
          },
          "metadata": {
            "tags": []
          }
        }
      ]
    },
    {
      "cell_type": "markdown",
      "metadata": {
        "id": "6qIOdFd53LKl",
        "colab_type": "text"
      },
      "source": [
        "|      | condition True | condition false|\n",
        "|------|----------------|---------------|\n",
        "|prediction true|True Positive|False positive|\n",
        "|Prediction False|False Negative|True Negative|"
      ]
    },
    {
      "cell_type": "code",
      "metadata": {
        "id": "KTwD4r8n3LKm",
        "colab_type": "code",
        "outputId": "ac97d6f3-e7b1-432d-bb51-e6dc51cdb2b6",
        "colab": {
          "base_uri": "https://localhost:8080/",
          "height": 442
        }
      },
      "source": [
        "from IPython.core.display import Image \n",
        "Image(filename='./drive/My Drive/titanic/confusion_matrix.png', width=800)"
      ],
      "execution_count": 0,
      "outputs": [
        {
          "output_type": "execute_result",
          "data": {
            "image/png": "[encoded data removed]",
            "text/plain": [
              "<IPython.core.display.Image object>"
            ]
          },
          "metadata": {
            "tags": [],
            "image/png": {
              "width": 800
            }
          },
          "execution_count": 176
        }
      ]
    },
    {
      "cell_type": "markdown",
      "metadata": {
        "id": "Kbe_kp8K3LKr",
        "colab_type": "text"
      },
      "source": [
        "Get the model score and confusion matrix:"
      ]
    },
    {
      "cell_type": "code",
      "metadata": {
        "id": "EQR0Eflr3LKr",
        "colab_type": "code",
        "outputId": "9ab9555a-5321-473e-fd84-ab4da98902ab",
        "colab": {
          "base_uri": "https://localhost:8080/",
          "height": 225
        }
      },
      "source": [
        "model_score = clf.score(test_x, test_y)\n",
        "print (\"Model Score %.2f \\n\" % (model_score))\n",
        "\n",
        "confusion_matrix = metrics.confusion_matrix(test_y, predict_y)\n",
        "print (\"Confusion Matrix \")\n",
        "print (confusion_matrix)\n",
        "\n",
        "print (\"          Predicted\")\n",
        "print (\"         |  0  |  1  |\")\n",
        "print (\"         |-----|-----|\")\n",
        "print (\"       0 | %3d | %3d |\" % (confusion_matrix[0, 0],\n",
        "                                   confusion_matrix[0, 1]))\n",
        "print (\"Actual   |-----|-----|\")\n",
        "print (\"       1 | %3d | %3d |\" % (confusion_matrix[1, 0],\n",
        "                                   confusion_matrix[1, 1]))\n",
        "print (\"         |-----|-----|\")"
      ],
      "execution_count": 0,
      "outputs": [
        {
          "output_type": "stream",
          "text": [
            "Model Score 0.86 \n",
            "\n",
            "Confusion Matrix \n",
            "[[103   7]\n",
            " [ 18  51]]\n",
            "          Predicted\n",
            "         |  0  |  1  |\n",
            "         |-----|-----|\n",
            "       0 | 103 |   7 |\n",
            "Actual   |-----|-----|\n",
            "       1 |  18 |  51 |\n",
            "         |-----|-----|\n"
          ],
          "name": "stdout"
        }
      ]
    },
    {
      "cell_type": "markdown",
      "metadata": {
        "id": "5IVQ-QDa3LKw",
        "colab_type": "text"
      },
      "source": [
        "Display the classification report:"
      ]
    },
    {
      "cell_type": "markdown",
      "metadata": {
        "id": "dVBTcAat3LKx",
        "colab_type": "text"
      },
      "source": [
        "$$Precision = \\frac{TP}{TP + FP}$$ \n",
        "\n",
        "$$Recall = \\frac{TP}{TP + FN}$$ \n",
        "\n",
        "$$F1 = \\frac{2TP}{2TP + FP + FN}$$ "
      ]
    },
    {
      "cell_type": "code",
      "metadata": {
        "id": "FVEalzVJ3LKz",
        "colab_type": "code",
        "outputId": "5895ddcc-7fcb-405a-98e0-e6e90aae008d",
        "colab": {
          "base_uri": "https://localhost:8080/",
          "height": 173
        }
      },
      "source": [
        "from sklearn.metrics import classification_report\n",
        "print(classification_report(test_y, \n",
        "                            predict_y, \n",
        "                            target_names=['Not Survived', 'Survived']))"
      ],
      "execution_count": 0,
      "outputs": [
        {
          "output_type": "stream",
          "text": [
            "              precision    recall  f1-score   support\n",
            "\n",
            "Not Survived       0.85      0.94      0.89       110\n",
            "    Survived       0.88      0.74      0.80        69\n",
            "\n",
            "    accuracy                           0.86       179\n",
            "   macro avg       0.87      0.84      0.85       179\n",
            "weighted avg       0.86      0.86      0.86       179\n",
            "\n"
          ],
          "name": "stdout"
        }
      ]
    },
    {
      "cell_type": "markdown",
      "metadata": {
        "id": "Knn4TGKuEEsw",
        "colab_type": "text"
      },
      "source": [
        "The trained model has estimated a probability for each of your observations, but the threshold will ultimately decide to in which class your observation will be categorized."
      ]
    },
    {
      "cell_type": "code",
      "metadata": {
        "id": "jJoaQmBxJ0MV",
        "colab_type": "code",
        "outputId": "1615c6f1-4eaf-48d1-874f-f99e93df89bb",
        "colab": {
          "base_uri": "https://localhost:8080/",
          "height": 69
        }
      },
      "source": [
        "# TPR and FPR of your model for one specific threshold level\n",
        "from sklearn.metrics import roc_curve\n",
        "fpr, tpr, thresholds = metrics.roc_curve(test_y, predict_y)\n",
        "\n",
        "print(\"fpr: \", fpr)\n",
        "print(\"tpr: \", tpr)\n",
        "print(\"thresholds: \", thresholds)"
      ],
      "execution_count": 0,
      "outputs": [
        {
          "output_type": "stream",
          "text": [
            "fpr:  [0.         0.06363636 1.        ]\n",
            "tpr:  [0.         0.73913043 1.        ]\n",
            "thresholds:  [2. 1. 0.]\n"
          ],
          "name": "stdout"
        }
      ]
    },
    {
      "cell_type": "code",
      "metadata": {
        "id": "XW5yj74c4a1J",
        "colab_type": "code",
        "outputId": "2778318e-1a87-4eaf-f4fd-70c7b8709d28",
        "colab": {
          "base_uri": "https://localhost:8080/",
          "height": 350
        }
      },
      "source": [
        "import scikitplot as skplt\n",
        "plot = skplt.metrics.plot_roc(test_y, clf.predict_proba(test_x))"
      ],
      "execution_count": 0,
      "outputs": [
        {
          "output_type": "display_data",
          "data": {
            "image/png": "[encoded data removed]",
            "text/plain": [
              "<Figure size 720x360 with 1 Axes>"
            ]
          },
          "metadata": {
            "tags": []
          }
        }
      ]
    },
    {
      "cell_type": "code",
      "metadata": {
        "id": "cXOjzprZG-nW",
        "colab_type": "code",
        "colab": {}
      },
      "source": [
        "#imports\n",
        "from pandas import DataFrame\n",
        "import numpy as np\n",
        "import matplotlib.pyplot as plt\n",
        "import matplotlib.font_manager as fm\n",
        "from matplotlib.collections import QuadMesh\n",
        "import seaborn as sn\n",
        "\n",
        "\n",
        "def get_new_fig(fn, figsize=[9,9]):\n",
        "    \"\"\" Init graphics \"\"\"\n",
        "    fig1 = plt.figure(fn, figsize)\n",
        "    ax1 = fig1.gca()   #Get Current Axis\n",
        "    ax1.cla() # clear existing plot\n",
        "    return fig1, ax1\n",
        "#\n",
        "\n",
        "def configcell_text_and_colors(array_df, lin, col, oText, facecolors, posi, fz, fmt, show_null_values=0):\n",
        "    \"\"\"\n",
        "      config cell text and colors\n",
        "      and return text elements to add and to dell\n",
        "      @TODO: use fmt\n",
        "    \"\"\"\n",
        "    text_add = []; text_del = [];\n",
        "    cell_val = array_df[lin][col]\n",
        "    tot_all = array_df[-1][-1]\n",
        "    per = (float(cell_val) / tot_all) * 100\n",
        "    curr_column = array_df[:,col]\n",
        "    ccl = len(curr_column)\n",
        "\n",
        "    #last line  and/or last column\n",
        "    if(col == (ccl - 1)) or (lin == (ccl - 1)):\n",
        "        #tots and percents\n",
        "        if(cell_val != 0):\n",
        "            if(col == ccl - 1) and (lin == ccl - 1):\n",
        "                tot_rig = 0\n",
        "                for i in range(array_df.shape[0] - 1):\n",
        "                    tot_rig += array_df[i][i]\n",
        "                per_ok = (float(tot_rig) / cell_val) * 100\n",
        "            elif(col == ccl - 1):\n",
        "                tot_rig = array_df[lin][lin]\n",
        "                per_ok = (float(tot_rig) / cell_val) * 100\n",
        "            elif(lin == ccl - 1):\n",
        "                tot_rig = array_df[col][col]\n",
        "                per_ok = (float(tot_rig) / cell_val) * 100\n",
        "            per_err = 100 - per_ok\n",
        "        else:\n",
        "            per_ok = per_err = 0\n",
        "\n",
        "        per_ok_s = ['%.2f%%'%(per_ok), '100%'] [per_ok == 100]\n",
        "\n",
        "        #text to DEL\n",
        "        text_del.append(oText)\n",
        "\n",
        "        #text to ADD\n",
        "        font_prop = fm.FontProperties(weight='bold', size=fz)\n",
        "        text_kwargs = dict(color='w', ha=\"center\", va=\"center\", gid='sum', fontproperties=font_prop)\n",
        "        lis_txt = ['%d'%(cell_val), per_ok_s, '%.2f%%'%(per_err)]\n",
        "        lis_kwa = [text_kwargs]\n",
        "        dic = text_kwargs.copy(); dic['color'] = 'g'; lis_kwa.append(dic);\n",
        "        dic = text_kwargs.copy(); dic['color'] = 'r'; lis_kwa.append(dic);\n",
        "        lis_pos = [(oText._x, oText._y-0.3), (oText._x, oText._y), (oText._x, oText._y+0.3)]\n",
        "        for i in range(len(lis_txt)):\n",
        "            newText = dict(x=lis_pos[i][0], y=lis_pos[i][1], text=lis_txt[i], kw=lis_kwa[i])\n",
        "            #print 'lin: %s, col: %s, newText: %s' %(lin, col, newText)\n",
        "            text_add.append(newText)\n",
        "        #print '\\n'\n",
        "\n",
        "        #set background color for sum cells (last line and last column)\n",
        "        carr = [0.27, 0.30, 0.27, 1.0]\n",
        "        if(col == ccl - 1) and (lin == ccl - 1):\n",
        "            carr = [0.17, 0.20, 0.17, 1.0]\n",
        "        facecolors[posi] = carr\n",
        "\n",
        "    else:\n",
        "        if(per > 0):\n",
        "            txt = '%s\\n%.2f%%' %(cell_val, per)\n",
        "        else:\n",
        "            if(show_null_values == 0):\n",
        "                txt = ''\n",
        "            elif(show_null_values == 1):\n",
        "                txt = '0'\n",
        "            else:\n",
        "                txt = '0\\n0.0%'\n",
        "        oText.set_text(txt)\n",
        "\n",
        "        #main diagonal\n",
        "        if(col == lin):\n",
        "            #set color of the textin the diagonal to white\n",
        "            oText.set_color('w')\n",
        "            # set background color in the diagonal to blue\n",
        "            facecolors[posi] = [0.35, 0.8, 0.55, 1.0]\n",
        "        else:\n",
        "            oText.set_color('r')\n",
        "\n",
        "    return text_add, text_del\n",
        "#\n",
        "\n",
        "def insert_totals(df_cm):\n",
        "    \"\"\" insert total column and line (the last ones) \"\"\"\n",
        "    sum_col = []\n",
        "    for c in df_cm.columns:\n",
        "        sum_col.append( df_cm[c].sum() )\n",
        "    sum_lin = []\n",
        "    for item_line in df_cm.iterrows():\n",
        "        sum_lin.append( item_line[1].sum() )\n",
        "    df_cm['sum_lin'] = sum_lin\n",
        "    sum_col.append(np.sum(sum_lin))\n",
        "    df_cm.loc['sum_col'] = sum_col\n",
        "    #print ('\\ndf_cm:\\n', df_cm, '\\n\\b\\n')\n",
        "#\n",
        "\n",
        "def pretty_plot_confusion_matrix(df_cm, annot=True, cmap=\"Oranges\", fmt='.2f', fz=11,\n",
        "      lw=0.5, cbar=False, figsize=[8,8], show_null_values=0, pred_val_axis='y'):\n",
        "    \"\"\"\n",
        "      print conf matrix with default layout (like matlab)\n",
        "      params:\n",
        "        df_cm          dataframe (pandas) without totals\n",
        "        annot          print text in each cell\n",
        "        cmap           Oranges,Oranges_r,YlGnBu,Blues,RdBu, ... see:\n",
        "        fz             fontsize\n",
        "        lw             linewidth\n",
        "        pred_val_axis  where to show the prediction values (x or y axis)\n",
        "                        'col' or 'x': show predicted values in columns (x axis) instead lines\n",
        "                        'lin' or 'y': show predicted values in lines   (y axis)\n",
        "    \"\"\"\n",
        "    if(pred_val_axis in ('col', 'x')):\n",
        "        xlbl = 'Predicted'\n",
        "        ylbl = 'Actual'\n",
        "    else:\n",
        "        xlbl = 'Actual'\n",
        "        ylbl = 'Predicted'\n",
        "        df_cm = df_cm.T\n",
        "\n",
        "    # create \"Total\" column\n",
        "    insert_totals(df_cm)\n",
        "\n",
        "    #this is for print allways in the same window\n",
        "    fig, ax1 = get_new_fig('Conf matrix default', figsize)\n",
        "\n",
        "    #thanks for seaborn\n",
        "    ax = sn.heatmap(df_cm, annot=annot, annot_kws={\"size\": fz}, linewidths=lw, ax=ax1,\n",
        "                    cbar=cbar, cmap=cmap, linecolor='w', fmt=fmt)\n",
        "\n",
        "    #set ticklabels rotation\n",
        "    ax.set_xticklabels(ax.get_xticklabels(), rotation = 45, fontsize = 10)\n",
        "    ax.set_yticklabels(ax.get_yticklabels(), rotation = 25, fontsize = 10)\n",
        "\n",
        "    # Turn off all the ticks\n",
        "    for t in ax.xaxis.get_major_ticks():\n",
        "        t.tick1On = False\n",
        "        t.tick2On = False\n",
        "    for t in ax.yaxis.get_major_ticks():\n",
        "        t.tick1On = False\n",
        "        t.tick2On = False\n",
        "\n",
        "    #face colors list\n",
        "    quadmesh = ax.findobj(QuadMesh)[0]\n",
        "    facecolors = quadmesh.get_facecolors()\n",
        "\n",
        "    #iter in text elements\n",
        "    array_df = np.array( df_cm.to_records(index=False).tolist() )\n",
        "    text_add = []; text_del = [];\n",
        "    posi = -1 #from left to right, bottom to top.\n",
        "    for t in ax.collections[0].axes.texts: #ax.texts:\n",
        "        pos = np.array( t.get_position()) - [0.5,0.5]\n",
        "        lin = int(pos[1]); col = int(pos[0]);\n",
        "        posi += 1\n",
        "        #print ('>>> pos: %s, posi: %s, val: %s, txt: %s' %(pos, posi, array_df[lin][col], t.get_text()))\n",
        "\n",
        "        #set text\n",
        "        txt_res = configcell_text_and_colors(array_df, lin, col, t, facecolors, posi, fz, fmt, show_null_values)\n",
        "\n",
        "        text_add.extend(txt_res[0])\n",
        "        text_del.extend(txt_res[1])\n",
        "\n",
        "    #remove the old ones\n",
        "    for item in text_del:\n",
        "        item.remove()\n",
        "    #append the new ones\n",
        "    for item in text_add:\n",
        "        ax.text(item['x'], item['y'], item['text'], **item['kw'])\n",
        "\n",
        "    #titles and legends\n",
        "    ax.set_title('Confusion matrix')\n",
        "    ax.set_xlabel(xlbl)\n",
        "    ax.set_ylabel(ylbl)\n",
        "    plt.tight_layout()  #set layout slim\n",
        "    plt.show()\n",
        "#\n",
        "\n",
        "def plot_confusion_matrix_from_data(y_test, predictions, columns=None, annot=True, cmap=\"Oranges\",\n",
        "      fmt='.2f', fz=11, lw=0.5, cbar=False, figsize=[8,8], show_null_values=0, pred_val_axis='lin'):\n",
        "    \"\"\"\n",
        "        plot confusion matrix function with y_test (actual values) and predictions (predic),\n",
        "        whitout a confusion matrix yet\n",
        "    \"\"\"\n",
        "    from sklearn.metrics import confusion_matrix\n",
        "    from pandas import DataFrame\n",
        "\n",
        "    #data\n",
        "    if(not columns):\n",
        "        #labels axis integer:\n",
        "        ##columns = range(1, len(np.unique(y_test))+1)\n",
        "        #labels axis string:\n",
        "        from string import ascii_uppercase\n",
        "        columns = ['class %s' %(i) for i in list(ascii_uppercase)[0:len(np.unique(y_test))]]\n",
        "\n",
        "    confm = confusion_matrix(y_test, predictions)\n",
        "    cmap = 'Oranges';\n",
        "    fz = 11;\n",
        "    figsize=[9,9];\n",
        "    show_null_values = 2\n",
        "    df_cm = DataFrame(confm, index=columns, columns=columns)\n",
        "    pretty_plot_confusion_matrix(df_cm, fz=fz, cmap=cmap, figsize=figsize, show_null_values=show_null_values, pred_val_axis=pred_val_axis)\n",
        "#"
      ],
      "execution_count": 0,
      "outputs": []
    },
    {
      "cell_type": "code",
      "metadata": {
        "id": "82sR4LH5HCye",
        "colab_type": "code",
        "outputId": "06ab4683-99fb-4f93-8853-4190524c02ba",
        "colab": {
          "base_uri": "https://localhost:8080/",
          "height": 694
        }
      },
      "source": [
        "columns = []\n",
        "annot = True;\n",
        "cmap = 'Oranges';\n",
        "fmt = '.2f'\n",
        "lw = 0.5\n",
        "cbar = False\n",
        "show_null_values = 2\n",
        "pred_val_axis = 'y'\n",
        "#size::\n",
        "fz = 12;\n",
        "figsize = [9,9];\n",
        "if(len(test_y) > 10):\n",
        "    fz=9; figsize=[14,14];\n",
        "plot_confusion_matrix_from_data(test_y, predict_y, columns,\n",
        "                                annot, cmap, fmt, fz, lw, cbar, figsize, show_null_values, pred_val_axis)"
      ],
      "execution_count": 0,
      "outputs": [
        {
          "output_type": "stream",
          "text": [
            "/usr/local/lib/python3.6/dist-packages/ipykernel_launcher.py:49: DeprecationWarning: In future, it will be an error for 'np.bool_' scalars to be interpreted as an index\n"
          ],
          "name": "stderr"
        },
        {
          "output_type": "display_data",
          "data": {
            "image/png": "[encoded data removed]",
            "text/plain": [
              "<Figure size 648x648 with 1 Axes>"
            ]
          },
          "metadata": {
            "tags": []
          }
        }
      ]
    },
    {
      "cell_type": "code",
      "metadata": {
        "id": "yxT--nmHHclG",
        "colab_type": "code",
        "colab": {}
      },
      "source": [
        ""
      ],
      "execution_count": 0,
      "outputs": []
    }
  ]
}