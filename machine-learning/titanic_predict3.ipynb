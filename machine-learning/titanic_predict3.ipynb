{
  "nbformat": 4,
  "nbformat_minor": 0,
  "metadata": {
    "colab": {
      "name": "titanic-predict3.ipynb",
      "provenance": [],
      "collapsed_sections": [
        "xPTAZEjWi6kI",
        "nG-NfdekDbZC",
        "cpg-AGBU9Yzo",
        "NPEuzeJc9cLD",
        "7T6gkn7PInqO",
        "fT9WtfGbfh7l",
        "iQh58Dg_gyEY",
        "CzJ0oY6WgWny"
      ],
      "toc_visible": true,
      "include_colab_link": true
    },
    "kernelspec": {
      "name": "python3",
      "display_name": "Python 3"
    },
    "accelerator": "GPU"
  },
  "cells": [
    {
      "cell_type": "markdown",
      "metadata": {
        "id": "view-in-github",
        "colab_type": "text"
      },
      "source": [
        "<a href=\"https://colab.research.google.com/github/minghsu0107/ML/blob/master/machine-learning/titanic_predict3.ipynb\" target=\"_parent\"><img src=\"https://colab.research.google.com/assets/colab-badge.svg\" alt=\"Open In Colab\"/></a>"
      ]
    },
    {
      "cell_type": "markdown",
      "metadata": {
        "id": "xPTAZEjWi6kI",
        "colab_type": "text"
      },
      "source": [
        "## Settings"
      ]
    },
    {
      "cell_type": "code",
      "metadata": {
        "id": "fhHZLqbJq6_5",
        "colab_type": "code",
        "colab": {
          "base_uri": "https://localhost:8080/",
          "height": 212
        },
        "outputId": "5f32f4f7-21d7-4714-c709-93cb5face08a"
      },
      "source": [
        "import numpy as np \n",
        "import pandas as pd\n",
        "import matplotlib.pyplot as plt \n",
        "import seaborn as sns \n",
        "%matplotlib inline\n",
        "sns.set(font_scale=1.56)\n",
        "from sklearn.ensemble import RandomForestClassifier\n",
        "from sklearn.model_selection import cross_val_score, StratifiedKFold, learning_curve, train_test_split\n",
        "from sklearn.preprocessing import LabelEncoder\n",
        "from sklearn.feature_selection import RFECV\n",
        "# loading data\n",
        "df_train = pd.read_csv('./drive/My Drive/titanic/train.csv')\n",
        "df_test = pd.read_csv('./drive/My Drive/titanic/test.csv')\n",
        "df_data = df_train.append(df_test)\n",
        "# for display dataframe\n",
        "from IPython.display import display\n",
        "from IPython.display import display_html\n",
        "def display_side_by_side(*args):\n",
        "    html_str=''\n",
        "    for df in args:\n",
        "        html_str+=df.to_html()\n",
        "    display_html(html_str.replace('table','table style=\"display:inline\"'),raw=True)\n",
        "# ignore warning\n",
        "import warnings\n",
        "warnings.filterwarnings(\"ignore\")"
      ],
      "execution_count": 2,
      "outputs": [
        {
          "output_type": "stream",
          "text": [
            "/usr/local/lib/python3.6/dist-packages/pandas/core/frame.py:6692: FutureWarning: Sorting because non-concatenation axis is not aligned. A future version\n",
            "of pandas will change to not sort by default.\n",
            "\n",
            "To accept the future behavior, pass 'sort=False'.\n",
            "\n",
            "To retain the current behavior and silence the warning, pass 'sort=True'.\n",
            "\n",
            "  sort=sort)\n"
          ],
          "name": "stderr"
        }
      ]
    },
    {
      "cell_type": "markdown",
      "metadata": {
        "id": "nG-NfdekDbZC",
        "colab_type": "text"
      },
      "source": [
        "## Sex and Pclass"
      ]
    },
    {
      "cell_type": "code",
      "metadata": {
        "id": "2dM8KN3krM5T",
        "colab_type": "code",
        "colab": {
          "base_uri": "https://localhost:8080/",
          "height": 416
        },
        "outputId": "f6a414b2-0920-4997-bc76-e1eb41c61ada"
      },
      "source": [
        "display(df_data[[\"Sex\", \"Survived\"]].groupby([\"Sex\"], as_index=False).mean().round(3))\n",
        "sns.countplot(df_data['Sex'], hue=df_data['Survived'])"
      ],
      "execution_count": 18,
      "outputs": [
        {
          "output_type": "display_data",
          "data": {
            "text/html": [
              "<div>\n",
              "<style scoped>\n",
              "    .dataframe tbody tr th:only-of-type {\n",
              "        vertical-align: middle;\n",
              "    }\n",
              "\n",
              "    .dataframe tbody tr th {\n",
              "        vertical-align: top;\n",
              "    }\n",
              "\n",
              "    .dataframe thead th {\n",
              "        text-align: right;\n",
              "    }\n",
              "</style>\n",
              "<table border=\"1\" class=\"dataframe\">\n",
              "  <thead>\n",
              "    <tr style=\"text-align: right;\">\n",
              "      <th></th>\n",
              "      <th>Sex</th>\n",
              "      <th>Survived</th>\n",
              "    </tr>\n",
              "  </thead>\n",
              "  <tbody>\n",
              "    <tr>\n",
              "      <th>0</th>\n",
              "      <td>female</td>\n",
              "      <td>0.742</td>\n",
              "    </tr>\n",
              "    <tr>\n",
              "      <th>1</th>\n",
              "      <td>male</td>\n",
              "      <td>0.189</td>\n",
              "    </tr>\n",
              "  </tbody>\n",
              "</table>\n",
              "</div>"
            ],
            "text/plain": [
              "      Sex  Survived\n",
              "0  female     0.742\n",
              "1    male     0.189"
            ]
          },
          "metadata": {
            "tags": []
          }
        },
        {
          "output_type": "execute_result",
          "data": {
            "text/plain": [
              "<matplotlib.axes._subplots.AxesSubplot at 0x7f3619f04e10>"
            ]
          },
          "metadata": {
            "tags": []
          },
          "execution_count": 18
        },
        {
          "output_type": "display_data",
          "data": {
            "image/png": "[encoded data removed]",
            "text/plain": [
              "<Figure size 432x288 with 1 Axes>"
            ]
          },
          "metadata": {
            "tags": []
          }
        }
      ]
    },
    {
      "cell_type": "code",
      "metadata": {
        "id": "_268UZAcuQ-W",
        "colab_type": "code",
        "colab": {
          "base_uri": "https://localhost:8080/",
          "height": 427
        },
        "outputId": "31ec6257-41f6-4dce-c643-d66bda67313b"
      },
      "source": [
        "sns.countplot(df_data['Pclass'], hue=df_data['Survived'])\n",
        "df_data[[\"Pclass\", \"Survived\"]].groupby(['Pclass'], as_index=False).mean().round(3)"
      ],
      "execution_count": 110,
      "outputs": [
        {
          "output_type": "execute_result",
          "data": {
            "text/html": [
              "<div>\n",
              "<style scoped>\n",
              "    .dataframe tbody tr th:only-of-type {\n",
              "        vertical-align: middle;\n",
              "    }\n",
              "\n",
              "    .dataframe tbody tr th {\n",
              "        vertical-align: top;\n",
              "    }\n",
              "\n",
              "    .dataframe thead th {\n",
              "        text-align: right;\n",
              "    }\n",
              "</style>\n",
              "<table border=\"1\" class=\"dataframe\">\n",
              "  <thead>\n",
              "    <tr style=\"text-align: right;\">\n",
              "      <th></th>\n",
              "      <th>Pclass</th>\n",
              "      <th>Survived</th>\n",
              "    </tr>\n",
              "  </thead>\n",
              "  <tbody>\n",
              "    <tr>\n",
              "      <th>0</th>\n",
              "      <td>1</td>\n",
              "      <td>0.630</td>\n",
              "    </tr>\n",
              "    <tr>\n",
              "      <th>1</th>\n",
              "      <td>2</td>\n",
              "      <td>0.473</td>\n",
              "    </tr>\n",
              "    <tr>\n",
              "      <th>2</th>\n",
              "      <td>3</td>\n",
              "      <td>0.242</td>\n",
              "    </tr>\n",
              "  </tbody>\n",
              "</table>\n",
              "</div>"
            ],
            "text/plain": [
              "   Pclass  Survived\n",
              "0       1     0.630\n",
              "1       2     0.473\n",
              "2       3     0.242"
            ]
          },
          "metadata": {
            "tags": []
          },
          "execution_count": 110
        },
        {
          "output_type": "display_data",
          "data": {
            "image/png": "[encoded data removed]",
            "text/plain": [
              "<Figure size 432x288 with 1 Axes>"
            ]
          },
          "metadata": {
            "tags": []
          }
        }
      ]
    },
    {
      "cell_type": "code",
      "metadata": {
        "id": "-tVSja9eyUgn",
        "colab_type": "code",
        "colab": {}
      },
      "source": [
        "# Convert Sex\n",
        "df_data['Sex_Code'] = df_data['Sex'].map({'female' : 1, 'male' : 0}).astype('int')\n",
        "\n",
        "\n",
        "# split training set the testing set\n",
        "df_train = df_data[:len(df_train)]\n",
        "df_test = df_data[len(df_train):]\n",
        "\n",
        "# Inputs set and labels\n",
        "X = df_train.drop(labels=['Survived','PassengerId'],axis=1)\n",
        "Y = df_train['Survived']"
      ],
      "execution_count": 0,
      "outputs": []
    },
    {
      "cell_type": "markdown",
      "metadata": {
        "id": "cpg-AGBU9Yzo",
        "colab_type": "text"
      },
      "source": [
        "## Base Line"
      ]
    },
    {
      "cell_type": "code",
      "metadata": {
        "id": "JX5mEKarytq8",
        "colab_type": "code",
        "colab": {
          "base_uri": "https://localhost:8080/",
          "height": 34
        },
        "outputId": "267ec8fe-bd53-4a26-cf32-f05c0335aa67"
      },
      "source": [
        "# Show Baseline\n",
        "Base = ['Sex_Code','Pclass']\n",
        "Base_Model = RandomForestClassifier(random_state=2,n_estimators=250,min_samples_split=20,oob_score=True)\n",
        "Base_Model.fit(X[Base], Y)\n",
        "print('Base oob score :%.5f' %(Base_Model.oob_score_))"
      ],
      "execution_count": 21,
      "outputs": [
        {
          "output_type": "stream",
          "text": [
            "Base oob score :0.73176\n"
          ],
          "name": "stdout"
        }
      ]
    },
    {
      "cell_type": "code",
      "metadata": {
        "id": "RYjdjxqay-ZM",
        "colab_type": "code",
        "colab": {}
      },
      "source": [
        "# submission if you want\n",
        "# submits\n",
        "X_Submit = df_test.drop(labels=['PassengerId'],axis=1)\n",
        "\n",
        "Base_pred = Base_Model.predict(X_Submit[Base])\n",
        "\n",
        "submit = pd.DataFrame({\"PassengerId\": df_test['PassengerId'],\n",
        "                      \"Survived\":Base_pred.astype(int)})\n",
        "submit.to_csv(\"submit_Base.csv\",index=False)"
      ],
      "execution_count": 0,
      "outputs": []
    },
    {
      "cell_type": "markdown",
      "metadata": {
        "id": "NPEuzeJc9cLD",
        "colab_type": "text"
      },
      "source": [
        "## Fare"
      ]
    },
    {
      "cell_type": "markdown",
      "metadata": {
        "id": "yhAYAGcu5YeL",
        "colab_type": "text"
      },
      "source": [
        "由於票價分布非常廣及傾斜，有非常高的票價也有非常低的，我們將票價取log來畫圖會好看一點。(註 : 取log之後同時也可以解決傾斜的問題，若是在Regression Problem中也是必要的預處理)"
      ]
    },
    {
      "cell_type": "code",
      "metadata": {
        "id": "aV0LaxTi3LfS",
        "colab_type": "code",
        "colab": {
          "base_uri": "https://localhost:8080/",
          "height": 667
        },
        "outputId": "2a9954ae-b01a-4a3d-d523-96f9260ac956"
      },
      "source": [
        "# there is some bugs in log-scale of boxplot. \n",
        "# alternatively, we transform x into log10(x) for visualization.\n",
        "fig, ax = plt.subplots( figsize = (18,7) )\n",
        "df_data['Log_Fare'] = (df_data['Fare']+1).map(lambda x : np.log10(x) if x > 0 else 0)\n",
        "sns.boxplot(y='Pclass', x='Log_Fare',hue='Survived',data=df_data, orient='h'\n",
        "                ,ax=ax,palette=\"Set3\")\n",
        "ax.set_title(' Log_Fare & Pclass vs Survived ',fontsize = 20)\n",
        "\n",
        "pd.pivot_table(df_data,values = ['Fare'], index = ['Pclass'], columns= ['Survived'] ,aggfunc = 'median' ).round(3)"
      ],
      "execution_count": 24,
      "outputs": [
        {
          "output_type": "execute_result",
          "data": {
            "text/html": [
              "<div>\n",
              "<style scoped>\n",
              "    .dataframe tbody tr th:only-of-type {\n",
              "        vertical-align: middle;\n",
              "    }\n",
              "\n",
              "    .dataframe tbody tr th {\n",
              "        vertical-align: top;\n",
              "    }\n",
              "\n",
              "    .dataframe thead tr th {\n",
              "        text-align: left;\n",
              "    }\n",
              "\n",
              "    .dataframe thead tr:last-of-type th {\n",
              "        text-align: right;\n",
              "    }\n",
              "</style>\n",
              "<table border=\"1\" class=\"dataframe\">\n",
              "  <thead>\n",
              "    <tr>\n",
              "      <th></th>\n",
              "      <th colspan=\"2\" halign=\"left\">Fare</th>\n",
              "    </tr>\n",
              "    <tr>\n",
              "      <th>Survived</th>\n",
              "      <th>0.0</th>\n",
              "      <th>1.0</th>\n",
              "    </tr>\n",
              "    <tr>\n",
              "      <th>Pclass</th>\n",
              "      <th></th>\n",
              "      <th></th>\n",
              "    </tr>\n",
              "  </thead>\n",
              "  <tbody>\n",
              "    <tr>\n",
              "      <th>1</th>\n",
              "      <td>44.75</td>\n",
              "      <td>77.958</td>\n",
              "    </tr>\n",
              "    <tr>\n",
              "      <th>2</th>\n",
              "      <td>13.00</td>\n",
              "      <td>21.000</td>\n",
              "    </tr>\n",
              "    <tr>\n",
              "      <th>3</th>\n",
              "      <td>8.05</td>\n",
              "      <td>8.517</td>\n",
              "    </tr>\n",
              "  </tbody>\n",
              "</table>\n",
              "</div>"
            ],
            "text/plain": [
              "           Fare        \n",
              "Survived    0.0     1.0\n",
              "Pclass                 \n",
              "1         44.75  77.958\n",
              "2         13.00  21.000\n",
              "3          8.05   8.517"
            ]
          },
          "metadata": {
            "tags": []
          },
          "execution_count": 24
        },
        {
          "output_type": "display_data",
          "data": {
            "image/png": "[encoded data removed]",
            "text/plain": [
              "<Figure size 1296x504 with 1 Axes>"
            ]
          },
          "metadata": {
            "tags": []
          }
        }
      ]
    },
    {
      "cell_type": "code",
      "metadata": {
        "id": "sSdnLOOE3x1i",
        "colab_type": "code",
        "colab": {
          "base_uri": "https://localhost:8080/",
          "height": 549
        },
        "outputId": "8a62b368-63cb-4313-8288-8ca9cce5b9b9"
      },
      "source": [
        "# Filling missing values\n",
        "df_data['Fare'] = df_data['Fare'].fillna(df_data['Fare'].median())\n",
        "\n",
        "# Making Bins\n",
        "df_data['FareBin_4'] = pd.qcut(df_data['Fare'], 4)\n",
        "df_data['FareBin_5'] = pd.qcut(df_data['Fare'], 5)\n",
        "df_data['FareBin_6'] = pd.qcut(df_data['Fare'], 6)\n",
        "\n",
        "label = LabelEncoder()\n",
        "df_data['FareBin_Code_4'] = label.fit_transform(df_data['FareBin_4'])\n",
        "df_data['FareBin_Code_5'] = label.fit_transform(df_data['FareBin_5'])\n",
        "df_data['FareBin_Code_6'] = label.fit_transform(df_data['FareBin_6'])\n",
        "\n",
        "# cross tab\n",
        "df_4 = pd.crosstab(df_data['FareBin_Code_4'],df_data['Pclass'])\n",
        "df_5 = pd.crosstab(df_data['FareBin_Code_5'],df_data['Pclass'])\n",
        "df_6 = pd.crosstab(df_data['FareBin_Code_6'],df_data['Pclass'])\n",
        "\n",
        "display_side_by_side(df_4,df_5,df_6)\n",
        "\n",
        "# plots\n",
        "fig, [ax1, ax2, ax3] = plt.subplots(1, 3,sharey=True)\n",
        "fig.set_figwidth(18)\n",
        "for axi in [ax1, ax2, ax3]:\n",
        "    axi.axhline(0.5,linestyle='dashed', c='black',alpha = .3)\n",
        "g1 = sns.factorplot(x='FareBin_Code_4', y=\"Survived\", data=df_data,kind='bar',ax=ax1)\n",
        "g2 = sns.factorplot(x='FareBin_Code_5', y=\"Survived\", data=df_data,kind='bar',ax=ax2)\n",
        "g3 = sns.factorplot(x='FareBin_Code_6', y=\"Survived\", data=df_data,kind='bar',ax=ax3)\n",
        "# close FacetGrid object\n",
        "plt.close(g1.fig)\n",
        "plt.close(g2.fig)\n",
        "plt.close(g3.fig)"
      ],
      "execution_count": 212,
      "outputs": [
        {
          "output_type": "display_data",
          "data": {
            "text/html": [
              "<table style=\"display:inline\" border=\"1\" class=\"dataframe\">\n",
              "  <thead>\n",
              "    <tr style=\"text-align: right;\">\n",
              "      <th>Pclass</th>\n",
              "      <th>1</th>\n",
              "      <th>2</th>\n",
              "      <th>3</th>\n",
              "    </tr>\n",
              "    <tr>\n",
              "      <th>FareBin_Code_4</th>\n",
              "      <th></th>\n",
              "      <th></th>\n",
              "      <th></th>\n",
              "    </tr>\n",
              "  </thead>\n",
              "  <tbody>\n",
              "    <tr>\n",
              "      <th>0</th>\n",
              "      <td>8</td>\n",
              "      <td>6</td>\n",
              "      <td>323</td>\n",
              "    </tr>\n",
              "    <tr>\n",
              "      <th>1</th>\n",
              "      <td>0</td>\n",
              "      <td>128</td>\n",
              "      <td>193</td>\n",
              "    </tr>\n",
              "    <tr>\n",
              "      <th>2</th>\n",
              "      <td>77</td>\n",
              "      <td>104</td>\n",
              "      <td>147</td>\n",
              "    </tr>\n",
              "    <tr>\n",
              "      <th>3</th>\n",
              "      <td>238</td>\n",
              "      <td>39</td>\n",
              "      <td>46</td>\n",
              "    </tr>\n",
              "  </tbody>\n",
              "</table style=\"display:inline\"><table style=\"display:inline\" border=\"1\" class=\"dataframe\">\n",
              "  <thead>\n",
              "    <tr style=\"text-align: right;\">\n",
              "      <th>Pclass</th>\n",
              "      <th>1</th>\n",
              "      <th>2</th>\n",
              "      <th>3</th>\n",
              "    </tr>\n",
              "    <tr>\n",
              "      <th>FareBin_Code_5</th>\n",
              "      <th></th>\n",
              "      <th></th>\n",
              "      <th></th>\n",
              "    </tr>\n",
              "  </thead>\n",
              "  <tbody>\n",
              "    <tr>\n",
              "      <th>0</th>\n",
              "      <td>8</td>\n",
              "      <td>6</td>\n",
              "      <td>261</td>\n",
              "    </tr>\n",
              "    <tr>\n",
              "      <th>1</th>\n",
              "      <td>0</td>\n",
              "      <td>36</td>\n",
              "      <td>218</td>\n",
              "    </tr>\n",
              "    <tr>\n",
              "      <th>2</th>\n",
              "      <td>0</td>\n",
              "      <td>124</td>\n",
              "      <td>132</td>\n",
              "    </tr>\n",
              "    <tr>\n",
              "      <th>3</th>\n",
              "      <td>95</td>\n",
              "      <td>99</td>\n",
              "      <td>71</td>\n",
              "    </tr>\n",
              "    <tr>\n",
              "      <th>4</th>\n",
              "      <td>220</td>\n",
              "      <td>12</td>\n",
              "      <td>27</td>\n",
              "    </tr>\n",
              "  </tbody>\n",
              "</table style=\"display:inline\"><table style=\"display:inline\" border=\"1\" class=\"dataframe\">\n",
              "  <thead>\n",
              "    <tr style=\"text-align: right;\">\n",
              "      <th>Pclass</th>\n",
              "      <th>1</th>\n",
              "      <th>2</th>\n",
              "      <th>3</th>\n",
              "    </tr>\n",
              "    <tr>\n",
              "      <th>FareBin_Code_6</th>\n",
              "      <th></th>\n",
              "      <th></th>\n",
              "      <th></th>\n",
              "    </tr>\n",
              "  </thead>\n",
              "  <tbody>\n",
              "    <tr>\n",
              "      <th>0</th>\n",
              "      <td>8</td>\n",
              "      <td>6</td>\n",
              "      <td>222</td>\n",
              "    </tr>\n",
              "    <tr>\n",
              "      <th>1</th>\n",
              "      <td>0</td>\n",
              "      <td>0</td>\n",
              "      <td>218</td>\n",
              "    </tr>\n",
              "    <tr>\n",
              "      <th>2</th>\n",
              "      <td>0</td>\n",
              "      <td>128</td>\n",
              "      <td>76</td>\n",
              "    </tr>\n",
              "    <tr>\n",
              "      <th>3</th>\n",
              "      <td>14</td>\n",
              "      <td>83</td>\n",
              "      <td>128</td>\n",
              "    </tr>\n",
              "    <tr>\n",
              "      <th>4</th>\n",
              "      <td>118</td>\n",
              "      <td>48</td>\n",
              "      <td>46</td>\n",
              "    </tr>\n",
              "    <tr>\n",
              "      <th>5</th>\n",
              "      <td>183</td>\n",
              "      <td>12</td>\n",
              "      <td>19</td>\n",
              "    </tr>\n",
              "  </tbody>\n",
              "</table style=\"display:inline\">"
            ]
          },
          "metadata": {
            "tags": []
          }
        },
        {
          "output_type": "display_data",
          "data": {
            "image/png": "[encoded data removed]",
            "text/plain": [
              "<Figure size 1296x288 with 3 Axes>"
            ]
          },
          "metadata": {
            "tags": []
          }
        }
      ]
    },
    {
      "cell_type": "markdown",
      "metadata": {
        "id": "4DzIEhkXCMPL",
        "colab_type": "text"
      },
      "source": [
        "圖中虛線表示為機器隨機亂猜，應該要有50%的準確率，如果我們的特徵工程沒辦法將各區間分離開50%，那就沒什麼意義。"
      ]
    },
    {
      "cell_type": "code",
      "metadata": {
        "id": "5_W8HFg5-dWt",
        "colab_type": "code",
        "colab": {
          "base_uri": "https://localhost:8080/",
          "height": 82
        },
        "outputId": "939b8e12-9008-4ad9-94ba-16c5f069f1c5"
      },
      "source": [
        "# splits again beacuse we just engineered new feature\n",
        "df_train = df_data[:len(df_train)]\n",
        "df_test = df_data[len(df_train):]\n",
        "# Training set and labels\n",
        "X = df_train.drop(labels=['Survived','PassengerId'],axis=1)\n",
        "Y = df_train['Survived']\n",
        "# show columns\n",
        "X.columns"
      ],
      "execution_count": 45,
      "outputs": [
        {
          "output_type": "execute_result",
          "data": {
            "text/plain": [
              "Index(['Age', 'Cabin', 'Embarked', 'Fare', 'Name', 'Parch', 'Pclass', 'Sex',\n",
              "       'SibSp', 'Ticket', 'Sex_Code', 'Log_Fare', 'FareBin_4', 'FareBin_5',\n",
              "       'FareBin_6', 'FareBin_Code_4', 'FareBin_Code_5', 'FareBin_Code_6'],\n",
              "      dtype='object')"
            ]
          },
          "metadata": {
            "tags": []
          },
          "execution_count": 45
        }
      ]
    },
    {
      "cell_type": "markdown",
      "metadata": {
        "id": "zwYM2sVXCv81",
        "colab_type": "text"
      },
      "source": [
        "利用前向選擇法(RFE)做特徵選擇，關於特徵選擇的方法我們有幾個選項，一是用單變數的Chi square、或是information gain，但RFE可以考慮到特徵之間的交互作用，缺點是需要較大的運算資源，這點由於我們的資料集比較少而可以獲得緩解"
      ]
    },
    {
      "cell_type": "markdown",
      "metadata": {
        "id": "T5VuOff2Otbe",
        "colab_type": "text"
      },
      "source": [
        "The size of grid_scores_ is equal to ceil((n_features - min_features_to_select) / step) + 1, where step is the number of features removed at each iteration."
      ]
    },
    {
      "cell_type": "code",
      "metadata": {
        "id": "Q446yIs8Bxm7",
        "colab_type": "code",
        "colab": {
          "base_uri": "https://localhost:8080/",
          "height": 197
        },
        "outputId": "e6bf34c1-4b0e-4711-d4d8-d0aba4b95c41"
      },
      "source": [
        "compare = ['Sex_Code','Pclass','FareBin_Code_4','FareBin_Code_5','FareBin_Code_6']\n",
        "selector = RFECV(RandomForestClassifier(n_estimators=250,min_samples_split=20),cv=10,n_jobs=-1)\n",
        "# selector.fit_transform(X[compare], Y)\n",
        "selector.fit(X[compare], Y)\n",
        "selector.transform(X[compare])\n",
        "\n",
        "print(selector.estimator_)\n",
        "print(selector.n_features_)\n",
        "print(selector.support_)\n",
        "print(selector.ranking_)\n",
        "print(selector.grid_scores_*100) # cv scores of each feature \"subset\""
      ],
      "execution_count": 53,
      "outputs": [
        {
          "output_type": "stream",
          "text": [
            "RandomForestClassifier(bootstrap=True, class_weight=None, criterion='gini',\n",
            "                       max_depth=None, max_features='auto', max_leaf_nodes=None,\n",
            "                       min_impurity_decrease=0.0, min_impurity_split=None,\n",
            "                       min_samples_leaf=1, min_samples_split=20,\n",
            "                       min_weight_fraction_leaf=0.0, n_estimators=250,\n",
            "                       n_jobs=None, oob_score=False, random_state=None,\n",
            "                       verbose=0, warm_start=False)\n",
            "5\n",
            "[ True  True  True  True  True]\n",
            "[1 1 1 1 1]\n",
            "[78.66981614 77.33398593 79.34774713 79.24293497 80.25544774]\n"
          ],
          "name": "stdout"
        }
      ]
    },
    {
      "cell_type": "code",
      "metadata": {
        "id": "BgOvGQTuD1FX",
        "colab_type": "code",
        "colab": {}
      },
      "source": [
        "score_b4,score_b5, score_b6 = [], [], []\n",
        "seeds = 10\n",
        "for i in range(seeds):\n",
        "    diff_cv = StratifiedKFold(n_splits=10,shuffle=True,random_state=i)\n",
        "    selector = RFECV(RandomForestClassifier(random_state=i,n_estimators=250,min_samples_split=20),cv=diff_cv,n_jobs=-1)\n",
        "    selector.fit(X[compare], Y)\n",
        "    score_b4.append(selector.grid_scores_[2])\n",
        "    score_b5.append(selector.grid_scores_[3])\n",
        "    score_b6.append(selector.grid_scores_[4])"
      ],
      "execution_count": 0,
      "outputs": []
    },
    {
      "cell_type": "code",
      "metadata": {
        "id": "wdIMJ1UIFX14",
        "colab_type": "code",
        "colab": {
          "base_uri": "https://localhost:8080/",
          "height": 547
        },
        "outputId": "8f44e88a-d335-4d20-f8fe-0f109c906fcd"
      },
      "source": [
        "# to np.array\n",
        "score_list = [score_b4, score_b5, score_b6]\n",
        "for item in score_list:\n",
        "    item = np.array(item*100)\n",
        "\n",
        "# plot\n",
        "fig = plt.figure(figsize= (18,8) )\n",
        "ax = plt.gca()\n",
        "ax.plot(range(seeds), score_b4,'-ok',label='bins = 4')\n",
        "ax.plot(range(seeds), score_b5,'-og',label='bins = 5')\n",
        "ax.plot(range(seeds), score_b6,'-ob',label='bins = 6')\n",
        "ax.set_xlabel(\"Seed #\", fontsize = '14')\n",
        "ax.set_ylim(0.783,0.815)\n",
        "ax.set_ylabel(\"Accuracy\", fontsize = '14')\n",
        "ax.set_title('bins = 4 vs bins = 5 vs bins = 6', fontsize='20')\n",
        "plt.legend(fontsize = 14,loc='upper right')"
      ],
      "execution_count": 50,
      "outputs": [
        {
          "output_type": "execute_result",
          "data": {
            "text/plain": [
              "<matplotlib.legend.Legend at 0x7f36185bdcf8>"
            ]
          },
          "metadata": {
            "tags": []
          },
          "execution_count": 50
        },
        {
          "output_type": "display_data",
          "data": {
            "image/png": "[encoded data removed]",
            "text/plain": [
              "<Figure size 1296x576 with 1 Axes>"
            ]
          },
          "metadata": {
            "tags": []
          }
        }
      ]
    },
    {
      "cell_type": "code",
      "metadata": {
        "id": "U_tuqTWnDyW6",
        "colab_type": "code",
        "colab": {
          "base_uri": "https://localhost:8080/",
          "height": 65
        },
        "outputId": "8669810a-a28d-4745-d9fe-e888c8d3a83e"
      },
      "source": [
        "b4, b5, b6 = ['Sex_Code', 'Pclass','FareBin_Code_4'], ['Sex_Code','Pclass','FareBin_Code_5'],\\\n",
        "['Sex_Code','Pclass','FareBin_Code_6']\n",
        "b4_Model = RandomForestClassifier(random_state=2,n_estimators=250,min_samples_split=20,oob_score=True)\n",
        "b4_Model.fit(X[b4], Y)\n",
        "b5_Model = RandomForestClassifier(random_state=2,n_estimators=250,min_samples_split=20,oob_score=True)\n",
        "b5_Model.fit(X[b5], Y)\n",
        "b6_Model = RandomForestClassifier(random_state=2,n_estimators=250,min_samples_split=20,oob_score=True)\n",
        "b6_Model.fit(X[b6], Y)\n",
        "print('b4 oob score :%.5f' %(b4_Model.oob_score_),'   LB_Public : 0.7790')\n",
        "print('b5 oob score :%.5f '%(b5_Model.oob_score_),' LB_Public : 0.79425')\n",
        "print('b6 oob score : %.5f' %(b6_Model.oob_score_), '  LB_Public : 0.77033')"
      ],
      "execution_count": 48,
      "outputs": [
        {
          "output_type": "stream",
          "text": [
            "b4 oob score :0.80584    LB_Public : 0.7790\n",
            "b5 oob score :0.81033   LB_Public : 0.79425\n",
            "b6 oob score : 0.80135   LB_Public : 0.77033\n"
          ],
          "name": "stdout"
        }
      ]
    },
    {
      "cell_type": "markdown",
      "metadata": {
        "id": "7T6gkn7PInqO",
        "colab_type": "text"
      },
      "source": [
        "## Connected Survival"
      ]
    },
    {
      "cell_type": "markdown",
      "metadata": {
        "id": "lhTEHieAQt78",
        "colab_type": "text"
      },
      "source": [
        "發現了乘客持有相同的船票意味著他們可能是家人或是朋友，而在訓練集上這些互相有連結的人常常是一起活下來或是一起喪命"
      ]
    },
    {
      "cell_type": "code",
      "metadata": {
        "id": "-p2cxDe-IqTy",
        "colab_type": "code",
        "colab": {
          "base_uri": "https://localhost:8080/",
          "height": 98
        },
        "outputId": "f0275cc1-7f7e-419f-c506-89f2d9ca3a94"
      },
      "source": [
        "df_train['Ticket'].describe()"
      ],
      "execution_count": 56,
      "outputs": [
        {
          "output_type": "execute_result",
          "data": {
            "text/plain": [
              "count      891\n",
              "unique     681\n",
              "top       1601\n",
              "freq         7\n",
              "Name: Ticket, dtype: object"
            ]
          },
          "metadata": {
            "tags": []
          },
          "execution_count": 56
        }
      ]
    },
    {
      "cell_type": "code",
      "metadata": {
        "id": "Xmjce3YfWumU",
        "colab_type": "code",
        "colab": {}
      },
      "source": [
        "# Family_size\n",
        "df_data['Family_size'] = df_data['SibSp'] + df_data['Parch'] + 1"
      ],
      "execution_count": 0,
      "outputs": []
    },
    {
      "cell_type": "code",
      "metadata": {
        "id": "t3IFQnN9X34X",
        "colab_type": "code",
        "colab": {
          "base_uri": "https://localhost:8080/",
          "height": 475
        },
        "outputId": "844a9e96-4e3f-49ff-b669-80e09f627a7e"
      },
      "source": [
        "deplicate_ticket = []\n",
        "for tk in df_data.Ticket.unique():\n",
        "    tem = df_data.loc[df_data.Ticket == tk, 'Fare']\n",
        "    #print(tem.count())\n",
        "    if tem.count() > 1:\n",
        "        #print(df_data.loc[df_data.Ticket == tk,['Name','Ticket','Fare']])\n",
        "        deplicate_ticket.append(df_data.loc[df_data.Ticket == tk,['Name','Ticket','Fare','Cabin','Family_size','Survived']])\n",
        "deplicate_ticket = pd.concat(deplicate_ticket)\n",
        "deplicate_ticket.head(14)"
      ],
      "execution_count": 61,
      "outputs": [
        {
          "output_type": "execute_result",
          "data": {
            "text/html": [
              "<div>\n",
              "<style scoped>\n",
              "    .dataframe tbody tr th:only-of-type {\n",
              "        vertical-align: middle;\n",
              "    }\n",
              "\n",
              "    .dataframe tbody tr th {\n",
              "        vertical-align: top;\n",
              "    }\n",
              "\n",
              "    .dataframe thead th {\n",
              "        text-align: right;\n",
              "    }\n",
              "</style>\n",
              "<table border=\"1\" class=\"dataframe\">\n",
              "  <thead>\n",
              "    <tr style=\"text-align: right;\">\n",
              "      <th></th>\n",
              "      <th>Name</th>\n",
              "      <th>Ticket</th>\n",
              "      <th>Fare</th>\n",
              "      <th>Cabin</th>\n",
              "      <th>Family_size</th>\n",
              "      <th>Survived</th>\n",
              "    </tr>\n",
              "  </thead>\n",
              "  <tbody>\n",
              "    <tr>\n",
              "      <th>1</th>\n",
              "      <td>Cumings, Mrs. John Bradley (Florence Briggs Th...</td>\n",
              "      <td>PC 17599</td>\n",
              "      <td>71.2833</td>\n",
              "      <td>C85</td>\n",
              "      <td>2</td>\n",
              "      <td>1.0</td>\n",
              "    </tr>\n",
              "    <tr>\n",
              "      <th>234</th>\n",
              "      <td>Cumings, Mr. John Bradley</td>\n",
              "      <td>PC 17599</td>\n",
              "      <td>71.2833</td>\n",
              "      <td>C85</td>\n",
              "      <td>2</td>\n",
              "      <td>NaN</td>\n",
              "    </tr>\n",
              "    <tr>\n",
              "      <th>3</th>\n",
              "      <td>Futrelle, Mrs. Jacques Heath (Lily May Peel)</td>\n",
              "      <td>113803</td>\n",
              "      <td>53.1000</td>\n",
              "      <td>C123</td>\n",
              "      <td>2</td>\n",
              "      <td>1.0</td>\n",
              "    </tr>\n",
              "    <tr>\n",
              "      <th>137</th>\n",
              "      <td>Futrelle, Mr. Jacques Heath</td>\n",
              "      <td>113803</td>\n",
              "      <td>53.1000</td>\n",
              "      <td>C123</td>\n",
              "      <td>2</td>\n",
              "      <td>0.0</td>\n",
              "    </tr>\n",
              "    <tr>\n",
              "      <th>6</th>\n",
              "      <td>McCarthy, Mr. Timothy J</td>\n",
              "      <td>17463</td>\n",
              "      <td>51.8625</td>\n",
              "      <td>E46</td>\n",
              "      <td>1</td>\n",
              "      <td>0.0</td>\n",
              "    </tr>\n",
              "    <tr>\n",
              "      <th>146</th>\n",
              "      <td>Hilliard, Mr. Herbert Henry</td>\n",
              "      <td>17463</td>\n",
              "      <td>51.8625</td>\n",
              "      <td>E46</td>\n",
              "      <td>1</td>\n",
              "      <td>NaN</td>\n",
              "    </tr>\n",
              "    <tr>\n",
              "      <th>7</th>\n",
              "      <td>Palsson, Master. Gosta Leonard</td>\n",
              "      <td>349909</td>\n",
              "      <td>21.0750</td>\n",
              "      <td>NaN</td>\n",
              "      <td>5</td>\n",
              "      <td>0.0</td>\n",
              "    </tr>\n",
              "    <tr>\n",
              "      <th>24</th>\n",
              "      <td>Palsson, Miss. Torborg Danira</td>\n",
              "      <td>349909</td>\n",
              "      <td>21.0750</td>\n",
              "      <td>NaN</td>\n",
              "      <td>5</td>\n",
              "      <td>0.0</td>\n",
              "    </tr>\n",
              "    <tr>\n",
              "      <th>374</th>\n",
              "      <td>Palsson, Miss. Stina Viola</td>\n",
              "      <td>349909</td>\n",
              "      <td>21.0750</td>\n",
              "      <td>NaN</td>\n",
              "      <td>5</td>\n",
              "      <td>0.0</td>\n",
              "    </tr>\n",
              "    <tr>\n",
              "      <th>567</th>\n",
              "      <td>Palsson, Mrs. Nils (Alma Cornelia Berglund)</td>\n",
              "      <td>349909</td>\n",
              "      <td>21.0750</td>\n",
              "      <td>NaN</td>\n",
              "      <td>5</td>\n",
              "      <td>0.0</td>\n",
              "    </tr>\n",
              "    <tr>\n",
              "      <th>389</th>\n",
              "      <td>Palsson, Master. Paul Folke</td>\n",
              "      <td>349909</td>\n",
              "      <td>21.0750</td>\n",
              "      <td>NaN</td>\n",
              "      <td>5</td>\n",
              "      <td>NaN</td>\n",
              "    </tr>\n",
              "    <tr>\n",
              "      <th>8</th>\n",
              "      <td>Johnson, Mrs. Oscar W (Elisabeth Vilhelmina Berg)</td>\n",
              "      <td>347742</td>\n",
              "      <td>11.1333</td>\n",
              "      <td>NaN</td>\n",
              "      <td>3</td>\n",
              "      <td>1.0</td>\n",
              "    </tr>\n",
              "    <tr>\n",
              "      <th>172</th>\n",
              "      <td>Johnson, Miss. Eleanor Ileen</td>\n",
              "      <td>347742</td>\n",
              "      <td>11.1333</td>\n",
              "      <td>NaN</td>\n",
              "      <td>3</td>\n",
              "      <td>1.0</td>\n",
              "    </tr>\n",
              "    <tr>\n",
              "      <th>869</th>\n",
              "      <td>Johnson, Master. Harold Theodor</td>\n",
              "      <td>347742</td>\n",
              "      <td>11.1333</td>\n",
              "      <td>NaN</td>\n",
              "      <td>3</td>\n",
              "      <td>1.0</td>\n",
              "    </tr>\n",
              "  </tbody>\n",
              "</table>\n",
              "</div>"
            ],
            "text/plain": [
              "                                                  Name  ... Survived\n",
              "1    Cumings, Mrs. John Bradley (Florence Briggs Th...  ...      1.0\n",
              "234                          Cumings, Mr. John Bradley  ...      NaN\n",
              "3         Futrelle, Mrs. Jacques Heath (Lily May Peel)  ...      1.0\n",
              "137                        Futrelle, Mr. Jacques Heath  ...      0.0\n",
              "6                              McCarthy, Mr. Timothy J  ...      0.0\n",
              "146                        Hilliard, Mr. Herbert Henry  ...      NaN\n",
              "7                       Palsson, Master. Gosta Leonard  ...      0.0\n",
              "24                       Palsson, Miss. Torborg Danira  ...      0.0\n",
              "374                         Palsson, Miss. Stina Viola  ...      0.0\n",
              "567        Palsson, Mrs. Nils (Alma Cornelia Berglund)  ...      0.0\n",
              "389                        Palsson, Master. Paul Folke  ...      NaN\n",
              "8    Johnson, Mrs. Oscar W (Elisabeth Vilhelmina Berg)  ...      1.0\n",
              "172                       Johnson, Miss. Eleanor Ileen  ...      1.0\n",
              "869                    Johnson, Master. Harold Theodor  ...      1.0\n",
              "\n",
              "[14 rows x 6 columns]"
            ]
          },
          "metadata": {
            "tags": []
          },
          "execution_count": 61
        }
      ]
    },
    {
      "cell_type": "code",
      "metadata": {
        "id": "MATMxbeeX_Ye",
        "colab_type": "code",
        "colab": {
          "base_uri": "https://localhost:8080/",
          "height": 555
        },
        "outputId": "48682936-1eed-4f8d-df6b-b853b8e826b3"
      },
      "source": [
        "df_fri = deplicate_ticket.loc[(deplicate_ticket.Family_size == 1) & (deplicate_ticket.Survived.notnull())].head(7)\n",
        "df_fami = deplicate_ticket.loc[(deplicate_ticket.Family_size > 1) & (deplicate_ticket.Survived.notnull())].head(7)\n",
        "display(df_fri,df_fami)\n",
        "print('people keep the same ticket: %.0f '%len(deplicate_ticket))\n",
        "print('friends: %.0f '%len(deplicate_ticket[deplicate_ticket.Family_size == 1]))\n",
        "print('families: %.0f '%len(deplicate_ticket[deplicate_ticket.Family_size > 1]))"
      ],
      "execution_count": 62,
      "outputs": [
        {
          "output_type": "display_data",
          "data": {
            "text/html": [
              "<div>\n",
              "<style scoped>\n",
              "    .dataframe tbody tr th:only-of-type {\n",
              "        vertical-align: middle;\n",
              "    }\n",
              "\n",
              "    .dataframe tbody tr th {\n",
              "        vertical-align: top;\n",
              "    }\n",
              "\n",
              "    .dataframe thead th {\n",
              "        text-align: right;\n",
              "    }\n",
              "</style>\n",
              "<table border=\"1\" class=\"dataframe\">\n",
              "  <thead>\n",
              "    <tr style=\"text-align: right;\">\n",
              "      <th></th>\n",
              "      <th>Name</th>\n",
              "      <th>Ticket</th>\n",
              "      <th>Fare</th>\n",
              "      <th>Cabin</th>\n",
              "      <th>Family_size</th>\n",
              "      <th>Survived</th>\n",
              "    </tr>\n",
              "  </thead>\n",
              "  <tbody>\n",
              "    <tr>\n",
              "      <th>6</th>\n",
              "      <td>McCarthy, Mr. Timothy J</td>\n",
              "      <td>17463</td>\n",
              "      <td>51.8625</td>\n",
              "      <td>E46</td>\n",
              "      <td>1</td>\n",
              "      <td>0.0</td>\n",
              "    </tr>\n",
              "    <tr>\n",
              "      <th>20</th>\n",
              "      <td>Fynney, Mr. Joseph J</td>\n",
              "      <td>239865</td>\n",
              "      <td>26.0000</td>\n",
              "      <td>NaN</td>\n",
              "      <td>1</td>\n",
              "      <td>0.0</td>\n",
              "    </tr>\n",
              "    <tr>\n",
              "      <th>791</th>\n",
              "      <td>Gaskell, Mr. Alfred</td>\n",
              "      <td>239865</td>\n",
              "      <td>26.0000</td>\n",
              "      <td>NaN</td>\n",
              "      <td>1</td>\n",
              "      <td>0.0</td>\n",
              "    </tr>\n",
              "    <tr>\n",
              "      <th>195</th>\n",
              "      <td>Lurette, Miss. Elise</td>\n",
              "      <td>PC 17569</td>\n",
              "      <td>146.5208</td>\n",
              "      <td>B80</td>\n",
              "      <td>1</td>\n",
              "      <td>1.0</td>\n",
              "    </tr>\n",
              "    <tr>\n",
              "      <th>681</th>\n",
              "      <td>Hassab, Mr. Hammad</td>\n",
              "      <td>PC 17572</td>\n",
              "      <td>76.7292</td>\n",
              "      <td>D49</td>\n",
              "      <td>1</td>\n",
              "      <td>1.0</td>\n",
              "    </tr>\n",
              "    <tr>\n",
              "      <th>61</th>\n",
              "      <td>Icard, Miss. Amelie</td>\n",
              "      <td>113572</td>\n",
              "      <td>80.0000</td>\n",
              "      <td>B28</td>\n",
              "      <td>1</td>\n",
              "      <td>1.0</td>\n",
              "    </tr>\n",
              "    <tr>\n",
              "      <th>829</th>\n",
              "      <td>Stone, Mrs. George Nelson (Martha Evelyn)</td>\n",
              "      <td>113572</td>\n",
              "      <td>80.0000</td>\n",
              "      <td>B28</td>\n",
              "      <td>1</td>\n",
              "      <td>1.0</td>\n",
              "    </tr>\n",
              "  </tbody>\n",
              "</table>\n",
              "</div>"
            ],
            "text/plain": [
              "                                          Name    Ticket  ...  Family_size Survived\n",
              "6                      McCarthy, Mr. Timothy J     17463  ...            1      0.0\n",
              "20                        Fynney, Mr. Joseph J    239865  ...            1      0.0\n",
              "791                        Gaskell, Mr. Alfred    239865  ...            1      0.0\n",
              "195                       Lurette, Miss. Elise  PC 17569  ...            1      1.0\n",
              "681                         Hassab, Mr. Hammad  PC 17572  ...            1      1.0\n",
              "61                         Icard, Miss. Amelie    113572  ...            1      1.0\n",
              "829  Stone, Mrs. George Nelson (Martha Evelyn)    113572  ...            1      1.0\n",
              "\n",
              "[7 rows x 6 columns]"
            ]
          },
          "metadata": {
            "tags": []
          }
        },
        {
          "output_type": "display_data",
          "data": {
            "text/html": [
              "<div>\n",
              "<style scoped>\n",
              "    .dataframe tbody tr th:only-of-type {\n",
              "        vertical-align: middle;\n",
              "    }\n",
              "\n",
              "    .dataframe tbody tr th {\n",
              "        vertical-align: top;\n",
              "    }\n",
              "\n",
              "    .dataframe thead th {\n",
              "        text-align: right;\n",
              "    }\n",
              "</style>\n",
              "<table border=\"1\" class=\"dataframe\">\n",
              "  <thead>\n",
              "    <tr style=\"text-align: right;\">\n",
              "      <th></th>\n",
              "      <th>Name</th>\n",
              "      <th>Ticket</th>\n",
              "      <th>Fare</th>\n",
              "      <th>Cabin</th>\n",
              "      <th>Family_size</th>\n",
              "      <th>Survived</th>\n",
              "    </tr>\n",
              "  </thead>\n",
              "  <tbody>\n",
              "    <tr>\n",
              "      <th>1</th>\n",
              "      <td>Cumings, Mrs. John Bradley (Florence Briggs Th...</td>\n",
              "      <td>PC 17599</td>\n",
              "      <td>71.2833</td>\n",
              "      <td>C85</td>\n",
              "      <td>2</td>\n",
              "      <td>1.0</td>\n",
              "    </tr>\n",
              "    <tr>\n",
              "      <th>3</th>\n",
              "      <td>Futrelle, Mrs. Jacques Heath (Lily May Peel)</td>\n",
              "      <td>113803</td>\n",
              "      <td>53.1000</td>\n",
              "      <td>C123</td>\n",
              "      <td>2</td>\n",
              "      <td>1.0</td>\n",
              "    </tr>\n",
              "    <tr>\n",
              "      <th>137</th>\n",
              "      <td>Futrelle, Mr. Jacques Heath</td>\n",
              "      <td>113803</td>\n",
              "      <td>53.1000</td>\n",
              "      <td>C123</td>\n",
              "      <td>2</td>\n",
              "      <td>0.0</td>\n",
              "    </tr>\n",
              "    <tr>\n",
              "      <th>7</th>\n",
              "      <td>Palsson, Master. Gosta Leonard</td>\n",
              "      <td>349909</td>\n",
              "      <td>21.0750</td>\n",
              "      <td>NaN</td>\n",
              "      <td>5</td>\n",
              "      <td>0.0</td>\n",
              "    </tr>\n",
              "    <tr>\n",
              "      <th>24</th>\n",
              "      <td>Palsson, Miss. Torborg Danira</td>\n",
              "      <td>349909</td>\n",
              "      <td>21.0750</td>\n",
              "      <td>NaN</td>\n",
              "      <td>5</td>\n",
              "      <td>0.0</td>\n",
              "    </tr>\n",
              "    <tr>\n",
              "      <th>374</th>\n",
              "      <td>Palsson, Miss. Stina Viola</td>\n",
              "      <td>349909</td>\n",
              "      <td>21.0750</td>\n",
              "      <td>NaN</td>\n",
              "      <td>5</td>\n",
              "      <td>0.0</td>\n",
              "    </tr>\n",
              "    <tr>\n",
              "      <th>567</th>\n",
              "      <td>Palsson, Mrs. Nils (Alma Cornelia Berglund)</td>\n",
              "      <td>349909</td>\n",
              "      <td>21.0750</td>\n",
              "      <td>NaN</td>\n",
              "      <td>5</td>\n",
              "      <td>0.0</td>\n",
              "    </tr>\n",
              "  </tbody>\n",
              "</table>\n",
              "</div>"
            ],
            "text/plain": [
              "                                                  Name  ... Survived\n",
              "1    Cumings, Mrs. John Bradley (Florence Briggs Th...  ...      1.0\n",
              "3         Futrelle, Mrs. Jacques Heath (Lily May Peel)  ...      1.0\n",
              "137                        Futrelle, Mr. Jacques Heath  ...      0.0\n",
              "7                       Palsson, Master. Gosta Leonard  ...      0.0\n",
              "24                       Palsson, Miss. Torborg Danira  ...      0.0\n",
              "374                         Palsson, Miss. Stina Viola  ...      0.0\n",
              "567        Palsson, Mrs. Nils (Alma Cornelia Berglund)  ...      0.0\n",
              "\n",
              "[7 rows x 6 columns]"
            ]
          },
          "metadata": {
            "tags": []
          }
        },
        {
          "output_type": "stream",
          "text": [
            "people keep the same ticket: 596 \n",
            "friends: 127 \n",
            "families: 469 \n"
          ],
          "name": "stdout"
        }
      ]
    },
    {
      "cell_type": "code",
      "metadata": {
        "id": "fQEgb1mLZvVK",
        "colab_type": "code",
        "colab": {
          "base_uri": "https://localhost:8080/",
          "height": 203
        },
        "outputId": "0633320e-de94-4be1-996f-6ed181a631a2"
      },
      "source": [
        "# the same ticket family or friends\n",
        "df_data['Connected_Survival'] = 0.5 # default \n",
        "for _, df_grp in df_data.groupby('Ticket'):\n",
        "    if (len(df_grp) > 1):\n",
        "        for idx, row in df_grp.iterrows():\n",
        "            smax = df_grp.drop(idx)['Survived'].max()\n",
        "            smin = df_grp.drop(idx)['Survived'].min()\n",
        "            passID = row['PassengerId']\n",
        "            if (smax == 1.0):\n",
        "                df_data.loc[df_data['PassengerId'] == passID, 'Connected_Survival'] = 1\n",
        "            elif (smin==0.0):\n",
        "                df_data.loc[df_data['PassengerId'] == passID, 'Connected_Survival'] = 0\n",
        "#print\n",
        "print('people keep the same ticket: %.0f '%len(deplicate_ticket))\n",
        "print(\"people have connected information : %.0f\" \n",
        "      %(df_data[df_data['Connected_Survival']!=0.5].shape[0]))\n",
        "df_data.groupby('Connected_Survival')[['Survived']].mean().round(3)"
      ],
      "execution_count": 76,
      "outputs": [
        {
          "output_type": "stream",
          "text": [
            "people keep the same ticket: 596 \n",
            "people have connected information : 496\n"
          ],
          "name": "stdout"
        },
        {
          "output_type": "execute_result",
          "data": {
            "text/html": [
              "<div>\n",
              "<style scoped>\n",
              "    .dataframe tbody tr th:only-of-type {\n",
              "        vertical-align: middle;\n",
              "    }\n",
              "\n",
              "    .dataframe tbody tr th {\n",
              "        vertical-align: top;\n",
              "    }\n",
              "\n",
              "    .dataframe thead th {\n",
              "        text-align: right;\n",
              "    }\n",
              "</style>\n",
              "<table border=\"1\" class=\"dataframe\">\n",
              "  <thead>\n",
              "    <tr style=\"text-align: right;\">\n",
              "      <th></th>\n",
              "      <th>Survived</th>\n",
              "    </tr>\n",
              "    <tr>\n",
              "      <th>Connected_Survival</th>\n",
              "      <th></th>\n",
              "    </tr>\n",
              "  </thead>\n",
              "  <tbody>\n",
              "    <tr>\n",
              "      <th>0.0</th>\n",
              "      <td>0.225</td>\n",
              "    </tr>\n",
              "    <tr>\n",
              "      <th>0.5</th>\n",
              "      <td>0.298</td>\n",
              "    </tr>\n",
              "    <tr>\n",
              "      <th>1.0</th>\n",
              "      <td>0.728</td>\n",
              "    </tr>\n",
              "  </tbody>\n",
              "</table>\n",
              "</div>"
            ],
            "text/plain": [
              "                    Survived\n",
              "Connected_Survival          \n",
              "0.0                    0.225\n",
              "0.5                    0.298\n",
              "1.0                    0.728"
            ]
          },
          "metadata": {
            "tags": []
          },
          "execution_count": 76
        }
      ]
    },
    {
      "cell_type": "code",
      "metadata": {
        "id": "7G6B1u6WeGOl",
        "colab_type": "code",
        "colab": {
          "base_uri": "https://localhost:8080/",
          "height": 115
        },
        "outputId": "8b6ca4dc-11e1-4414-bd6e-39d223b4558a"
      },
      "source": [
        "for a, b in df_data.groupby('Ticket'):\n",
        "    pass\n",
        "print(a) # index\n",
        "print(b)"
      ],
      "execution_count": 77,
      "outputs": [
        {
          "output_type": "stream",
          "text": [
            "WE/P 5735\n",
            "      Age Cabin Embarked  ...  FareBin_Code_6 Family_size  Connected_Survival\n",
            "540  36.0   B22        S  ...               5           3                 0.0\n",
            "745  70.0   B22        S  ...               5           3                 1.0\n",
            "\n",
            "[2 rows x 22 columns]\n"
          ],
          "name": "stdout"
        }
      ]
    },
    {
      "cell_type": "code",
      "metadata": {
        "id": "aDcg5p2Yeb76",
        "colab_type": "code",
        "colab": {
          "base_uri": "https://localhost:8080/",
          "height": 807
        },
        "outputId": "d5f0809e-9386-4bcc-86bc-11fcc4001a0c"
      },
      "source": [
        "for p, q in b.iterrows():\n",
        "    print(p) # index\n",
        "    print(q)"
      ],
      "execution_count": 78,
      "outputs": [
        {
          "output_type": "stream",
          "text": [
            "540\n",
            "Age                                        36\n",
            "Cabin                                     B22\n",
            "Embarked                                    S\n",
            "Fare                                       71\n",
            "Name                  Crosby, Miss. Harriet R\n",
            "Parch                                       2\n",
            "PassengerId                               541\n",
            "Pclass                                      1\n",
            "Sex                                    female\n",
            "SibSp                                       0\n",
            "Survived                                    1\n",
            "Ticket                              WE/P 5735\n",
            "Sex_Code                                    1\n",
            "Log_Fare                              1.85733\n",
            "FareBin_4                   (31.275, 512.329]\n",
            "FareBin_5                   (41.579, 512.329]\n",
            "FareBin_6                     (53.1, 512.329]\n",
            "FareBin_Code_4                              3\n",
            "FareBin_Code_5                              4\n",
            "FareBin_Code_6                              5\n",
            "Family_size                                 3\n",
            "Connected_Survival                          0\n",
            "Name: 540, dtype: object\n",
            "745\n",
            "Age                                             70\n",
            "Cabin                                          B22\n",
            "Embarked                                         S\n",
            "Fare                                            71\n",
            "Name                  Crosby, Capt. Edward Gifford\n",
            "Parch                                            1\n",
            "PassengerId                                    746\n",
            "Pclass                                           1\n",
            "Sex                                           male\n",
            "SibSp                                            1\n",
            "Survived                                         0\n",
            "Ticket                                   WE/P 5735\n",
            "Sex_Code                                         0\n",
            "Log_Fare                                   1.85733\n",
            "FareBin_4                        (31.275, 512.329]\n",
            "FareBin_5                        (41.579, 512.329]\n",
            "FareBin_6                          (53.1, 512.329]\n",
            "FareBin_Code_4                                   3\n",
            "FareBin_Code_5                                   4\n",
            "FareBin_Code_6                                   5\n",
            "Family_size                                      3\n",
            "Connected_Survival                               1\n",
            "Name: 745, dtype: object\n"
          ],
          "name": "stdout"
        }
      ]
    },
    {
      "cell_type": "code",
      "metadata": {
        "id": "2U2C5_IpdLgm",
        "colab_type": "code",
        "colab": {}
      },
      "source": [
        "df_train = df_data[:len(df_train)]\n",
        "df_test = df_data[len(df_train):]\n",
        "# Training set and labels\n",
        "X = df_train.drop(labels=['Survived','PassengerId'],axis=1)\n",
        "Y = df_train['Survived']"
      ],
      "execution_count": 0,
      "outputs": []
    },
    {
      "cell_type": "code",
      "metadata": {
        "id": "wuh87icXdwGD",
        "colab_type": "code",
        "colab": {
          "base_uri": "https://localhost:8080/",
          "height": 32
        },
        "outputId": "eb52978a-94c9-4ece-9037-0bcbf17daa1d"
      },
      "source": [
        "connect = ['Sex_Code','Pclass','FareBin_Code_5','Connected_Survival']\n",
        "connect_Model = RandomForestClassifier(random_state=2,n_estimators=250,min_samples_split=20\n",
        "                                       ,oob_score=True)\n",
        "connect_Model.fit(X[connect], Y)\n",
        "print('connect oob score :%.5f' %(connect_Model.oob_score_))"
      ],
      "execution_count": 108,
      "outputs": [
        {
          "output_type": "stream",
          "text": [
            "connect oob score :0.82043\n"
          ],
          "name": "stdout"
        }
      ]
    },
    {
      "cell_type": "markdown",
      "metadata": {
        "id": "fT9WtfGbfh7l",
        "colab_type": "text"
      },
      "source": [
        "## Age"
      ]
    },
    {
      "cell_type": "code",
      "metadata": {
        "id": "vguAqP7tfk_V",
        "colab_type": "code",
        "colab": {
          "base_uri": "https://localhost:8080/",
          "height": 457
        },
        "outputId": "11f78d0b-86d9-473d-cccf-4467f8d5f1a1"
      },
      "source": [
        "df_data['Has_Age'] = df_data['Age'].isnull().map(lambda x : 0 if x == True else 1)\n",
        "fig, [ax1, ax2] = plt.subplots(1, 2)\n",
        "fig.set_figwidth(18)\n",
        "ax1 = sns.countplot(df_data['Pclass'],hue=df_data['Has_Age'],ax=ax1)\n",
        "ax2 = sns.countplot(df_data['Sex'],hue=df_data['Has_Age'],ax=ax2)\n",
        "pd.crosstab(df_data['Has_Age'],df_data['Sex'],margins=True)"
      ],
      "execution_count": 113,
      "outputs": [
        {
          "output_type": "execute_result",
          "data": {
            "text/html": [
              "<div>\n",
              "<style scoped>\n",
              "    .dataframe tbody tr th:only-of-type {\n",
              "        vertical-align: middle;\n",
              "    }\n",
              "\n",
              "    .dataframe tbody tr th {\n",
              "        vertical-align: top;\n",
              "    }\n",
              "\n",
              "    .dataframe thead th {\n",
              "        text-align: right;\n",
              "    }\n",
              "</style>\n",
              "<table border=\"1\" class=\"dataframe\">\n",
              "  <thead>\n",
              "    <tr style=\"text-align: right;\">\n",
              "      <th>Sex</th>\n",
              "      <th>female</th>\n",
              "      <th>male</th>\n",
              "      <th>All</th>\n",
              "    </tr>\n",
              "    <tr>\n",
              "      <th>Has_Age</th>\n",
              "      <th></th>\n",
              "      <th></th>\n",
              "      <th></th>\n",
              "    </tr>\n",
              "  </thead>\n",
              "  <tbody>\n",
              "    <tr>\n",
              "      <th>0</th>\n",
              "      <td>78</td>\n",
              "      <td>185</td>\n",
              "      <td>263</td>\n",
              "    </tr>\n",
              "    <tr>\n",
              "      <th>1</th>\n",
              "      <td>388</td>\n",
              "      <td>658</td>\n",
              "      <td>1046</td>\n",
              "    </tr>\n",
              "    <tr>\n",
              "      <th>All</th>\n",
              "      <td>466</td>\n",
              "      <td>843</td>\n",
              "      <td>1309</td>\n",
              "    </tr>\n",
              "  </tbody>\n",
              "</table>\n",
              "</div>"
            ],
            "text/plain": [
              "Sex      female  male   All\n",
              "Has_Age                    \n",
              "0            78   185   263\n",
              "1           388   658  1046\n",
              "All         466   843  1309"
            ]
          },
          "metadata": {
            "tags": []
          },
          "execution_count": 113
        },
        {
          "output_type": "display_data",
          "data": {
            "image/png": "[encoded data removed]",
            "text/plain": [
              "<Figure size 1296x288 with 2 Axes>"
            ]
          },
          "metadata": {
            "tags": []
          }
        }
      ]
    },
    {
      "cell_type": "markdown",
      "metadata": {
        "id": "NMzupn1EMaLc",
        "colab_type": "text"
      },
      "source": [
        "1,2艙之中，年齡對存活與否的影響:"
      ]
    },
    {
      "cell_type": "code",
      "metadata": {
        "id": "tvJHWGTRfoYZ",
        "colab_type": "code",
        "colab": {
          "base_uri": "https://localhost:8080/",
          "height": 607
        },
        "outputId": "8b410b6c-3f60-4c84-a431-aa22d3dedbc3"
      },
      "source": [
        "# Masks\n",
        "Mask_Has_Age_P12_Survived = ( (df_data.Has_Age == 1) & (df_data.Pclass != 3 ) & (df_data.Survived == 1) )\n",
        "Mask_Has_Age_P12_Dead = ( (df_data.Has_Age == 1) & (df_data.Pclass != 3 ) & (df_data.Survived == 0) )\n",
        "# Plot\n",
        "fig, ax = plt.subplots( figsize = (15,9) )\n",
        "ax = sns.distplot(df_data.loc[Mask_Has_Age_P12_Survived, 'Age'],kde=True,bins=10,norm_hist=True,label='Survived') \n",
        "ax = sns.distplot(df_data.loc[Mask_Has_Age_P12_Dead, 'Age'],kde=True,bins=10,norm_hist=True,label='Dead')\n",
        "ax.legend()\n",
        "ax.set_title('Age vs Survived in Pclass = 1 and  2',fontsize = 20)"
      ],
      "execution_count": 115,
      "outputs": [
        {
          "output_type": "execute_result",
          "data": {
            "text/plain": [
              "Text(0.5, 1.0, 'Age vs Survived in Pclass = 1 and  2')"
            ]
          },
          "metadata": {
            "tags": []
          },
          "execution_count": 115
        },
        {
          "output_type": "display_data",
          "data": {
            "image/png": "[encoded data removed]",
            "text/plain": [
              "<Figure size 1080x648 with 1 Axes>"
            ]
          },
          "metadata": {
            "tags": []
          }
        }
      ]
    },
    {
      "cell_type": "code",
      "metadata": {
        "id": "rVZknwxxf4_D",
        "colab_type": "code",
        "colab": {
          "base_uri": "https://localhost:8080/",
          "height": 131
        },
        "outputId": "7dbfe6b9-36dc-4a04-849f-416d8c0100d0"
      },
      "source": [
        "# extracted title using name\n",
        "df_data['Title'] = df_data.Name.str.extract('([A-Za-z]+)\\.', expand=False)\n",
        "df_data['Title'] = df_data['Title'].replace(['Capt', 'Col', 'Countess', 'Don',\n",
        "                                               'Dr', 'Dona', 'Jonkheer', \n",
        "                                                'Major','Rev','Sir'],'Rare') \n",
        "df_data['Title'] = df_data['Title'].replace(['Mlle', 'Ms','Mme'],'Miss')\n",
        "df_data['Title'] = df_data['Title'].replace(['Lady'],'Mrs')\n",
        "df_data['Title'] = df_data['Title'].map({\"Mr\":0, \"Rare\" : 1, \"Master\" : 2,\"Miss\" : 3, \"Mrs\" : 4 })\n",
        "Ti = df_data.groupby('Title')['Age'].median()\n",
        "Ti"
      ],
      "execution_count": 185,
      "outputs": [
        {
          "output_type": "execute_result",
          "data": {
            "text/plain": [
              "Title\n",
              "0    29.0\n",
              "1    47.0\n",
              "2     4.0\n",
              "3    22.0\n",
              "4    36.0\n",
              "Name: Age, dtype: float64"
            ]
          },
          "metadata": {
            "tags": []
          },
          "execution_count": 185
        }
      ]
    },
    {
      "cell_type": "code",
      "metadata": {
        "id": "oNsJLIWARmIv",
        "colab_type": "code",
        "colab": {
          "base_uri": "https://localhost:8080/",
          "height": 115
        },
        "outputId": "3684b3be-6307-4dbf-dd65-9c3cee2878b3"
      },
      "source": [
        "df_data.Name.str.extract('([A-Za-z]+\\.)', expand=False).head()"
      ],
      "execution_count": 200,
      "outputs": [
        {
          "output_type": "execute_result",
          "data": {
            "text/plain": [
              "0      Mr.\n",
              "1     Mrs.\n",
              "2    Miss.\n",
              "3     Mrs.\n",
              "4      Mr.\n",
              "Name: Name, dtype: object"
            ]
          },
          "metadata": {
            "tags": []
          },
          "execution_count": 200
        }
      ]
    },
    {
      "cell_type": "code",
      "metadata": {
        "id": "zWK8HAviVlkC",
        "colab_type": "code",
        "colab": {
          "base_uri": "https://localhost:8080/",
          "height": 115
        },
        "outputId": "75fd6a63-293f-453c-c987-7685c61fd69b"
      },
      "source": [
        "df_data.Name.str.extract('([A-Za-z]+)\\.', expand=False).head()"
      ],
      "execution_count": 201,
      "outputs": [
        {
          "output_type": "execute_result",
          "data": {
            "text/plain": [
              "0      Mr\n",
              "1     Mrs\n",
              "2    Miss\n",
              "3     Mrs\n",
              "4      Mr\n",
              "Name: Name, dtype: object"
            ]
          },
          "metadata": {
            "tags": []
          },
          "execution_count": 201
        }
      ]
    },
    {
      "cell_type": "code",
      "metadata": {
        "id": "ieQjQpK6f5or",
        "colab_type": "code",
        "colab": {}
      },
      "source": [
        "Ti_pred = df_data.groupby('Title')['Age'].median().values\n",
        "df_data['Ti_Age'] = df_data['Age']\n",
        "# Filling the missing age\n",
        "for i in range(0,5):\n",
        "    df_data.loc[(df_data.Age.isnull()) & (df_data.Title == i),'Ti_Age'] = Ti_pred[i]\n",
        "df_data['Ti_Age'] = df_data['Ti_Age'].astype('int')\n",
        "df_data['Ti_Minor'] = ((df_data['Ti_Age']) < 16.0) * 1"
      ],
      "execution_count": 0,
      "outputs": []
    },
    {
      "cell_type": "code",
      "metadata": {
        "id": "qSc4x7Buf9Qs",
        "colab_type": "code",
        "colab": {}
      },
      "source": [
        "# splits again beacuse we just engineered new feature\n",
        "df_train = df_data[:len(df_train)]\n",
        "df_test = df_data[len(df_train):]\n",
        "# Training set and labels\n",
        "X = df_train.drop(labels=['Survived','PassengerId'],axis=1)\n",
        "Y = df_train['Survived']"
      ],
      "execution_count": 0,
      "outputs": []
    },
    {
      "cell_type": "code",
      "metadata": {
        "id": "-qO8WqA7f_q2",
        "colab_type": "code",
        "colab": {
          "base_uri": "https://localhost:8080/",
          "height": 32
        },
        "outputId": "5565b3ba-f222-4e04-d1f8-8d21b355aabe"
      },
      "source": [
        "minor = ['Sex_Code','Pclass','FareBin_Code_5','Connected_Survival','Ti_Minor']\n",
        "minor_Model = RandomForestClassifier(random_state=2,n_estimators=250,min_samples_split=20,oob_score=True)\n",
        "minor_Model.fit(X[minor], Y)\n",
        "print('minor oob score :%.5f' %(minor_Model.oob_score_))"
      ],
      "execution_count": 170,
      "outputs": [
        {
          "output_type": "stream",
          "text": [
            "minor oob score :0.84175\n"
          ],
          "name": "stdout"
        }
      ]
    },
    {
      "cell_type": "markdown",
      "metadata": {
        "id": "iQh58Dg_gyEY",
        "colab_type": "text"
      },
      "source": [
        "### LightGBM"
      ]
    },
    {
      "cell_type": "code",
      "metadata": {
        "id": "QLwa1pmFg1Vp",
        "colab_type": "code",
        "colab": {}
      },
      "source": [
        "from bayes_opt import BayesianOptimization\n",
        "import warnings\n",
        "warnings.simplefilter('ignore')\n",
        "train_x, test_x, train_y, test_y = train_test_split(X[minor], \n",
        "                                                    Y, \n",
        "                                                    test_size=0.2, \n",
        "                                                    random_state=0)"
      ],
      "execution_count": 0,
      "outputs": []
    },
    {
      "cell_type": "code",
      "metadata": {
        "id": "s2BXvDnXhdQD",
        "colab_type": "code",
        "colab": {}
      },
      "source": [
        "import lightgbm as lgb\n",
        "\n",
        "N_FOLDS = 10\n",
        "train_set = lgb.Dataset(train_x, label = train_y)\n",
        "\n",
        "def gbm_cv(max_depth, num_leaves, learning_rate, subsample_for_bin, min_child_samples, \n",
        "           reg_alpha, reg_lambda, subsample, colsample_bytree, n_folds = N_FOLDS):\n",
        "    \n",
        "    params = {'max_depth': int(max_depth), \n",
        "              'num_leaves': int(num_leaves),\n",
        "              'learning_rate': learning_rate,\n",
        "              'subsample_for_bin': int(subsample_for_bin),\n",
        "              'min_child_samples': int(min_child_samples),\n",
        "              'reg_alpha': reg_alpha,\n",
        "              'reg_lambda': reg_lambda,\n",
        "              'subsample': subsample,\n",
        "              'colsample_bytree': colsample_bytree}\n",
        "    \n",
        "    #交叉驗證 early_stopping_rounds是指超過100次都沒有改善的話就會停止模型\n",
        "    cv_results = lgb.cv(params, train_set, num_boost_round=10000, nfold=n_folds,\n",
        "                        stratified=False, shuffle=True, metrics='auc',\n",
        "                        early_stopping_rounds=100, verbose_eval=False, show_stdv=True)\n",
        "    \n",
        "    \n",
        "    score = np.max(cv_results['auc-mean'])\n",
        "    \n",
        "    return score"
      ],
      "execution_count": 0,
      "outputs": []
    },
    {
      "cell_type": "code",
      "metadata": {
        "id": "9n3vZb9kh89U",
        "colab_type": "code",
        "colab": {
          "base_uri": "https://localhost:8080/",
          "height": 197
        },
        "outputId": "e5c05e84-108b-4812-8bbc-0fefc2ecd721"
      },
      "source": [
        "gbm_bo = BayesianOptimization(\n",
        "        gbm_cv,\n",
        "        {'max_depth': (3, 15), \n",
        "        'num_leaves': (20, 100),\n",
        "        'learning_rate': (0.01, 0.3),\n",
        "        'subsample_for_bin': (100000, 300000),\n",
        "        'min_child_samples': (10, 100),\n",
        "        'reg_alpha': (0.1, 1.0),\n",
        "        'reg_lambda': (0.1, 1.0),\n",
        "        'subsample': (0.5, 1.0),\n",
        "        'colsample_bytree': (0.5, 1.0)})\n",
        "# defualt: choose 5 samples initially, then iterate for 25 times(30 times in total)\n",
        "gbm_bo.maximize(n_iter=3)"
      ],
      "execution_count": 171,
      "outputs": [
        {
          "output_type": "stream",
          "text": [
            "|   iter    |  target   | colsam... | learni... | max_depth | min_ch... | num_le... | reg_alpha | reg_la... | subsample | subsam... |\n",
            "-------------------------------------------------------------------------------------------------------------------------------------\n",
            "| \u001b[0m 1       \u001b[0m | \u001b[0m 0.8835  \u001b[0m | \u001b[0m 0.7825  \u001b[0m | \u001b[0m 0.2265  \u001b[0m | \u001b[0m 9.036   \u001b[0m | \u001b[0m 74.99   \u001b[0m | \u001b[0m 56.11   \u001b[0m | \u001b[0m 0.7549  \u001b[0m | \u001b[0m 0.2682  \u001b[0m | \u001b[0m 0.5019  \u001b[0m | \u001b[0m 2.047e+0\u001b[0m |\n",
            "| \u001b[95m 2       \u001b[0m | \u001b[95m 0.8867  \u001b[0m | \u001b[95m 0.8148  \u001b[0m | \u001b[95m 0.224   \u001b[0m | \u001b[95m 5.335   \u001b[0m | \u001b[95m 11.42   \u001b[0m | \u001b[95m 52.86   \u001b[0m | \u001b[95m 0.2921  \u001b[0m | \u001b[95m 0.1425  \u001b[0m | \u001b[95m 0.714   \u001b[0m | \u001b[95m 2.865e+0\u001b[0m |\n",
            "| \u001b[95m 3       \u001b[0m | \u001b[95m 0.8893  \u001b[0m | \u001b[95m 0.7675  \u001b[0m | \u001b[95m 0.1495  \u001b[0m | \u001b[95m 4.309   \u001b[0m | \u001b[95m 20.11   \u001b[0m | \u001b[95m 88.24   \u001b[0m | \u001b[95m 0.2372  \u001b[0m | \u001b[95m 0.633   \u001b[0m | \u001b[95m 0.5317  \u001b[0m | \u001b[95m 2.487e+0\u001b[0m |\n",
            "| \u001b[0m 4       \u001b[0m | \u001b[0m 0.888   \u001b[0m | \u001b[0m 0.8431  \u001b[0m | \u001b[0m 0.1836  \u001b[0m | \u001b[0m 9.61    \u001b[0m | \u001b[0m 70.37   \u001b[0m | \u001b[0m 38.33   \u001b[0m | \u001b[0m 0.2867  \u001b[0m | \u001b[0m 0.1257  \u001b[0m | \u001b[0m 0.6419  \u001b[0m | \u001b[0m 1.246e+0\u001b[0m |\n",
            "| \u001b[0m 5       \u001b[0m | \u001b[0m 0.8866  \u001b[0m | \u001b[0m 0.9474  \u001b[0m | \u001b[0m 0.08352 \u001b[0m | \u001b[0m 6.462   \u001b[0m | \u001b[0m 38.35   \u001b[0m | \u001b[0m 46.05   \u001b[0m | \u001b[0m 0.247   \u001b[0m | \u001b[0m 0.1325  \u001b[0m | \u001b[0m 0.7417  \u001b[0m | \u001b[0m 2.968e+0\u001b[0m |\n",
            "| \u001b[0m 6       \u001b[0m | \u001b[0m 0.8825  \u001b[0m | \u001b[0m 0.9857  \u001b[0m | \u001b[0m 0.2937  \u001b[0m | \u001b[0m 9.231   \u001b[0m | \u001b[0m 21.5    \u001b[0m | \u001b[0m 57.34   \u001b[0m | \u001b[0m 0.9377  \u001b[0m | \u001b[0m 0.9081  \u001b[0m | \u001b[0m 0.9621  \u001b[0m | \u001b[0m 1e+05   \u001b[0m |\n",
            "| \u001b[0m 7       \u001b[0m | \u001b[0m 0.8848  \u001b[0m | \u001b[0m 0.7156  \u001b[0m | \u001b[0m 0.2351  \u001b[0m | \u001b[0m 3.852   \u001b[0m | \u001b[0m 20.27   \u001b[0m | \u001b[0m 91.54   \u001b[0m | \u001b[0m 0.9875  \u001b[0m | \u001b[0m 0.8493  \u001b[0m | \u001b[0m 0.891   \u001b[0m | \u001b[0m 1.653e+0\u001b[0m |\n",
            "| \u001b[0m 8       \u001b[0m | \u001b[0m 0.8811  \u001b[0m | \u001b[0m 0.5141  \u001b[0m | \u001b[0m 0.08816 \u001b[0m | \u001b[0m 12.51   \u001b[0m | \u001b[0m 22.43   \u001b[0m | \u001b[0m 23.37   \u001b[0m | \u001b[0m 0.8935  \u001b[0m | \u001b[0m 0.2468  \u001b[0m | \u001b[0m 0.5087  \u001b[0m | \u001b[0m 2.266e+0\u001b[0m |\n",
            "=====================================================================================================================================\n"
          ],
          "name": "stdout"
        }
      ]
    },
    {
      "cell_type": "code",
      "metadata": {
        "id": "lifp7AhdiMbE",
        "colab_type": "code",
        "colab": {
          "base_uri": "https://localhost:8080/",
          "height": 164
        },
        "outputId": "3cbf3c38-1eb2-4e1a-8033-d0133e033058"
      },
      "source": [
        "params = gbm_bo.max['params']\n",
        "params"
      ],
      "execution_count": 172,
      "outputs": [
        {
          "output_type": "execute_result",
          "data": {
            "text/plain": [
              "{'colsample_bytree': 0.7675164541748616,\n",
              " 'learning_rate': 0.14948546242666377,\n",
              " 'max_depth': 4.309105362417211,\n",
              " 'min_child_samples': 20.108180625503767,\n",
              " 'num_leaves': 88.24091483609647,\n",
              " 'reg_alpha': 0.2371693484086277,\n",
              " 'reg_lambda': 0.633033747234419,\n",
              " 'subsample': 0.5317451319128909,\n",
              " 'subsample_for_bin': 248702.58627727826}"
            ]
          },
          "metadata": {
            "tags": []
          },
          "execution_count": 172
        }
      ]
    },
    {
      "cell_type": "code",
      "metadata": {
        "id": "2TwUsU1fiQ2s",
        "colab_type": "code",
        "colab": {
          "base_uri": "https://localhost:8080/",
          "height": 164
        },
        "outputId": "860e6ae5-5fb0-448f-b18e-a447ea97b9d4"
      },
      "source": [
        "params['max_depth'] = int(params['max_depth'])\n",
        "params['min_child_samples'] = int(params['min_child_samples'])\n",
        "params['num_leaves'] = int(params['num_leaves'])\n",
        "params['subsample_for_bin'] = int(params['subsample_for_bin'])\n",
        "params"
      ],
      "execution_count": 173,
      "outputs": [
        {
          "output_type": "execute_result",
          "data": {
            "text/plain": [
              "{'colsample_bytree': 0.7675164541748616,\n",
              " 'learning_rate': 0.14948546242666377,\n",
              " 'max_depth': 4,\n",
              " 'min_child_samples': 20,\n",
              " 'num_leaves': 88,\n",
              " 'reg_alpha': 0.2371693484086277,\n",
              " 'reg_lambda': 0.633033747234419,\n",
              " 'subsample': 0.5317451319128909,\n",
              " 'subsample_for_bin': 248702}"
            ]
          },
          "metadata": {
            "tags": []
          },
          "execution_count": 173
        }
      ]
    },
    {
      "cell_type": "code",
      "metadata": {
        "id": "x8Zu_CNjiX5Y",
        "colab_type": "code",
        "colab": {}
      },
      "source": [
        "cv_res = lgb.cv(params, train_set, num_boost_round=10000, nfold=N_FOLDS,\n",
        "                        stratified=False, shuffle=True, metrics='auc',\n",
        "                        early_stopping_rounds=100, verbose_eval=False, show_stdv=True)"
      ],
      "execution_count": 0,
      "outputs": []
    },
    {
      "cell_type": "code",
      "metadata": {
        "id": "NCwNaP_UijJw",
        "colab_type": "code",
        "colab": {
          "base_uri": "https://localhost:8080/",
          "height": 164
        },
        "outputId": "3682f427-7bdd-4325-fb01-9f6ef5dc9ec8"
      },
      "source": [
        "num_estimators = int(np.argmax(cv_res['auc-mean']) + 1)\n",
        "clf = lgb.LGBMClassifier(n_estimators=num_estimators, n_jobs = -1, \n",
        "                                      objective = 'binary', random_state = 50)\n",
        "clf.set_params(**params)\n",
        "clf.fit(train_x, train_y)"
      ],
      "execution_count": 175,
      "outputs": [
        {
          "output_type": "execute_result",
          "data": {
            "text/plain": [
              "LGBMClassifier(boosting_type='gbdt', class_weight=None,\n",
              "               colsample_bytree=0.7675164541748616, importance_type='split',\n",
              "               learning_rate=0.14948546242666377, max_depth=4,\n",
              "               min_child_samples=20, min_child_weight=0.001, min_split_gain=0.0,\n",
              "               n_estimators=70, n_jobs=-1, num_leaves=88, objective='binary',\n",
              "               random_state=50, reg_alpha=0.2371693484086277,\n",
              "               reg_lambda=0.633033747234419, silent=True,\n",
              "               subsample=0.5317451319128909, subsample_for_bin=248702,\n",
              "               subsample_freq=0)"
            ]
          },
          "metadata": {
            "tags": []
          },
          "execution_count": 175
        }
      ]
    },
    {
      "cell_type": "code",
      "metadata": {
        "id": "hpW9XZopin1O",
        "colab_type": "code",
        "colab": {
          "base_uri": "https://localhost:8080/",
          "height": 247
        },
        "outputId": "062b0942-b72f-4146-e767-d36becd205e0"
      },
      "source": [
        "predict_y = clf.predict(test_x)\n",
        "\n",
        "from sklearn.metrics import accuracy_score\n",
        "print (\"Accuracy = %.2f\" % (accuracy_score(test_y, predict_y)))\n",
        "\n",
        "from sklearn.metrics import roc_auc_score\n",
        "print (\"AUC - ROC : \", roc_auc_score(test_y, predict_y))\n",
        "\n",
        "from sklearn import metrics\n",
        "model_score = clf.score(test_x, test_y)\n",
        "print (\"Model Score %.2f \\n\" % (model_score))\n",
        "\n",
        "confusion_matrix = metrics.confusion_matrix(test_y, predict_y)\n",
        "print (\"Confusion Matrix \")\n",
        "print (confusion_matrix)\n",
        "\n",
        "print (\"          Predicted\")\n",
        "print (\"         |  0  |  1  |\")\n",
        "print (\"         |-----|-----|\")\n",
        "print (\"       0 | %3d | %3d |\" % (confusion_matrix[0, 0],\n",
        "                                   confusion_matrix[0, 1]))\n",
        "print (\"Actual   |-----|-----|\")\n",
        "print (\"       1 | %3d | %3d |\" % (confusion_matrix[1, 0],\n",
        "                                   confusion_matrix[1, 1]))\n",
        "print (\"         |-----|-----|\")"
      ],
      "execution_count": 176,
      "outputs": [
        {
          "output_type": "stream",
          "text": [
            "Accuracy = 0.82\n",
            "AUC - ROC :  0.7986824769433466\n",
            "Model Score 0.82 \n",
            "\n",
            "Confusion Matrix \n",
            "[[96 14]\n",
            " [19 50]]\n",
            "          Predicted\n",
            "         |  0  |  1  |\n",
            "         |-----|-----|\n",
            "       0 |  96 |  14 |\n",
            "Actual   |-----|-----|\n",
            "       1 |  19 |  50 |\n",
            "         |-----|-----|\n"
          ],
          "name": "stdout"
        }
      ]
    },
    {
      "cell_type": "markdown",
      "metadata": {
        "id": "CzJ0oY6WgWny",
        "colab_type": "text"
      },
      "source": [
        "## Famiy Size"
      ]
    },
    {
      "cell_type": "code",
      "metadata": {
        "id": "8DEdc7lOgZB1",
        "colab_type": "code",
        "colab": {
          "base_uri": "https://localhost:8080/",
          "height": 349
        },
        "outputId": "ceaa4161-cfd8-4463-8415-a9602cb4338e"
      },
      "source": [
        "g = sns.factorplot(x='Family_size', y='Survived',data=df_data, kind='point')\n",
        "g = g.set_ylabels(\"Survival Probability\")"
      ],
      "execution_count": 210,
      "outputs": [
        {
          "output_type": "display_data",
          "data": {
            "image/png": "[encoded data removed]",
            "text/plain": [
              "<Figure size 360x360 with 1 Axes>"
            ]
          },
          "metadata": {
            "tags": []
          }
        }
      ]
    },
    {
      "cell_type": "code",
      "metadata": {
        "id": "yc8QDogHghht",
        "colab_type": "code",
        "colab": {
          "base_uri": "https://localhost:8080/",
          "height": 252
        },
        "outputId": "1b319ad2-fcf4-40f4-b87f-32dcc1ea1edd"
      },
      "source": [
        "# cut into 3 class\n",
        "df_data['L_Family'] = df_data['Family_size'].apply(lambda x: 0 if x <= 4 else 1).astype(int)\n",
        "\n",
        "df_data.loc[ df_data['Family_size'] == 1, 'FamilyClass'] = 0\n",
        "df_data.loc[ (df_data['Family_size'] <= 4) & (df_data['Family_size'] > 1), 'FamilyClass'] = 1\n",
        "df_data.loc[ df_data['Family_size'] >= 5, 'FamilyClass'] = 2\n",
        "df_data['FamilyClass'] = df_data['FamilyClass'].astype(int) \n",
        "print(df_data[['FamilyClass','Survived']].groupby(['FamilyClass']).mean())\n",
        "pd.crosstab(df_data['FamilyClass'], df_data['Survived'])"
      ],
      "execution_count": 219,
      "outputs": [
        {
          "output_type": "stream",
          "text": [
            "             Survived\n",
            "FamilyClass          \n",
            "0            0.303538\n",
            "1            0.578767\n",
            "2            0.161290\n"
          ],
          "name": "stdout"
        },
        {
          "output_type": "execute_result",
          "data": {
            "text/html": [
              "<div>\n",
              "<style scoped>\n",
              "    .dataframe tbody tr th:only-of-type {\n",
              "        vertical-align: middle;\n",
              "    }\n",
              "\n",
              "    .dataframe tbody tr th {\n",
              "        vertical-align: top;\n",
              "    }\n",
              "\n",
              "    .dataframe thead th {\n",
              "        text-align: right;\n",
              "    }\n",
              "</style>\n",
              "<table border=\"1\" class=\"dataframe\">\n",
              "  <thead>\n",
              "    <tr style=\"text-align: right;\">\n",
              "      <th>Survived</th>\n",
              "      <th>0.0</th>\n",
              "      <th>1.0</th>\n",
              "    </tr>\n",
              "    <tr>\n",
              "      <th>FamilyClass</th>\n",
              "      <th></th>\n",
              "      <th></th>\n",
              "    </tr>\n",
              "  </thead>\n",
              "  <tbody>\n",
              "    <tr>\n",
              "      <th>0</th>\n",
              "      <td>374</td>\n",
              "      <td>163</td>\n",
              "    </tr>\n",
              "    <tr>\n",
              "      <th>1</th>\n",
              "      <td>123</td>\n",
              "      <td>169</td>\n",
              "    </tr>\n",
              "    <tr>\n",
              "      <th>2</th>\n",
              "      <td>52</td>\n",
              "      <td>10</td>\n",
              "    </tr>\n",
              "  </tbody>\n",
              "</table>\n",
              "</div>"
            ],
            "text/plain": [
              "Survived     0.0  1.0\n",
              "FamilyClass          \n",
              "0            374  163\n",
              "1            123  169\n",
              "2             52   10"
            ]
          },
          "metadata": {
            "tags": []
          },
          "execution_count": 219
        }
      ]
    },
    {
      "cell_type": "code",
      "metadata": {
        "id": "SKBLayAMgnBD",
        "colab_type": "code",
        "colab": {
          "base_uri": "https://localhost:8080/",
          "height": 494
        },
        "outputId": "2ad7c601-16d4-4102-ae59-cafd557be086"
      },
      "source": [
        "display(pd.crosstab(df_data['Sex'],df_data['Family_size'], margins=True))\n",
        "# visualize\n",
        "pd.crosstab(df_data['Family_size'],df_data['Sex']).plot(kind='bar',stacked=True,title=\"Sex\")"
      ],
      "execution_count": 220,
      "outputs": [
        {
          "output_type": "display_data",
          "data": {
            "text/html": [
              "<div>\n",
              "<style scoped>\n",
              "    .dataframe tbody tr th:only-of-type {\n",
              "        vertical-align: middle;\n",
              "    }\n",
              "\n",
              "    .dataframe tbody tr th {\n",
              "        vertical-align: top;\n",
              "    }\n",
              "\n",
              "    .dataframe thead th {\n",
              "        text-align: right;\n",
              "    }\n",
              "</style>\n",
              "<table border=\"1\" class=\"dataframe\">\n",
              "  <thead>\n",
              "    <tr style=\"text-align: right;\">\n",
              "      <th>Family_size</th>\n",
              "      <th>1</th>\n",
              "      <th>2</th>\n",
              "      <th>3</th>\n",
              "      <th>4</th>\n",
              "      <th>5</th>\n",
              "      <th>6</th>\n",
              "      <th>7</th>\n",
              "      <th>8</th>\n",
              "      <th>11</th>\n",
              "      <th>All</th>\n",
              "    </tr>\n",
              "    <tr>\n",
              "      <th>Sex</th>\n",
              "      <th></th>\n",
              "      <th></th>\n",
              "      <th></th>\n",
              "      <th></th>\n",
              "      <th></th>\n",
              "      <th></th>\n",
              "      <th></th>\n",
              "      <th></th>\n",
              "      <th></th>\n",
              "      <th></th>\n",
              "    </tr>\n",
              "  </thead>\n",
              "  <tbody>\n",
              "    <tr>\n",
              "      <th>female</th>\n",
              "      <td>194</td>\n",
              "      <td>123</td>\n",
              "      <td>79</td>\n",
              "      <td>29</td>\n",
              "      <td>14</td>\n",
              "      <td>10</td>\n",
              "      <td>9</td>\n",
              "      <td>3</td>\n",
              "      <td>5</td>\n",
              "      <td>466</td>\n",
              "    </tr>\n",
              "    <tr>\n",
              "      <th>male</th>\n",
              "      <td>596</td>\n",
              "      <td>112</td>\n",
              "      <td>80</td>\n",
              "      <td>14</td>\n",
              "      <td>8</td>\n",
              "      <td>15</td>\n",
              "      <td>7</td>\n",
              "      <td>5</td>\n",
              "      <td>6</td>\n",
              "      <td>843</td>\n",
              "    </tr>\n",
              "    <tr>\n",
              "      <th>All</th>\n",
              "      <td>790</td>\n",
              "      <td>235</td>\n",
              "      <td>159</td>\n",
              "      <td>43</td>\n",
              "      <td>22</td>\n",
              "      <td>25</td>\n",
              "      <td>16</td>\n",
              "      <td>8</td>\n",
              "      <td>11</td>\n",
              "      <td>1309</td>\n",
              "    </tr>\n",
              "  </tbody>\n",
              "</table>\n",
              "</div>"
            ],
            "text/plain": [
              "Family_size    1    2    3   4   5   6   7  8  11   All\n",
              "Sex                                                    \n",
              "female       194  123   79  29  14  10   9  3   5   466\n",
              "male         596  112   80  14   8  15   7  5   6   843\n",
              "All          790  235  159  43  22  25  16  8  11  1309"
            ]
          },
          "metadata": {
            "tags": []
          }
        },
        {
          "output_type": "execute_result",
          "data": {
            "text/plain": [
              "<matplotlib.axes._subplots.AxesSubplot at 0x7f36140bc2b0>"
            ]
          },
          "metadata": {
            "tags": []
          },
          "execution_count": 220
        },
        {
          "output_type": "display_data",
          "data": {
            "image/png": "[encoded data removed]",
            "text/plain": [
              "<Figure size 432x288 with 1 Axes>"
            ]
          },
          "metadata": {
            "tags": []
          }
        }
      ]
    },
    {
      "cell_type": "markdown",
      "metadata": {
        "id": "J_rTVRKLaKh3",
        "colab_type": "text"
      },
      "source": [
        "我們看家庭人數=1，真的是因為獨自一人沒有受到幫助而導致較低的生存率嗎? 有可能，但是不見得，上表中我們可以清楚看到家庭人數=1之中有接近將近75%的男性，男性的生存率本來就低"
      ]
    },
    {
      "cell_type": "code",
      "metadata": {
        "id": "BcspvvjAgpSw",
        "colab_type": "code",
        "colab": {
          "base_uri": "https://localhost:8080/",
          "height": 339
        },
        "outputId": "deace983-ac75-46b5-93f3-aed546c3890a"
      },
      "source": [
        "Minor_mask = (df_data.Ti_Minor == 1)\n",
        "fig, [ax1, ax2] = plt.subplots(1, 2)\n",
        "fig.set_figwidth(18)\n",
        "sns.countplot(df_data[Minor_mask]['Family_size'],ax=ax1)\n",
        "ax1.set_title(\"Minor counts\")\n",
        "pd.crosstab(df_data[Minor_mask]['Family_size'],df_data[Minor_mask]['Survived'])\\\n",
        ".plot(kind='bar',stacked=True,title=\"Survived Minor counts\",ax=ax2)"
      ],
      "execution_count": 221,
      "outputs": [
        {
          "output_type": "execute_result",
          "data": {
            "text/plain": [
              "<matplotlib.axes._subplots.AxesSubplot at 0x7f3614541dd8>"
            ]
          },
          "metadata": {
            "tags": []
          },
          "execution_count": 221
        },
        {
          "output_type": "display_data",
          "data": {
            "image/png": "[encoded data removed]",
            "text/plain": [
              "<Figure size 1296x288 with 2 Axes>"
            ]
          },
          "metadata": {
            "tags": []
          }
        }
      ]
    },
    {
      "cell_type": "markdown",
      "metadata": {
        "id": "QuHQfMhxbJUm",
        "colab_type": "text"
      },
      "source": [
        "在家庭人數=2,3,4中，除了小孩的個數較高之外，存活的比例也非常高，這意味著家庭人數=2~4人的生存率較高很有可能僅僅是小孩存活的多，這已經涵蓋在Minor的特徵當中!\n",
        "至於剩下的 Family_size >5人呢? 從分析中並沒有看出和其他特徵相關的影子，但如果我們僅是猜測其生還率低的原因是因為找不到其他家人猶豫而降低了生還率，這個理由我們在連結(Connected_Survival)已經做過同樣的推測，若僅是因為這個理由多造一個特徵，那確確實實又是冗餘了!"
      ]
    }
  ]
}