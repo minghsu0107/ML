{
  "nbformat": 4,
  "nbformat_minor": 0,
  "metadata": {
    "colab": {
      "name": "hero.ipynb",
      "version": "0.3.2",
      "provenance": [],
      "collapsed_sections": [],
      "include_colab_link": true
    },
    "kernelspec": {
      "name": "python3",
      "display_name": "Python 3"
    },
    "accelerator": "GPU"
  },
  "cells": [
    {
      "cell_type": "markdown",
      "metadata": {
        "id": "view-in-github",
        "colab_type": "text"
      },
      "source": [
        "<a href=\"https://colab.research.google.com/github/minghsu0107/ML/blob/master/hero.ipynb\" target=\"_parent\"><img src=\"https://colab.research.google.com/assets/colab-badge.svg\" alt=\"Open In Colab\"/></a>"
      ]
    },
    {
      "cell_type": "code",
      "metadata": {
        "id": "d9S77Uq7gqqw",
        "colab_type": "code",
        "outputId": "17fd40ec-a5c5-4629-8e12-0c53185e4f6f",
        "colab": {
          "base_uri": "https://localhost:8080/",
          "height": 34
        }
      },
      "source": [
        "from sklearn.tree import DecisionTreeClassifier\n",
        "from sklearn.tree import export_graphviz #←導入視覺化工具\n",
        "\n",
        "feature = [[1, 32], [1, 25], [0, 26], [1, 19], [0, 28], [0, 18], [1, 17], [0, 22], [1, 29], [0, 30]]\n",
        "target = [1, 1, 0, 1, 0, 1, 1, 0, 1, 0]\n",
        "\n",
        "tree = DecisionTreeClassifier(criterion='entropy')\n",
        "\n",
        "tree.fit(feature, target)\n",
        "\n",
        "prediction = tree.predict(feature) #←用特徵資料預測\n",
        "print(prediction)\n",
        "\n",
        "export_graphviz(tree, out_file='hero.dot', \n",
        "                feature_names=['gender', 'age'], \n",
        "                class_names=['Captain America', 'Iron Man'])"
      ],
      "execution_count": 0,
      "outputs": [
        {
          "output_type": "stream",
          "text": [
            "[1 1 0 1 0 1 1 0 1 0]\n"
          ],
          "name": "stdout"
        }
      ]
    },
    {
      "cell_type": "code",
      "metadata": {
        "id": "ysoY67U0iNOm",
        "colab_type": "code",
        "colab": {}
      },
      "source": [
        ""
      ],
      "execution_count": 0,
      "outputs": []
    },
    {
      "cell_type": "code",
      "metadata": {
        "id": "4bAUiC36grzH",
        "colab_type": "code",
        "colab": {}
      },
      "source": [
        ""
      ],
      "execution_count": 0,
      "outputs": []
    }
  ]
}